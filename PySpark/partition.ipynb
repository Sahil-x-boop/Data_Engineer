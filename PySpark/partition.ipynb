{
 "cells": [
  {
   "cell_type": "markdown",
   "id": "48783514",
   "metadata": {},
   "source": []
  },
  {
   "cell_type": "code",
   "execution_count": 1,
   "id": "6228c2cb",
   "metadata": {},
   "outputs": [],
   "source": [
    "from pyspark.sql import SparkSession"
   ]
  },
  {
   "cell_type": "code",
   "execution_count": 8,
   "id": "29f19d23",
   "metadata": {},
   "outputs": [
    {
     "name": "stdout",
     "output_type": "stream",
     "text": [
      "+-----------+-------------------+------+---+-------+------------------+----------+------+------------+----------------+-----------------+--------------------+--------------+\n",
      "|employee_id|               name|gender|age|country|             state|department|salary|joining_date|experience_years|performance_score|               email|  phone_number|\n",
      "+-----------+-------------------+------+---+-------+------------------+----------+------+------------+----------------+-----------------+--------------------+--------------+\n",
      "|          1|      Katrina Riley|  Male| 51|     UK|South Allisonmouth| Marketing| 97018|  2020-04-30|               5|             3.88|   becky87@gmail.com|  326-034-8112|\n",
      "|          2|         Divij Raja| Other| 60|     UK|          Bhilwara| Marketing| 83808|  2016-05-25|               2|             4.57|lagan10@krishnan-...|   07045303968|\n",
      "|          3|        Ivana Divan|  Male| 29|  India|         Rajasthan| Marketing|160911|  2019-10-24|              11|             2.52|gargdarshit@hotma...|    1654209912|\n",
      "|          4|Miss Margaret Lucas| Other| 24|  India|       Maharashtra|        HR|244675|  2022-12-01|               7|             4.53|howarddale@yahoo....|+44121 4960026|\n",
      "|          5| Ms Kathleen Turner| Other| 34|     UK|          Hallstad|     Sales|114263|  2016-09-15|              16|             2.67|tmistry@gould-ali...|    0292018628|\n",
      "+-----------+-------------------+------+---+-------+------------------+----------+------+------------+----------------+-----------------+--------------------+--------------+\n",
      "only showing top 5 rows\n"
     ]
    }
   ],
   "source": [
    "spark = SparkSession.builder.appName(\"ModernEmployeeData\").getOrCreate()\n",
    "df = spark.read.csv(\"modern_employee_data.csv\", header=True, inferSchema=True)\n",
    "df.show(5)\n",
    "df.write.mode(\"overwrite\").parquet(\"modern_employee_data.parquet\")\n"
   ]
  },
  {
   "cell_type": "code",
   "execution_count": 30,
   "id": "7c7ec4b2",
   "metadata": {},
   "outputs": [
    {
     "data": {
      "text/plain": [
       "1"
      ]
     },
     "execution_count": 30,
     "metadata": {},
     "output_type": "execute_result"
    }
   ],
   "source": [
    "df.rdd.getNumPartitions()"
   ]
  },
  {
   "cell_type": "code",
   "execution_count": 21,
   "id": "2dc07ac3",
   "metadata": {},
   "outputs": [
    {
     "name": "stdout",
     "output_type": "stream",
     "text": [
      "10\n"
     ]
    }
   ],
   "source": [
    "df2 = df.repartition(10)\n",
    "print(df2.rdd.getNumPartitions()) "
   ]
  },
  {
   "cell_type": "code",
   "execution_count": 20,
   "id": "a4831220",
   "metadata": {},
   "outputs": [
    {
     "data": {
      "text/plain": [
       "5"
      ]
     },
     "execution_count": 20,
     "metadata": {},
     "output_type": "execute_result"
    }
   ],
   "source": [
    "df2 = df.repartition(5, \"department\")\n",
    "df2.rdd.getNumPartitions()"
   ]
  },
  {
   "cell_type": "markdown",
   "id": "963c68c3",
   "metadata": {},
   "source": [
    "`repartition()` is costly because of full network shuffle —\n",
    "data moves between executors.\n",
    "\n",
    "Use only when:\n",
    "\n",
    "- You need to increase partitions, or\n",
    "\n",
    "- You need to repartition by a key column."
   ]
  },
  {
   "cell_type": "markdown",
   "id": "8e8e874f",
   "metadata": {},
   "source": [
    "`coalesce()` – Reduce partitions (NO full shuffle)"
   ]
  },
  {
   "cell_type": "code",
   "execution_count": 29,
   "id": "32238fb5",
   "metadata": {},
   "outputs": [
    {
     "data": {
      "text/plain": [
       "16"
      ]
     },
     "execution_count": 29,
     "metadata": {},
     "output_type": "execute_result"
    }
   ],
   "source": [
    "df.rdd.__sizeof__()"
   ]
  },
  {
   "cell_type": "code",
   "execution_count": 96,
   "id": "77da2a5e",
   "metadata": {},
   "outputs": [],
   "source": [
    "# Minimum partition size when reading\n",
    "spark.conf.set(\"spark.sql.files.maxPartitionBytes\", \"128MB\")  # Default: 128MB\n",
    "\n",
    "# Example:\n",
    "# Total data: 10 GB\n",
    "# maxPartitionBytes: 128MB\n",
    "# Partitions created: 10GB / 128MB = ~80 partitions"
   ]
  },
  {
   "cell_type": "code",
   "execution_count": 97,
   "id": "a1317212",
   "metadata": {},
   "outputs": [],
   "source": [
    "df = spark.read.parquet(\"modern_employee_data.parquet\", header=True, inferSchema=True)"
   ]
  },
  {
   "cell_type": "code",
   "execution_count": 98,
   "id": "1844682f",
   "metadata": {},
   "outputs": [
    {
     "data": {
      "text/plain": [
       "1"
      ]
     },
     "execution_count": 98,
     "metadata": {},
     "output_type": "execute_result"
    }
   ],
   "source": [
    "df.rdd.getNumPartitions()"
   ]
  },
  {
   "cell_type": "code",
   "execution_count": 99,
   "id": "aea6ed91",
   "metadata": {},
   "outputs": [],
   "source": [
    "filtered = df\n",
    "filtered.coalesce(10).write.parquet(\"output/\")\n"
   ]
  },
  {
   "cell_type": "code",
   "execution_count": 112,
   "id": "796684b0",
   "metadata": {},
   "outputs": [],
   "source": [
    "df_rc = spark.read.csv(\"modern_employee_data.csv\", header=True, inferSchema=True)\n",
    "\n",
    "# Step 1: Increase partitions to improve parallelism\n",
    "df_rc = df.repartition(12)\n",
    "\n",
    "# Step 2: Process and filter data\n",
    "processed = df_rc.filter(df_rc.experience_years > 18)\n",
    "\n",
    "# Step 3: Reduce partitions before writing\n",
    "processed.coalesce(4).write.parquet(\"expert_employees/\")"
   ]
  },
  {
   "cell_type": "code",
   "execution_count": 113,
   "id": "a41f4622",
   "metadata": {},
   "outputs": [
    {
     "name": "stdout",
     "output_type": "stream",
     "text": [
      "== Physical Plan ==\n",
      "AdaptiveSparkPlan isFinalPlan=false\n",
      "+- Exchange RoundRobinPartitioning(12), REPARTITION_BY_NUM, [plan_id=1112]\n",
      "   +- FileScan parquet [employee_id#1113,name#1114,gender#1115,age#1116,country#1117,state#1118,department#1119,salary#1120,joining_date#1121,experience_years#1122,performance_score#1123,email#1124,phone_number#1125] Batched: true, DataFilters: [], Format: Parquet, Location: InMemoryFileIndex(1 paths)[file:/home/developer/Workspace_Projects/Data_Engineer/PySpark/modern_e..., PartitionFilters: [], PushedFilters: [], ReadSchema: struct<employee_id:int,name:string,gender:string,age:int,country:string,state:string,department:s...\n",
      "\n",
      "\n"
     ]
    }
   ],
   "source": [
    "df_rc.explain()"
   ]
  },
  {
   "cell_type": "code",
   "execution_count": 116,
   "id": "556827c7",
   "metadata": {},
   "outputs": [
    {
     "name": "stdout",
     "output_type": "stream",
     "text": [
      "+-----------+-------------------+------+---+---------+---------------+----------+------+------------+----------------+-----------------+--------------------+------------------+\n",
      "|employee_id|               name|gender|age|  country|          state|department|salary|joining_date|experience_years|performance_score|               email|      phone_number|\n",
      "+-----------+-------------------+------+---+---------+---------------+----------+------+------------+----------------+-----------------+--------------------+------------------+\n",
      "|        340|      Valerie Brown|Female| 45|       UK|       Chadside|     Sales| 45136|  2016-06-23|              20|             3.78| rburton@hotmail.com|  456.322.9746x061|\n",
      "|        143|        Brandon Lee|  Male| 23|Australia|Port Jamesmouth|        IT|157344|  2016-03-27|              20|             3.22|     jryan@yahoo.com|  +44(0)1614960558|\n",
      "|        138|      Elaine Savage|  Male| 36|       UK|   Matthewsberg|   Finance|244811|  2023-06-12|              19|             3.08|hbenson@hotmail.c...| +44(0)161 4960942|\n",
      "|        215|     Karen Peterson|Female| 26|       UK|    Hopkinsberg|        IT|147224|  2020-07-22|              20|             4.54|jeremyallen@yahoo...|   +61.472.940.987|\n",
      "|        315|Julian Lane-Gardner|Female| 29|      USA|  North Bradley|     Admin|132317|  2023-02-18|              19|             4.42|  zmann@odonnell.com|+44(0)29 2018 0842|\n",
      "+-----------+-------------------+------+---+---------+---------------+----------+------+------------+----------------+-----------------+--------------------+------------------+\n",
      "only showing top 5 rows\n"
     ]
    }
   ],
   "source": [
    "processed.show(5)"
   ]
  },
  {
   "cell_type": "code",
   "execution_count": null,
   "id": "1d399def",
   "metadata": {},
   "outputs": [
    {
     "data": {
      "text/plain": [
       "12"
      ]
     },
     "execution_count": 118,
     "metadata": {},
     "output_type": "execute_result"
    }
   ],
   "source": [
    "processed.rdd.getNumPartitions()"
   ]
  }
 ],
 "metadata": {
  "kernelspec": {
   "display_name": "3.13.7",
   "language": "python",
   "name": "python3"
  },
  "language_info": {
   "codemirror_mode": {
    "name": "ipython",
    "version": 3
   },
   "file_extension": ".py",
   "mimetype": "text/x-python",
   "name": "python",
   "nbconvert_exporter": "python",
   "pygments_lexer": "ipython3",
   "version": "3.13.7"
  }
 },
 "nbformat": 4,
 "nbformat_minor": 5
}
