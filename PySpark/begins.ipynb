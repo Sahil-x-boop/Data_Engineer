{
 "cells": [
  {
   "cell_type": "code",
   "execution_count": 3,
   "id": "c4e344e9",
   "metadata": {},
   "outputs": [
    {
     "name": "stdout",
     "output_type": "stream",
     "text": [
      "4.0.1\n"
     ]
    }
   ],
   "source": [
    "\n",
    "# Install pyspark in the notebook environment\n",
    "import pyspark\n",
    "print(pyspark.__version__)\n",
    "from pyspark.sql import SparkSession"
   ]
  },
  {
   "cell_type": "markdown",
   "id": "b3ca9839",
   "metadata": {},
   "source": [
    "| Part                        | Meaning                                                                 |\n",
    "|-----------------------------|-------------------------------------------------------------------------|\n",
    "| `SparkSession.builder`      | Creates a configuration builder to set Spark session properties         |\n",
    "| `.appName(\"ModernEmployeeData\")` | Gives your Spark application a name (shows in Spark UI)            |\n",
    "| `.getOrCreate()`            | If a session already exists, reuse it; otherwise, create a new one     |"
   ]
  },
  {
   "cell_type": "code",
   "execution_count": 7,
   "id": "ef3065ec",
   "metadata": {},
   "outputs": [],
   "source": [
    "spark = SparkSession.builder.appName(\"work\").master(\"local[*]\").getOrCreate()\n",
    "spark\n",
    "spark.stop()"
   ]
  },
  {
   "cell_type": "code",
   "execution_count": 5,
   "id": "61777023",
   "metadata": {},
   "outputs": [
    {
     "name": "stderr",
     "output_type": "stream",
     "text": [
      "                                                                                \r"
     ]
    },
    {
     "name": "stdout",
     "output_type": "stream",
     "text": [
      "+------+---+\n",
      "|  Name|Age|\n",
      "+------+---+\n",
      "|Harman| 25|\n",
      "| Sahil| 26|\n",
      "| Anita| 30|\n",
      "+------+---+\n",
      "\n",
      "Number of rows: 3\n",
      "== Parsed Logical Plan ==\n",
      "LogicalRDD [Name#0, Age#1L], false\n",
      "\n",
      "== Analyzed Logical Plan ==\n",
      "Name: string, Age: bigint\n",
      "LogicalRDD [Name#0, Age#1L], false\n",
      "\n",
      "== Optimized Logical Plan ==\n",
      "LogicalRDD [Name#0, Age#1L], false\n",
      "\n",
      "== Physical Plan ==\n",
      "*(1) Scan ExistingRDD[Name#0,Age#1L]\n",
      "\n"
     ]
    }
   ],
   "source": [
    "spark = SparkSession.builder.appName(\"Demo\").getOrCreate()\n",
    "\n",
    "\n",
    "data = [(\"Harman\", 25), (\"Sahil\", 26), (\"Anita\", 30)]\n",
    "df = spark.createDataFrame(data, [\"Name\", \"Age\"])\n",
    "\n",
    "df.show()\n",
    "\n",
    "print(\"Number of rows:\", df.count())\n",
    "df.explain(True)\n",
    "spark.stop()"
   ]
  },
  {
   "cell_type": "code",
   "execution_count": 6,
   "id": "d64e2dc3",
   "metadata": {},
   "outputs": [
    {
     "data": {
      "text/plain": [
       "StorageLevel(False, False, False, False, 1)"
      ]
     },
     "execution_count": 6,
     "metadata": {},
     "output_type": "execute_result"
    }
   ],
   "source": [
    "df.storageLevel"
   ]
  },
  {
   "cell_type": "markdown",
   "id": "e3304819",
   "metadata": {},
   "source": []
  }
 ],
 "metadata": {
  "kernelspec": {
   "display_name": "3.13.7",
   "language": "python",
   "name": "python3"
  },
  "language_info": {
   "codemirror_mode": {
    "name": "ipython",
    "version": 3
   },
   "file_extension": ".py",
   "mimetype": "text/x-python",
   "name": "python",
   "nbconvert_exporter": "python",
   "pygments_lexer": "ipython3",
   "version": "3.13.7"
  }
 },
 "nbformat": 4,
 "nbformat_minor": 5
}
