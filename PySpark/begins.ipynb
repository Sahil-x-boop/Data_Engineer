{
 "cells": [
  {
   "cell_type": "code",
   "execution_count": null,
   "id": "c4e344e9",
   "metadata": {},
   "outputs": [],
   "source": [
    "\n",
    "# Install pyspark in the notebook environment\n",
    "%pip install pyspark\n",
    "\n",
    "import pyspark\n",
    "print(pyspark.__version__)\n",
    "from pyspark.sql import SparkSession"
   ]
  },
  {
   "cell_type": "code",
   "execution_count": 21,
   "id": "ef3065ec",
   "metadata": {},
   "outputs": [],
   "source": [
    "spark = SparkSession.builder.appName(\"work\").master(\"local[*]\").getOrCreate()\n",
    "spark\n",
    "spark.stop()"
   ]
  },
  {
   "cell_type": "code",
   "execution_count": 23,
   "id": "61777023",
   "metadata": {},
   "outputs": [
    {
     "name": "stderr",
     "output_type": "stream",
     "text": [
      "                                                                                \r"
     ]
    },
    {
     "name": "stdout",
     "output_type": "stream",
     "text": [
      "+------+---+\n",
      "|  Name|Age|\n",
      "+------+---+\n",
      "|Harman| 25|\n",
      "| Sahil| 26|\n",
      "| Anita| 30|\n",
      "+------+---+\n",
      "\n",
      "Number of rows: 3\n"
     ]
    }
   ],
   "source": [
    "spark = SparkSession.builder.appName(\"Demo\").getOrCreate()\n",
    "\n",
    "\n",
    "data = [(\"Harman\", 25), (\"Sahil\", 26), (\"Anita\", 30)]\n",
    "df = spark.createDataFrame(data, [\"Name\", \"Age\"])\n",
    "\n",
    "df.show()\n",
    "\n",
    "print(\"Number of rows:\", df.count())\n",
    "\n",
    "spark.stop()"
   ]
  },
  {
   "cell_type": "code",
   "execution_count": null,
   "id": "d64e2dc3",
   "metadata": {},
   "outputs": [],
   "source": []
  }
 ],
 "metadata": {
  "kernelspec": {
   "display_name": "3.13.7",
   "language": "python",
   "name": "python3"
  },
  "language_info": {
   "codemirror_mode": {
    "name": "ipython",
    "version": 3
   },
   "file_extension": ".py",
   "mimetype": "text/x-python",
   "name": "python",
   "nbconvert_exporter": "python",
   "pygments_lexer": "ipython3",
   "version": "3.13.7"
  }
 },
 "nbformat": 4,
 "nbformat_minor": 5
}
