{
 "cells": [
  {
   "cell_type": "code",
   "execution_count": 1,
   "id": "8ca96360",
   "metadata": {},
   "outputs": [],
   "source": [
    "import numpy as np"
   ]
  },
  {
   "cell_type": "markdown",
   "id": "3798fb74",
   "metadata": {},
   "source": [
    "Calculate sum of the diagonal elements"
   ]
  },
  {
   "cell_type": "code",
   "execution_count": null,
   "id": "6bf17a55",
   "metadata": {},
   "outputs": [],
   "source": [
    "n_array = np.array([[55, 25, 15],\n",
    "                    [30, 44, 2],\n",
    "                    [11, 45, 77]])\n",
    "\n",
    "# np.trace(n_array)\n",
    "sum(np.diag(n_array))"
   ]
  },
  {
   "cell_type": "code",
   "execution_count": 9,
   "id": "dfdf714a",
   "metadata": {},
   "outputs": [
    {
     "data": {
      "text/plain": [
       "array([-0.37228132,  5.37228132])"
      ]
     },
     "execution_count": 9,
     "metadata": {},
     "output_type": "execute_result"
    }
   ],
   "source": [
    "np.linalg.eigvals([[1, 2], [3, 4]])"
   ]
  },
  {
   "cell_type": "code",
   "execution_count": null,
   "id": "bb41ab71",
   "metadata": {},
   "outputs": [],
   "source": [
    "# Count the Frequency of Values in NumPy Array"
   ]
  },
  {
   "cell_type": "code",
   "execution_count": null,
   "id": "679125d5",
   "metadata": {},
   "outputs": [
    {
     "name": "stdout",
     "output_type": "stream",
     "text": [
      "Values: [1 3 7 9]\n",
      "Count: [1 3 2 1]\n",
      "UniqueCountsResult(values=array([1, 3, 7, 9]), counts=array([1, 3, 2, 1]))\n"
     ]
    }
   ],
   "source": [
    "arr = np.array([3, 7, 3, 1, 7, 9, 3])\n",
    "unique, counts = np.unique(arr, return_counts=True)\n",
    "print(\"Values:\",unique)\n",
    "print(\"Count:\",counts)\n",
    "# print(np.unique_counts(arr))"
   ]
  },
  {
   "cell_type": "code",
   "execution_count": 17,
   "id": "2f3f82da",
   "metadata": {},
   "outputs": [
    {
     "name": "stdout",
     "output_type": "stream",
     "text": [
      "[1 2 -- 4]\n"
     ]
    }
   ],
   "source": [
    "x = np.ma.array([1, 2, 3, 4], mask=[False, False, True, False])\n",
    "print(x)"
   ]
  },
  {
   "cell_type": "markdown",
   "id": "607bd611",
   "metadata": {},
   "source": [
    "The population variance formula is given by:\n",
    "\n",
    "\n",
    " \n",
    " \n",
    "Here,\n",
    "\n",
    "σ2 = Population variance\n",
    "\n",
    "N = Number of observations in population\n",
    "\n",
    "Xi = ith observation in the population\n",
    "\n",
    "μ = Population mean\n",
    "\n",
    " \n",
    "\n",
    "The sample variance formula is given as:\n",
    "\n",
    "\\begin{array}{l}s =\\sqrt{\\frac{1}{n-1}\\sum_{i=1}^{n}(x_i-\\overline{x})^2}\\end{array}\n",
    " \n",
    " \n",
    " \n"
   ]
  },
  {
   "cell_type": "code",
   "execution_count": null,
   "id": "6578cead",
   "metadata": {},
   "outputs": [],
   "source": []
  }
 ],
 "metadata": {
  "kernelspec": {
   "display_name": "3.13.7",
   "language": "python",
   "name": "python3"
  },
  "language_info": {
   "codemirror_mode": {
    "name": "ipython",
    "version": 3
   },
   "file_extension": ".py",
   "mimetype": "text/x-python",
   "name": "python",
   "nbconvert_exporter": "python",
   "pygments_lexer": "ipython3",
   "version": "3.13.7"
  }
 },
 "nbformat": 4,
 "nbformat_minor": 5
}
