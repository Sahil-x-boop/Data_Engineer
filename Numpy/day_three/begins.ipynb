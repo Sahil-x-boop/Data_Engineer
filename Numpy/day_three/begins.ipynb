{
 "cells": [
  {
   "cell_type": "code",
   "execution_count": 3,
   "id": "318b4799",
   "metadata": {},
   "outputs": [],
   "source": [
    "import numpy as np"
   ]
  },
  {
   "cell_type": "markdown",
   "id": "0d55f910",
   "metadata": {},
   "source": [
    "### Advanced Indexing\n",
    "\n",
    "Advanced indexing refers to using arrays (integer or boolean) to select elements from another array. Unlike regular slicing, which always returns views, advanced indexing always returns copies of the data.\n",
    "\n",
    "#### Two Main Types:\n",
    "\n",
    "* **Integer array indexing:** Use arrays/lists of integer indices to get elements at specific positions.\n",
    "* **Boolean array indexing:** Use boolean arrays (True/False) to select elements that meet a condition."
   ]
  },
  {
   "cell_type": "code",
   "execution_count": 4,
   "id": "e22aff46",
   "metadata": {},
   "outputs": [
    {
     "data": {
      "text/plain": [
       "array([3, 5, 7])"
      ]
     },
     "execution_count": 4,
     "metadata": {},
     "output_type": "execute_result"
    }
   ],
   "source": [
    "# 2D Integer Indexing\n",
    "arr = np.array([[1, 2, 3],\n",
    "                [4, 5, 6],\n",
    "                [7, 8, 9]])\n",
    "rows = [0, 1, 2]\n",
    "cols = [2, 1, 0]\n",
    "selected = arr[rows, cols] \n",
    "selected\n"
   ]
  },
  {
   "cell_type": "code",
   "execution_count": 5,
   "id": "31b35aa0",
   "metadata": {},
   "outputs": [
    {
     "name": "stdout",
     "output_type": "stream",
     "text": [
      "[15 23 42]\n"
     ]
    }
   ],
   "source": [
    "#  2D Boolean Indexing\n",
    "arr = np.array([[5, 8], [15, 23], [42, 7]])\n",
    "mask = arr > 10\n",
    "selected = arr[mask]\n",
    "print(selected)"
   ]
  },
  {
   "cell_type": "code",
   "execution_count": 6,
   "id": "cb808574",
   "metadata": {},
   "outputs": [
    {
     "data": {
      "text/plain": [
       "array([22, 29, 35])"
      ]
     },
     "execution_count": 6,
     "metadata": {},
     "output_type": "execute_result"
    }
   ],
   "source": [
    "age = np.array([22, 29, 17, 35, 14])\n",
    "mask = age >= 18\n",
    "is_adult = np.where(mask)\n",
    "adults = age[is_adult]\n",
    "adults"
   ]
  },
  {
   "cell_type": "code",
   "execution_count": 7,
   "id": "53a6cfaf",
   "metadata": {},
   "outputs": [
    {
     "name": "stdout",
     "output_type": "stream",
     "text": [
      "[[11 22 33]\n",
      " [14 25 36]]\n"
     ]
    }
   ],
   "source": [
    "A = np.array([[1,2,3],\n",
    "              [4,5,6]])    # shape (2,3)\n",
    "v = np.array([10,20,30])  # shape (3,)\n",
    "print(A + v)"
   ]
  },
  {
   "cell_type": "code",
   "execution_count": 8,
   "id": "d441c86c",
   "metadata": {},
   "outputs": [
    {
     "name": "stdout",
     "output_type": "stream",
     "text": [
      "[[101 102 103]\n",
      " [204 205 206]]\n"
     ]
    }
   ],
   "source": [
    "A = np.array([[1,2,3],\n",
    "              [4,5,6]])       # shape (2,3)\n",
    "c = np.array([100, 200])       # shape (2,)\n",
    "c_column = c[:, np.newaxis]\n",
    "print(A + c_column)"
   ]
  },
  {
   "cell_type": "markdown",
   "id": "f51937cf",
   "metadata": {},
   "source": [
    "#### nditer for Efficient Iteration\n",
    " Modify array in-place using nditer"
   ]
  },
  {
   "cell_type": "code",
   "execution_count": 9,
   "id": "6b0d755d",
   "metadata": {},
   "outputs": [
    {
     "data": {
      "text/plain": [
       "array([[ 0,  2,  4],\n",
       "       [ 6,  8, 10]])"
      ]
     },
     "execution_count": 9,
     "metadata": {},
     "output_type": "execute_result"
    }
   ],
   "source": [
    "A = np.arange(6).reshape(2,3)\n",
    "with np.nditer(A, op_flags=['readwrite']) as it:\n",
    "    for x in it:\n",
    "        x[...] = x * 2 \n",
    "A"
   ]
  },
  {
   "cell_type": "markdown",
   "id": "2e488c24",
   "metadata": {},
   "source": [
    "__Normalization__\n",
    "\n",
    "subtract the mean from each column in a matrix:\n",
    "\n",
    "- axis=0 operates on columns (vertical dimension).\n",
    "- axis=1 operates on rows (horizontal dimension)."
   ]
  },
  {
   "cell_type": "code",
   "execution_count": 10,
   "id": "e9e86bae",
   "metadata": {},
   "outputs": [
    {
     "data": {
      "text/plain": [
       "array([[-2., -2.],\n",
       "       [ 0.,  0.],\n",
       "       [ 2.,  2.]])"
      ]
     },
     "execution_count": 10,
     "metadata": {},
     "output_type": "execute_result"
    }
   ],
   "source": [
    "data = np.array([[1, 2], [3, 4], [5, 6]])\n",
    "mean = data.mean(axis=0)\n",
    "result = data - mean\n",
    "result"
   ]
  },
  {
   "cell_type": "code",
   "execution_count": 11,
   "id": "6b7af927",
   "metadata": {},
   "outputs": [
    {
     "name": "stdout",
     "output_type": "stream",
     "text": [
      "[1 2 3 4 5 6]\n"
     ]
    }
   ],
   "source": [
    "arr2d = np.array([[1, 2, 3], [4, 5, 6]])\n",
    "for x in np.nditer(arr2d, flags=['external_loop']):\n",
    "    print(x)\n",
    "    \n",
    "#each iteration yields a 1D array instead of single elements"
   ]
  },
  {
   "cell_type": "code",
   "execution_count": 12,
   "id": "ffd8ed35",
   "metadata": {},
   "outputs": [
    {
     "name": "stdout",
     "output_type": "stream",
     "text": [
      "[11 22 33]\n",
      "[14 25 36]\n",
      "1 10\n",
      "2 20\n",
      "3 30\n",
      "4 10\n",
      "5 20\n",
      "6 30\n"
     ]
    }
   ],
   "source": [
    "# broadcasting iteration over multiple operands\n",
    "A = np.array([[1,2,3],[4,5,6]])  # (2,3)\n",
    "b = np.array([10,20,30])         # (3,)\n",
    "# With Python loops:\n",
    "for row in A:\n",
    "    print(row + b)               # b broadcasts across each row\n",
    "\n",
    "# with nditer pairing elements:\n",
    "for x,y in np.nditer([A, b]):\n",
    "    print(int(x), int(y))       \n"
   ]
  },
  {
   "cell_type": "markdown",
   "id": "c6833028",
   "metadata": {},
   "source": [
    "ravel (view) vs flatten (copy)"
   ]
  },
  {
   "cell_type": "code",
   "execution_count": 13,
   "id": "eecc0e77",
   "metadata": {},
   "outputs": [
    {
     "name": "stdout",
     "output_type": "stream",
     "text": [
      "99\n",
      "1\n",
      "True\n",
      "False\n"
     ]
    }
   ],
   "source": [
    "b = np.arange(6).reshape(2,3)\n",
    "r = b.ravel()\n",
    "f = b.flatten()\n",
    "r[0] = 99\n",
    "print(b[0,0])   # 99  (r is a view)\n",
    "f[1] = -1\n",
    "print(b[0,1])   # 1   (f is a copy)\n",
    "print(np.may_share_memory(r, b))\n",
    "print(np.may_share_memory(r, f))\n",
    "\n",
    "# choose ravel when you want low-overhead view; \n",
    "# choose flatten to avoid accidental modification of original.\n",
    "\n",
    "# ravel may return copy for non-contiguous arrays (e.g., after transpose). Do not assume it is always a view."
   ]
  },
  {
   "cell_type": "code",
   "execution_count": 14,
   "id": "fa1eaf53",
   "metadata": {},
   "outputs": [
    {
     "data": {
      "text/plain": [
       "(4, 3, 2)"
      ]
     },
     "execution_count": 14,
     "metadata": {},
     "output_type": "execute_result"
    }
   ],
   "source": [
    "# swapaxes on 3D\n",
    "arr3 = np.zeros((2,3,4))\n",
    "b = arr3.swapaxes(0,2)\n",
    "b.shape\n",
    "\n",
    "# swap depth/height axes for image processing or model input."
   ]
  },
  {
   "cell_type": "code",
   "execution_count": 15,
   "id": "ae4e2a70",
   "metadata": {},
   "outputs": [
    {
     "data": {
      "text/plain": [
       "(10, 32, 32, 3)"
      ]
     },
     "execution_count": 15,
     "metadata": {},
     "output_type": "execute_result"
    }
   ],
   "source": [
    "x = np.ones((10, 3, 32, 32))   \n",
    "y = np.rollaxis(x, 1, 4)\n",
    "y.shape"
   ]
  },
  {
   "cell_type": "code",
   "execution_count": 16,
   "id": "97734793",
   "metadata": {},
   "outputs": [
    {
     "name": "stdout",
     "output_type": "stream",
     "text": [
      "(1, 3)\n",
      "(3, 1)\n"
     ]
    },
    {
     "data": {
      "text/plain": [
       "(3,)"
      ]
     },
     "execution_count": 16,
     "metadata": {},
     "output_type": "execute_result"
    }
   ],
   "source": [
    "v = np.array([1,2,3])        \n",
    "v_row = v[np.newaxis, :]     \n",
    "v_col = v[:, np.newaxis]   \n",
    "print(v_row.shape)\n",
    "print(v_col.shape)\n",
    "v.shape"
   ]
  },
  {
   "cell_type": "code",
   "execution_count": 17,
   "id": "b0f7a7d4",
   "metadata": {},
   "outputs": [
    {
     "name": "stdout",
     "output_type": "stream",
     "text": [
      "[1 2 3]\n",
      "[[1 2 3]\n",
      " [1 2 3]\n",
      " [1 2 3]\n",
      " [1 2 3]]\n"
     ]
    }
   ],
   "source": [
    "a = np.array([1,2,3])        #  (3,)\n",
    "B = np.broadcast_to(a, (4,3)) \n",
    "print(a)\n",
    "print(B)"
   ]
  },
  {
   "cell_type": "code",
   "execution_count": 18,
   "id": "93f5b69b",
   "metadata": {},
   "outputs": [
    {
     "data": {
      "text/plain": [
       "array([[1, 2],\n",
       "       [3, 4],\n",
       "       [5, 6],\n",
       "       [7, 8]])"
      ]
     },
     "execution_count": 18,
     "metadata": {},
     "output_type": "execute_result"
    }
   ],
   "source": [
    "a = np.array([[1,2],[3,4]])\n",
    "b = np.array([[5,6],[7,8]])\n",
    "np.concatenate([a,b], axis=0)  \n",
    "# np.add(a, b)"
   ]
  },
  {
   "cell_type": "code",
   "execution_count": 19,
   "id": "7953f08a",
   "metadata": {},
   "outputs": [
    {
     "name": "stdout",
     "output_type": "stream",
     "text": [
      "[[1 2]\n",
      " [3 4]]\n",
      "[[1 3]\n",
      " [2 4]]\n"
     ]
    }
   ],
   "source": [
    "x = np.array([1,2])\n",
    "y = np.array([3,4])\n",
    "print(np.stack([x,y], axis=0))   \n",
    "print(np.stack([x,y], axis=1))\n",
    "\n",
    "# np.stack(..., axis=n) inserts a new dimension at index n"
   ]
  },
  {
   "cell_type": "markdown",
   "id": "63f41ed8",
   "metadata": {},
   "source": [
    "- For a 2D array, let's take z = np.array([[1, 2], [3, 4]]). The shape is (2, 2).\n",
    "\n",
    "z.sum(axis=0)\n",
    "- Action: This sums along the rows (the vertical direction), collapsing the 0th axis. It calculates the sum for each column.\n",
    "- Result: [1+3, 2+4] → [4, 6]\n",
    "\n",
    "z.sum(axis=1)\n",
    "- Action: This sums across the columns (the horizontal direction), collapsing the 1st axis. It calculates the sum for each row.\n",
    "- Result: [1+2, 3+4] → [3, 7] "
   ]
  },
  {
   "cell_type": "markdown",
   "id": "ae66af61",
   "metadata": {},
   "source": [
    "#### BINARY OPERATORS"
   ]
  },
  {
   "cell_type": "code",
   "execution_count": 20,
   "id": "64ac34b8",
   "metadata": {},
   "outputs": [
    {
     "name": "stdout",
     "output_type": "stream",
     "text": [
      "1\n",
      "[1 6]\n"
     ]
    }
   ],
   "source": [
    "print(np.bitwise_and(13, 17)) \n",
    "a = np.array([13, 7])\n",
    "b = np.array([17, 14]) \n",
    "print(np.bitwise_and(a, b))"
   ]
  },
  {
   "cell_type": "code",
   "execution_count": 21,
   "id": "b53f9c11",
   "metadata": {},
   "outputs": [
    {
     "name": "stdout",
     "output_type": "stream",
     "text": [
      "[29 15]\n"
     ]
    }
   ],
   "source": [
    "a = np.array([13, 7])\n",
    "b = np.array([17, 14])\n",
    "print(np.bitwise_or(a, b))"
   ]
  },
  {
   "cell_type": "code",
   "execution_count": 22,
   "id": "0d60bae8",
   "metadata": {},
   "outputs": [
    {
     "name": "stdout",
     "output_type": "stream",
     "text": [
      "40\n",
      "10\n"
     ]
    }
   ],
   "source": [
    "print(np.left_shift(10, 2))   \n",
    "print(np.right_shift(40, 2))  \n"
   ]
  },
  {
   "cell_type": "code",
   "execution_count": 23,
   "id": "4b194736",
   "metadata": {},
   "outputs": [
    {
     "name": "stdout",
     "output_type": "stream",
     "text": [
      "['Hello World' 'Good Morning']\n",
      "P:Y:T:H:O:N\n"
     ]
    }
   ],
   "source": [
    "print(np.char.add(['Hello', 'Good'], [' World', ' Morning']))\n",
    "print(np.char.join(':', 'PYTHON'))"
   ]
  },
  {
   "cell_type": "code",
   "execution_count": 24,
   "id": "1fa799f1",
   "metadata": {},
   "outputs": [
    {
     "name": "stdout",
     "output_type": "stream",
     "text": [
      "[1. 6. 2.]\n",
      "[1. 5. 2.]\n",
      "[2. 6. 3.]\n"
     ]
    }
   ],
   "source": [
    "arr = np.array([1.23, 5.67, 2.49])\n",
    "print(np.around(arr))  \n",
    "print(np.floor(arr))   \n",
    "print(np.ceil(arr)) "
   ]
  },
  {
   "cell_type": "markdown",
   "id": "a0c7706c",
   "metadata": {},
   "source": [
    "##### STATISTICAL FUNCTIONS"
   ]
  },
  {
   "cell_type": "code",
   "execution_count": 25,
   "id": "79dd8a8f",
   "metadata": {},
   "outputs": [
    {
     "name": "stdout",
     "output_type": "stream",
     "text": [
      "1\n",
      "[4 5 6]\n"
     ]
    }
   ],
   "source": [
    "a = np.array([[1,2,3],[4,5,6]])\n",
    "print(np.amin(a))             # 1\n",
    "print(np.amax(a, axis=0))"
   ]
  },
  {
   "cell_type": "code",
   "execution_count": 26,
   "id": "a6428888",
   "metadata": {},
   "outputs": [
    {
     "name": "stdout",
     "output_type": "stream",
     "text": [
      "6\n"
     ]
    }
   ],
   "source": [
    "a = np.array([4, 9, 7, 6, 3, 8])\n",
    "print(np.ptp(a)) \n",
    "\n",
    "# measures data range"
   ]
  },
  {
   "cell_type": "code",
   "execution_count": 27,
   "id": "ca52403c",
   "metadata": {},
   "outputs": [
    {
     "name": "stdout",
     "output_type": "stream",
     "text": [
      "5.0\n"
     ]
    }
   ],
   "source": [
    "a = np.array([1,2,3,4,5,6,7,8,9])\n",
    "print(np.percentile(a, 50)) # median "
   ]
  },
  {
   "cell_type": "code",
   "execution_count": 28,
   "id": "d5ca3c02",
   "metadata": {},
   "outputs": [
    {
     "name": "stdout",
     "output_type": "stream",
     "text": [
      "3.0\n",
      "3.0\n",
      "4.0\n"
     ]
    }
   ],
   "source": [
    "a = np.array([1,2,3,4,5])\n",
    "print(np.median(a))   \n",
    "print(np.mean(a))     \n",
    "print(np.average(a, weights=[1,1,1,1,6])) "
   ]
  },
  {
   "cell_type": "markdown",
   "id": "f0fe91e0",
   "metadata": {},
   "source": [
    "##### SORT, SEARCH & COUNTING FUNCTIONS"
   ]
  },
  {
   "cell_type": "code",
   "execution_count": 29,
   "id": "04483806",
   "metadata": {},
   "outputs": [
    {
     "name": "stdout",
     "output_type": "stream",
     "text": [
      "[1 0 4 3 2]\n",
      "[1 3 3 4 6]\n"
     ]
    }
   ],
   "source": [
    "# np.argsort() determines where each element of the sorted array comes from in the original array\n",
    "x = np.array([3, 1, 6, 4, 3])\n",
    "print(np.argsort(x)) \n",
    "print(x[np.argsort(x)])  "
   ]
  },
  {
   "cell_type": "code",
   "execution_count": 30,
   "id": "a5d9e243",
   "metadata": {},
   "outputs": [
    {
     "name": "stdout",
     "output_type": "stream",
     "text": [
      "3\n"
     ]
    }
   ],
   "source": [
    "# Finds index positions where elements should be inserted to maintain order\n",
    "\n",
    "arr = np.array([1, 2, 4, 7])\n",
    "print(np.searchsorted(arr, 5))  #"
   ]
  },
  {
   "cell_type": "code",
   "execution_count": 31,
   "id": "499ad6fa",
   "metadata": {},
   "outputs": [
    {
     "name": "stdout",
     "output_type": "stream",
     "text": [
      "3\n"
     ]
    }
   ],
   "source": [
    "# Finds elements where it is is Non-Zero\n",
    "\n",
    "arr = np.array([[0,1,2],[0,0,3]])\n",
    "print(np.count_nonzero(arr))"
   ]
  },
  {
   "cell_type": "code",
   "execution_count": 32,
   "id": "ccefe72c",
   "metadata": {},
   "outputs": [
    {
     "name": "stdout",
     "output_type": "stream",
     "text": [
      "[[1 2]\n",
      " [3 4]]\n"
     ]
    }
   ],
   "source": [
    "mat = np.matrix('1 2; 3 4')\n",
    "print(mat)"
   ]
  },
  {
   "cell_type": "code",
   "execution_count": 33,
   "id": "b1eb6a3d",
   "metadata": {},
   "outputs": [
    {
     "name": "stdout",
     "output_type": "stream",
     "text": [
      "-2.0000000000000004\n",
      "[[-2.   1. ]\n",
      " [ 1.5 -0.5]]\n"
     ]
    }
   ],
   "source": [
    "a = np.array([[1,2],[3,4]])\n",
    "b = np.array([[5,6],[7,8]])\n",
    "print(np.linalg.det(a))  # Determinant\n",
    "print(np.linalg.inv(a)) # Inverse\n",
    "\n",
    "# vals, vecs = np.linalg.eig(a)\n",
    "# print(\"Eigenvalues:\", vals)\n",
    "# print(\"Eigenvectors:\\n\", vecs)"
   ]
  },
  {
   "cell_type": "code",
   "execution_count": 34,
   "id": "b54607ce",
   "metadata": {},
   "outputs": [
    {
     "name": "stdout",
     "output_type": "stream",
     "text": [
      "[[[ 0  1  2  3]\n",
      "  [ 4  5  6  7]\n",
      "  [ 8  9 10 11]]\n",
      "\n",
      " [[12 13 14 15]\n",
      "  [16 17 18 19]\n",
      "  [20 21 22 23]]]\n"
     ]
    },
    {
     "data": {
      "text/plain": [
       "array([[[ 0,  1,  2,  3],\n",
       "        [ 4,  5,  6,  7]],\n",
       "\n",
       "       [[12, 13, 14, 15],\n",
       "        [16, 17, 18, 19]]])"
      ]
     },
     "execution_count": 34,
     "metadata": {},
     "output_type": "execute_result"
    }
   ],
   "source": [
    "arr = np.arange(24).reshape(2, 3, 4)\n",
    "print(arr)\n",
    "np.delete(arr, 2, 1)\n",
    "# np.expand_dims(arr, axis=1)"
   ]
  },
  {
   "cell_type": "code",
   "execution_count": 35,
   "id": "ba0c97b0",
   "metadata": {},
   "outputs": [
    {
     "data": {
      "text/plain": [
       "array([1, 2, 3])"
      ]
     },
     "execution_count": 35,
     "metadata": {},
     "output_type": "execute_result"
    }
   ],
   "source": [
    "arr = np.array([1, 2, 2, 3, 3, 3])\n",
    "unique = np.unique(arr)\n",
    "unique\n"
   ]
  },
  {
   "cell_type": "markdown",
   "id": "f31cdac2",
   "metadata": {},
   "source": [
    "#### Why use Matplotlib with NumPy?\n",
    "\n",
    "* Visualize numerical data for better understanding.\n",
    "* Plot functions, datasets, histograms, bar charts, and more.\n",
    "* Supports integration with NumPy arrays seamlessly."
   ]
  },
  {
   "cell_type": "code",
   "execution_count": 36,
   "id": "639d7ada",
   "metadata": {},
   "outputs": [],
   "source": [
    "import matplotlib.pyplot as plt"
   ]
  },
  {
   "cell_type": "code",
   "execution_count": 37,
   "id": "3092525b",
   "metadata": {},
   "outputs": [],
   "source": [
    "\n",
    "# x = np.linspace(0, 10, 100) \n",
    "# y = np.sin(x)                # sine of x\n",
    "# plt.plot(x, y)               # plot x vs y\n",
    "# plt.xlabel('x')\n",
    "# plt.ylabel('sin(x)')\n",
    "# plt.title('Plot of sin(x)')\n",
    "# plt.show()\n"
   ]
  },
  {
   "cell_type": "code",
   "execution_count": null,
   "id": "c0005273",
   "metadata": {},
   "outputs": [
    {
     "data": {
      "text/plain": [
       "np.int64(176)"
      ]
     },
     "execution_count": 43,
     "metadata": {},
     "output_type": "execute_result"
    }
   ],
   "source": []
  }
 ],
 "metadata": {
  "kernelspec": {
   "display_name": "3.13.7",
   "language": "python",
   "name": "python3"
  },
  "language_info": {
   "codemirror_mode": {
    "name": "ipython",
    "version": 3
   },
   "file_extension": ".py",
   "mimetype": "text/x-python",
   "name": "python",
   "nbconvert_exporter": "python",
   "pygments_lexer": "ipython3",
   "version": "3.13.7"
  }
 },
 "nbformat": 4,
 "nbformat_minor": 5
}
