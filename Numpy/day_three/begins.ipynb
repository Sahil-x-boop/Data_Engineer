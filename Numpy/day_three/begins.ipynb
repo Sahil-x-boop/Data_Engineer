{
 "cells": [
  {
   "cell_type": "code",
   "execution_count": 26,
   "id": "00d760d5",
   "metadata": {},
   "outputs": [],
   "source": [
    "import numpy as np\n",
    "from random import random"
   ]
  },
  {
   "cell_type": "code",
   "execution_count": 48,
   "id": "790e7a01",
   "metadata": {},
   "outputs": [
    {
     "name": "stdout",
     "output_type": "stream",
     "text": [
      "[[1. 1. 1. 1. 1.]\n",
      " [1. 1. 1. 1. 1.]\n",
      " [1. 1. 1. 1. 1.]\n",
      " [1. 1. 1. 1. 1.]\n",
      " [1. 1. 1. 1. 1.]] \n",
      "\n",
      "\n",
      "[[1. 1. 1. 1. 1.]\n",
      " [1. 0. 0. 0. 1.]\n",
      " [1. 0. 9. 0. 1.]\n",
      " [1. 0. 0. 0. 1.]\n",
      " [1. 1. 1. 1. 1.]]\n"
     ]
    }
   ],
   "source": [
    "arr = np.ones([5, 5])\n",
    "print(arr,\"\\n\\n\")\n",
    "arr[1:4,1:4:] = 0\n",
    "arr[2:3,2:3:] = 9\n",
    "print(arr)"
   ]
  },
  {
   "cell_type": "code",
   "execution_count": null,
   "id": "65065b06",
   "metadata": {},
   "outputs": [
    {
     "name": "stdout",
     "output_type": "stream",
     "text": [
      "Original 3D array:\n",
      "[[[ 1  2  3]\n",
      "  [ 4  5  6]]\n",
      "\n",
      " [[ 7  8  9]\n",
      "  [10 11 12]]]\n",
      "\n",
      "Shape of the 3D array: (2, 2, 3)\n",
      "\n",
      "Sum along axis 2:\n",
      "[[ 8 10 12]\n",
      " [14 16 18]]\n",
      "\n",
      "Shape after summing along axis 2: (2, 3)\n",
      "\n"
     ]
    }
   ],
   "source": [
    "\n",
    "arr_3d = np.array([\n",
    "    [[1, 2, 3], [4, 5, 6]],\n",
    "    [[7, 8, 9], [10, 11, 12]]\n",
    "])\n",
    "\n",
    "print(f\"Original 3D array:\\n{arr_3d}\\n\")\n",
    "print(f\"Shape of the 3D array: {arr_3d.shape}\\n\")\n",
    "\n",
    "\n",
    "sum_along_axis_2 = np.sum(arr_3d, axis=2)\n",
    "print(f\"Sum along axis 2:\\n{sum_along_axis_2}\\n\")\n",
    "print(f\"Shape after summing along axis 2: {sum_along_axis_2.shape}\\n\")"
   ]
  }
 ],
 "metadata": {
  "kernelspec": {
   "display_name": "rebuild",
   "language": "python",
   "name": "python3"
  },
  "language_info": {
   "codemirror_mode": {
    "name": "ipython",
    "version": 3
   },
   "file_extension": ".py",
   "mimetype": "text/x-python",
   "name": "python",
   "nbconvert_exporter": "python",
   "pygments_lexer": "ipython3",
   "version": "3.13.7"
  }
 },
 "nbformat": 4,
 "nbformat_minor": 5
}
