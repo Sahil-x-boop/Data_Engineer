{
 "cells": [
  {
   "cell_type": "code",
   "execution_count": null,
   "id": "65b45aef",
   "metadata": {},
   "outputs": [],
   "source": [
    "import numpy as np"
   ]
  },
  {
   "cell_type": "markdown",
   "id": "8cd6172e",
   "metadata": {},
   "source": [
    "##### NumPy shines when there are large quantities of “homogeneous” (same-type) data to be processed on the CPU.\n",
    "- Speed: numerical operations are implemented in C/Fortran; vectorized operations avoid Python loops and their overhead.\n",
    "\n",
    "Most NumPy arrays have some restrictions. For instance:\n",
    "\n",
    "- All elements of the array must be of the same type of data.\n",
    "\n",
    "- Once created, the total size of the array can’t change.\n",
    "\n",
    "- The shape must be “rectangular”, not “jagged”; e.g., each row of a two-dimensional array must have the same number of columns."
   ]
  },
  {
   "cell_type": "code",
   "execution_count": null,
   "id": "cc93f79a",
   "metadata": {},
   "outputs": [],
   "source": [
    "a = np.array([1, 2, 3, 4, 5, 6])\n",
    "a"
   ]
  },
  {
   "cell_type": "markdown",
   "id": "eef8c85b",
   "metadata": {},
   "source": [
    "- If dtype is 8 bytes and shape is (2,3) (2 rows, 3 cols), then:\n",
    "\n",
    "- stride[1] = 8 bytes to move one column (next element in a row).\n",
    "\n",
    "- stride[0] = 3 * 8 = 24 bytes to move one row (skip 3 elements).\n",
    "- So offset for index (i,j) from base pointer = i*stride[0] + j*stride[1]."
   ]
  },
  {
   "cell_type": "code",
   "execution_count": null,
   "id": "2f10b9d5",
   "metadata": {},
   "outputs": [],
   "source": [
    "a = np.array([[1, 2, 3],\n",
    "             [4, 5, 6]], dtype=np.int64)\n",
    "\n",
    "print(a.shape)\n",
    "print(a.ndim)\n",
    "print(a.strides)\n",
    "print(a.size)\n",
    "print(a.dtype)\n",
    "print(a.nbytes)\n",
    "print(a.itemsize)"
   ]
  },
  {
   "cell_type": "code",
   "execution_count": null,
   "id": "15f1acf2",
   "metadata": {},
   "outputs": [],
   "source": [
    "elements = np.linspace(0, 10, num=21) \n",
    "print(elements)\n",
    "elements = np.zeros((2,3))   \n",
    "print(elements)\n",
    "elements = np.ones((2,3))   \n",
    "print(elements)\n",
    "np.arange(0, 10, 2)    \n"
   ]
  },
  {
   "cell_type": "code",
   "execution_count": 50,
   "id": "34ba7750",
   "metadata": {},
   "outputs": [
    {
     "name": "stdout",
     "output_type": "stream",
     "text": [
      "[[7 7 7]\n",
      " [7 7 7]\n",
      " [7 7 7]]\n",
      "[[1. 0. 0.]\n",
      " [0. 1. 0.]\n",
      " [0. 0. 1.]]\n",
      "[[1 0 0]\n",
      " [0 2 0]\n",
      " [0 0 3]]\n"
     ]
    }
   ],
   "source": [
    "elements = np.full((3,3), 7) \n",
    "print(elements) \n",
    "elements = np.identity(3) \n",
    "print(elements) \n",
    "np.eye(3)\n",
    "elements = np.diag([1,2,3])   \n",
    "print(elements)\n",
    "\n"
   ]
  },
  {
   "cell_type": "markdown",
   "id": "8959deca",
   "metadata": {},
   "source": [
    "Use .astype() to cast: a.astype(np.float32). Casting creates a new array."
   ]
  },
  {
   "cell_type": "code",
   "execution_count": null,
   "id": "7506a4ba",
   "metadata": {},
   "outputs": [],
   "source": [
    "x = np.arange(11) \n",
    "print(x[2:7])\n",
    "print(x[::2])"
   ]
  },
  {
   "cell_type": "code",
   "execution_count": null,
   "id": "c667f00d",
   "metadata": {},
   "outputs": [],
   "source": [
    "components = np.arange(12).reshape(3, 4)\n",
    "print(components,\"\\n\")\n",
    "print(components[0:3, 1:3])"
   ]
  },
  {
   "cell_type": "markdown",
   "id": "8bb2b3f5",
   "metadata": {},
   "source": [
    "Slicing returns a view, not a copy (most of the time)."
   ]
  },
  {
   "cell_type": "code",
   "execution_count": null,
   "id": "1b024ed0",
   "metadata": {},
   "outputs": [],
   "source": [
    "arr = np.arange(10)\n",
    "s = arr[2:6] # .copy()\n",
    "s[0] = 40\n",
    "\n",
    "arr"
   ]
  },
  {
   "cell_type": "code",
   "execution_count": null,
   "id": "1dc94a03",
   "metadata": {},
   "outputs": [],
   "source": [
    "elements = "
   ]
  },
  {
   "cell_type": "markdown",
   "id": "018149e7",
   "metadata": {},
   "source": [
    "@ or np.dot() is matrix multiplication for 2D arrays."
   ]
  },
  {
   "cell_type": "code",
   "execution_count": null,
   "id": "731dd295",
   "metadata": {},
   "outputs": [],
   "source": [
    "a = np.array([1,2,3])\n",
    "b = np.array([10,20,30])\n",
    "print(a + b)\n",
    "print(a * 2)\n",
    "print(a @ b)\n",
    "print(np.dot(a, b))\n",
    "\n",
    "print(np.sin(a))"
   ]
  },
  {
   "cell_type": "markdown",
   "id": "ffba5d6e",
   "metadata": {},
   "source": [
    "- _Vectorization_: instead of writing Python loops, use array ops — NumPy does the *heavy lifting in C*. This is the primary reason for speed-ups.\n",
    "\n",
    "- _Ufuncs_: fast element-wise functions (np.add, np.sin, np.exp, np.maximum, etc.). They often have extra methods like .reduce, .accumulate"
   ]
  },
  {
   "cell_type": "code",
   "execution_count": null,
   "id": "89775d57",
   "metadata": {},
   "outputs": [],
   "source": [
    "arr = np.array(\n",
    "    list(set([1,2,3,4]))\n",
    ")\n",
    "arr[0]\n"
   ]
  },
  {
   "cell_type": "code",
   "execution_count": 35,
   "id": "fd77090b",
   "metadata": {},
   "outputs": [
    {
     "name": "stdout",
     "output_type": "stream",
     "text": [
      "[[1. 1. 1. 1.]\n",
      " [1. 1. 1. 1.]\n",
      " [1. 1. 1. 1.]]\n",
      "[0 1 2 3]\n"
     ]
    },
    {
     "data": {
      "text/plain": [
       "array([[1., 2., 3., 4.],\n",
       "       [1., 2., 3., 4.],\n",
       "       [1., 2., 3., 4.]])"
      ]
     },
     "execution_count": 35,
     "metadata": {},
     "output_type": "execute_result"
    }
   ],
   "source": [
    "A = np.ones((3,4))\n",
    "print(A)\n",
    "b = np.arange(4)\n",
    "print(b)\n",
    "A + b "
   ]
  },
  {
   "cell_type": "code",
   "execution_count": null,
   "id": "25336de5",
   "metadata": {},
   "outputs": [],
   "source": [
    "s = arr[2:5]\n",
    "s.base is arr"
   ]
  },
  {
   "cell_type": "markdown",
   "id": "3a3ab2c9",
   "metadata": {},
   "source": [
    "- Slicing is a view — modifying a slice modifies the original.\n",
    "\n",
    "- np.append is inefficient — it creates a new array repeatedly (not like list.append). Use lists and then np.array() or pre-allocate and fill.\n",
    "\n",
    "- np.arange with floats can give surprising endpoints due to float rounding; use linspace for exact num points.\n",
    "\n",
    "- Integer division vs true division: / yields floats (true division), // yields floor division (result dtype depends).\n",
    "\n",
    "- Boolean indexing returns a copy, not a view. E.g. b = a[a>0] is a copy.\n",
    "\n",
    "- Non-contiguous arrays (e.g., transposed views) may be slower; np.ascontiguousarray() can help.\n",
    "\n",
    "- Data type overflow: integer arrays wrap on overflow (no error). Be mindful of dtype range.\n",
    "\n",
    "- Using object dtype kills vectorization; avoid unless necessary."
   ]
  },
  {
   "cell_type": "code",
   "execution_count": null,
   "id": "9d0bef85",
   "metadata": {},
   "outputs": [],
   "source": [
    "lst = [1,2,3]\n",
    "arr = np.asarray(lst)\n",
    "arr2 = np.asarray(arr) \n",
    "print(arr)\n",
    "print(arr2)"
   ]
  },
  {
   "cell_type": "code",
   "execution_count": 77,
   "id": "83e5b21d",
   "metadata": {},
   "outputs": [
    {
     "name": "stdout",
     "output_type": "stream",
     "text": [
      "[ 0.          0.71428571  1.42857143  2.14285714  2.85714286  3.57142857\n",
      "  4.28571429  5.          5.71428571  6.42857143  7.14285714  7.85714286\n",
      "  8.57142857  9.28571429 10.        ]\n"
     ]
    }
   ],
   "source": [
    "elements = np.linspace(0, 10, num=15)\n",
    "print(elements)"
   ]
  },
  {
   "cell_type": "code",
   "execution_count": 66,
   "id": "1846ded3",
   "metadata": {},
   "outputs": [
    {
     "name": "stdout",
     "output_type": "stream",
     "text": [
      "[[0. 1. 1.]\n",
      " [1. 0. 1.]\n",
      " [1. 1. 0.]]\n"
     ]
    }
   ],
   "source": [
    "arr1 = np.ones((3,3))\n",
    "np.fill_diagonal(arr1, 0)\n",
    "print(arr1)"
   ]
  }
 ],
 "metadata": {
  "kernelspec": {
   "display_name": "3.13.7",
   "language": "python",
   "name": "python3"
  },
  "language_info": {
   "codemirror_mode": {
    "name": "ipython",
    "version": 3
   },
   "file_extension": ".py",
   "mimetype": "text/x-python",
   "name": "python",
   "nbconvert_exporter": "python",
   "pygments_lexer": "ipython3",
   "version": "3.13.7"
  }
 },
 "nbformat": 4,
 "nbformat_minor": 5
}
