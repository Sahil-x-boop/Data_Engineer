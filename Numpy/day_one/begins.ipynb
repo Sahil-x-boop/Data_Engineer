{
 "cells": [
  {
   "cell_type": "markdown",
   "id": "c9ec1dc9",
   "metadata": {},
   "source": [
    "#### NumPy ndarray Overview\n",
    "\n",
    "NumPy provides the **ndarray**: a fixed-type, N-dimensional container for numerical data that stores values in contiguous memory.\n",
    "\n",
    "Why it is faster than list: \n",
    "- Fixed type = No type checking needed\n",
    "- Contiguous memory = CPU can grab data in one go\n",
    "- C language loops = No slow Python interpretation\n",
    "- SIMD operations = Multiple calculations at once\n",
    "- Less memory overhead = More data fits in fast cache\n",
    "\n",
    "##### Why It Matters\n",
    "\n",
    "- **Speed**: Numerical operations are implemented in C/Fortran; vectorized operations avoid Python loops and their overhead.\n",
    "- **Memory Efficiency**: Homogeneous storage (all elements same dtype) reduces memory per item compared to Python lists.\n",
    "- **Convenience**: Broadcasted arithmetic, linear algebra, random generation, reductions, reshaping — all made consistent.\n",
    "- **Ecosystem**: pandas, SciPy, scikit-learn, matplotlib all expect NumPy arrays.\n",
    "\n",
    "##### When to Use\n",
    "\n",
    "Numerical computing, vectorized math over many elements, matrix computations, preprocessing large numeric datasets."
   ]
  },
  {
   "cell_type": "code",
   "execution_count": 68,
   "id": "65b45aef",
   "metadata": {},
   "outputs": [],
   "source": [
    "import numpy as np\n",
    "from random import random "
   ]
  },
  {
   "cell_type": "markdown",
   "id": "8cd6172e",
   "metadata": {},
   "source": [
    "##### NumPy shines when there are large quantities of “homogeneous” (same-type) data to be processed on the CPU.\n",
    "- Speed: numerical operations are implemented in C/Fortran; vectorized operations avoid Python loops and their overhead.\n",
    "\n",
    "Most NumPy arrays have some restrictions. For instance:\n",
    "\n",
    "- All elements of the array must be of the same type of data.\n",
    "\n",
    "- Once created, the total size of the array can’t change.\n",
    "\n",
    "- The shape must be “rectangular”, not “jagged”; e.g., each row of a two-dimensional array must have the same number of columns."
   ]
  },
  {
   "cell_type": "code",
   "execution_count": 2,
   "id": "cc93f79a",
   "metadata": {},
   "outputs": [
    {
     "data": {
      "text/plain": [
       "array([1, 2, 3, 4, 5, 6])"
      ]
     },
     "execution_count": 2,
     "metadata": {},
     "output_type": "execute_result"
    }
   ],
   "source": [
    "a = np.array([1, 2, 3, 4, 5, 6])\n",
    "a"
   ]
  },
  {
   "cell_type": "markdown",
   "id": "eef8c85b",
   "metadata": {},
   "source": [
    "- If dtype is 8 bytes and shape is (2,3) (2 rows, 3 cols), then:\n",
    "\n",
    "- stride[1] = 8 bytes to move one column (next element in a row).\n",
    "\n",
    "- stride[0] = 3 * 8 = 24 bytes to move one row (skip 3 elements).\n",
    "- So offset for index (i,j) from base pointer = i*stride[0] + j*stride[1]."
   ]
  },
  {
   "cell_type": "code",
   "execution_count": 3,
   "id": "2f10b9d5",
   "metadata": {},
   "outputs": [
    {
     "name": "stdout",
     "output_type": "stream",
     "text": [
      "(2, 3)\n",
      "2\n",
      "(24, 8)\n",
      "6\n",
      "int64\n",
      "48\n",
      "8\n"
     ]
    }
   ],
   "source": [
    "a = np.array([[1, 2, 3],\n",
    "             [4, 5, 6]], dtype=np.int64)\n",
    "\n",
    "print(a.shape)\n",
    "print(a.ndim)\n",
    "print(a.strides)\n",
    "print(a.size)\n",
    "print(a.dtype)\n",
    "print(a.nbytes)\n",
    "print(a.itemsize)"
   ]
  },
  {
   "cell_type": "code",
   "execution_count": 246,
   "id": "15f1acf2",
   "metadata": {},
   "outputs": [
    {
     "name": "stdout",
     "output_type": "stream",
     "text": [
      "[ 0.          0.71428571  1.42857143  2.14285714  2.85714286  3.57142857\n",
      "  4.28571429  5.          5.71428571  6.42857143  7.14285714  7.85714286\n",
      "  8.57142857  9.28571429 10.        ]\n",
      "[[0. 0. 0.]\n",
      " [0. 0. 0.]]\n",
      "[[1. 1. 1.]\n",
      " [1. 1. 1.]]\n"
     ]
    },
    {
     "data": {
      "text/plain": [
       "array([0, 2, 4, 6, 8])"
      ]
     },
     "execution_count": 246,
     "metadata": {},
     "output_type": "execute_result"
    }
   ],
   "source": [
    "elements = np.linspace(0, 10, num=15) \n",
    "print(elements)\n",
    "elements = np.zeros((2,3))   \n",
    "print(elements)\n",
    "elements = np.ones((2,3))   \n",
    "print(elements)\n",
    "np.arange(0, 10, 2)    \n"
   ]
  },
  {
   "cell_type": "code",
   "execution_count": 5,
   "id": "34ba7750",
   "metadata": {},
   "outputs": [
    {
     "name": "stdout",
     "output_type": "stream",
     "text": [
      "[[7 7 7]\n",
      " [7 7 7]\n",
      " [7 7 7]]\n",
      "[[1. 0. 0.]\n",
      " [0. 1. 0.]\n",
      " [0. 0. 1.]]\n",
      "[[1 0 0]\n",
      " [0 2 0]\n",
      " [0 0 3]]\n"
     ]
    }
   ],
   "source": [
    "elements = np.full((3,3), 7) \n",
    "print(elements) \n",
    "elements = np.identity(3) \n",
    "print(elements) \n",
    "np.eye(3)\n",
    "elements = np.diag([1,2,3])   \n",
    "print(elements)\n",
    "\n"
   ]
  },
  {
   "cell_type": "markdown",
   "id": "8959deca",
   "metadata": {},
   "source": [
    "Use .astype() to cast: a.astype(np.float32). Casting creates a new array."
   ]
  },
  {
   "cell_type": "code",
   "execution_count": 247,
   "id": "7506a4ba",
   "metadata": {},
   "outputs": [
    {
     "name": "stdout",
     "output_type": "stream",
     "text": [
      "[ 4  6  8 10]\n",
      "[0 4 8]\n"
     ]
    }
   ],
   "source": [
    "x = np.arange(0, 11, 2) \n",
    "print(x[2:7])\n",
    "print(x[::2])"
   ]
  },
  {
   "cell_type": "code",
   "execution_count": 7,
   "id": "c667f00d",
   "metadata": {},
   "outputs": [
    {
     "name": "stdout",
     "output_type": "stream",
     "text": [
      "[[ 0  1  2  3]\n",
      " [ 4  5  6  7]\n",
      " [ 8  9 10 11]] \n",
      "\n",
      "[[ 1  2]\n",
      " [ 5  6]\n",
      " [ 9 10]]\n"
     ]
    }
   ],
   "source": [
    "components = np.arange(12).reshape(3, 4)\n",
    "print(components,\"\\n\")\n",
    "print(components[0:3, 1:3])"
   ]
  },
  {
   "cell_type": "markdown",
   "id": "8bb2b3f5",
   "metadata": {},
   "source": [
    "##### Slicing returns a view, not a copy (most of the time)."
   ]
  },
  {
   "cell_type": "code",
   "execution_count": 8,
   "id": "1b024ed0",
   "metadata": {},
   "outputs": [
    {
     "data": {
      "text/plain": [
       "array([ 0,  1, 40,  3,  4,  5,  6,  7,  8,  9])"
      ]
     },
     "execution_count": 8,
     "metadata": {},
     "output_type": "execute_result"
    }
   ],
   "source": [
    "arr = np.arange(10)\n",
    "s = arr[2:6] # .copy()\n",
    "s[0] = 40\n",
    "\n",
    "arr"
   ]
  },
  {
   "cell_type": "code",
   "execution_count": null,
   "id": "1dc94a03",
   "metadata": {},
   "outputs": [],
   "source": []
  },
  {
   "cell_type": "markdown",
   "id": "018149e7",
   "metadata": {},
   "source": [
    "@ or np.dot() is matrix multiplication for 2D arrays."
   ]
  },
  {
   "cell_type": "code",
   "execution_count": 9,
   "id": "731dd295",
   "metadata": {},
   "outputs": [
    {
     "name": "stdout",
     "output_type": "stream",
     "text": [
      "[11 22 33]\n",
      "[2 4 6]\n",
      "140\n",
      "140\n",
      "[0.84147098 0.90929743 0.14112001]\n"
     ]
    }
   ],
   "source": [
    "a = np.array([1,2,3])\n",
    "b = np.array([10,20,30])\n",
    "print(a + b)\n",
    "print(a * 2)\n",
    "print(a @ b)\n",
    "print(np.dot(a, b))\n",
    "\n",
    "print(np.sin(a))"
   ]
  },
  {
   "cell_type": "markdown",
   "id": "ffba5d6e",
   "metadata": {},
   "source": [
    "- _Vectorization_: instead of writing Python loops, use array ops — NumPy does the *heavy lifting in C*. This is the primary reason for speed-ups.\n",
    "\n",
    "- _Ufuncs_: fast element-wise functions (np.add, np.sin, np.exp, np.maximum, etc.). They often have extra methods like .reduce, .accumulate"
   ]
  },
  {
   "cell_type": "code",
   "execution_count": 254,
   "id": "89775d57",
   "metadata": {},
   "outputs": [
    {
     "name": "stdout",
     "output_type": "stream",
     "text": [
      "{1, 2, 3, 4}\n"
     ]
    }
   ],
   "source": [
    "arr = np.array(\n",
    "    set(([1,2,3,4]))\n",
    ")\n",
    "print(arr)\n"
   ]
  },
  {
   "cell_type": "code",
   "execution_count": 11,
   "id": "fd77090b",
   "metadata": {},
   "outputs": [
    {
     "name": "stdout",
     "output_type": "stream",
     "text": [
      "[[1. 1. 1. 1.]\n",
      " [1. 1. 1. 1.]\n",
      " [1. 1. 1. 1.]]\n",
      "[0 1 2 3]\n"
     ]
    },
    {
     "data": {
      "text/plain": [
       "array([[1., 2., 3., 4.],\n",
       "       [1., 2., 3., 4.],\n",
       "       [1., 2., 3., 4.]])"
      ]
     },
     "execution_count": 11,
     "metadata": {},
     "output_type": "execute_result"
    }
   ],
   "source": [
    "A = np.ones((3,4))\n",
    "print(A)\n",
    "b = np.arange(4)\n",
    "print(b)\n",
    "A + b "
   ]
  },
  {
   "cell_type": "code",
   "execution_count": 12,
   "id": "25336de5",
   "metadata": {},
   "outputs": [
    {
     "data": {
      "text/plain": [
       "True"
      ]
     },
     "execution_count": 12,
     "metadata": {},
     "output_type": "execute_result"
    }
   ],
   "source": [
    "s = arr[2:5]\n",
    "s.base is arr"
   ]
  },
  {
   "cell_type": "markdown",
   "id": "3a3ab2c9",
   "metadata": {},
   "source": [
    "- Slicing is a view — modifying a slice modifies the original.\n",
    "\n",
    "- np.append is inefficient — it creates a new array repeatedly (not like list.append). Use lists and then np.array() or pre-allocate and fill.\n",
    "\n",
    "- np.arange with floats can give surprising endpoints due to float rounding; use linspace for exact num points.\n",
    "\n",
    "- Integer division vs true division: / yields floats (true division), // yields floor division (result dtype depends).\n",
    "\n",
    "- Boolean indexing returns a copy, not a view. E.g. b = a[a>0] is a copy.\n",
    "\n",
    "- Non-contiguous arrays (e.g., transposed views) may be slower; np.ascontiguousarray() can help.\n",
    "\n",
    "- Data type overflow: integer arrays wrap on overflow (no error). Be mindful of dtype range.\n",
    "\n",
    "- Using object dtype kills vectorization; avoid unless necessary."
   ]
  },
  {
   "cell_type": "code",
   "execution_count": 13,
   "id": "9d0bef85",
   "metadata": {},
   "outputs": [
    {
     "name": "stdout",
     "output_type": "stream",
     "text": [
      "[1 2 3]\n",
      "[1 2 3]\n"
     ]
    }
   ],
   "source": [
    "lst = [1,2,3]\n",
    "arr = np.asarray(lst)\n",
    "arr2 = np.asarray(arr) \n",
    "print(arr)\n",
    "print(arr2)"
   ]
  },
  {
   "cell_type": "code",
   "execution_count": 14,
   "id": "83e5b21d",
   "metadata": {},
   "outputs": [
    {
     "name": "stdout",
     "output_type": "stream",
     "text": [
      "[ 0.    0.71  1.43  2.14  2.86  3.57  4.29  5.    5.71  6.43  7.14  7.86\n",
      "  8.57  9.29 10.  ]\n"
     ]
    }
   ],
   "source": [
    "\n",
    "elements = np.linspace(0, 10, num=15)\n",
    "rounded_elements = np.round(elements, 2)\n",
    "print(rounded_elements)\n",
    "\n"
   ]
  },
  {
   "cell_type": "code",
   "execution_count": 15,
   "id": "1846ded3",
   "metadata": {},
   "outputs": [
    {
     "name": "stdout",
     "output_type": "stream",
     "text": [
      "[[0. 1. 1.]\n",
      " [1. 0. 1.]\n",
      " [1. 1. 0.]]\n"
     ]
    }
   ],
   "source": [
    "arr1 = np.ones((3,3))\n",
    "np.fill_diagonal(arr1, 0)\n",
    "print(arr1)"
   ]
  },
  {
   "cell_type": "code",
   "execution_count": 16,
   "id": "3507b56a",
   "metadata": {},
   "outputs": [
    {
     "name": "stdout",
     "output_type": "stream",
     "text": [
      "[[1. 0. 0.]\n",
      " [0. 1. 0.]\n",
      " [0. 0. 1.]]\n"
     ]
    }
   ],
   "source": [
    "elements = np.ones([3, 3]) \n",
    "print(elements * np.diag([1, 1, 1]))"
   ]
  },
  {
   "cell_type": "markdown",
   "id": "b28828c8",
   "metadata": {},
   "source": [
    "### Contiguous Memory (Data Stored Together)\n",
    "Python List:\n",
    "Memory: [pointer] -> [1] somewhere in memory\n",
    "        [pointer] -> [2] somewhere else\n",
    "        [pointer] -> [3] somewhere else\n",
    "\n",
    "List items are scattered in computer memory\n",
    "Computer must \"jump around\" to find each number\n",
    "Like books scattered in different rooms of a house\n",
    "\n",
    "NumPy Array:\n",
    "Memory: [1][2][3][4][5] <- All together in one place\n",
    "\n",
    "All numbers stored RIGHT NEXT TO each other\n",
    "Computer reads them in one smooth motion\n",
    "Like books arranged on one shelf - grab them all at once!\n",
    "\n",
    "###  Vectorization (No Loops in Python)\n",
    "Python List (with loop):\n",
    "pythonresult = []\n",
    "for num in [1, 2, 3, 4]:\n",
    "    result.append(num + 5)  # Python interpreter runs this 4 times\n",
    "\n",
    "Python must interpret each loop step\n",
    "Interpretation is SLOW\n",
    "\n",
    "NumPy Array (vectorized):\n",
    "pythonresult = np.array([1, 2, 3, 4]) + 5  # Magic happens in C code!\n",
    "\n",
    "The loop runs in C language (super fast)\n",
    "Python just gives the order once\n",
    "Like asking 1 expert to do 1000 tasks vs. explaining 1000 times\n",
    "\n",
    "Why C is faster:\n",
    "\n",
    "C is a \"compiled\" language (converted to machine code)\n",
    "Python is \"interpreted\" (translated line by line)\n",
    "C code runs directly on CPU, Python needs a translator"
   ]
  },
  {
   "cell_type": "markdown",
   "id": "c702c0de",
   "metadata": {},
   "source": [
    " Reshaping means changing the shape of an array.\n",
    "\n",
    "- The shape of an array is the number of elements in each dimension.\n",
    "\n",
    "- By reshaping we can add or remove dimensions or change number of elements in each dimension."
   ]
  },
  {
   "cell_type": "code",
   "execution_count": 197,
   "id": "fb6551d9",
   "metadata": {},
   "outputs": [
    {
     "name": "stdout",
     "output_type": "stream",
     "text": [
      "[[[ 1  2]\n",
      "  [ 3  4]]\n",
      "\n",
      " [[ 5  6]\n",
      "  [ 7  8]]\n",
      "\n",
      " [[ 9 10]\n",
      "  [11 12]]]\n",
      "[[ 1  2  3  4]\n",
      " [ 5  6  7  8]\n",
      " [ 9 10 11 12]]\n"
     ]
    }
   ],
   "source": [
    "arr = np.array([1, 2, 3, 4, 5, 6, 7, 8, 9, 10, 11, 12])\n",
    "\n",
    "newarr = arr.reshape(3, 2, 2)\n",
    "print(newarr)\n",
    "newarr = arr.reshape(3, 4)\n",
    "print(newarr)\n"
   ]
  },
  {
   "cell_type": "markdown",
   "id": "3a2d7890",
   "metadata": {},
   "source": [
    "You are allowed to have one \"unknown\" dimension.\n",
    "\n",
    "Meaning that you do not have to specify an exact number for one of the dimensions in the reshape method."
   ]
  },
  {
   "cell_type": "code",
   "execution_count": 198,
   "id": "bc1c1fb8",
   "metadata": {},
   "outputs": [
    {
     "name": "stdout",
     "output_type": "stream",
     "text": [
      "[[[1 2]\n",
      "  [3 4]]\n",
      "\n",
      " [[5 6]\n",
      "  [7 8]]]\n"
     ]
    }
   ],
   "source": [
    "\n",
    "arr = np.array([1, 2, 3, 4, 5, 6, 7, 8])\n",
    "\n",
    "newarr = arr.reshape(2, -1, 2)\n",
    "\n",
    "print(newarr)"
   ]
  },
  {
   "cell_type": "markdown",
   "id": "d01705b2",
   "metadata": {},
   "source": [
    "**Flattening** array means converting a multidimensional array into a 1D array.\n",
    "\n",
    "We can use reshape(-1) to do this."
   ]
  },
  {
   "cell_type": "code",
   "execution_count": 199,
   "id": "85cb31ba",
   "metadata": {},
   "outputs": [
    {
     "name": "stdout",
     "output_type": "stream",
     "text": [
      "[1 2 3 4 5 6]\n"
     ]
    }
   ],
   "source": [
    "arr = np.array([[1, 2, 3], [4, 5, 6]])\n",
    "\n",
    "newarr = arr.reshape(-1)\n",
    "\n",
    "print(newarr)"
   ]
  },
  {
   "cell_type": "code",
   "execution_count": 200,
   "id": "41c88c97",
   "metadata": {},
   "outputs": [
    {
     "name": "stdout",
     "output_type": "stream",
     "text": [
      "1\n",
      "2\n",
      "3\n",
      "4\n",
      "5\n",
      "6\n",
      "7\n",
      "8\n"
     ]
    }
   ],
   "source": [
    "arr = np.array([[[1, 2], [3, 4]], [[5, 6], [7, 8]]])\n",
    "\n",
    "for value in np.nditer(arr):\n",
    "    print(value)"
   ]
  },
  {
   "cell_type": "code",
   "execution_count": 201,
   "id": "c4f49dde",
   "metadata": {},
   "outputs": [
    {
     "name": "stdout",
     "output_type": "stream",
     "text": [
      "(0,) 1\n",
      "(1,) 2\n",
      "(2,) 3\n"
     ]
    }
   ],
   "source": [
    "arr = np.array([1, 2, 3])\n",
    "\n",
    "for idx, i in np.ndenumerate(arr):\n",
    "    print(idx, i)"
   ]
  },
  {
   "cell_type": "code",
   "execution_count": 202,
   "id": "ff0df15f",
   "metadata": {},
   "outputs": [
    {
     "name": "stdout",
     "output_type": "stream",
     "text": [
      "[array([1, 2]), array([3, 4]), array([5, 6])]\n"
     ]
    }
   ],
   "source": [
    "arr = np.array([1, 2, 3, 4, 5, 6])\n",
    "\n",
    "newarr = np.array_split(arr, 3)\n",
    "\n",
    "print(newarr)"
   ]
  },
  {
   "cell_type": "code",
   "execution_count": 203,
   "id": "d2571c4c",
   "metadata": {},
   "outputs": [
    {
     "name": "stdout",
     "output_type": "stream",
     "text": [
      "[array([[1, 2],\n",
      "       [3, 4]]), array([[5, 6],\n",
      "       [7, 8]]), array([[ 9, 10],\n",
      "       [11, 12]])]\n"
     ]
    }
   ],
   "source": [
    "arr = np.array([[1, 2], [3, 4], [5, 6], [7, 8], [9, 10], [11, 12]])\n",
    "\n",
    "newarr = np.array_split(arr, 3)\n",
    "\n",
    "print(newarr)\n"
   ]
  },
  {
   "cell_type": "code",
   "execution_count": 204,
   "id": "3098da0b",
   "metadata": {},
   "outputs": [
    {
     "name": "stdout",
     "output_type": "stream",
     "text": [
      "(array([1, 3, 5, 7]),)\n"
     ]
    }
   ],
   "source": [
    "arr = np.array([1, 2, 3, 4, 5, 6, 7, 8])\n",
    "x = np.where(arr%2 == 0)\n",
    "print(x)"
   ]
  },
  {
   "cell_type": "code",
   "execution_count": 205,
   "id": "dd997815",
   "metadata": {},
   "outputs": [
    {
     "name": "stdout",
     "output_type": "stream",
     "text": [
      "['apple' 'banana' 'cherry']\n"
     ]
    }
   ],
   "source": [
    "arr = np.array(['banana', 'cherry', 'apple'])\n",
    "\n",
    "print(np.sort(arr))"
   ]
  },
  {
   "cell_type": "code",
   "execution_count": 206,
   "id": "47a025a3",
   "metadata": {},
   "outputs": [
    {
     "name": "stdout",
     "output_type": "stream",
     "text": [
      "[False False  True  True]\n",
      "[43 44]\n"
     ]
    }
   ],
   "source": [
    "arr = np.array([41, 42, 43, 44])\n",
    "\n",
    "filter_arr = arr > 42\n",
    "\n",
    "newarr = arr[filter_arr]\n",
    "\n",
    "print(filter_arr)\n",
    "print(newarr)"
   ]
  },
  {
   "cell_type": "code",
   "execution_count": 207,
   "id": "32624112",
   "metadata": {},
   "outputs": [
    {
     "name": "stdout",
     "output_type": "stream",
     "text": [
      "[[1. 1.]\n",
      " [4. 0.]]\n"
     ]
    }
   ],
   "source": [
    "A = np.array([[1, 1], [4, 0]])\n",
    "I = np.eye(2)\n",
    "result = A @ I  \n",
    "print(result)  "
   ]
  },
  {
   "cell_type": "code",
   "execution_count": 208,
   "id": "6696d7ab",
   "metadata": {},
   "outputs": [
    {
     "data": {
      "text/plain": [
       "array([0.56742193, 0.13946793, 0.99172281, 0.69080111, 0.05474674])"
      ]
     },
     "execution_count": 208,
     "metadata": {},
     "output_type": "execute_result"
    }
   ],
   "source": [
    "rng = np.random.default_rng()\n",
    "arr = rng.random(5)\n",
    "arr"
   ]
  },
  {
   "cell_type": "code",
   "execution_count": 209,
   "id": "3ad0d288",
   "metadata": {},
   "outputs": [
    {
     "name": "stdout",
     "output_type": "stream",
     "text": [
      "[[6 6 2 9]\n",
      " [1 1 4 8]]\n"
     ]
    }
   ],
   "source": [
    "arr = np.random.randint(1, 10, size=(2, 4))\n",
    "print(arr)"
   ]
  },
  {
   "cell_type": "code",
   "execution_count": 210,
   "id": "d299d64e",
   "metadata": {},
   "outputs": [
    {
     "data": {
      "text/plain": [
       "array([ 62.1926485 , 146.47461183,  63.95246305,  83.77833376,\n",
       "        48.67497061])"
      ]
     },
     "execution_count": 210,
     "metadata": {},
     "output_type": "execute_result"
    }
   ],
   "source": [
    "arr = np.random.normal(loc=50, scale=50, size=5)\n",
    "arr"
   ]
  },
  {
   "cell_type": "code",
   "execution_count": null,
   "id": "42ae7103",
   "metadata": {},
   "outputs": [],
   "source": []
  },
  {
   "cell_type": "code",
   "execution_count": 211,
   "id": "653ea3ef",
   "metadata": {},
   "outputs": [
    {
     "name": "stdout",
     "output_type": "stream",
     "text": [
      "[1. 1. 4.]\n"
     ]
    }
   ],
   "source": [
    "arr1 = np.empty(3)\n",
    "print(arr1) "
   ]
  },
  {
   "cell_type": "markdown",
   "id": "1e5019b8",
   "metadata": {},
   "source": [
    "Transpose"
   ]
  },
  {
   "cell_type": "code",
   "execution_count": 212,
   "id": "0007d116",
   "metadata": {},
   "outputs": [
    {
     "data": {
      "text/plain": [
       "array([[1, 4],\n",
       "       [2, 5],\n",
       "       [3, 6]])"
      ]
     },
     "execution_count": 212,
     "metadata": {},
     "output_type": "execute_result"
    }
   ],
   "source": [
    "arr = np.array([[1, 2, 3], \n",
    "                [4, 5, 6]])\n",
    "\n",
    "arr.T"
   ]
  },
  {
   "cell_type": "code",
   "execution_count": 213,
   "id": "cc91ae81",
   "metadata": {},
   "outputs": [
    {
     "name": "stdout",
     "output_type": "stream",
     "text": [
      "[[1 2]\n",
      " [3 4]]\n"
     ]
    },
    {
     "data": {
      "text/plain": [
       "matrix([[1, 2],\n",
       "        [3, 4]])"
      ]
     },
     "execution_count": 213,
     "metadata": {},
     "output_type": "execute_result"
    }
   ],
   "source": [
    "m = np.matrix([[1,2],[3,4]])\n",
    "np.asarray(m)    \n",
    "print(m)\n",
    "np.asanyarray(m) "
   ]
  },
  {
   "cell_type": "markdown",
   "id": "6d70bd04",
   "metadata": {},
   "source": [
    " Boolean Indexing (Filtering)"
   ]
  },
  {
   "cell_type": "code",
   "execution_count": 214,
   "id": "c68e4d4d",
   "metadata": {},
   "outputs": [
    {
     "name": "stdout",
     "output_type": "stream",
     "text": [
      "[1 2 3 0 0]\n"
     ]
    }
   ],
   "source": [
    "arr = np.array([1, 2, 3, 4, 5])\n",
    "arr[arr > 3] = 0\n",
    "print(arr)"
   ]
  },
  {
   "cell_type": "code",
   "execution_count": 215,
   "id": "da4cd965",
   "metadata": {},
   "outputs": [
    {
     "name": "stdout",
     "output_type": "stream",
     "text": [
      "[15 20]\n",
      "[ 5 30]\n",
      "[ 5 10 15 25 30]\n"
     ]
    }
   ],
   "source": [
    "arr = np.array([5, 10, 15, 20, 25, 30])\n",
    "\n",
    "# AND condition (&)\n",
    "result = arr[(arr > 10) & (arr < 25)]\n",
    "print(result)  \n",
    "\n",
    "# OR condition (|)\n",
    "result = arr[(arr < 10) | (arr > 25)]\n",
    "print(result)  \n",
    "\n",
    "# NOT condition (~)\n",
    "result = arr[~(arr == 20)]\n",
    "print(result)  "
   ]
  },
  {
   "cell_type": "code",
   "execution_count": 216,
   "id": "c46d6652",
   "metadata": {},
   "outputs": [
    {
     "name": "stdout",
     "output_type": "stream",
     "text": [
      "[7 8 9]\n"
     ]
    }
   ],
   "source": [
    "arr = np.array([[1, 2, 3],\n",
    "                [4, 5, 6],\n",
    "                [7, 8, 9]])\n",
    "\n",
    "\n",
    "result = arr[arr > 6]\n",
    "print(result) \n"
   ]
  },
  {
   "cell_type": "code",
   "execution_count": 217,
   "id": "3cd0a9cc",
   "metadata": {},
   "outputs": [],
   "source": [
    "arr = np.array([[10, 20, 30],\n",
    "                [40, 50, 60],\n",
    "                [70, 80, 90]])\n",
    "\n",
    "# rows = np.arange(arr.shape())\n",
    "\n",
    "\n",
    "# cols = [0, 1, 2]\n",
    "# arr[rows, cols] = 0\n",
    "# print(arr)"
   ]
  },
  {
   "cell_type": "markdown",
   "id": "e3f20fd0",
   "metadata": {},
   "source": [
    "3D and Higher Dimensional Indexing"
   ]
  },
  {
   "cell_type": "code",
   "execution_count": 218,
   "id": "7a06b411",
   "metadata": {},
   "outputs": [
    {
     "name": "stdout",
     "output_type": "stream",
     "text": [
      "[[ 1  5  9]\n",
      " [13 17 21]]\n",
      "[[[ 0  1  2  3]\n",
      "  [ 4  5  6  7]\n",
      "  [ 8  9 10 11]]\n",
      "\n",
      " [[12 13 14 15]\n",
      "  [16 17 18 19]\n",
      "  [20 21 22 23]]]\n",
      "[ 0  1  2  3  4  5  6  7  8  9 10 11 12 13 14 15 16 17 18 19 20 21 22 23]\n"
     ]
    }
   ],
   "source": [
    "arr = np.arange(24).reshape(2, 3, 4)\n",
    "print(arr[:, :, 1])\n",
    "print(arr)\n",
    "\n",
    "flatted = arr.flatten()\n",
    "print(flatted)"
   ]
  },
  {
   "cell_type": "markdown",
   "id": "e9b5bed9",
   "metadata": {},
   "source": [
    "### WHY reshape exists:\n",
    "\n",
    "- Prepare data for different operations\n",
    "- Matrix multiplication needs specific shapes\n",
    "- Neural networks need specific input shapes\n",
    "- Image processing (flatten/unflatten images)"
   ]
  },
  {
   "cell_type": "code",
   "execution_count": 219,
   "id": "bec76346",
   "metadata": {},
   "outputs": [
    {
     "name": "stdout",
     "output_type": "stream",
     "text": [
      "[1 2 3 4 5 6]\n",
      "[1 4 2 5 3 6]\n"
     ]
    }
   ],
   "source": [
    "arr = np.array([[1, 2, 3],\n",
    "                [4, 5, 6]])\n",
    "\n",
    "print(arr.ravel())  \n",
    "\n",
    "print(arr.ravel(order='F')) "
   ]
  },
  {
   "cell_type": "code",
   "execution_count": 220,
   "id": "cddf7407",
   "metadata": {},
   "outputs": [
    {
     "name": "stdout",
     "output_type": "stream",
     "text": [
      "[[51]]\n",
      "[[51]]\n",
      "[[51]]\n"
     ]
    }
   ],
   "source": [
    "A = np.array([[1],\n",
    "              [3],\n",
    "              [4]])  \n",
    "\n",
    "B = np.array([[5, 6, 7]])\n",
    "\n",
    "print(np.dot(A.T, B.T))\n",
    "result = A.T @ B.T\n",
    "print(result)\n",
    "print(np.matmul(A.T, B.T))"
   ]
  },
  {
   "cell_type": "code",
   "execution_count": 221,
   "id": "38a90400",
   "metadata": {},
   "outputs": [
    {
     "name": "stdout",
     "output_type": "stream",
     "text": [
      "[[1 1 1]\n",
      " [1 1 1]]\n"
     ]
    }
   ],
   "source": [
    "existing = np.array([[1, 2, 3], [4, 5, 6]])\n",
    "\n",
    "arr = np.ones_like(existing)\n",
    "print(arr)\n"
   ]
  },
  {
   "cell_type": "markdown",
   "id": "071c30d1",
   "metadata": {},
   "source": [
    "#### FromString"
   ]
  },
  {
   "cell_type": "code",
   "execution_count": 222,
   "id": "cf25c9a4",
   "metadata": {},
   "outputs": [
    {
     "name": "stdout",
     "output_type": "stream",
     "text": [
      "[1 2 3 4 5]\n"
     ]
    }
   ],
   "source": [
    "arr = np.fromstring(\"1-2-3-4-5\", sep='-', dtype=int)\n",
    "print(arr) "
   ]
  },
  {
   "cell_type": "code",
   "execution_count": 223,
   "id": "f07ec3f0",
   "metadata": {},
   "outputs": [
    {
     "data": {
      "text/plain": [
       "array([], shape=(0, 1, 2, 3, 4), dtype=float64)"
      ]
     },
     "execution_count": 223,
     "metadata": {},
     "output_type": "execute_result"
    }
   ],
   "source": [
    "np.random.random(np.arange(5))"
   ]
  },
  {
   "cell_type": "markdown",
   "id": "209d75a5",
   "metadata": {},
   "source": [
    "##### dtype - Data Type\n",
    "This is SUPER IMPORTANT because it affects memory, speed, and precision!"
   ]
  },
  {
   "cell_type": "code",
   "execution_count": 224,
   "id": "ec8d1d28",
   "metadata": {},
   "outputs": [
    {
     "name": "stdout",
     "output_type": "stream",
     "text": [
      "1000000\n",
      "8000000\n"
     ]
    }
   ],
   "source": [
    "# Reason 1: Memory Usage\n",
    "arr_int8 = np.ones(1_000_000, dtype=np.int8)\n",
    "arr_int64 = np.ones(1_000_000, dtype=np.int64)\n",
    "\n",
    "print(arr_int8.nbytes)  \n",
    "print(arr_int64.nbytes) "
   ]
  },
  {
   "cell_type": "code",
   "execution_count": 225,
   "id": "6279dbd2",
   "metadata": {},
   "outputs": [
    {
     "name": "stdout",
     "output_type": "stream",
     "text": [
      "[1.1234568]\n",
      "[1.12345679]\n"
     ]
    }
   ],
   "source": [
    "# Reason 2: Precision\n",
    "arr_f32 = np.array([1.123456789], dtype=np.float32)\n",
    "print(arr_f32)  \n",
    "\n",
    "arr_f64 = np.array([1.123456789], dtype=np.float64)\n",
    "print(arr_f64) "
   ]
  },
  {
   "cell_type": "code",
   "execution_count": 226,
   "id": "206604c9",
   "metadata": {},
   "outputs": [
    {
     "data": {
      "text/plain": [
       "array([1., 2., 3.])"
      ]
     },
     "execution_count": 226,
     "metadata": {},
     "output_type": "execute_result"
    }
   ],
   "source": [
    "#  Converting existing array\n",
    "arr = np.array([1, 2, 3])\n",
    "arr2 = arr.astype(np.float64)\n",
    "arr2"
   ]
  },
  {
   "cell_type": "markdown",
   "id": "ca5d3d38",
   "metadata": {},
   "source": [
    "\n",
    "#### WHY transpose matters:"
   ]
  },
  {
   "cell_type": "code",
   "execution_count": 231,
   "id": "be3a0dd3",
   "metadata": {},
   "outputs": [
    {
     "data": {
      "text/plain": [
       "array([[17],\n",
       "       [39]])"
      ]
     },
     "execution_count": 231,
     "metadata": {},
     "output_type": "execute_result"
    }
   ],
   "source": [
    "A = np.array([[1, 2],\n",
    "              [3, 4]]) \n",
    "\n",
    "B = np.array([[5, 6]])\n",
    "\n",
    "A @ B.T"
   ]
  },
  {
   "cell_type": "code",
   "execution_count": null,
   "id": "f1326a47",
   "metadata": {},
   "outputs": [
    {
     "name": "stdout",
     "output_type": "stream",
     "text": [
      "85.0\n"
     ]
    }
   ],
   "source": [
    "            #   Maths Science English\n",
    "scores = np.array([[85, 90, 78],  # Student 1\n",
    "                   [92, 88, 95],  # Student 2\n",
    "                   [78, 85, 82]]) # Student 3\n",
    "\n",
    "subject_scores = scores.T\n",
    "\n",
    "math_avg = subject_scores[0].mean()\n",
    "print(math_avg)"
   ]
  },
  {
   "cell_type": "code",
   "execution_count": null,
   "id": "87331d22",
   "metadata": {},
   "outputs": [
    {
     "name": "stdout",
     "output_type": "stream",
     "text": [
      "arr shape (2, 3, 4)\n",
      "[[[ 0  1  2  3]\n",
      "  [ 4  5  6  7]\n",
      "  [ 8  9 10 11]]\n",
      "\n",
      " [[12 13 14 15]\n",
      "  [16 17 18 19]\n",
      "  [20 21 22 23]]] \n",
      "\n",
      "transposed arr shape  (2, 3, 4)\n",
      "[[[ 0  1  2  3]\n",
      "  [ 4  5  6  7]\n",
      "  [ 8  9 10 11]]\n",
      "\n",
      " [[12 13 14 15]\n",
      "  [16 17 18 19]\n",
      "  [20 21 22 23]]]\n"
     ]
    }
   ],
   "source": [
    "arr = np.arange(24).reshape(2, 3, 4)\n",
    "print(\"arr shape\",arr.shape)  \n",
    "print(arr, \"\\n\")\n",
    "\n",
    "transposed = arr.transpose(1, 0, 2)\n",
    "print(\"transposed arr shape \",transposed.shape) \n",
    "print(transposed)"
   ]
  },
  {
   "cell_type": "code",
   "execution_count": null,
   "id": "27341c66",
   "metadata": {},
   "outputs": [
    {
     "data": {
      "text/plain": [
       "array([[4, 1],\n",
       "       [2, 2]])"
      ]
     },
     "execution_count": 128,
     "metadata": {},
     "output_type": "execute_result"
    }
   ],
   "source": [
    "a = [[1, 0], [0, 1]] \n",
    "b = [[4, 1], [2, 2]]\n",
    "np.dot(a, b)"
   ]
  },
  {
   "cell_type": "code",
   "execution_count": null,
   "id": "92d86005",
   "metadata": {},
   "outputs": [
    {
     "name": "stdout",
     "output_type": "stream",
     "text": [
      "247683\n",
      "499128\n"
     ]
    }
   ],
   "source": [
    "a = np.arange(3*4*5*6).reshape((3,4,5,6))\n",
    "b = np.arange(3*4*5*6)[::-1].reshape((5,4,6,3))\n",
    "print(np.dot(a, b)[2,3,2,1,2,2])\n",
    "print(sum(a[2,3,2,:] * b[1,2,:,2]))\n",
    "# print(b)"
   ]
  },
  {
   "cell_type": "markdown",
   "id": "5444bc9e",
   "metadata": {},
   "source": [
    "WHY axis parameter:\n",
    "\n",
    "- axis=0: Stack along rows (add more rows)\n",
    "- axis=1: Stack along columns (add more columns)\n",
    "- Higher dimensions: same logic\n",
    "\n",
    "CRITICAL: Shapes must match except in concatenation axis!"
   ]
  },
  {
   "cell_type": "code",
   "execution_count": null,
   "id": "2e33daac",
   "metadata": {},
   "outputs": [
    {
     "name": "stdout",
     "output_type": "stream",
     "text": [
      "[[1. 1. 1.]\n",
      " [1. 1. 1.]] \n",
      "\n",
      " [[1. 1. 1. 1.]\n",
      " [1. 1. 1. 1.]] \n",
      "\n",
      "(2, 7)\n"
     ]
    }
   ],
   "source": [
    "arr1 = np.ones((2, 3))  \n",
    "arr2 = np.ones((2, 4))    \n",
    "print(arr1,\"\\n\\n\", arr2,\"\\n\")\n",
    "result = np.concatenate([arr1, arr2], axis=1)\n",
    "print(result.shape)  "
   ]
  },
  {
   "cell_type": "markdown",
   "id": "f4750f33",
   "metadata": {},
   "source": [
    "### matmul differs from dot in two important ways:\n",
    "\n",
    "- Multiplication by scalars is not allowed, use * instead.\n",
    "\n",
    "- Stacks of matrices are broadcast together as if the matrices were elements, respecting the signature (n,k),(k,m)->(n,m):"
   ]
  },
  {
   "cell_type": "markdown",
   "id": "d3a941bc",
   "metadata": {},
   "source": [
    "#### matmul automatically detects that the first dimension (3) is a “stack” dimension\n",
    "\n",
    "- It performs matrix multiplication for each “stack”\n",
    "\n",
    "- This is batch matrix multiplication — a powerful feature often used in ML.\n",
    "\n",
    "#### Rule for np.dot(a, b) when > 2D:\n",
    "\n",
    "The sum-product is over the last axis of a and the second-to-last axis of b,\n",
    "and no broadcasting of extra axes occurs.\n",
    "\n",
    "So:\n",
    "\n",
    "- a: (3, 2, 4) → last axis = 4\n",
    "\n",
    "- c: (3, 4, 2) → second-to-last axis = 4 ✅ (they match)\n",
    "\n",
    "Then, result shape =\n",
    "\n",
    "- a's all axes except the last + b's all axes except the second-to-last\n",
    "\n",
    "→ (3, 2) + (3, 2) = (3, 2, 3, 2)"
   ]
  },
  {
   "cell_type": "code",
   "execution_count": 256,
   "id": "a48fdd93",
   "metadata": {},
   "outputs": [
    {
     "name": "stdout",
     "output_type": "stream",
     "text": [
      "(3, 2, 3, 2)\n",
      "(3, 2, 2)\n",
      "20\n"
     ]
    }
   ],
   "source": [
    "a = np.ones([3, 2, 4])\n",
    "c = np.ones([3, 4, 2])\n",
    "print(np.dot(a, c).shape)\n",
    "print(np.matmul(a, c).shape)\n",
    "# print(\"With dot: \",np.dot(a, c), \"\\n\\n\")\n",
    "# print(\"With matmul\",np.matmul(a, c))\n",
    "\n",
    "a = np.array(4)\n",
    "b = np.array(5)\n",
    "print(a * b) # @ raise error"
   ]
  },
  {
   "cell_type": "code",
   "execution_count": 243,
   "id": "04b04050",
   "metadata": {},
   "outputs": [
    {
     "name": "stdout",
     "output_type": "stream",
     "text": [
      "[[ 3  7]\n",
      " [11 15]]\n"
     ]
    }
   ],
   "source": [
    "\n",
    "arr = np.array([[[1, 2], [3, 4]],\n",
    "                [[5, 6], [7, 8]]])\n",
    "\n",
    "sum = np.sum(arr, axis=2)\n",
    "print(sum)"
   ]
  },
  {
   "cell_type": "markdown",
   "id": "a7a650e2",
   "metadata": {},
   "source": [
    "Alignment: The shapes of the two arrays are (4, 3) and (3,). \n",
    "- The NumPy broadcasting rules compare dimensions from right to left.\n",
    "- Dimension matching: Since arr2 has fewer dimensions, its shape is conceptually padded with a \"1\" on the left, becoming (1, 3).\n",
    "- Stretching: The first dimension of arr2 is then \"stretched\" from size 1 to size 4 to match the first dimension of arr1. This is done virtually and efficiently without creating copies of the data.\n",
    "- Resulting operation: This process creates a conceptual intermediate array that looks like this:"
   ]
  },
  {
   "cell_type": "code",
   "execution_count": null,
   "id": "1a88a395",
   "metadata": {},
   "outputs": [
    {
     "name": "stdout",
     "output_type": "stream",
     "text": [
      "[[1 2 3]\n",
      " [4 5 6]]\n"
     ]
    }
   ],
   "source": [
    "arr1 = np.array([\n",
    "    [0, 0, 0],\n",
    "    [10, 10, 10],\n",
    "    [20, 20, 20],\n",
    "    [30, 30, 30]\n",
    "])  \n",
    "\n",
    "arr2 = np.array([1, 2, 3])  \n",
    "result = arr1 + arr2"
   ]
  },
  {
   "cell_type": "code",
   "execution_count": 233,
   "id": "394a648f",
   "metadata": {},
   "outputs": [
    {
     "name": "stdout",
     "output_type": "stream",
     "text": [
      "(1, 3, 1, 4)\n",
      "(3, 1, 4)\n",
      "(3, 4)\n"
     ]
    }
   ],
   "source": [
    "arr = np.ones((1, 3, 1, 4))\n",
    "print(arr.shape) \n",
    "\n",
    "squeezed = arr.squeeze(axis=0)\n",
    "print(squeezed.shape) \n",
    "\n",
    "\n",
    "squeezed = arr.squeeze(axis=(0, 2))\n",
    "print(squeezed.shape) "
   ]
  },
  {
   "cell_type": "markdown",
   "id": "2cf340b3",
   "metadata": {},
   "source": [
    "Masked Arrays"
   ]
  },
  {
   "cell_type": "code",
   "execution_count": null,
   "id": "3188637c",
   "metadata": {},
   "outputs": [],
   "source": []
  }
 ],
 "metadata": {
  "kernelspec": {
   "display_name": "3.13.7",
   "language": "python",
   "name": "python3"
  },
  "language_info": {
   "codemirror_mode": {
    "name": "ipython",
    "version": 3
   },
   "file_extension": ".py",
   "mimetype": "text/x-python",
   "name": "python",
   "nbconvert_exporter": "python",
   "pygments_lexer": "ipython3",
   "version": "3.13.7"
  }
 },
 "nbformat": 4,
 "nbformat_minor": 5
}
