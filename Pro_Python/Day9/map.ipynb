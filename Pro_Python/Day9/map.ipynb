{
 "cells": [
  {
   "cell_type": "markdown",
   "id": "26df6c2d",
   "metadata": {},
   "source": [
    "*It applies a function to each item in an iterable (like list, tuple, etc.) and returns a new map object (which is an iterator).*\n",
    "\n",
    "- map(func, iterable) → applies function to iterable, returns map object (iterator)\n",
    "\n",
    "**map(function, iterable, ...)**"
   ]
  },
  {
   "cell_type": "code",
   "execution_count": 4,
   "id": "0abcf45e",
   "metadata": {},
   "outputs": [
    {
     "name": "stdout",
     "output_type": "stream",
     "text": [
      "[1, 16, 4, 36, 9]\n"
     ]
    }
   ],
   "source": [
    "def square(x):\n",
    "    return x * x\n",
    "\n",
    "\n",
    "numbers = [1, 4, 2, 6, 3]\n",
    "\n",
    "result = list(map(square, numbers))\n",
    "\n",
    "print(result)\n",
    "\n"
   ]
  },
  {
   "cell_type": "code",
   "execution_count": null,
   "id": "8c611b3b",
   "metadata": {},
   "outputs": [
    {
     "name": "stdout",
     "output_type": "stream",
     "text": [
      "[3, 2, 2]\n"
     ]
    }
   ],
   "source": [
    "# map with 2 lists (adds element-wise)\n",
    "\n",
    "numbers1 = [3, 6, 7]\n",
    "numbers2 = [6, 8, 9]\n",
    "\n",
    "result = list(map(lambda x, y: abs(x - y), numbers1, numbers2))\n",
    "print(result)"
   ]
  },
  {
   "cell_type": "code",
   "execution_count": null,
   "id": "ee0b10a1",
   "metadata": {},
   "outputs": [
    {
     "name": "stdout",
     "output_type": "stream",
     "text": [
      "32.0\n",
      "[32.0, 89.6, 113.0, 60.8]\n"
     ]
    }
   ],
   "source": [
    "celcius = [0, 32, 45, 16]\n",
    "\n",
    "fahrenheit = list(map(lambda c: (c * 9/5)+32 , celcius))\n",
    "# print((89.6 - 32) * (5/9))\n",
    "print(fahrenheit)"
   ]
  },
  {
   "cell_type": "code",
   "execution_count": 1,
   "id": "317da90c",
   "metadata": {},
   "outputs": [
    {
     "name": "stdout",
     "output_type": "stream",
     "text": [
      "['Sahil', 'Harman', 'Python', 'Developer']\n"
     ]
    }
   ],
   "source": [
    "names = [\"sahil\", \"harman\", \"python\", \"developer\"]\n",
    "\n",
    "formatted_names = list(map(str.capitalize, names))\n",
    "print(formatted_names)"
   ]
  },
  {
   "cell_type": "markdown",
   "id": "4981d973",
   "metadata": {},
   "source": [
    "🔹 When to Use map()\n",
    "\n",
    "- When you want to apply the same operation to all elements in an iterable.\n",
    "- When you prefer functional programming style (clean, avoids manual loops)."
   ]
  },
  {
   "cell_type": "markdown",
   "id": "c74ce882",
   "metadata": {},
   "source": []
  }
 ],
 "metadata": {
  "kernelspec": {
   "display_name": "3.13.7",
   "language": "python",
   "name": "python3"
  },
  "language_info": {
   "codemirror_mode": {
    "name": "ipython",
    "version": 3
   },
   "file_extension": ".py",
   "mimetype": "text/x-python",
   "name": "python",
   "nbconvert_exporter": "python",
   "pygments_lexer": "ipython3",
   "version": "3.13.7"
  }
 },
 "nbformat": 4,
 "nbformat_minor": 5
}
