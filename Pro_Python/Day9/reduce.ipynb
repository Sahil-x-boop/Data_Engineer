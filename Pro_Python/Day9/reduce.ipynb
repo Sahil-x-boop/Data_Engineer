{
 "cells": [
  {
   "cell_type": "markdown",
   "id": "f2b64574",
   "metadata": {},
   "source": [
    "reduce() is a function from the functools module (not built-in like map and filter).\n",
    "\n",
    "- It reduces an iterable into a single value by repeatedly applying a function on pairs of elements.\n",
    "\n",
    "- Think of it like:\n",
    "\n",
    "```\n",
    "reduce(function, [a, b, c, d])  \n",
    "= function(function(function(a, b), c), d)\n",
    "```\n",
    "\n",
    "- Very useful in aggregations (sum, product, max, min, etc.).\n",
    "\n",
    "### reduce(function, iterable[, initializer])\n",
    "- function → must take two arguments.\n",
    "\n",
    "- iterable → list, tuple, etc.\n",
    "\n",
    "- initializer (optional) → starting value; if given, reduction starts with it.\n"
   ]
  },
  {
   "cell_type": "markdown",
   "id": "254d2f49",
   "metadata": {},
   "source": []
  },
  {
   "cell_type": "code",
   "execution_count": 2,
   "id": "f5e47876",
   "metadata": {},
   "outputs": [],
   "source": [
    "from functools import reduce\n"
   ]
  },
  {
   "cell_type": "code",
   "execution_count": 3,
   "id": "e235e67f",
   "metadata": {},
   "outputs": [
    {
     "name": "stdout",
     "output_type": "stream",
     "text": [
      "10\n",
      "24\n"
     ]
    }
   ],
   "source": [
    "\n",
    "numbers = [0, 1, 2, 3, 4]\n",
    "\n",
    "total = reduce(lambda a, b: a + b, numbers)\n",
    "print(total)\n",
    "\n",
    "numbers = [1, 2, 3, 4]\n",
    "\n",
    "total = reduce(lambda a, b: a * b, numbers)\n",
    "print(total)\n",
    "\n"
   ]
  },
  {
   "cell_type": "code",
   "execution_count": 16,
   "id": "b1b7b98a",
   "metadata": {},
   "outputs": [
    {
     "name": "stdout",
     "output_type": "stream",
     "text": [
      "Programming\n"
     ]
    }
   ],
   "source": [
    "words = [\"Python\", \"AI\", \"Programming\", \"OOP\"]\n",
    "\n",
    "longest = reduce(lambda a, b: a if len(a) > len(b) else b, words)\n",
    "\n",
    "print(longest)"
   ]
  },
  {
   "cell_type": "code",
   "execution_count": null,
   "id": "7f11165b",
   "metadata": {},
   "outputs": [
    {
     "name": "stdout",
     "output_type": "stream",
     "text": [
      "Sahil_Harman_Jyesh_Naman\n"
     ]
    }
   ],
   "source": [
    "names = [\"Sahil\", \"Harman\", \"Jyesh\", \"Naman\"]\n",
    "\n",
    "sentence = reduce(lambda a, b: a + \"_\" + b, names)\n",
    "\n",
    "print(sentence)"
   ]
  },
  {
   "cell_type": "code",
   "execution_count": 22,
   "id": "99d22b00",
   "metadata": {},
   "outputs": [
    {
     "name": "stdout",
     "output_type": "stream",
     "text": [
      "87 87\n"
     ]
    }
   ],
   "source": [
    "numbers = [35, 12, 7, 34, 87, 23]\n",
    "\n",
    "maximum = max(numbers)\n",
    "highest = reduce(lambda a, b: a if a > b else b, numbers)\n",
    "print(maximum, highest)"
   ]
  },
  {
   "cell_type": "markdown",
   "id": "2deca830",
   "metadata": {},
   "source": [
    "Use map to calculate total marks for each student.\n",
    "\n",
    "Use filter to keep only students who passed (>=150).\n",
    "\n",
    "Use reduce to calculate the total marks of all passing students combined."
   ]
  },
  {
   "cell_type": "code",
   "execution_count": 7,
   "id": "dd4a9a07",
   "metadata": {},
   "outputs": [
    {
     "name": "stdout",
     "output_type": "stream",
     "text": [
      "Total Marks : [('Sahil', 150), ('Harman', 240), ('Riya', 95), ('Aman', 185)]\n",
      "Passed Student : [('Sahil', 150), ('Harman', 240), ('Aman', 185)]\n",
      "Cumulative Marks : 575\n"
     ]
    }
   ],
   "source": [
    "students = [\n",
    "    (\"Sahil\", [50, 40, 60]),\n",
    "    (\"Harman\", [80, 90, 70]),\n",
    "    (\"Riya\", [30, 25, 40]),\n",
    "    (\"Aman\", [70, 60, 55])\n",
    "]\n",
    "\n",
    "student_total = list(map(lambda a: (a[0], sum(a[1])) , students))\n",
    "print(f\"Total Marks : {student_total}\")\n",
    "passed_student = list(filter(lambda a: a[1] >= 150, student_total))\n",
    "print(f\"Passed Student : {passed_student}\")\n",
    "total_cumulative_marks = reduce(lambda acc, s:  acc + s[1] , passed_student, 0)\n",
    "print(f\"Cumulative Marks : {total_cumulative_marks}\")\n",
    "\n"
   ]
  }
 ],
 "metadata": {
  "kernelspec": {
   "display_name": "3.13.7",
   "language": "python",
   "name": "python3"
  },
  "language_info": {
   "codemirror_mode": {
    "name": "ipython",
    "version": 3
   },
   "file_extension": ".py",
   "mimetype": "text/x-python",
   "name": "python",
   "nbconvert_exporter": "python",
   "pygments_lexer": "ipython3",
   "version": "3.13.7"
  }
 },
 "nbformat": 4,
 "nbformat_minor": 5
}
