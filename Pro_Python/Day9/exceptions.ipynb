{
 "cells": [
  {
   "cell_type": "markdown",
   "id": "8473530c",
   "metadata": {},
   "source": []
  },
  {
   "cell_type": "code",
   "execution_count": 2,
   "id": "e8e4ef86",
   "metadata": {},
   "outputs": [
    {
     "name": "stdout",
     "output_type": "stream",
     "text": [
      "5\n"
     ]
    }
   ],
   "source": [
    "# number = 10\n",
    "# if number > 5:\n",
    "#     raise Exception(f\"The number should not exceed 5. ({number=})\")\n",
    "# print(number)\n",
    "\n",
    "number = 5\n",
    "assert (number <= 5), f\"Number should not exceed 7 you typed {number=}\"\n",
    "print(number)"
   ]
  },
  {
   "cell_type": "code",
   "execution_count": 3,
   "id": "ec5ea0cd",
   "metadata": {},
   "outputs": [
    {
     "ename": "ZeroDivisionError",
     "evalue": "division by zero",
     "output_type": "error",
     "traceback": [
      "\u001b[31m---------------------------------------------------------------------------\u001b[39m",
      "\u001b[31mZeroDivisionError\u001b[39m                         Traceback (most recent call last)",
      "\u001b[36mCell\u001b[39m\u001b[36m \u001b[39m\u001b[32mIn[3]\u001b[39m\u001b[32m, line 5\u001b[39m\n\u001b[32m      2\u001b[39m num = \u001b[32m10\u001b[39m\n\u001b[32m      3\u001b[39m den = \u001b[32m0\u001b[39m\n\u001b[32m----> \u001b[39m\u001b[32m5\u001b[39m \u001b[38;5;28mprint\u001b[39m(\u001b[43mnum\u001b[49m\u001b[43m \u001b[49m\u001b[43m/\u001b[49m\u001b[43m \u001b[49m\u001b[43mden\u001b[49m)\n",
      "\u001b[31mZeroDivisionError\u001b[39m: division by zero"
     ]
    }
   ],
   "source": [
    "# ZeroDivisionError: division by zero\n",
    "num = 10\n",
    "den = 0\n",
    "\n",
    "print(num / den)\n"
   ]
  },
  {
   "cell_type": "code",
   "execution_count": null,
   "id": "616fc310",
   "metadata": {},
   "outputs": [],
   "source": [
    "# Converting a non-numeric string to int\n",
    "val = int(\"abc\")\n",
    "print(val)"
   ]
  },
  {
   "cell_type": "code",
   "execution_count": null,
   "id": "996caa71",
   "metadata": {},
   "outputs": [],
   "source": [
    "numbers = [1, 2, 3]\n",
    "print(numbers[5])  # Out of range"
   ]
  },
  {
   "cell_type": "code",
   "execution_count": 26,
   "id": "0fedacb2",
   "metadata": {},
   "outputs": [
    {
     "name": "stdout",
     "output_type": "stream",
     "text": [
      "Division by Zero is not allowed\n"
     ]
    }
   ],
   "source": [
    "try:\n",
    "    num = 10/0\n",
    "except ZeroDivisionError:\n",
    "    print(\"Division by Zero is not allowed\")"
   ]
  },
  {
   "cell_type": "code",
   "execution_count": null,
   "id": "e95e57d2",
   "metadata": {},
   "outputs": [
    {
     "name": "stdout",
     "output_type": "stream",
     "text": [
      "You are Alive\n",
      "None\n"
     ]
    }
   ],
   "source": [
    "class NegativeAgeError(Exception):\n",
    "    pass\n",
    "\n",
    "def setAge(age):\n",
    "    if age < 0:\n",
    "        raise NegativeAgeError(\"You havn't born yet\")\n",
    "    else:\n",
    "        print(\"You are Alive\")\n",
    "        \n",
    "print(setAge(25))\n",
    "        "
   ]
  },
  {
   "cell_type": "code",
   "execution_count": null,
   "id": "b1dea891",
   "metadata": {},
   "outputs": [
    {
     "name": "stdout",
     "output_type": "stream",
     "text": [
      "File Read Succesfully\n",
      "Content: Hare Krishna Hare Krishna \n",
      "Krishna Krishna Hare Hare\n",
      "Hare Rama Hare Rama\n",
      "Rama Rama Hare Hare\n",
      "\n",
      "Closing file if open\n",
      "{'__name__': '__main__', '__doc__': 'Automatically created module for IPython interactive environment', '__package__': None, '__loader__': None, '__spec__': None, '__builtin__': <module 'builtins' (built-in)>, '__builtins__': <module 'builtins' (built-in)>, '_ih': ['', 'try:\\n    f = open(\"data.txt\", \"r\")\\n    content = f.read\\nexcept FileNotFoundError:\\n    print(\"File Not Found!\")\\nelse:\\n    print(\"File Read Succesfully\")\\nfinally:\\n    print(\"Clossing file if open\")\\n    if f in locals() and not f.closed:\\n        f.close()\\n\\nprint(content)', 'try:\\n    f = open(\"data.txt\", \"r\")\\n    content = f.read\\nexcept FileNotFoundError:\\n    print(\"File Not Found!\")\\nelse:\\n    print(\"File Read Succesfully\")\\nfinally:\\n    print(\"Closing file if open\")\\n    if f in locals() and not f.closed:\\n        f.close()\\n\\nprint(content)', 'try:\\n    f = open(\"data.txt\", \"r\")\\n    content = f.read\\nexcept FileNotFoundError:\\n    print(\"File Not Found!\")\\nelse:\\n    print(\"File Read Succesfully\")\\nfinally:\\n    print(\"Closing file if open\")\\n    if f in locals() and not f.closed:\\n        f.close()\\n\\nprint(content).__str__', 'try:\\n    f = open(\"data.txt\", \"r\")\\n    content = f.read\\nexcept FileNotFoundError:\\n    print(\"File Not Found!\")\\nelse:\\n    print(\"File Read Succesfully\")\\nfinally:\\n    print(\"Closing file if open\")\\n    if f in locals() and not f.closed:\\n        f.close()\\n\\nprint(b\"content\")', 'try:\\n    f = open(\"data.txt\", \"r\")\\n    content = f.read\\nexcept FileNotFoundError:\\n    print(\"File Not Found!\")\\nelse:\\n    print(\"File Read Succesfully\")\\nfinally:\\n    print(\"Closing file if open\")\\n    if f in locals() and not f.closed:\\n        f.close()\\n\\nprint(content)', 'try:\\n    f = open(\"data.txt\", \"r\")\\n    content = f.read\\nexcept FileNotFoundError:\\n    print(\"File Not Found!\")\\nelse:\\n    print(\"File Read Succesfully\")\\nfinally:\\n    print(\"Closing file if open\")\\n    if f in locals() and not f.closed:\\n        f.close()\\n\\nprint(content)', 'try:\\n    f = open(\"data.txt\", \"r\")\\n    content = f.read\\nexcept FileNotFoundError:\\n    print(\"File Not Found!\")\\nelse:\\n    print(\"File Read Succesfully\")\\nfinally:\\n    print(\"Closing file if open\")\\n    if f in locals() and not f.closed:\\n        f.close()\\n\\nprint(content)', 'try:\\n    f = open(\"data.txt\", \"r\")\\n    content = f.read\\nexcept FileNotFoundError:\\n    print(\"File Not Found!\")\\nelse:\\n    print(\"File Read Succesfully\")\\nfinally:\\n    print(\"Closing file if open\")\\n    if f in locals() and not f.closed:\\n        f.close()\\n\\nprint(content)', 'try:\\n    f = open(\"data.txt\", \"r\")\\n    content = f.read\\nexcept FileNotFoundError:\\n    print(\"File Not Found!\")\\nelse:\\n    print(\"File Read Succesfully\")\\n    print(f\"Content: {content}\")\\nfinally:\\n    print(\"Closing file if open\")\\n    if f in locals() and not f.closed:\\n        f.close()\\n\\nprint(content)', 'try:\\n    f = open(\"data.txt\", \"r\")\\n    content = f.read()\\nexcept FileNotFoundError:\\n    print(\"File Not Found!\")\\nelse:\\n    print(\"File Read Succesfully\")\\n    print(f\"Content: {content}\")\\nfinally:\\n    print(\"Closing file if open\")\\n    if f in locals() and not f.closed:\\n        f.close()\\n\\nprint(content)', 'try:\\n    f = open(\"data.txt\", \"r\")\\n    content = f.read()\\nexcept FileNotFoundError:\\n    print(\"File Not Found!\")\\nelse:\\n    print(\"File Read Succesfully\")\\n    print(f\"Content: {content}\")\\nfinally:\\n    print(\"Closing file if open\")\\n    if \\'f\\' in locals() and not f.closed:\\n        f.close()\\n\\nprint(content)', 'try:\\n    f = open(\"data.txt\", \"r\")\\n    content = f.read()\\nexcept FileNotFoundError:\\n    print(\"File Not Found!\")\\nelse:\\n    print(\"File Read Succesfully\")\\n    print(f\"Content: {content}\")\\nfinally:\\n    print(\"Closing file if open\")\\n    if \\'f\\' in locals() and not f.closed:\\n        f.close()\\n\\nprint(content)', 'content = None  # Initialize to avoid NameError\\n\\ntry:\\n    f = open(\"data.txt\", \"r\")\\n    content = f.read()  # Added parentheses\\nexcept FileNotFoundError:\\n    print(\"File Not Found!\")\\nelse:\\n    print(\"File Read Successfully\")  # Fixed typo\\n    print(f\"Content: {content}\")\\nfinally:\\n    print(\"Closing file if open\")\\n    if \\'f\\' in locals() and not f.closed:  # Fixed: \\'f\\' in quotes\\n        f.close()\\n\\n# This will only print if content was successfully read\\nif content is not None:\\n    print(content)\\nelse:\\n    print(\"No content to display\")', 'try:\\n    f = open(\"data.txt\", \"r\")\\n    content = f.read()\\nexcept FileNotFoundError:\\n    print(\"File Not Found!\")\\nelse:\\n    print(\"File Read Succesfully\")\\n    print(f\"Content: {content}\")\\nfinally:\\n    print(\"Closing file if open\")\\n    if \\'f\\' in locals() and not f.closed:\\n        f.close()\\n\\nprint(content)', 'try:\\n    f = open(\"data.txt\", \"r\")\\n    content = f.read()\\nexcept FileNotFoundError:\\n    print(\"File Not Found!\")\\nelse:\\n    print(\"File Read Succesfully\")\\n    print(f\"Content: {content}\")\\nfinally:\\n    print(\"Closing file if open\")\\n    if \\'f\\' in locals() and not f.closed:\\n        f.close()', 'try:\\n    f = open(\"data.txt\", \"r\")\\n    content = f.read()\\nexcept FileNotFoundError:\\n    print(\"File Not Found!\")\\nelse:\\n    print(\"File Read Succesfully\")\\n    print(f\"Content: {content}\", end=\"\\\\n\")\\nfinally:\\n    print(\"Closing file if open\")\\n    if \\'f\\' in locals() and not f.closed:\\n        f.close()', 'try:\\n    f = open(\"data.txt\", \"r\")\\n    content = f.read()\\nexcept FileNotFoundError:\\n    print(\"File Not Found!\")\\nelse:\\n    print(\"File Read Succesfully\")\\n    print(f\"Content: {content}\", end=\"\\\\n\")\\nfinally:\\n    print(\"Closing file if open\")\\n    if \\'f\\' in locals() and not f.closed:\\n        f.close()', 'try:\\n    f = open(\"data.txt\", \"r\")\\n    content = f.read()\\nexcept FileNotFoundError:\\n    print(\"File Not Found!\")\\nelse:\\n    print(\"File Read Succesfully\")\\n    print(f\"Content: {content}\", end=\"/n\")\\nfinally:\\n    print(\"Closing file if open\")\\n    if \\'f\\' in locals() and not f.closed:\\n        f.close()', 'try:\\n    f = open(\"data.txt\", \"r\")\\n    content = f.read()\\nexcept FileNotFoundError:\\n    print(\"File Not Found!\")\\nelse:\\n    print(\"File Read Succesfully\")\\n    print(f\"Content: {content}\", end=\"\\\\n\\\\n\")\\nfinally:\\n    print(\"Closing file if open\")\\n    if \\'f\\' in locals() and not f.closed:\\n        f.close()', 'def greet(name, age):\\n    message = f\"Hello, {name}! You are {age} years old.\"\\n    print(message)\\n    print(locals()) # This will show \\'name\\', \\'age\\', and \\'message\\' in the dictionary\\n\\ngreet(\"Alice\", 30)', 'try:\\n    f = open(\"data.txt\", \"r\")\\n    content = f.read()\\nexcept FileNotFoundError:\\n    print(\"File Not Found!\")\\nelse:\\n    print(\"File Read Succesfully\")\\n    print(f\"Content: {content}\", end=\"\\\\n\\\\n\")\\nfinally:\\n    print(\"Closing file if open\")\\n    if \\'f\\' in locals() and not f.closed:\\n        print(locals())\\n        f.close()', 'try:\\n    f = open(\"data.txt\", \"r\")\\n    content = f.read()\\nexcept FileNotFoundError:\\n    print(\"File Not Found!\")\\nelse:\\n    print(\"File Read Succesfully\")\\n    print(f\"Content: {content}\", end=\"\\\\n\\\\n\")\\nfinally:\\n    print(\"Closing file if open\")\\n    if \\'f\\' in locals() and not f.closed:\\n\\n        f.close()\\nprint(locals())   ', 'try:\\n    f = open(\"data.txt\", \"r\")\\n    content = f.read()\\nexcept FileNotFoundError:\\n    print(\"File Not Found!\")\\nelse:\\n    print(\"File Read Succesfully\")\\n    print(f\"Content: {content}\", end=\"\\\\n\\\\n\")\\nfinally:\\n    print(\"Closing file if open\")\\n    print(locals())\\n    if \\'f\\' in locals() and not f.closed:\\n\\n        f.close()', 'try:\\n    f = open(\"data.txt\", \"r\")\\n    content = f.read()\\nexcept FileNotFoundError:\\n    print(\"File Not Found!\")\\nelse:\\n    print(\"File Read Succesfully\")\\n    print(f\"Content: {content}\", end=\"\\\\n\\\\n\")\\nfinally:\\n    print(\"Closing file if open\")\\n\\n    if \\'f\\' in locals() and not f.closed:\\n\\n        f.close()', 'try:\\n    f = open(\"data.txt\", \"r\")\\n    content = f.read()\\nexcept FileNotFoundError:\\n    print(\"File Not Found!\")\\nelse:\\n    print(\"File Read Succesfully\")\\n    print(f\"Content: {content}\", end=\"\\\\n\\\\n\")\\nfinally:\\n    print(\"Closing file if open\")\\n    print(locals())\\n    if \\'f\\' in locals() and not f.closed:\\n\\n        f.close()', 'try:\\n    f = open(\"data.txt\", \"r\")\\n    content = f.read()\\nexcept FileNotFoundError:\\n    print(\"File Not Found!\")\\nelse:\\n    print(\"File Read Succesfully\")\\n    print(f\"Content: {content}\", end=\"\\\\n\\\\n\")\\nfinally:\\n    print(\"Closing file if open\")\\n    print(locals())\\n    if \\'f\\' in locals() and not f.closed:\\n\\n        f.close()', 'try:\\n    f = open(\"data.txt\", \"r\")\\n    content = f.read()\\nexcept FileNotFoundError:\\n    print(\"File Not Found!\")\\nelse:\\n    print(\"File Read Succesfully\")\\n    print(f\"Content: {content}\", end=\"\\\\n\\\\n\")\\nfinally:\\n    print(\"Closing file if open\")\\n    if \\'f\\' in locals() and not f.closed:\\n        print(locals(), sep=\"\\\\n\")\\n        f.close()', 'try:\\n    f = open(\"data.txt\", \"r\")\\n    content = f.read()\\nexcept FileNotFoundError:\\n    print(\"File Not Found!\")\\nelse:\\n    print(\"File Read Succesfully\")\\n    print(f\"Content: {content}\", end=\"\\\\n\\\\n\")\\nfinally:\\n    print(\"Closing file if open\")\\n    if \\'f\\' in locals() and not f.closed:\\n        print(locals(), sep=\"\\\\n\")\\n        f.close()'], '_oh': {3: <method-wrapper '__str__' of NoneType object at 0x78e0df52d800>}, '_dh': [PosixPath('/home/developer/Workspace_Projects/Pro_Python/Day9')], 'In': ['', 'try:\\n    f = open(\"data.txt\", \"r\")\\n    content = f.read\\nexcept FileNotFoundError:\\n    print(\"File Not Found!\")\\nelse:\\n    print(\"File Read Succesfully\")\\nfinally:\\n    print(\"Clossing file if open\")\\n    if f in locals() and not f.closed:\\n        f.close()\\n\\nprint(content)', 'try:\\n    f = open(\"data.txt\", \"r\")\\n    content = f.read\\nexcept FileNotFoundError:\\n    print(\"File Not Found!\")\\nelse:\\n    print(\"File Read Succesfully\")\\nfinally:\\n    print(\"Closing file if open\")\\n    if f in locals() and not f.closed:\\n        f.close()\\n\\nprint(content)', 'try:\\n    f = open(\"data.txt\", \"r\")\\n    content = f.read\\nexcept FileNotFoundError:\\n    print(\"File Not Found!\")\\nelse:\\n    print(\"File Read Succesfully\")\\nfinally:\\n    print(\"Closing file if open\")\\n    if f in locals() and not f.closed:\\n        f.close()\\n\\nprint(content).__str__', 'try:\\n    f = open(\"data.txt\", \"r\")\\n    content = f.read\\nexcept FileNotFoundError:\\n    print(\"File Not Found!\")\\nelse:\\n    print(\"File Read Succesfully\")\\nfinally:\\n    print(\"Closing file if open\")\\n    if f in locals() and not f.closed:\\n        f.close()\\n\\nprint(b\"content\")', 'try:\\n    f = open(\"data.txt\", \"r\")\\n    content = f.read\\nexcept FileNotFoundError:\\n    print(\"File Not Found!\")\\nelse:\\n    print(\"File Read Succesfully\")\\nfinally:\\n    print(\"Closing file if open\")\\n    if f in locals() and not f.closed:\\n        f.close()\\n\\nprint(content)', 'try:\\n    f = open(\"data.txt\", \"r\")\\n    content = f.read\\nexcept FileNotFoundError:\\n    print(\"File Not Found!\")\\nelse:\\n    print(\"File Read Succesfully\")\\nfinally:\\n    print(\"Closing file if open\")\\n    if f in locals() and not f.closed:\\n        f.close()\\n\\nprint(content)', 'try:\\n    f = open(\"data.txt\", \"r\")\\n    content = f.read\\nexcept FileNotFoundError:\\n    print(\"File Not Found!\")\\nelse:\\n    print(\"File Read Succesfully\")\\nfinally:\\n    print(\"Closing file if open\")\\n    if f in locals() and not f.closed:\\n        f.close()\\n\\nprint(content)', 'try:\\n    f = open(\"data.txt\", \"r\")\\n    content = f.read\\nexcept FileNotFoundError:\\n    print(\"File Not Found!\")\\nelse:\\n    print(\"File Read Succesfully\")\\nfinally:\\n    print(\"Closing file if open\")\\n    if f in locals() and not f.closed:\\n        f.close()\\n\\nprint(content)', 'try:\\n    f = open(\"data.txt\", \"r\")\\n    content = f.read\\nexcept FileNotFoundError:\\n    print(\"File Not Found!\")\\nelse:\\n    print(\"File Read Succesfully\")\\n    print(f\"Content: {content}\")\\nfinally:\\n    print(\"Closing file if open\")\\n    if f in locals() and not f.closed:\\n        f.close()\\n\\nprint(content)', 'try:\\n    f = open(\"data.txt\", \"r\")\\n    content = f.read()\\nexcept FileNotFoundError:\\n    print(\"File Not Found!\")\\nelse:\\n    print(\"File Read Succesfully\")\\n    print(f\"Content: {content}\")\\nfinally:\\n    print(\"Closing file if open\")\\n    if f in locals() and not f.closed:\\n        f.close()\\n\\nprint(content)', 'try:\\n    f = open(\"data.txt\", \"r\")\\n    content = f.read()\\nexcept FileNotFoundError:\\n    print(\"File Not Found!\")\\nelse:\\n    print(\"File Read Succesfully\")\\n    print(f\"Content: {content}\")\\nfinally:\\n    print(\"Closing file if open\")\\n    if \\'f\\' in locals() and not f.closed:\\n        f.close()\\n\\nprint(content)', 'try:\\n    f = open(\"data.txt\", \"r\")\\n    content = f.read()\\nexcept FileNotFoundError:\\n    print(\"File Not Found!\")\\nelse:\\n    print(\"File Read Succesfully\")\\n    print(f\"Content: {content}\")\\nfinally:\\n    print(\"Closing file if open\")\\n    if \\'f\\' in locals() and not f.closed:\\n        f.close()\\n\\nprint(content)', 'content = None  # Initialize to avoid NameError\\n\\ntry:\\n    f = open(\"data.txt\", \"r\")\\n    content = f.read()  # Added parentheses\\nexcept FileNotFoundError:\\n    print(\"File Not Found!\")\\nelse:\\n    print(\"File Read Successfully\")  # Fixed typo\\n    print(f\"Content: {content}\")\\nfinally:\\n    print(\"Closing file if open\")\\n    if \\'f\\' in locals() and not f.closed:  # Fixed: \\'f\\' in quotes\\n        f.close()\\n\\n# This will only print if content was successfully read\\nif content is not None:\\n    print(content)\\nelse:\\n    print(\"No content to display\")', 'try:\\n    f = open(\"data.txt\", \"r\")\\n    content = f.read()\\nexcept FileNotFoundError:\\n    print(\"File Not Found!\")\\nelse:\\n    print(\"File Read Succesfully\")\\n    print(f\"Content: {content}\")\\nfinally:\\n    print(\"Closing file if open\")\\n    if \\'f\\' in locals() and not f.closed:\\n        f.close()\\n\\nprint(content)', 'try:\\n    f = open(\"data.txt\", \"r\")\\n    content = f.read()\\nexcept FileNotFoundError:\\n    print(\"File Not Found!\")\\nelse:\\n    print(\"File Read Succesfully\")\\n    print(f\"Content: {content}\")\\nfinally:\\n    print(\"Closing file if open\")\\n    if \\'f\\' in locals() and not f.closed:\\n        f.close()', 'try:\\n    f = open(\"data.txt\", \"r\")\\n    content = f.read()\\nexcept FileNotFoundError:\\n    print(\"File Not Found!\")\\nelse:\\n    print(\"File Read Succesfully\")\\n    print(f\"Content: {content}\", end=\"\\\\n\")\\nfinally:\\n    print(\"Closing file if open\")\\n    if \\'f\\' in locals() and not f.closed:\\n        f.close()', 'try:\\n    f = open(\"data.txt\", \"r\")\\n    content = f.read()\\nexcept FileNotFoundError:\\n    print(\"File Not Found!\")\\nelse:\\n    print(\"File Read Succesfully\")\\n    print(f\"Content: {content}\", end=\"\\\\n\")\\nfinally:\\n    print(\"Closing file if open\")\\n    if \\'f\\' in locals() and not f.closed:\\n        f.close()', 'try:\\n    f = open(\"data.txt\", \"r\")\\n    content = f.read()\\nexcept FileNotFoundError:\\n    print(\"File Not Found!\")\\nelse:\\n    print(\"File Read Succesfully\")\\n    print(f\"Content: {content}\", end=\"/n\")\\nfinally:\\n    print(\"Closing file if open\")\\n    if \\'f\\' in locals() and not f.closed:\\n        f.close()', 'try:\\n    f = open(\"data.txt\", \"r\")\\n    content = f.read()\\nexcept FileNotFoundError:\\n    print(\"File Not Found!\")\\nelse:\\n    print(\"File Read Succesfully\")\\n    print(f\"Content: {content}\", end=\"\\\\n\\\\n\")\\nfinally:\\n    print(\"Closing file if open\")\\n    if \\'f\\' in locals() and not f.closed:\\n        f.close()', 'def greet(name, age):\\n    message = f\"Hello, {name}! You are {age} years old.\"\\n    print(message)\\n    print(locals()) # This will show \\'name\\', \\'age\\', and \\'message\\' in the dictionary\\n\\ngreet(\"Alice\", 30)', 'try:\\n    f = open(\"data.txt\", \"r\")\\n    content = f.read()\\nexcept FileNotFoundError:\\n    print(\"File Not Found!\")\\nelse:\\n    print(\"File Read Succesfully\")\\n    print(f\"Content: {content}\", end=\"\\\\n\\\\n\")\\nfinally:\\n    print(\"Closing file if open\")\\n    if \\'f\\' in locals() and not f.closed:\\n        print(locals())\\n        f.close()', 'try:\\n    f = open(\"data.txt\", \"r\")\\n    content = f.read()\\nexcept FileNotFoundError:\\n    print(\"File Not Found!\")\\nelse:\\n    print(\"File Read Succesfully\")\\n    print(f\"Content: {content}\", end=\"\\\\n\\\\n\")\\nfinally:\\n    print(\"Closing file if open\")\\n    if \\'f\\' in locals() and not f.closed:\\n\\n        f.close()\\nprint(locals())   ', 'try:\\n    f = open(\"data.txt\", \"r\")\\n    content = f.read()\\nexcept FileNotFoundError:\\n    print(\"File Not Found!\")\\nelse:\\n    print(\"File Read Succesfully\")\\n    print(f\"Content: {content}\", end=\"\\\\n\\\\n\")\\nfinally:\\n    print(\"Closing file if open\")\\n    print(locals())\\n    if \\'f\\' in locals() and not f.closed:\\n\\n        f.close()', 'try:\\n    f = open(\"data.txt\", \"r\")\\n    content = f.read()\\nexcept FileNotFoundError:\\n    print(\"File Not Found!\")\\nelse:\\n    print(\"File Read Succesfully\")\\n    print(f\"Content: {content}\", end=\"\\\\n\\\\n\")\\nfinally:\\n    print(\"Closing file if open\")\\n\\n    if \\'f\\' in locals() and not f.closed:\\n\\n        f.close()', 'try:\\n    f = open(\"data.txt\", \"r\")\\n    content = f.read()\\nexcept FileNotFoundError:\\n    print(\"File Not Found!\")\\nelse:\\n    print(\"File Read Succesfully\")\\n    print(f\"Content: {content}\", end=\"\\\\n\\\\n\")\\nfinally:\\n    print(\"Closing file if open\")\\n    print(locals())\\n    if \\'f\\' in locals() and not f.closed:\\n\\n        f.close()', 'try:\\n    f = open(\"data.txt\", \"r\")\\n    content = f.read()\\nexcept FileNotFoundError:\\n    print(\"File Not Found!\")\\nelse:\\n    print(\"File Read Succesfully\")\\n    print(f\"Content: {content}\", end=\"\\\\n\\\\n\")\\nfinally:\\n    print(\"Closing file if open\")\\n    print(locals())\\n    if \\'f\\' in locals() and not f.closed:\\n\\n        f.close()', 'try:\\n    f = open(\"data.txt\", \"r\")\\n    content = f.read()\\nexcept FileNotFoundError:\\n    print(\"File Not Found!\")\\nelse:\\n    print(\"File Read Succesfully\")\\n    print(f\"Content: {content}\", end=\"\\\\n\\\\n\")\\nfinally:\\n    print(\"Closing file if open\")\\n    if \\'f\\' in locals() and not f.closed:\\n        print(locals(), sep=\"\\\\n\")\\n        f.close()', 'try:\\n    f = open(\"data.txt\", \"r\")\\n    content = f.read()\\nexcept FileNotFoundError:\\n    print(\"File Not Found!\")\\nelse:\\n    print(\"File Read Succesfully\")\\n    print(f\"Content: {content}\", end=\"\\\\n\\\\n\")\\nfinally:\\n    print(\"Closing file if open\")\\n    if \\'f\\' in locals() and not f.closed:\\n        print(locals(), sep=\"\\\\n\")\\n        f.close()'], 'Out': {3: <method-wrapper '__str__' of NoneType object at 0x78e0df52d800>}, 'get_ipython': <bound method InteractiveShell.get_ipython of <ipykernel.zmqshell.ZMQInteractiveShell object at 0x78e0d84faba0>>, 'exit': <IPython.core.autocall.ZMQExitAutocall object at 0x78e0d8399fd0>, 'quit': <IPython.core.autocall.ZMQExitAutocall object at 0x78e0d8399fd0>, 'open': <function open at 0x78e0dbeceb60>, '_': <method-wrapper '__str__' of NoneType object at 0x78e0df52d800>, '__': '', '___': '', '__vsc_ipynb_file__': '/home/developer/Workspace_Projects/Pro_Python/Day9/exceptions.ipynb', '_i': 'try:\\n    f = open(\"data.txt\", \"r\")\\n    content = f.read()\\nexcept FileNotFoundError:\\n    print(\"File Not Found!\")\\nelse:\\n    print(\"File Read Succesfully\")\\n    print(f\"Content: {content}\", end=\"\\\\n\\\\n\")\\nfinally:\\n    print(\"Closing file if open\")\\n    if \\'f\\' in locals() and not f.closed:\\n        print(locals(), sep=\"\\\\n\")\\n        f.close()\\n        ', '_ii': 'try:\\n    f = open(\"data.txt\", \"r\")\\n    content = f.read()\\nexcept FileNotFoundError:\\n    print(\"File Not Found!\")\\nelse:\\n    print(\"File Read Succesfully\")\\n    print(f\"Content: {content}\", end=\"\\\\n\\\\n\")\\nfinally:\\n    print(\"Closing file if open\")\\n    print(locals())\\n    if \\'f\\' in locals() and not f.closed:\\n        \\n        f.close()\\n        ', '_iii': 'try:\\n    f = open(\"data.txt\", \"r\")\\n    content = f.read()\\nexcept FileNotFoundError:\\n    print(\"File Not Found!\")\\nelse:\\n    print(\"File Read Succesfully\")\\n    print(f\"Content: {content}\", end=\"\\\\n\\\\n\")\\nfinally:\\n    print(\"Closing file if open\")\\n    print(locals())\\n    if \\'f\\' in locals() and not f.closed:\\n        \\n        f.close()\\n        ', '_i1': 'try:\\n    f = open(\"data.txt\", \"r\")\\n    content = f.read\\nexcept FileNotFoundError:\\n    print(\"File Not Found!\")\\nelse:\\n    print(\"File Read Succesfully\")\\nfinally:\\n    print(\"Clossing file if open\")\\n    if f in locals() and not f.closed:\\n        f.close()\\n        \\nprint(content)', 'f': <_io.TextIOWrapper name='data.txt' mode='r' encoding='UTF-8'>, 'content': 'Hare Krishna Hare Krishna \\nKrishna Krishna Hare Hare\\nHare Rama Hare Rama\\nRama Rama Hare Hare', '_i2': 'try:\\n    f = open(\"data.txt\", \"r\")\\n    content = f.read\\nexcept FileNotFoundError:\\n    print(\"File Not Found!\")\\nelse:\\n    print(\"File Read Succesfully\")\\nfinally:\\n    print(\"Closing file if open\")\\n    if f in locals() and not f.closed:\\n        f.close()\\n        \\nprint(content)', '_i3': 'try:\\n    f = open(\"data.txt\", \"r\")\\n    content = f.read\\nexcept FileNotFoundError:\\n    print(\"File Not Found!\")\\nelse:\\n    print(\"File Read Succesfully\")\\nfinally:\\n    print(\"Closing file if open\")\\n    if f in locals() and not f.closed:\\n        f.close()\\n        \\nprint(content).__str__', '_3': <method-wrapper '__str__' of NoneType object at 0x78e0df52d800>, '_i4': 'try:\\n    f = open(\"data.txt\", \"r\")\\n    content = f.read\\nexcept FileNotFoundError:\\n    print(\"File Not Found!\")\\nelse:\\n    print(\"File Read Succesfully\")\\nfinally:\\n    print(\"Closing file if open\")\\n    if f in locals() and not f.closed:\\n        f.close()\\n        \\nprint(b\"content\")', '_i5': 'try:\\n    f = open(\"data.txt\", \"r\")\\n    content = f.read\\nexcept FileNotFoundError:\\n    print(\"File Not Found!\")\\nelse:\\n    print(\"File Read Succesfully\")\\nfinally:\\n    print(\"Closing file if open\")\\n    if f in locals() and not f.closed:\\n        f.close()\\n        \\nprint(content)', '_i6': 'try:\\n    f = open(\"data.txt\", \"r\")\\n    content = f.read\\nexcept FileNotFoundError:\\n    print(\"File Not Found!\")\\nelse:\\n    print(\"File Read Succesfully\")\\nfinally:\\n    print(\"Closing file if open\")\\n    if f in locals() and not f.closed:\\n        f.close()\\n        \\nprint(content)', '_i7': 'try:\\n    f = open(\"data.txt\", \"r\")\\n    content = f.read\\nexcept FileNotFoundError:\\n    print(\"File Not Found!\")\\nelse:\\n    print(\"File Read Succesfully\")\\nfinally:\\n    print(\"Closing file if open\")\\n    if f in locals() and not f.closed:\\n        f.close()\\n        \\nprint(content)', '_i8': 'try:\\n    f = open(\"data.txt\", \"r\")\\n    content = f.read\\nexcept FileNotFoundError:\\n    print(\"File Not Found!\")\\nelse:\\n    print(\"File Read Succesfully\")\\nfinally:\\n    print(\"Closing file if open\")\\n    if f in locals() and not f.closed:\\n        f.close()\\n        \\nprint(content)', '_i9': 'try:\\n    f = open(\"data.txt\", \"r\")\\n    content = f.read\\nexcept FileNotFoundError:\\n    print(\"File Not Found!\")\\nelse:\\n    print(\"File Read Succesfully\")\\n    print(f\"Content: {content}\")\\nfinally:\\n    print(\"Closing file if open\")\\n    if f in locals() and not f.closed:\\n        f.close()\\n        \\nprint(content)', '_i10': 'try:\\n    f = open(\"data.txt\", \"r\")\\n    content = f.read()\\nexcept FileNotFoundError:\\n    print(\"File Not Found!\")\\nelse:\\n    print(\"File Read Succesfully\")\\n    print(f\"Content: {content}\")\\nfinally:\\n    print(\"Closing file if open\")\\n    if f in locals() and not f.closed:\\n        f.close()\\n        \\nprint(content)', '_i11': 'try:\\n    f = open(\"data.txt\", \"r\")\\n    content = f.read()\\nexcept FileNotFoundError:\\n    print(\"File Not Found!\")\\nelse:\\n    print(\"File Read Succesfully\")\\n    print(f\"Content: {content}\")\\nfinally:\\n    print(\"Closing file if open\")\\n    if \\'f\\' in locals() and not f.closed:\\n        f.close()\\n        \\nprint(content)', '_i12': 'try:\\n    f = open(\"data.txt\", \"r\")\\n    content = f.read()\\nexcept FileNotFoundError:\\n    print(\"File Not Found!\")\\nelse:\\n    print(\"File Read Succesfully\")\\n    print(f\"Content: {content}\")\\nfinally:\\n    print(\"Closing file if open\")\\n    if \\'f\\' in locals() and not f.closed:\\n        f.close()\\n        \\nprint(content)', '_i13': 'content = None  # Initialize to avoid NameError\\n\\ntry:\\n    f = open(\"data.txt\", \"r\")\\n    content = f.read()  # Added parentheses\\nexcept FileNotFoundError:\\n    print(\"File Not Found!\")\\nelse:\\n    print(\"File Read Successfully\")  # Fixed typo\\n    print(f\"Content: {content}\")\\nfinally:\\n    print(\"Closing file if open\")\\n    if \\'f\\' in locals() and not f.closed:  # Fixed: \\'f\\' in quotes\\n        f.close()\\n\\n# This will only print if content was successfully read\\nif content is not None:\\n    print(content)\\nelse:\\n    print(\"No content to display\")', '_i14': 'try:\\n    f = open(\"data.txt\", \"r\")\\n    content = f.read()\\nexcept FileNotFoundError:\\n    print(\"File Not Found!\")\\nelse:\\n    print(\"File Read Succesfully\")\\n    print(f\"Content: {content}\")\\nfinally:\\n    print(\"Closing file if open\")\\n    if \\'f\\' in locals() and not f.closed:\\n        f.close()\\n        \\nprint(content)', '_i15': 'try:\\n    f = open(\"data.txt\", \"r\")\\n    content = f.read()\\nexcept FileNotFoundError:\\n    print(\"File Not Found!\")\\nelse:\\n    print(\"File Read Succesfully\")\\n    print(f\"Content: {content}\")\\nfinally:\\n    print(\"Closing file if open\")\\n    if \\'f\\' in locals() and not f.closed:\\n        f.close()\\n        ', '_i16': 'try:\\n    f = open(\"data.txt\", \"r\")\\n    content = f.read()\\nexcept FileNotFoundError:\\n    print(\"File Not Found!\")\\nelse:\\n    print(\"File Read Succesfully\")\\n    print(f\"Content: {content}\", end=\"\\\\n\")\\nfinally:\\n    print(\"Closing file if open\")\\n    if \\'f\\' in locals() and not f.closed:\\n        f.close()\\n        ', '_i17': 'try:\\n    f = open(\"data.txt\", \"r\")\\n    content = f.read()\\nexcept FileNotFoundError:\\n    print(\"File Not Found!\")\\nelse:\\n    print(\"File Read Succesfully\")\\n    print(f\"Content: {content}\", end=\"\\\\n\")\\nfinally:\\n    print(\"Closing file if open\")\\n    if \\'f\\' in locals() and not f.closed:\\n        f.close()\\n        ', '_i18': 'try:\\n    f = open(\"data.txt\", \"r\")\\n    content = f.read()\\nexcept FileNotFoundError:\\n    print(\"File Not Found!\")\\nelse:\\n    print(\"File Read Succesfully\")\\n    print(f\"Content: {content}\", end=\"/n\")\\nfinally:\\n    print(\"Closing file if open\")\\n    if \\'f\\' in locals() and not f.closed:\\n        f.close()\\n        ', '_i19': 'try:\\n    f = open(\"data.txt\", \"r\")\\n    content = f.read()\\nexcept FileNotFoundError:\\n    print(\"File Not Found!\")\\nelse:\\n    print(\"File Read Succesfully\")\\n    print(f\"Content: {content}\", end=\"\\\\n\\\\n\")\\nfinally:\\n    print(\"Closing file if open\")\\n    if \\'f\\' in locals() and not f.closed:\\n        f.close()\\n        ', '_i20': 'def greet(name, age):\\n    message = f\"Hello, {name}! You are {age} years old.\"\\n    print(message)\\n    print(locals()) # This will show \\'name\\', \\'age\\', and \\'message\\' in the dictionary\\n\\ngreet(\"Alice\", 30)', 'greet': <function greet at 0x78e0d831b060>, '_i21': 'try:\\n    f = open(\"data.txt\", \"r\")\\n    content = f.read()\\nexcept FileNotFoundError:\\n    print(\"File Not Found!\")\\nelse:\\n    print(\"File Read Succesfully\")\\n    print(f\"Content: {content}\", end=\"\\\\n\\\\n\")\\nfinally:\\n    print(\"Closing file if open\")\\n    if \\'f\\' in locals() and not f.closed:\\n        print(locals())\\n        f.close()\\n        ', '_i22': 'try:\\n    f = open(\"data.txt\", \"r\")\\n    content = f.read()\\nexcept FileNotFoundError:\\n    print(\"File Not Found!\")\\nelse:\\n    print(\"File Read Succesfully\")\\n    print(f\"Content: {content}\", end=\"\\\\n\\\\n\")\\nfinally:\\n    print(\"Closing file if open\")\\n    if \\'f\\' in locals() and not f.closed:\\n     \\n        f.close()\\nprint(locals())   ', '_i23': 'try:\\n    f = open(\"data.txt\", \"r\")\\n    content = f.read()\\nexcept FileNotFoundError:\\n    print(\"File Not Found!\")\\nelse:\\n    print(\"File Read Succesfully\")\\n    print(f\"Content: {content}\", end=\"\\\\n\\\\n\")\\nfinally:\\n    print(\"Closing file if open\")\\n    print(locals())\\n    if \\'f\\' in locals() and not f.closed:\\n        \\n        f.close()\\n        ', '_i24': 'try:\\n    f = open(\"data.txt\", \"r\")\\n    content = f.read()\\nexcept FileNotFoundError:\\n    print(\"File Not Found!\")\\nelse:\\n    print(\"File Read Succesfully\")\\n    print(f\"Content: {content}\", end=\"\\\\n\\\\n\")\\nfinally:\\n    print(\"Closing file if open\")\\n\\n    if \\'f\\' in locals() and not f.closed:\\n        \\n        f.close()\\n        ', '_i25': 'try:\\n    f = open(\"data.txt\", \"r\")\\n    content = f.read()\\nexcept FileNotFoundError:\\n    print(\"File Not Found!\")\\nelse:\\n    print(\"File Read Succesfully\")\\n    print(f\"Content: {content}\", end=\"\\\\n\\\\n\")\\nfinally:\\n    print(\"Closing file if open\")\\n    print(locals())\\n    if \\'f\\' in locals() and not f.closed:\\n        \\n        f.close()\\n        ', '_i26': 'try:\\n    f = open(\"data.txt\", \"r\")\\n    content = f.read()\\nexcept FileNotFoundError:\\n    print(\"File Not Found!\")\\nelse:\\n    print(\"File Read Succesfully\")\\n    print(f\"Content: {content}\", end=\"\\\\n\\\\n\")\\nfinally:\\n    print(\"Closing file if open\")\\n    print(locals())\\n    if \\'f\\' in locals() and not f.closed:\\n        \\n        f.close()\\n        ', '_i27': 'try:\\n    f = open(\"data.txt\", \"r\")\\n    content = f.read()\\nexcept FileNotFoundError:\\n    print(\"File Not Found!\")\\nelse:\\n    print(\"File Read Succesfully\")\\n    print(f\"Content: {content}\", end=\"\\\\n\\\\n\")\\nfinally:\\n    print(\"Closing file if open\")\\n    if \\'f\\' in locals() and not f.closed:\\n        print(locals(), sep=\"\\\\n\")\\n        f.close()\\n        ', '_i28': 'try:\\n    f = open(\"data.txt\", \"r\")\\n    content = f.read()\\nexcept FileNotFoundError:\\n    print(\"File Not Found!\")\\nelse:\\n    print(\"File Read Succesfully\")\\n    print(f\"Content: {content}\", end=\"\\\\n\\\\n\")\\nfinally:\\n    print(\"Closing file if open\")\\n    if \\'f\\' in locals() and not f.closed:\\n        print(locals(), sep=\"\\\\n\")\\n        f.close()\\n        '}\n"
     ]
    }
   ],
   "source": [
    "try:\n",
    "    f = open(\"data.txt\", \"r\")\n",
    "    content = f.read()\n",
    "except FileNotFoundError:\n",
    "    print(\"File Not Found!\")\n",
    "else:\n",
    "    print(\"File Read Succesfully\")\n",
    "    print(f\"Content: {content}\", end=\"\\n\\n\")\n",
    "finally:\n",
    "    print(\"Closing file if open\")\n",
    "    if 'f' in locals() and not f.closed:\n",
    "        print(locals())\n",
    "        f.close()\n",
    "        "
   ]
  },
  {
   "cell_type": "code",
   "execution_count": null,
   "id": "81692265",
   "metadata": {},
   "outputs": [
    {
     "name": "stdout",
     "output_type": "stream",
     "text": [
      "Hello, Alice! You are 30 years old.\n",
      "{'name': 'Alice', 'age': 30, 'message': 'Hello, Alice! You are 30 years old.'}\n"
     ]
    }
   ],
   "source": [
    "def greet(name, age):\n",
    "    message = f\"Hello, {name}! You are {age} years old.\"\n",
    "    print(message)\n",
    "    print(locals()) \n",
    "\n",
    "greet(\"Alice\", 30)"
   ]
  },
  {
   "cell_type": "markdown",
   "id": "8c540da7",
   "metadata": {},
   "source": [
    "- raise allows you to raise an exception at any time.\n",
    "\n",
    "- assert enables you to verify if a certain condition is met and raises an exception if it isn’t.\n",
    "\n",
    "- In the try clause, all statements are executed until an exception is encountered.\n",
    "\n",
    "- except allows you to catch and handle the exception or exceptions that Python encountered in the try clause.\n",
    "\n",
    "- else lets you code sections that should run only when Python encounters no exceptions in the try clause.\n",
    "\n",
    "- finally enables you to execute sections of code that should always run, whether or not Python encountered any exceptions."
   ]
  },
  {
   "cell_type": "markdown",
   "id": "c87e57ac",
   "metadata": {},
   "source": []
  },
  {
   "cell_type": "markdown",
   "id": "26722ee0",
   "metadata": {},
   "source": [
    "The context manager must implement two special methods:\n",
    "\n",
    "`__enter__`() → executed at the start (acquires resource).\n",
    "\n",
    "`__exit__`() → executed at the end (releases resource)."
   ]
  },
  {
   "cell_type": "code",
   "execution_count": 3,
   "id": "d5c3f8d6",
   "metadata": {},
   "outputs": [
    {
     "name": "stdout",
     "output_type": "stream",
     "text": [
      "Resource acquired\n",
      "Processing resource\n",
      "Resource released\n"
     ]
    }
   ],
   "source": [
    "class MyResource:\n",
    "    def __enter__(self):\n",
    "        print(\"Resource acquired\")\n",
    "        return self\n",
    "\n",
    "    def __exit__(self, exc_type, exc_val, exc_tb):\n",
    "        print(\"Resource released\")\n",
    "\n",
    "    def process(self):\n",
    "        print(\"Processing resource\")\n",
    "\n",
    "with MyResource() as r:\n",
    "    r.process()\n"
   ]
  }
 ],
 "metadata": {
  "kernelspec": {
   "display_name": "3.13.7",
   "language": "python",
   "name": "python3"
  },
  "language_info": {
   "codemirror_mode": {
    "name": "ipython",
    "version": 3
   },
   "file_extension": ".py",
   "mimetype": "text/x-python",
   "name": "python",
   "nbconvert_exporter": "python",
   "pygments_lexer": "ipython3",
   "version": "3.13.7"
  }
 },
 "nbformat": 4,
 "nbformat_minor": 5
}
