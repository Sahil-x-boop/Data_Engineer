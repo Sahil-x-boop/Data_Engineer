{
 "cells": [
  {
   "cell_type": "code",
   "execution_count": 18,
   "id": "acb02e88",
   "metadata": {},
   "outputs": [],
   "source": [
    "from functools import reduce\n"
   ]
  },
  {
   "cell_type": "markdown",
   "id": "c041129a",
   "metadata": {},
   "source": [
    "1. Use map to split into words and convert them to lowercase.\n",
    "\n",
    "2. Use filter to keep only words with length > 3.\n",
    "\n",
    "3. Use reduce to count total characters in those words."
   ]
  },
  {
   "cell_type": "code",
   "execution_count": 28,
   "id": "f77fc5df",
   "metadata": {},
   "outputs": [
    {
     "name": "stdout",
     "output_type": "stream",
     "text": [
      "['python', 'is', 'powerful', 'and', 'great', 'for', 'data', 'science', 'and', 'artificial', 'intelligence']\n",
      "['python', 'powerful', 'great', 'data', 'science', 'artificial', 'intelligence']\n",
      "52\n"
     ]
    }
   ],
   "source": [
    "\n",
    "text = \"Python is powerful and great for Data Science and Artificial Intelligence\"\n",
    "usable_text = list(map(lambda word: word.lower(), text.split()))\n",
    "print(usable_text)\n",
    "filtered_words = list(filter(lambda word: len(word) > 3, usable_text))\n",
    "print(filtered_words)\n",
    "char_count = reduce(lambda acc, s: acc + len(s), filtered_words, 0)\n",
    "print(char_count)\n"
   ]
  }
 ],
 "metadata": {
  "kernelspec": {
   "display_name": "3.13.7",
   "language": "python",
   "name": "python3"
  },
  "language_info": {
   "codemirror_mode": {
    "name": "ipython",
    "version": 3
   },
   "file_extension": ".py",
   "mimetype": "text/x-python",
   "name": "python",
   "nbconvert_exporter": "python",
   "pygments_lexer": "ipython3",
   "version": "3.13.7"
  }
 },
 "nbformat": 4,
 "nbformat_minor": 5
}
