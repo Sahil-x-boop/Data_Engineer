{
 "cells": [
  {
   "cell_type": "markdown",
   "id": "21b89516",
   "metadata": {},
   "source": [
    "lambda <params>: <expression> \n",
    "\n",
    "- Anonymous (no meaningful name; .__name__ == \"\\<lambda\\>\").\n",
    "\n",
    "- Body must be a single expression (no statements, no multi-line body).\n",
    "\n",
    "- Returns the value of that expression automatically.\n",
    "\n",
    "- Produces a normal function object (same type as functions created with def)\n",
    "\n",
    "- Quick transformations — avoids creating a named function when it’s only used in one place."
   ]
  },
  {
   "cell_type": "code",
   "execution_count": 10,
   "id": "fcb711a1",
   "metadata": {},
   "outputs": [
    {
     "name": "stdout",
     "output_type": "stream",
     "text": [
      "Positive\n",
      "Negative\n",
      "Zero\n"
     ]
    }
   ],
   "source": [
    "sign = lambda x: \"Positive\" if x > 0 else (\"Negative\" if x < 0 else \"Zero\")\n",
    "\n",
    "print(sign(10), sign(-20), sign(0), sep=\"\\n\")"
   ]
  },
  {
   "cell_type": "code",
   "execution_count": null,
   "id": "981c62c1",
   "metadata": {},
   "outputs": [
    {
     "name": "stdout",
     "output_type": "stream",
     "text": [
      "[{'name': 'Sahil', 'salary': 75000}, {'name': 'Harman', 'salary': 90000}, {'name': 'Anya', 'salary': 99000}]\n"
     ]
    }
   ],
   "source": [
    "# from operator import itemgetter, attrgetter\n",
    "employees = [\n",
    "    {\"name\": \"Harman\", \"salary\": 90000},\n",
    "    {\"name\": \"Sahil\", \"salary\": 75000},\n",
    "    {\"name\": \"Anya\", \"salary\": 99000},\n",
    "]\n",
    "\n",
    "sorted_by_salary = sorted(employees, key=lambda e: e[\"salary\"])\n",
    "print(sorted_by_salary)"
   ]
  },
  {
   "cell_type": "code",
   "execution_count": null,
   "id": "e59c1861",
   "metadata": {},
   "outputs": [],
   "source": []
  },
  {
   "cell_type": "markdown",
   "id": "73ea36a6",
   "metadata": {},
   "source": [
    "\n",
    "\n",
    "*lambdas cannot be pickled by default (because they are anonymous and not importable by name) — if you need to send a function across processes you must use a top-level function defined with def*\n"
   ]
  },
  {
   "cell_type": "markdown",
   "id": "520bc884",
   "metadata": {},
   "source": []
  }
 ],
 "metadata": {
  "kernelspec": {
   "display_name": "venv",
   "language": "python",
   "name": "python3"
  },
  "language_info": {
   "codemirror_mode": {
    "name": "ipython",
    "version": 3
   },
   "file_extension": ".py",
   "mimetype": "text/x-python",
   "name": "python",
   "nbconvert_exporter": "python",
   "pygments_lexer": "ipython3",
   "version": "3.13.7"
  }
 },
 "nbformat": 4,
 "nbformat_minor": 5
}
