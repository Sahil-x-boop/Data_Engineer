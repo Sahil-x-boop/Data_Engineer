{
 "cells": [
  {
   "cell_type": "code",
   "execution_count": null,
   "id": "34fa1e80",
   "metadata": {},
   "outputs": [
    {
     "name": "stdout",
     "output_type": "stream",
     "text": [
      "[2, 4, 6]\n"
     ]
    }
   ],
   "source": [
    "numbers = [1, 2, 3, 4, 5, 6, 7]\n",
    "\n",
    "\n",
    "result = list(filter(lambda x: x % 2 == 0, numbers))\n",
    "\n",
    "print(result)"
   ]
  },
  {
   "cell_type": "code",
   "execution_count": null,
   "id": "41c175ef",
   "metadata": {},
   "outputs": [
    {
     "name": "stdout",
     "output_type": "stream",
     "text": [
      "['Python', 'OOP', 'AI']\n"
     ]
    }
   ],
   "source": [
    "\n",
    "\n",
    "words = [\"Python\", \"\", \"OOP\", \"\", \"AI\"]\n",
    "\n",
    "cleaned = list(filter(None, words))  # None means \"filter truthy values\"\n",
    "print(cleaned)\n"
   ]
  },
  {
   "cell_type": "code",
   "execution_count": 10,
   "id": "edf7a067",
   "metadata": {},
   "outputs": [
    {
     "name": "stdout",
     "output_type": "stream",
     "text": [
      "[('Harman', 82), ('Aman', 65)]\n"
     ]
    }
   ],
   "source": [
    "students = [(\"Sahil\", 45), (\"Harman\", 82), (\"Anshika\", 30), (\"Aman\", 65)]\n",
    "\n",
    "hardworker = list(filter(lambda x: x[1] > 50, students))\n",
    "\n",
    "print(hardworker)\n"
   ]
  },
  {
   "cell_type": "code",
   "execution_count": 12,
   "id": "3fceb6fb",
   "metadata": {},
   "outputs": [
    {
     "name": "stdout",
     "output_type": "stream",
     "text": [
      "['user1@gmail.com', 'info@gmail.com']\n"
     ]
    }
   ],
   "source": [
    "emails = [\"user1@gmail.com\", \"admin@yahoo.com\", \"dev@outlook.com\", \"info@gmail.com\"]\n",
    "\n",
    "gmail_user = list(filter(lambda e: e.endswith(\"@gmail.com\"), emails))\n",
    "\n",
    "print(gmail_user)"
   ]
  }
 ],
 "metadata": {
  "kernelspec": {
   "display_name": "3.13.7",
   "language": "python",
   "name": "python3"
  },
  "language_info": {
   "codemirror_mode": {
    "name": "ipython",
    "version": 3
   },
   "file_extension": ".py",
   "mimetype": "text/x-python",
   "name": "python",
   "nbconvert_exporter": "python",
   "pygments_lexer": "ipython3",
   "version": "3.13.7"
  }
 },
 "nbformat": 4,
 "nbformat_minor": 5
}
