{
 "cells": [
  {
   "cell_type": "code",
   "execution_count": 1,
   "id": "8a444e02",
   "metadata": {},
   "outputs": [
    {
     "name": "stdout",
     "output_type": "stream",
     "text": [
      "Car drifting...\n",
      "Bike drifting...\n"
     ]
    }
   ],
   "source": [
    "class Car:\n",
    "    def drift(self):\n",
    "        return (f\"{self.__class__.__name__} drifting...\")\n",
    "\n",
    "\n",
    "class Bike:\n",
    "    def drift(self):\n",
    "        return (f\"{self.__class__.__name__} drifting...\")\n",
    "    \n",
    "    \n",
    "def start_drifting(vehicle):\n",
    "    return vehicle.drift()\n",
    "\n",
    "lamborghini = Car()\n",
    "ktm = Bike()\n",
    "print(start_drifting(lamborghini))\n",
    "print(start_drifting(ktm))\n"
   ]
  }
 ],
 "metadata": {
  "kernelspec": {
   "display_name": "venv",
   "language": "python",
   "name": "python3"
  },
  "language_info": {
   "codemirror_mode": {
    "name": "ipython",
    "version": 3
   },
   "file_extension": ".py",
   "mimetype": "text/x-python",
   "name": "python",
   "nbconvert_exporter": "python",
   "pygments_lexer": "ipython3",
   "version": "3.13.7"
  }
 },
 "nbformat": 4,
 "nbformat_minor": 5
}
