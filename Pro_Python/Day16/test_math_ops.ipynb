{
 "cells": [
  {
   "cell_type": "code",
   "execution_count": 3,
   "id": "ade67600",
   "metadata": {},
   "outputs": [],
   "source": [
    "\n",
    "from math_ops import add, divide\n",
    "\n",
    "\n",
    "def test_add_basic():\n",
    "    assert add(2, 5) == 7\n",
    "\n",
    "\n",
    "def test_divide_basic():\n",
    "    assert divide(5, 2) == 2.5\n"
   ]
  },
  {
   "cell_type": "markdown",
   "id": "afbf4b66",
   "metadata": {},
   "source": [
    "##### Assertions \n",
    "\n",
    "Pytest uses assertion rewriting: when you write assert a == b, pytest rewrites bytecode so if it fails it prints the values of a and b and their representation — very readable failure messages.\n",
    "\n",
    "Common assert forms:\n",
    "```\n",
    "assert x == y\n",
    "assert x in container\n",
    "assert isinstance(obj, MyClass)\n",
    "assert value is None\n",
    "assert abs(a - b) < 1e-6   \n",
    "\n",
    "```"
   ]
  },
  {
   "cell_type": "markdown",
   "id": "35529ced",
   "metadata": {},
   "source": []
  }
 ],
 "metadata": {
  "kernelspec": {
   "display_name": "venv",
   "language": "python",
   "name": "python3"
  },
  "language_info": {
   "codemirror_mode": {
    "name": "ipython",
    "version": 3
   },
   "file_extension": ".py",
   "mimetype": "text/x-python",
   "name": "python",
   "nbconvert_exporter": "python",
   "pygments_lexer": "ipython3",
   "version": "3.13.7"
  }
 },
 "nbformat": 4,
 "nbformat_minor": 5
}
