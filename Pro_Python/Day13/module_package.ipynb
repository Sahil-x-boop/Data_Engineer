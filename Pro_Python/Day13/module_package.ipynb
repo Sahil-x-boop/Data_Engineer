{
 "cells": [
  {
   "cell_type": "markdown",
   "id": "227c99a5",
   "metadata": {},
   "source": [
    "When you import mypackage, Python:\n",
    "\n",
    "- Looks in sys.path for a directory named mypackage.\n",
    "\n",
    "- Finds it, runs mypackage/__init__.py (only once).\n",
    "\n",
    "- Creates a module object for mypackage and stores it in sys.modules.\n",
    "\n",
    "- Makes available only the names you imported inside __init__.py."
   ]
  },
  {
   "cell_type": "code",
   "execution_count": 6,
   "id": "5bd31824",
   "metadata": {},
   "outputs": [
    {
     "name": "stdout",
     "output_type": "stream",
     "text": [
      "Requirement already satisfied: numpy in /home/developer/Workspace_Projects/Pro_Python/venv/lib/python3.13/site-packages (2.3.3)\n",
      "Note: you may need to restart the kernel to use updated packages.\n",
      "Requirement already satisfied: pandas in /home/developer/Workspace_Projects/Pro_Python/venv/lib/python3.13/site-packages (2.3.2)\n",
      "Requirement already satisfied: numpy>=1.26.0 in /home/developer/Workspace_Projects/Pro_Python/venv/lib/python3.13/site-packages (from pandas) (2.3.3)\n",
      "Requirement already satisfied: python-dateutil>=2.8.2 in /home/developer/Workspace_Projects/Pro_Python/venv/lib/python3.13/site-packages (from pandas) (2.9.0.post0)\n",
      "Requirement already satisfied: pytz>=2020.1 in /home/developer/Workspace_Projects/Pro_Python/venv/lib/python3.13/site-packages (from pandas) (2025.2)\n",
      "Requirement already satisfied: tzdata>=2022.7 in /home/developer/Workspace_Projects/Pro_Python/venv/lib/python3.13/site-packages (from pandas) (2025.2)\n",
      "Requirement already satisfied: six>=1.5 in /home/developer/Workspace_Projects/Pro_Python/venv/lib/python3.13/site-packages (from python-dateutil>=2.8.2->pandas) (1.17.0)\n",
      "Note: you may need to restart the kernel to use updated packages.\n",
      "[1 2 3]\n",
      "    name  age\n",
      "0  Alice   25\n",
      "1    Bob   30\n"
     ]
    }
   ],
   "source": [
    "%pip install numpy\n",
    "%pip install pandas\n",
    "\n",
    "import numpy as np\n",
    "import pandas as pd\n",
    "\n",
    "arr = np.array([1, 2, 3])\n",
    "df = pd.DataFrame({\"name\": [\"Alice\", \"Bob\"], \"age\": [25, 30]})\n",
    "\n",
    "print(arr)\n",
    "print(df)\n"
   ]
  },
  {
   "cell_type": "code",
   "execution_count": null,
   "id": "6c5f149c",
   "metadata": {},
   "outputs": [],
   "source": []
  }
 ],
 "metadata": {
  "kernelspec": {
   "display_name": "venv",
   "language": "python",
   "name": "python3"
  },
  "language_info": {
   "codemirror_mode": {
    "name": "ipython",
    "version": 3
   },
   "file_extension": ".py",
   "mimetype": "text/x-python",
   "name": "python",
   "nbconvert_exporter": "python",
   "pygments_lexer": "ipython3",
   "version": "3.13.7"
  }
 },
 "nbformat": 4,
 "nbformat_minor": 5
}
