{
 "cells": [
  {
   "cell_type": "markdown",
   "id": "e2ed9cf7",
   "metadata": {},
   "source": [
    "The __os__ module is Python’s built-in way to interact with the operating system\n",
    "\n",
    "It allows us to work with:\n",
    "\n",
    "- File & directory handling\n",
    "\n",
    "- Environment variables\n",
    "\n",
    "- Process-related functions\n",
    "\n",
    "- Path operations (via os.path)"
   ]
  },
  {
   "cell_type": "code",
   "execution_count": 1,
   "id": "18b5f868",
   "metadata": {},
   "outputs": [
    {
     "name": "stdout",
     "output_type": "stream",
     "text": [
      "posix\n",
      "/home/developer/Workspace_Projects/Pro_Python/Day13\n",
      "developer\n",
      "4\n",
      "posix.uname_result(sysname='Linux', nodename='developer', release='6.14.0-29-generic', version='#29~24.04.1-Ubuntu SMP PREEMPT_DYNAMIC Thu Aug 14 16:52:50 UTC 2', machine='x86_64')\n"
     ]
    }
   ],
   "source": [
    "import os\n",
    "\n",
    "print(os.name)            # 'posix' (Linux/Mac), 'nt' (Windows)\n",
    "print(os.getcwd())        \n",
    "print(os.getlogin())      \n",
    "print(os.cpu_count())     \n",
    "print(os.uname())         \n"
   ]
  },
  {
   "cell_type": "code",
   "execution_count": 12,
   "id": "d373dc52",
   "metadata": {},
   "outputs": [
    {
     "name": "stdout",
     "output_type": "stream",
     "text": [
      "/home/developer/Workspace_Projects/Pro_Python/venv/bin:/usr/local/sbin:/usr/local/bin:/usr/sbin:/usr/bin:/sbin:/bin:/usr/games:/usr/local/games:/snap/bin:/snap/bin:/usr/local/sbin:/usr/local/bin:/usr/sbin:/usr/bin:/sbin:/bin:/usr/games:/usr/local/games:/snap/bin:/snap/bin\n",
      "/home/developer\n"
     ]
    }
   ],
   "source": [
    "import os\n",
    "\n",
    "print(os.environ[\"PATH\"])    # read PATH variable\n",
    "print(os.getenv(\"HOME\"))     "
   ]
  },
  {
   "cell_type": "code",
   "execution_count": null,
   "id": "205a464a",
   "metadata": {},
   "outputs": [],
   "source": []
  },
  {
   "cell_type": "code",
   "execution_count": 22,
   "id": "6ebdc4d2",
   "metadata": {},
   "outputs": [
    {
     "name": "stdout",
     "output_type": "stream",
     "text": [
      "17065\n",
      "3900\n"
     ]
    }
   ],
   "source": [
    "import os\n",
    "\n",
    "print(os.getpid())     # current process ID\n",
    "print(os.getppid())    # parent process ID\n",
    "# os.system(\"echo Hello World\")\n"
   ]
  },
  {
   "cell_type": "code",
   "execution_count": 47,
   "id": "21d1c05b",
   "metadata": {},
   "outputs": [
    {
     "name": "stdout",
     "output_type": "stream",
     "text": [
      "[2, 2, 3]\n",
      "[1, 2, 2]\n"
     ]
    }
   ],
   "source": [
    "import random\n",
    "\n",
    "items = [1, 2, 3, 4, 2, 5, 2]\n",
    "print(random.sample(items, 3))   \n",
    "print(random.choices(items, k=3))  \n"
   ]
  },
  {
   "cell_type": "code",
   "execution_count": 144,
   "id": "f77f977e",
   "metadata": {},
   "outputs": [
    {
     "name": "stdout",
     "output_type": "stream",
     "text": [
      "[3, 4, 1, 5, 2, 3, 4, 1, 5, 2]\n"
     ]
    }
   ],
   "source": [
    "deck = [1, 2, 3, 4, 5]\n",
    "random.shuffle(deck) \n",
    "print(deck * 2)  \n"
   ]
  },
  {
   "cell_type": "code",
   "execution_count": 212,
   "id": "a1fefabf",
   "metadata": {},
   "outputs": [
    {
     "name": "stdout",
     "output_type": "stream",
     "text": [
      "-14.607399022260628\n",
      "Lottery numbers: [6, 4, 15, 33, 3, 47]\n"
     ]
    }
   ],
   "source": [
    "print(random.gauss(0, 10))   \n",
    "numbers = random.sample(range(1, 50), 6)\n",
    "print(\"Lottery numbers:\", numbers)\n",
    "\n"
   ]
  },
  {
   "cell_type": "code",
   "execution_count": 230,
   "id": "408dd7a6",
   "metadata": {},
   "outputs": [
    {
     "name": "stdout",
     "output_type": "stream",
     "text": [
      "Password: o<]W3y21v}TO\n"
     ]
    }
   ],
   "source": [
    "import random\n",
    "import string\n",
    "\n",
    "chars = string.ascii_letters + string.digits + string.punctuation\n",
    "password = ''.join(random.choices(chars, k=12))\n",
    "print(\"Password:\", password)\n"
   ]
  },
  {
   "cell_type": "markdown",
   "id": "1b582253",
   "metadata": {},
   "source": [
    "RANDOM MODULE\n",
    "- ├── Floats → random(), uniform(a,b) \n",
    "- ├── Integers → randint(a,b), randrange(start, stop, step)\n",
    "- ├── Sequences → choice(), choices(), sample(), shuffle()\n",
    "- ├── Reproducibility → seed()\n",
    "- ├── Distributions → gauss(mean, stddev)\n",
    "- ├── Real-world → dice, lottery, passwords, shuffling, ML train/test\n",
    "- ├── Security → use secrets for cryptography\n"
   ]
  },
  {
   "cell_type": "code",
   "execution_count": 299,
   "id": "276b39f0",
   "metadata": {},
   "outputs": [
    {
     "name": "stdout",
     "output_type": "stream",
     "text": [
      "Train : [13, 20, 14, 8, 5, 16, 9, 11, 19]\n",
      "Test : [1, 2, 3, 4, 6, 7, 10, 12, 15, 17, 18]\n",
      "Train2 : [4, 17, 6, 18, 7, 10, 16, 9, 15]\n",
      "Test2 : [1, 2, 3, 12]\n"
     ]
    }
   ],
   "source": [
    "data = list(range(1, 21))   # dataset\n",
    "train = random.sample(data, 9)\n",
    "train2 = random.sample(data, 9)\n",
    "test = [d for d in data if d not in train]\n",
    "test2 = [d for d in data if d not in train2 and d not in train]\n",
    "\n",
    "\n",
    "print(\"Train :\", train)\n",
    "print(\"Test :\", test)\n",
    "print(\"Train2 :\", train2)\n",
    "print(\"Test2 :\", test2)"
   ]
  },
  {
   "cell_type": "code",
   "execution_count": 371,
   "id": "d9a88ff3",
   "metadata": {},
   "outputs": [
    {
     "name": "stdout",
     "output_type": "stream",
     "text": [
      "\"2025-09-22 15:27:29.479326\" and 1758535049.4793966\n"
     ]
    }
   ],
   "source": [
    "import json, time\n",
    "from datetime import datetime\n",
    "\n",
    "now = datetime.now()\n",
    "\n",
    "ts = time.time()\n",
    "json_str = json.dumps(now, default=str)\n",
    "print(json_str + \" and \"+ ts.__str__())  \n"
   ]
  },
  {
   "cell_type": "code",
   "execution_count": 350,
   "id": "46762db3",
   "metadata": {},
   "outputs": [
    {
     "name": "stdout",
     "output_type": "stream",
     "text": [
      "43\n"
     ]
    }
   ],
   "source": [
    "import json\n",
    "\n",
    "api_data = [\n",
    "    {\"user\": \"alina\", \"score\": 43},\n",
    "    {\"user\": \"Manu\", \"score\": 83}\n",
    "    \n",
    "]\n",
    "\n",
    "with open(\"data.json\", \"w\") as file:\n",
    "    json.dump(api_data, file, indent=4)\n",
    "    \n",
    "with open(\"data.json\", \"r\") as file:\n",
    "    data = json.load(file)\n",
    "    \n",
    "print(data[0][\"score\"])"
   ]
  },
  {
   "cell_type": "code",
   "execution_count": 366,
   "id": "5606caac",
   "metadata": {},
   "outputs": [
    {
     "name": "stdout",
     "output_type": "stream",
     "text": [
      "Hello Sahil How are you !😃\n"
     ]
    }
   ],
   "source": [
    "\n",
    "print(\"Hello\", end=\" \")\n",
    "time.sleep(1)\n",
    "print(\"Sahil\", end=\" \")\n",
    "time.sleep(1)\n",
    "print(\"How\", end=\" \")\n",
    "time.sleep(1)\n",
    "print(\"are\", end=\" \")\n",
    "time.sleep(1)\n",
    "print(\"you\", end=\" \")\n",
    "time.sleep(2)\n",
    "print(\"!😃\")"
   ]
  },
  {
   "cell_type": "code",
   "execution_count": 373,
   "id": "18696e2f",
   "metadata": {},
   "outputs": [
    {
     "name": "stdout",
     "output_type": "stream",
     "text": [
      "2025-09-22 15:27:47.108468\n",
      "2025\n",
      "9\n"
     ]
    }
   ],
   "source": [
    "from datetime import datetime\n",
    "\n",
    "now = datetime.now()\n",
    "print(now)        \n",
    "print(now.year)  \n",
    "print(now.month)  \n"
   ]
  },
  {
   "cell_type": "code",
   "execution_count": 378,
   "id": "e253a296",
   "metadata": {},
   "outputs": [
    {
     "name": "stdout",
     "output_type": "stream",
     "text": [
      "2025-12-25 10:30:00\n",
      "2025-09-22\n",
      "2025 9 22\n"
     ]
    }
   ],
   "source": [
    "dt = datetime(2025, 12, 25, 10, 30, 0)\n",
    "print(dt)  \n",
    "\n",
    "from datetime import date\n",
    "\n",
    "d = date.today()\n",
    "print(d)\n",
    "print(d.year, d.month, d.day)\n",
    "\n"
   ]
  },
  {
   "cell_type": "code",
   "execution_count": 379,
   "id": "1475b87d",
   "metadata": {},
   "outputs": [
    {
     "name": "stdout",
     "output_type": "stream",
     "text": [
      "5 days, 3:30:00\n",
      "Future: 2025-10-02\n",
      "Past: 2025-09-15\n"
     ]
    }
   ],
   "source": [
    "from datetime import timedelta\n",
    "\n",
    "delta = timedelta(days=5, hours=3, minutes=30)\n",
    "print(delta)  # 5 days, 3:30:00\n",
    "\n",
    "# Adding/subtracting\n",
    "today = date.today()\n",
    "future = today + timedelta(days=10)\n",
    "past = today - timedelta(days=7)\n",
    "\n",
    "print(\"Future:\", future)\n",
    "print(\"Past:\", past)\n"
   ]
  },
  {
   "cell_type": "code",
   "execution_count": 395,
   "id": "2344ad5d",
   "metadata": {},
   "outputs": [
    {
     "name": "stdout",
     "output_type": "stream",
     "text": [
      "Lived 22 years without him\n"
     ]
    }
   ],
   "source": [
    "birth_date = date(2002, 10, 20)\n",
    "today = date.today()\n",
    "age = today.year - birth_date.year - ((today.month, today.day) < (birth_date.month, birth_date.day))\n",
    "print(f\"Lived {age} years without him\")"
   ]
  },
  {
   "cell_type": "code",
   "execution_count": 402,
   "id": "2bbbc9cf",
   "metadata": {},
   "outputs": [
    {
     "name": "stdout",
     "output_type": "stream",
     "text": [
      "Task date: 2025-09-23 16:29:31.514949\n",
      "Task date: 2025-09-24 16:29:31.514949\n",
      "Task date: 2025-09-25 16:29:31.514949\n",
      "Task date: 2025-09-26 16:29:31.514949\n",
      "Task date: 2025-09-27 16:29:31.514949\n",
      "Task date: 2025-09-28 16:29:31.514949\n",
      "Task date: 2025-09-29 16:29:31.514949\n"
     ]
    }
   ],
   "source": [
    "from datetime import datetime, timedelta\n",
    "\n",
    "today = datetime.now()\n",
    "for i in range(1, 8):\n",
    "    print(\"Task date:\", today + timedelta(days=i))\n"
   ]
  },
  {
   "cell_type": "code",
   "execution_count": 2,
   "id": "7c0b7f97",
   "metadata": {},
   "outputs": [
    {
     "name": "stdout",
     "output_type": "stream",
     "text": [
      "Duration: 3.0002965927124023 seconds\n"
     ]
    }
   ],
   "source": [
    "import time\n",
    "\n",
    "start = time.time()\n",
    "time.sleep(3)\n",
    "end = time.time()\n",
    "print(\"Duration:\", end - start, \"seconds\")\n"
   ]
  },
  {
   "cell_type": "code",
   "execution_count": 409,
   "id": "1bc34abf",
   "metadata": {},
   "outputs": [
    {
     "name": "stdout",
     "output_type": "stream",
     "text": [
      "[2025-09-22 16:31:15] Process started\n"
     ]
    }
   ],
   "source": [
    "from datetime import datetime\n",
    "\n",
    "def log(message):\n",
    "    now = datetime.now()\n",
    "    print(f\"[{now.strftime('%Y-%m-%d %H:%M:%S')}] {message}\")\n",
    "\n",
    "log(\"Process started\")\n"
   ]
  },
  {
   "cell_type": "code",
   "execution_count": null,
   "id": "a81036df",
   "metadata": {},
   "outputs": [
    {
     "name": "stdout",
     "output_type": "stream",
     "text": [
      "11 Seconds Left\n",
      "10 Seconds Left\n",
      "9 Seconds Left\n",
      "8 Seconds Left\n",
      "7 Seconds Left\n",
      "6 Seconds Left\n",
      "5 Seconds Left\n",
      "4 Seconds Left\n",
      "3 Seconds Left Hurry up!\n",
      "2 Seconds Left Hurry up!\n",
      "1 Seconds Left Hurry up!\n",
      "0 Seconds Left Hurry up!\n"
     ]
    }
   ],
   "source": [
    "end_time = datetime.now() + timedelta(seconds=12)\n",
    "while(datetime.now() < end_time ):\n",
    "    remaining_time = (end_time - datetime.now()).seconds\n",
    "    print(f\"{remaining_time} Seconds Left\" if remaining_time > 3 else f\"{remaining_time} Seconds Left Hurry up!\")\n",
    "    time.sleep(1)\n",
    "\n",
    "\n"
   ]
  },
  {
   "cell_type": "code",
   "execution_count": 7,
   "id": "b752ab43",
   "metadata": {},
   "outputs": [
    {
     "name": "stdout",
     "output_type": "stream",
     "text": [
      "✅ Task logged successfully! Execution Time: -0.0001 seconds\n"
     ]
    }
   ],
   "source": [
    "import os\n",
    "import sys\n",
    "import time\n",
    "import math\n",
    "from datetime import datetime, timedelta\n",
    "\n",
    "end_time = time.time()\n",
    "# ------------------ Step 1: Measure Start Time ------------------\n",
    "start_time = time.time()   # Why? To measure how long program takes.\n",
    "\n",
    "# ------------------ Step 2: Read task name from command line ------------------\n",
    "# sys.argv -> list of arguments passed while running program\n",
    "# Example: python task_logger.py \"Finish OOP assignment\"\n",
    "if len(sys.argv) < 2:  # If no task name provided\n",
    "    print(\"❌ Please provide a task name\")\n",
    "    sys.exit(1)  # Exit program\n",
    "task_name = sys.argv[1]   # Take first argument as task name\n",
    "\n",
    "# ------------------ Step 3: Create log directory if not exists ------------------\n",
    "log_dir = \"logs\"\n",
    "if not os.path.exists(log_dir):   # Check directory existence\n",
    "    os.mkdir(log_dir)             # Create directory\n",
    "\n",
    "# ------------------ Step 4: Date and Deadline ------------------\n",
    "now = datetime.now()                         # Current date & time\n",
    "deadline = now + timedelta(days=2)           # Deadline after 2 days\n",
    "\n",
    "# ------------------ Step 5: Math operation ------------------\n",
    "# Task name length → sqrt\n",
    "task_length = len(task_name)\n",
    "sqrt_length = math.sqrt(task_length)\n",
    "\n",
    "# ------------------ Step 6: Prepare log entry ------------------\n",
    "log_entry = (\n",
    "    f\"Task: {task_name}\\n\"\n",
    "    f\"Created On: {now.strftime('%Y-%m-%d %H:%M:%S')}\\n\"\n",
    "    f\"Deadline: {deadline.strftime('%Y-%m-%d %H:%M:%S')}\\n\"\n",
    "    f\"Task Name Length: {task_length}\\n\"\n",
    "    f\"Square Root of Length: {sqrt_length:.2f}\\n\"\n",
    "    \"-----------------------------\\n\"\n",
    ")\n",
    "\n",
    "# ------------------ Step 7: Write to file ------------------\n",
    "log_file = os.path.join(log_dir, \"task_logs.txt\")\n",
    "with open(log_file, \"a\") as f:  # Append mode\n",
    "    f.write(log_entry)\n",
    "\n",
    "# ------------------ Step 8: Measure End Time ------------------\n",
    "\n",
    "execution_time = end_time - start_time\n",
    "\n",
    "print(f\"✅ Task logged successfully! Execution Time: {execution_time:.4f} seconds\")\n"
   ]
  },
  {
   "cell_type": "code",
   "execution_count": null,
   "id": "24c71760",
   "metadata": {},
   "outputs": [],
   "source": []
  }
 ],
 "metadata": {
  "kernelspec": {
   "display_name": "venv",
   "language": "python",
   "name": "python3"
  },
  "language_info": {
   "codemirror_mode": {
    "name": "ipython",
    "version": 3
   },
   "file_extension": ".py",
   "mimetype": "text/x-python",
   "name": "python",
   "nbconvert_exporter": "python",
   "pygments_lexer": "ipython3",
   "version": "3.13.7"
  }
 },
 "nbformat": 4,
 "nbformat_minor": 5
}
