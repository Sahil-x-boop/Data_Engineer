{
 "cells": [
  {
   "cell_type": "code",
   "execution_count": null,
   "id": "1705402a",
   "metadata": {},
   "outputs": [],
   "source": [
    "with open(\"learning.txt\", \"r\") as file:\n",
    "    data = file.read()\n",
    "    print(data)"
   ]
  },
  {
   "cell_type": "code",
   "execution_count": null,
   "id": "0a5b3ae0",
   "metadata": {},
   "outputs": [],
   "source": [
    "with open(\"learning.txt\", \"a\") as file:\n",
    "    file.write(\"\\nUse .strip() when reading lines (removes \\\\n)\")"
   ]
  },
  {
   "cell_type": "code",
   "execution_count": null,
   "id": "05b5cad8",
   "metadata": {},
   "outputs": [],
   "source": [
    "with open(\"learning.txt\", \"r+\") as file:\n",
    "    file.write(\"Best practices: avoid overwriting and iterate large files\")\n",
    "    # file.seek(0) \n",
    "    data = file.read()\n",
    "    print(data)"
   ]
  },
  {
   "cell_type": "code",
   "execution_count": 14,
   "id": "63a5fa78",
   "metadata": {},
   "outputs": [
    {
     "name": "stdout",
     "output_type": "stream",
     "text": [
      "0\n",
      "Hello World\n",
      "17\n"
     ]
    }
   ],
   "source": [
    "with open(\"file.txt\", \"r+\") as f:\n",
    "    f.write(\"Hello\")\n",
    "    f.seek(0)\n",
    "    print(f.seek(0))  \n",
    "    print(f.read()) \n",
    "    f.seek(0, 2)  \n",
    "    f.write(\" World\")  \n",
    "    print(f.tell())"
   ]
  },
  {
   "cell_type": "code",
   "execution_count": null,
   "id": "a84206e3",
   "metadata": {},
   "outputs": [],
   "source": [
    "with open(\"art.jpg\", \"rb\") as file1:\n",
    "    with open(\"clone.jpg\", \"wb\") as file2:\n",
    "        file2.write(file1.read())"
   ]
  },
  {
   "cell_type": "code",
   "execution_count": 20,
   "id": "e67272d9",
   "metadata": {},
   "outputs": [
    {
     "name": "stdout",
     "output_type": "stream",
     "text": [
      "Overview\n",
      "\n",
      "File handling allows us to store data permanently outside the program (on disk).\n",
      "In Python, we use the built-in open() function to work with files.\n",
      "Files can be text files (.txt, .csv, .json) or binary files (.jpg, .exe, .mp4).\n",
      "\n",
      "Why it exists:\n",
      "\n",
      "Programs need persistent storage (data should not disappear after program ends).\n",
      "\n",
      "Useful for reading configurations, saving logs, storing user data, processing large datasets.\n",
      "\n",
      "Where it’s used:\n",
      "\n",
      "Storing user input permanently.\n",
      "\n",
      "Reading data from CSV/JSON/XML.\n",
      "\n",
      "Writing logs in applications.\n",
      "\n",
      "Machine Learning → loading datasets.\n",
      "\n",
      "System utilities → reading/writing configuration files.Use .strip() when reading lines (removes\n",
      ")Use .strip() when reading lines (removes\n",
      ")\n",
      "Use .strip() when reading lines (removes \\n)\n",
      "782\n"
     ]
    }
   ],
   "source": [
    "with open(\"letter.txt\", \"r\") as file:\n",
    "    for line in file:\n",
    "        print(line.strip())\n",
    "    print(file.tell())\n",
    "    \n",
    "# how to print first 10 lines"
   ]
  },
  {
   "cell_type": "code",
   "execution_count": 16,
   "id": "599debeb",
   "metadata": {},
   "outputs": [
    {
     "name": "stdout",
     "output_type": "stream",
     "text": [
      "['Overview\\n', '\\n', 'File handling allows us to store data permanently outside the program (on disk).\\n', 'In Python, we use the built-in open() function to work with files.\\n', 'Files can be text files (.txt, .csv, .json) or binary files (.jpg, .exe, .mp4).\\n', '\\n', '  Why it exists:\\n', '\\n', 'Programs need persistent storage (data should not disappear after program ends).\\n', '\\n', 'Useful for reading configurations, saving logs, storing user data, processing large datasets.\\n', '\\n', '   Where it’s used:\\n', '\\n', 'Storing user input permanently.\\n', '\\n', 'Reading data from CSV/JSON/XML.\\n', '\\n', 'Writing logs in applications.\\n', '\\n', 'Machine Learning → loading datasets.\\n', '\\n', 'System utilities → reading/writing configuration files.Use .strip() when reading lines (removes \\n', ')Use .strip() when reading lines (removes \\n', ')\\n', 'Use .strip() when reading lines (removes \\\\n)']\n"
     ]
    }
   ],
   "source": [
    "with open(\"letter.txt\", \"r\") as file:\n",
    "    lines = file.readlines()\n",
    "    print(lines)"
   ]
  },
  {
   "cell_type": "code",
   "execution_count": null,
   "id": "1d12a031",
   "metadata": {},
   "outputs": [],
   "source": []
  }
 ],
 "metadata": {
  "kernelspec": {
   "display_name": "3.13.7",
   "language": "python",
   "name": "python3"
  },
  "language_info": {
   "codemirror_mode": {
    "name": "ipython",
    "version": 3
   },
   "file_extension": ".py",
   "mimetype": "text/x-python",
   "name": "python",
   "nbconvert_exporter": "python",
   "pygments_lexer": "ipython3",
   "version": "3.13.7"
  }
 },
 "nbformat": 4,
 "nbformat_minor": 5
}
