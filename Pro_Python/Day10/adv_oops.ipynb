{
 "cells": [
  {
   "cell_type": "markdown",
   "id": "373ea540",
   "metadata": {},
   "source": [
    "A **static method** is a method inside a class that does not need access to the class (cls) or its instance (self).\n",
    "\n",
    "It behaves just like a normal function, but it is logically grouped inside the class for organization.\n",
    "\n",
    "We mark it using the **@staticmethod** decorator."
   ]
  },
  {
   "cell_type": "markdown",
   "id": "d13ce20e",
   "metadata": {},
   "source": [
    "**Why not just write a function outside the class?**\n",
    "\n",
    "*with Because keeping it inside the class makes it logically grouped with related behavior. Example: **UserValidator.is_valid_email()** looks cleaner than **is_valid_email()** floating outside.*"
   ]
  },
  {
   "cell_type": "code",
   "execution_count": 1,
   "id": "35ed6e1b",
   "metadata": {},
   "outputs": [],
   "source": [
    "# Use when function logically belongs to class but doesn’t need object/class data.\n",
    "\n"
   ]
  },
  {
   "cell_type": "markdown",
   "id": "e6eb3cdf",
   "metadata": {},
   "source": [
    "@classmethod means the first parameter is cls (the class itself).\n",
    "\n",
    "cls lets us access/modify class-level variables."
   ]
  },
  {
   "cell_type": "code",
   "execution_count": null,
   "id": "84da5e3a",
   "metadata": {},
   "outputs": [
    {
     "name": "stdout",
     "output_type": "stream",
     "text": [
      "1: Base helper : base\n",
      "2: Derived helper: derived\n",
      "3: Base helper : base\n",
      "4: Base helper : base\n",
      "5: Base helper : base\n"
     ]
    }
   ],
   "source": [
    "class Base:\n",
    "    data = \"base\"\n",
    "    \n",
    "    @classmethod\n",
    "    def process(cls):\n",
    "        return cls.helper()\n",
    "    \n",
    "    @classmethod\n",
    "    def helper(cls):\n",
    "        return f\"Base helper : {cls.data}\"\n",
    "    \n",
    "    @staticmethod\n",
    "    def static_process():\n",
    "        return Base.helper()\n",
    "\n",
    "class Derived(Base):\n",
    "    data = \"derived\"\n",
    "    \n",
    "    @classmethod\n",
    "    def helper(cls):\n",
    "        return f\"Derived helper: {cls.data}\"\n",
    "\n",
    "\n",
    "print(\"1:\", Base.helper())\n",
    "print(\"2:\", Derived.helper())\n",
    "print(\"3:\", Base.static_process())\n",
    "print(\"4:\", Derived.static_process())\n",
    "\n",
    "\n",
    "obj = Derived()\n",
    "print(\"5:\", obj.static_process())"
   ]
  },
  {
   "cell_type": "code",
   "execution_count": 1,
   "id": "6632444d",
   "metadata": {},
   "outputs": [
    {
     "name": "stdout",
     "output_type": "stream",
     "text": [
      "{'name': 'Harman', 'age': 24}\n",
      "{'name': 'Abhinash', 'age': 48}\n"
     ]
    }
   ],
   "source": [
    "class User:\n",
    "    def __init__(self, name, age):\n",
    "        self.name = name\n",
    "        self.age = age\n",
    "    \n",
    "    @classmethod    \n",
    "    def from_string(cls, user_info):\n",
    "        nama, age = user_info.split(\"-\")\n",
    "        return cls(nama, int(age))\n",
    "    \n",
    "user1 = User(\"Harman\", 24)\n",
    "user2 = User.from_string(\"Abhinash-48\") \n",
    "\n",
    "print(user1.__dict__)\n",
    "print(user2.__dict__)\n"
   ]
  },
  {
   "cell_type": "code",
   "execution_count": null,
   "id": "ab5e6862",
   "metadata": {},
   "outputs": [
    {
     "name": "stdout",
     "output_type": "stream",
     "text": [
      "True\n",
      "False\n",
      "True\n",
      "True\n"
     ]
    }
   ],
   "source": [
    "x = \"hello\"\n",
    "y = \"hello\"\n",
    "m = \"hello world\"[0:5]\n",
    "n = \"hel\" + \"lo\"\n",
    "\n",
    "print(x is y)    \n",
    "print(x is m)    \n",
    "print(x is n)   \n",
    "print(x == m)    "
   ]
  },
  {
   "cell_type": "markdown",
   "id": "bbd4c434",
   "metadata": {},
   "source": [
    "#### you should avoid using properties for attributes that don’t require extra functionality or processing. ####"
   ]
  },
  {
   "cell_type": "code",
   "execution_count": 11,
   "id": "457045d9",
   "metadata": {},
   "outputs": [
    {
     "name": "stdout",
     "output_type": "stream",
     "text": [
      "10000\n",
      "Salary updated to 50000..\n",
      "50000\n"
     ]
    }
   ],
   "source": [
    "class Employee:\n",
    "    def __init__(self, name, salary):\n",
    "        self.name = name\n",
    "        self._salary = salary\n",
    "        \n",
    "    @property\n",
    "    def salary(self):\n",
    "        return self._salary\n",
    "    \n",
    "    @salary.setter\n",
    "    def salary(self, amount):\n",
    "        \n",
    "        if amount < 10000:\n",
    "            raise ValueError(f\"Employee will not work for {amount}rs..\")\n",
    "        else:\n",
    "            self._salary = amount\n",
    "            print(f\"Salary updated to {amount}..\")\n",
    "    \n",
    "emp1 = Employee(\"Manish Sanga\", 10000)\n",
    "print(emp1.salary)\n",
    "\n",
    "emp1.salary = 50000\n",
    "print(emp1.salary)"
   ]
  },
  {
   "cell_type": "code",
   "execution_count": null,
   "id": "cfb6120c",
   "metadata": {},
   "outputs": [],
   "source": [
    "from time import sleep\n",
    "\n",
    "class Circle:\n",
    "    def __init__(self, radius):\n",
    "        self.radius = radius\n",
    "\n",
    "    @property\n",
    "    def radius(self):\n",
    "        return self._radius\n",
    "\n",
    "    @radius.setter \n",
    "    def radius(self, value): \n",
    "        self._diameter = None  \n",
    "        self._radius = value \n",
    "\n",
    "    @property\n",
    "    def diameter(self):\n",
    "        if self._diameter is None: \n",
    "            sleep(0.5)  \n",
    "            self._diameter = self._radius * 2\n",
    "        return self._diameter"
   ]
  },
  {
   "cell_type": "markdown",
   "id": "4e114dcd",
   "metadata": {},
   "source": [
    "Instance Methods - \n",
    "\n",
    "Why it exits:\n",
    "\n",
    "- Because most real-world operations are performed on specific objects, not on the class as a whole.\n",
    "\n",
    "- Example: Each Employee has a different salary → we need methods that work on that object’s data."
   ]
  },
  {
   "cell_type": "code",
   "execution_count": 39,
   "id": "a94b7e88",
   "metadata": {},
   "outputs": [
    {
     "name": "stdout",
     "output_type": "stream",
     "text": [
      "BMW car costs 50000 and has 6 wheels\n"
     ]
    }
   ],
   "source": [
    "class Car:\n",
    "    wheels = 4   # class variable\n",
    "\n",
    "    def __init__(self, brand, price):\n",
    "        self.brand = brand\n",
    "        self.price = price\n",
    "        \n",
    "    def change_wheels(self):\n",
    "        Car.wheels = 6\n",
    "        \n",
    "    def info(self):\n",
    "        return f\"{self.brand} car costs {self.price} and has {Car.wheels} wheels\"\n",
    "\n",
    "c = Car(\"BMW\", 50000)\n",
    "c.change_wheels()\n",
    "print(c.info())\n"
   ]
  },
  {
   "cell_type": "markdown",
   "id": "7c4e2654",
   "metadata": {},
   "source": [
    "The __with__ statement in Python is used to wrap the execution of a block of code within a context manager.\n",
    "\n",
    "- Context managers are objects that properly manage resources (like files, database connections, network sockets, locks).\n",
    "\n",
    "- They make sure resources are acquired and released safely, even if an error occurs.\n",
    "\n",
    "Why do we need it?\n",
    "\n",
    "- Without with, we must manually open/close resources → risk of forgetting to close them.\n",
    "\n",
    "- With with, Python ensures cleanup happens automatically.\n",
    "\n",
    "Where it’s used?\n",
    "\n",
    "- File handling (open())\n",
    "\n",
    "- Database connections\n",
    "\n",
    "- Threading & multiprocessing locks\n",
    "\n",
    "- Custom resource management (like timers, network sessions)"
   ]
  },
  {
   "cell_type": "code",
   "execution_count": 1,
   "id": "e173d6fa",
   "metadata": {},
   "outputs": [],
   "source": [
    "import random "
   ]
  },
  {
   "cell_type": "code",
   "execution_count": null,
   "id": "324de138",
   "metadata": {},
   "outputs": [],
   "source": [
    "class Dice:\n",
    "    def __init__(self, sides=6):\n",
    "        self.sides = sides\n",
    "    \n",
    "    def roll(self):\n",
    "        return random.randint(1, self.sides)\n",
    "    \n",
    "    def __str__(self):\n",
    "        return f\"Dice with {self.sides} sides\"\n",
    "    \n",
    "    "
   ]
  },
  {
   "cell_type": "code",
   "execution_count": 2,
   "id": "2bb7d392",
   "metadata": {},
   "outputs": [
    {
     "name": "stdout",
     "output_type": "stream",
     "text": [
      "Hello Alice\n",
      "Hello Alice\n",
      "Hello Alice\n"
     ]
    }
   ],
   "source": [
    "                                                  \n",
    "def repeat(n):\n",
    "    def decorator(func):\n",
    "        def wrapper(*args):\n",
    "            for _ in range(n):\n",
    "                func(*args)\n",
    "        return wrapper\n",
    "    return decorator\n",
    "\n",
    "@repeat(3)\n",
    "def greet(name):\n",
    "    print(f\"Hello {name}\")\n",
    "\n",
    "greet(\"Alice\")\n",
    "                                                   "
   ]
  },
  {
   "cell_type": "code",
   "execution_count": null,
   "id": "e2c53a53",
   "metadata": {},
   "outputs": [
    {
     "name": "stdout",
     "output_type": "stream",
     "text": [
      "1000\n"
     ]
    },
    {
     "ename": "AttributeError",
     "evalue": "'BankAccount' object has no attribute 'BankAccount__balance'",
     "output_type": "error",
     "traceback": [
      "\u001b[31m---------------------------------------------------------------------------\u001b[39m",
      "\u001b[31mAttributeError\u001b[39m                            Traceback (most recent call last)",
      "\u001b[36mCell\u001b[39m\u001b[36m \u001b[39m\u001b[32mIn[10]\u001b[39m\u001b[32m, line 11\u001b[39m\n\u001b[32m      9\u001b[39m account = BankAccount(\u001b[32m1000\u001b[39m)\n\u001b[32m     10\u001b[39m \u001b[38;5;28mprint\u001b[39m(account.balance()) \n\u001b[32m---> \u001b[39m\u001b[32m11\u001b[39m \u001b[38;5;28mprint\u001b[39m(\u001b[43maccount\u001b[49m\u001b[43m.\u001b[49m\u001b[43mBankAccount__balance\u001b[49m()) \n\u001b[32m     12\u001b[39m BankAccount.account__balance = \u001b[32m2000\u001b[39m\n\u001b[32m     13\u001b[39m \u001b[38;5;28mprint\u001b[39m(account.balance())  \n",
      "\u001b[31mAttributeError\u001b[39m: 'BankAccount' object has no attribute 'BankAccount__balance'"
     ]
    }
   ],
   "source": [
    "class BankAccount:\n",
    "    def __init__(self, balance):\n",
    "        self._balance = balance\n",
    "\n",
    "    # @property\n",
    "    def balance(self):  \n",
    "        return self._balance\n",
    "\n",
    "account = BankAccount(1000)\n",
    "print(account.balance()) \n",
    "print(account.BankAccount_balance()) \n",
    "BankAccount.account__balance = 2000\n",
    "print(account.balance())  \n",
    "\n"
   ]
  }
 ],
 "metadata": {
  "kernelspec": {
   "display_name": "3.13.7",
   "language": "python",
   "name": "python3"
  },
  "language_info": {
   "codemirror_mode": {
    "name": "ipython",
    "version": 3
   },
   "file_extension": ".py",
   "mimetype": "text/x-python",
   "name": "python",
   "nbconvert_exporter": "python",
   "pygments_lexer": "ipython3",
   "version": "3.13.7"
  }
 },
 "nbformat": 4,
 "nbformat_minor": 5
}
