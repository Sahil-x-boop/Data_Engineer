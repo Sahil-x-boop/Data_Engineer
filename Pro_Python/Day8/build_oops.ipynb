{
 "cells": [
  {
   "cell_type": "markdown",
   "id": "20d11648",
   "metadata": {},
   "source": [
    "### Employee Class\n",
    "\n",
    "- Defines an Employee with name, salary, and age.\n",
    "- Includes methods to get profile, check generation, and validate salary.\n",
    "- Creates employee objects and prints their profiles and age groups"
   ]
  },
  {
   "cell_type": "code",
   "execution_count": 16,
   "id": "9f8445a2",
   "metadata": {
    "scrolled": true
   },
   "outputs": [
    {
     "name": "stdout",
     "output_type": "stream",
     "text": [
      "Harman earns 80000 Rs works in Perplexity\n",
      "Older\n",
      "Jason earns 135000 Rs works in Perplexity\n",
      "Older\n",
      "Amar earns 90000 Rs works in Perplexity\n",
      "Salary is Valid\n"
     ]
    }
   ],
   "source": [
    "class Employee:\n",
    "    company = \"Perplexity\"\n",
    "\n",
    "    def __init__(self, name, salary, age):\n",
    "        self.name = name\n",
    "        self.salary = salary\n",
    "        self.age = age\n",
    "\n",
    "    def profile(self):\n",
    "        return f\"{self.name} earns {self.salary} Rs works in {Employee.company}\"\n",
    "\n",
    "    @classmethod\n",
    "    def change_company(cls, name):\n",
    "        cls.name = name\n",
    "\n",
    "    def which_generation(self):\n",
    "        return \"Older\" if self.age > 40 else \"Younger\"\n",
    "\n",
    "    @staticmethod\n",
    "    def is_salary_valid(salary):\n",
    "        return \"Salary is Valid\" if salary > 0 else \"Invalid\"\n",
    "\n",
    "\n",
    "emp1 = Employee(\"Harman\", 80000, 44)\n",
    "emp2 = Employee(\"Amar\", 90000, 48)\n",
    "emp3 = Employee(\"Vanshika\", 100000, 27)\n",
    "emp4 = Employee(\"Jason\", 135000, 54)\n",
    "print(emp1.profile())\n",
    "print(emp1.which_generation())\n",
    "print(emp4.profile())\n",
    "print(emp4.which_generation())\n",
    "Employee.change_company(\"Amdocs\")\n",
    "print(emp2.profile())\n",
    "print(Employee.is_salary_valid(emp3.salary))"
   ]
  },
  {
   "cell_type": "markdown",
   "id": "ab6414d9",
   "metadata": {},
   "source": [
    "- print(e._Employee__salary)   (access via mangled name)                       \n",
    "                                                    \n",
    "- Python does this so subclasses won’t accidentally override private members."
   ]
  },
  {
   "cell_type": "code",
   "execution_count": 1,
   "id": "bbbc431d",
   "metadata": {},
   "outputs": [
    {
     "name": "stdout",
     "output_type": "stream",
     "text": [
      "60000\n",
      "90000\n"
     ]
    }
   ],
   "source": [
    "class Employee:\n",
    "    def __init__(self, name, salary):\n",
    "        self.__salary = salary\n",
    "        self.name = name\n",
    "        \n",
    "    def get_salary(self):\n",
    "        return self.__salary\n",
    "    \n",
    "    def set_salary(self, new_salary):\n",
    "        try: \n",
    "            if new_salary > self.get_salary():\n",
    "                self.__salary = new_salary\n",
    "        except:\n",
    "            raise ValueError(\"Salary is not incremented more than Current Salary\")\n",
    "\n",
    "        \n",
    "emp1 = Employee(\"Hemant\", 60000)\n",
    "print(emp1._Employee__salary)\n",
    "emp1.set_salary(90000)\n",
    "print(emp1.get_salary())\n"
   ]
  },
  {
   "cell_type": "code",
   "execution_count": 34,
   "id": "05910d42",
   "metadata": {},
   "outputs": [
    {
     "name": "stdout",
     "output_type": "stream",
     "text": [
      "Current price is 4000\n",
      "Trimmer price updated to : 2400\n"
     ]
    }
   ],
   "source": [
    "class Product:\n",
    "    def __init__(self, price):\n",
    "        self.__price = price\n",
    "        \n",
    "    @property\n",
    "    def price(self):\n",
    "        return self.__price\n",
    "    \n",
    "    @price.setter\n",
    "    def price(self, new_price):\n",
    "        if new_price > 0:\n",
    "            self.__price = new_price\n",
    "            print(\"Trimmer price updated to :\", end=\" \")\n",
    "        else:\n",
    "            raise ValueError(\"Price must be Positive\")\n",
    "        \n",
    "trimmer = Product(4000)\n",
    "print(f\"Current price is {trimmer.price}\")\n",
    "trimmer.price = 2400\n",
    "print(trimmer.price)"
   ]
  }
 ],
 "metadata": {
  "kernelspec": {
   "display_name": "3.13.7",
   "language": "python",
   "name": "python3"
  },
  "language_info": {
   "codemirror_mode": {
    "name": "ipython",
    "version": 3
   },
   "file_extension": ".py",
   "mimetype": "text/x-python",
   "name": "python",
   "nbconvert_exporter": "python",
   "pygments_lexer": "ipython3",
   "version": "3.13.7"
  }
 },
 "nbformat": 4,
 "nbformat_minor": 5
}
