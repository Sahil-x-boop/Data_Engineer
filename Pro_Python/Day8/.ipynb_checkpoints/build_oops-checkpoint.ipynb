{
 "cells": [
  {
   "cell_type": "code",
   "execution_count": 4,
   "id": "9f8445a2",
   "metadata": {},
   "outputs": [
    {
     "name": "stdout",
     "output_type": "stream",
     "text": [
      "Harman earns 80000Rs \n",
      "Older\n",
      "Jason earns 135000Rs \n",
      "Older\n",
      "Amar earns 90000Rs \n",
      "Salary is Valid\n"
     ]
    }
   ],
   "source": [
    "class Employee:\n",
    "    company = \"Perplexity\"\n",
    "\n",
    "    def __init__(self, name, salary, age):\n",
    "        self.name = name\n",
    "        self.salary = salary\n",
    "        self.age = age\n",
    "\n",
    "    def profile(self):\n",
    "        return f\"{self.name} earns {self.salary}Rs \"\n",
    "\n",
    "    @classmethod\n",
    "    def change_company(cls, name):\n",
    "        cls.name = name\n",
    "\n",
    "    def which_generation(self):\n",
    "        return \"Older\" if self.age > 40 else \"Younger\"\n",
    "\n",
    "    @staticmethod\n",
    "    def is_salary_valid(salary):\n",
    "        return \"Salary is Valid\" if salary > 0 else \"Invalid\"\n",
    "\n",
    "\n",
    "emp1 = Employee(\"Harman\", 80000, 24)\n",
    "emp2 = Employee(\"Amar\", 90000, 48)\n",
    "emp3 = Employee(\"Vanshika\", 100000, 27)\n",
    "emp4 = Employee(\"Jason\", 135000, 54)\n",
    "print(emp1.profile())\n",
    "print(emp1.which_generation())\n",
    "print(emp4.profile())\n",
    "print(emp1.which_generation())\n",
    "print(emp2.profile())\n",
    "print(Employee.is_salary_valid(emp3.salary))\n"
   ]
  },
  {
   "cell_type": "code",
   "execution_count": null,
   "id": "abb3beda",
   "metadata": {},
   "outputs": [
    {
     "name": "stdout",
     "output_type": "stream",
     "text": [
      "7000\n",
      "4000\n"
     ]
    }
   ],
   "source": [
    "class BankAccount:\n",
    "    def __init__(self, owner, balance):\n",
    "        self.owner = owner\n",
    "        self.__balance = balance\n",
    "\n",
    "    @property\n",
    "    def balance(self):  # read-only property\n",
    "        return self.__balance\n",
    "\n",
    "    def deposit(self, amount):\n",
    "        if amount > 0:\n",
    "            self.__balance += amount\n",
    "        else:\n",
    "            raise ValueError(\"Invalid deposit\")\n",
    "\n",
    "    def withdraw(self, amount):\n",
    "        if 0 < amount <= self.__balance:\n",
    "            self.__balance -= amount\n",
    "        else:\n",
    "            raise ValueError(\"Invalid withdrawal\")\n",
    "\n",
    "acc = BankAccount(\"Harman\", 5000)\n",
    "acc.deposit(2000)\n",
    "print(acc.balance)   \n",
    "acc.withdraw(3000)\n",
    "print(acc.balance)   \n"
   ]
  },
  {
   "cell_type": "code",
   "execution_count": 38,
   "id": "7a234513",
   "metadata": {},
   "outputs": [
    {
     "name": "stdout",
     "output_type": "stream",
     "text": [
      "<class '__main__.SmartPhone'> Calling someone..\n",
      "SmartPhone'> Capturing the photo...\n",
      "<class '__main__.SmartPhone'> Searching Google.com on browser\n"
     ]
    }
   ],
   "source": [
    "class Camera:\n",
    "    def capture(self):\n",
    "        print(f\"{str(self.__class__).split(\".\")[1]} Capturing the photo...\")\n",
    "    \n",
    "class Phone:\n",
    "    def call(self):\n",
    "        print(f\"{self.__class__} Calling someone..\")\n",
    "        \n",
    "class SmartPhone(Camera, Phone):\n",
    "    def browse(self):\n",
    "        print(f\"{self.__class__} Searching Google.com on browser\")\n",
    "        \n",
    "samsung = SmartPhone()\n",
    "samsung.call()\n",
    "samsung.capture()\n",
    "samsung.browse()"
   ]
  },
  {
   "cell_type": "code",
   "execution_count": 29,
   "id": "ad78991c",
   "metadata": {},
   "outputs": [
    {
     "name": "stdout",
     "output_type": "stream",
     "text": [
      "meow...\n",
      "Bark bark..\n"
     ]
    }
   ],
   "source": [
    "class Animal:\n",
    "    def sound(self):\n",
    "        print(\"hhhhh....goof goof\")\n",
    "\n",
    "class Cat(Animal):\n",
    "    def sound(self):\n",
    "        print(\"meow...\")\n",
    "    \n",
    "class Dog(Animal):\n",
    "    def sound(self):\n",
    "        print(\"Bark bark..\")\n",
    "        \n",
    "ani, billo = Cat(), Dog()\n",
    "\n",
    "ani.sound()\n",
    "billo.sound()"
   ]
  },
  {
   "cell_type": "code",
   "execution_count": 33,
   "id": "0f01cb6f",
   "metadata": {},
   "outputs": [
    {
     "name": "stdout",
     "output_type": "stream",
     "text": [
      "Ritik earns 70000 Rs\n"
     ]
    }
   ],
   "source": [
    "class Person:\n",
    "    def __init__(self, name):\n",
    "        self.name = name\n",
    "        \n",
    "class Employee(Person):\n",
    "    def __init__(self, name, salary):\n",
    "        super().__init__(name)\n",
    "        self.salary = salary\n",
    "        \n",
    "emp1 = Employee(\"Ritik\", \"70000\")\n",
    "print(emp1.name,\"earns\" ,emp1.salary, \"Rs\")"
   ]
  },
  {
   "cell_type": "code",
   "execution_count": null,
   "id": "91e34501",
   "metadata": {},
   "outputs": [
    {
     "name": "stdout",
     "output_type": "stream",
     "text": [
      "D init\n"
     ]
    }
   ],
   "source": [
    "class A:\n",
    "    def __init__(self):\n",
    "        print(\"A init\")\n",
    "\n",
    "class B(A):\n",
    "    def __init__(self):\n",
    "        super().__init__()\n",
    "        print(\"B init\")\n",
    "\n",
    "class C(A):\n",
    "    def __init__(self):\n",
    "        super().__init__()\n",
    "        print(\"C init\")\n",
    "\n",
    "class D(C, B):\n",
    "    def __init__(self):\n",
    "        super().__init__()\n",
    "        print(\"D init\")\n",
    "\n",
    "d = D()\n",
    "\n"
   ]
  },
  {
   "cell_type": "code",
   "execution_count": null,
   "id": "af93f439",
   "metadata": {},
   "outputs": [
    {
     "name": "stdout",
     "output_type": "stream",
     "text": [
      "Dog Barks\n",
      "Cat Meow\n"
     ]
    }
   ],
   "source": [
    "class Dog:\n",
    "    def sound(self): return \"Dog Barks\"\n",
    "\n",
    "class Cat:\n",
    "    def sound(self): return \"Cat Meow\"\n",
    "\n",
    "for animal in Dog(), Cat():\n",
    "    print(animal.sound())\n",
    "    \n",
    "'''Common interface: .sound() → different behavior.'''"
   ]
  },
  {
   "cell_type": "code",
   "execution_count": null,
   "id": "f2523e43",
   "metadata": {},
   "outputs": [
    {
     "name": "stdout",
     "output_type": "stream",
     "text": [
      "Quack Quack..\n",
      "I can imitate a duck\n"
     ]
    }
   ],
   "source": [
    "class Duck:\n",
    "    def quack(self):\n",
    "        return \"Quack Quack..\"\n",
    "\n",
    "class Person:\n",
    "    def quack(self):\n",
    "        return \"I can imitate a duck\"\n",
    "    \n",
    "def make_it_quack(obj):\n",
    "    return obj.quack()\n",
    "\n",
    "print(make_it_quack(Duck()))\n",
    "print(make_it_quack(Person()))\n",
    "\n",
    "# WHY needed?\n",
    "# - You can pass ANY object with .quack() method\n",
    "# - No need for rigid type hierarchies"
   ]
  },
  {
   "cell_type": "code",
   "execution_count": null,
   "id": "00cafa25",
   "metadata": {},
   "outputs": [
    {
     "name": "stdout",
     "output_type": "stream",
     "text": [
      "7 13\n"
     ]
    }
   ],
   "source": [
    "class Vector:\n",
    "    def __init__(self, x, y):\n",
    "        self.x, self.y = x, y\n",
    "    \n",
    "    def __add__(self, other):\n",
    "        return Vector(self.x + other.x, self.y + other.y)\n",
    "    \n",
    "    def __str__(self):\n",
    "        return f\"{self.x} {self.y}\"\n",
    "    \n",
    "v1 = Vector(4, 5)\n",
    "v2 = Vector(3, 8)\n",
    "\n",
    "print(v1 + v2)"
   ]
  },
  {
   "cell_type": "code",
   "execution_count": null,
   "id": "4935f91e",
   "metadata": {},
   "outputs": [
    {
     "name": "stdout",
     "output_type": "stream",
     "text": [
      "(10, 20)\n"
     ]
    }
   ],
   "source": [
    "class Demo:\n",
    "    def show(self, x):\n",
    "        print(x)\n",
    "\n",
    "    def show(self, x, y):   # overrides previous one\n",
    "        print(x, y)\n",
    "\n",
    "d = Demo()\n",
    "# d.show(10) \n",
    "d.show(10, 20)  # it works\n"
   ]
  },
  {
   "cell_type": "code",
   "execution_count": null,
   "id": "316d506a",
   "metadata": {},
   "outputs": [
    {
     "name": "stdout",
     "output_type": "stream",
     "text": [
      "43\n",
      "176\n",
      "20\n"
     ]
    }
   ],
   "source": [
    "class Demo:\n",
    "    def show(self, *args):\n",
    "        return sum(args)\n",
    "\n",
    "d = Demo()\n",
    "print(d.show(43))\n",
    "print(d.show(83, 93))\n",
    "print(d.show(4, 6, 10))\n"
   ]
  },
  {
   "cell_type": "code",
   "execution_count": 77,
   "id": "8fb7996d",
   "metadata": {},
   "outputs": [
    {
     "name": "stdout",
     "output_type": "stream",
     "text": [
      "6936.26\n"
     ]
    }
   ],
   "source": [
    "from abc import ABC, abstractmethod\n",
    "\n",
    "class Shape(ABC):\n",
    "    @abstractmethod\n",
    "    def area(self):\n",
    "        pass\n",
    "    \n",
    "class Circle(Shape):\n",
    "    def __init__(self, radius):\n",
    "        self.radius = radius\n",
    "    def area(self):\n",
    "        return 3.14 * self.radius ** 2\n",
    "        \n",
    "c1 = Circle(47)\n",
    "print(c1.area())"
   ]
  },
  {
   "cell_type": "code",
   "execution_count": 78,
   "id": "6b6b5315",
   "metadata": {},
   "outputs": [
    {
     "name": "stdout",
     "output_type": "stream",
     "text": [
      "Item: Pizza\n",
      "Extras: ('Cheese', 'Olives')\n",
      "Price: 500\n",
      "Meta: {'size': 'Large', 'delivery': 'Yes'}\n"
     ]
    }
   ],
   "source": [
    "def order(item, *extras, price=0, **meta):\n",
    "    print(\"Item:\", item)\n",
    "    print(\"Extras:\", extras)\n",
    "    print(\"Price:\", price)\n",
    "    print(\"Meta:\", meta)\n",
    "\n",
    "order(\"Pizza\", \"Cheese\", \"Olives\", price=500, size=\"Large\", delivery=\"Yes\")\n"
   ]
  },
  {
   "cell_type": "code",
   "execution_count": 79,
   "id": "55826edf",
   "metadata": {},
   "outputs": [
    {
     "name": "stdout",
     "output_type": "stream",
     "text": [
      "Name: Harman, Age: 25\n",
      "Name: Sahil, Age: 30\n"
     ]
    }
   ],
   "source": [
    "def intro(name, age):\n",
    "    print(f\"Name: {name}, Age: {age}\")\n",
    "\n",
    "intro(\"Harman\", 25)            # positional\n",
    "intro(age=30, name=\"Sahil\")    # keyword\n"
   ]
  },
  {
   "cell_type": "code",
   "execution_count": 1,
   "id": "10b73275",
   "metadata": {},
   "outputs": [
    {
     "name": "stdout",
     "output_type": "stream",
     "text": [
      "SmartPhone'> Capturing the photo...\n",
      "has 32 megapixel Camera\n",
      "with 5G Generation\n",
      "<class '__main__.SmartPhone'> Calling someone..\n",
      "<class '__main__.SmartPhone'> Searching Google.com on browser\n"
     ]
    }
   ],
   "source": [
    "class Camera:\n",
    "    def __init__(self, megapixel=16):\n",
    "        self.mg = megapixel\n",
    "        print(f\"{str(self.__class__).split(\".\")[1]} Capturing the photo...\")\n",
    "        print (f\"has {self.mg} megapixel Camera\")\n",
    "    \n",
    "class Phone:\n",
    "    def __init__(self, generation=\"2G\"):\n",
    "        self.gen = generation\n",
    "        super().__init__(32)\n",
    "        print (f\"with {self.gen} Generation\")\n",
    "        print(f\"{self.__class__} Calling someone..\")\n",
    "        \n",
    "class SmartPhone(Phone, Camera):\n",
    "    def __init__(self, mg, gen):\n",
    "        super().__init__(\"5G\")\n",
    "        # call init of camera add mg attribute\n",
    "        # call init of phone add gen attribute\n",
    "    def browse(self):\n",
    "        print(f\"{self.__class__} Searching Google.com on browser\")\n",
    "        \n",
    "samsung = SmartPhone(32,\"4g\")\n",
    "\n",
    "samsung.browse()"
   ]
  }
 ],
 "metadata": {
  "kernelspec": {
   "display_name": "3.13.7",
   "language": "python",
   "name": "python3"
  },
  "language_info": {
   "codemirror_mode": {
    "name": "ipython",
    "version": 3
   },
   "file_extension": ".py",
   "mimetype": "text/x-python",
   "name": "python",
   "nbconvert_exporter": "python",
   "pygments_lexer": "ipython3",
   "version": "3.13.7"
  }
 },
 "nbformat": 4,
 "nbformat_minor": 5
}
