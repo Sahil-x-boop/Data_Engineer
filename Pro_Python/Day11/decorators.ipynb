{
 "cells": [
  {
   "cell_type": "markdown",
   "id": "a5148d09",
   "metadata": {},
   "source": [
    "##### A __decorator__ in Python is a function that modifies the behavior of another function or class without changing its actual code.\n",
    "It’s a higher-order function → takes another function as input and returns a new function.\n",
    "\n",
    "Why do we need decorators?\n",
    "\n",
    "- To add reusable functionality (like logging, authentication, caching) without rewriting code.\n",
    "\n",
    "- To follow DRY principle (Don’t Repeat Yourself).\n",
    "\n",
    "- To make code cleaner and more modular.\n",
    "\n",
    "Where used?\n",
    "\n",
    "- Web frameworks (e.g., Flask/Django routes @app.route).\n",
    "\n",
    "- Logging, debugging, authentication.\n",
    "\n",
    "- Timing and performance measurement.\n",
    "\n",
    "- Class/property decorators (@classmethod, @staticmethod, @property)."
   ]
  },
  {
   "cell_type": "code",
   "execution_count": 6,
   "id": "02df927d",
   "metadata": {},
   "outputs": [
    {
     "name": "stdout",
     "output_type": "stream",
     "text": [
      "Lets Perform the function say_welcome\n",
      "Lets Begin the process: What a Beautiful Day\n",
      "Welcome to our Space, Anil\n",
      "Thankyou very much Anil for coming 🦫\n"
     ]
    }
   ],
   "source": [
    "def my_decorator(method):\n",
    "    def wrapper(name):\n",
    "        print(f\"Lets Perform the function {method.__name__}\")\n",
    "        print(\"Lets Begin the process: What a Beautiful Day\")\n",
    "        method(name)\n",
    "        print(f\"Thankyou very much {name} for coming 🦫\")\n",
    "    return wrapper\n",
    "\n",
    "@my_decorator\n",
    "def say_welcome(name):\n",
    "    print(f\"Welcome to our Space, {name}\")\n",
    "\n",
    "say_welcome(\"Anil\")"
   ]
  },
  {
   "cell_type": "code",
   "execution_count": null,
   "id": "966df168",
   "metadata": {},
   "outputs": [],
   "source": []
  },
  {
   "cell_type": "markdown",
   "id": "ce9255b5",
   "metadata": {},
   "source": [
    "- The @my_decorator syntax is a shortcut for the statement say_welcome = my_decorator(say_welcome). It passes the say_welcome function as an argument to my_decorator.\n",
    "- The my_decorator function receives say_welcome as its func argument.\n",
    "my_decorator defines a new inner function called wrapper. This new function contains the \"before\" and \"after\" print statements, along - with the call to the original method() (which is say_welcome).\n",
    "- my_decorator returns the new wrapper function.\n",
    "- The name say_welcome is reassigned to reference the returned wrapper function.\n",
    "- When you call say_welcome(), you are actually executing the wrapper function, which in turn calls the original say_welcome function inside of it"
   ]
  },
  {
   "cell_type": "code",
   "execution_count": 7,
   "id": "af85d789",
   "metadata": {},
   "outputs": [
    {
     "name": "stdout",
     "output_type": "stream",
     "text": [
      "<function loop.<locals>.decorator.<locals>.wrapper at 0x7b27e1531260>\n"
     ]
    }
   ],
   "source": [
    "import random\n",
    "\n",
    "def mode(word, n):\n",
    "    def decorator(func):\n",
    "        def wrapper(*args):\n",
    "            result = None\n",
    "            for _ in range(n):\n",
    "                result = func(*args)\n",
    "            return word + \" \" + result\n",
    "        return wrapper\n",
    "    return decorator\n",
    "\n",
    "def loop(n):\n",
    "    def decorator(func):\n",
    "        def wrapper(*args):\n",
    "            result = None\n",
    "            for _ in range(n):\n",
    "                result = func(*args)\n",
    "            return result\n",
    "        return wrapper\n",
    "    return decorator\n",
    "\n",
    "\n",
    "friends = [\"Vinchi\", \"Akshat\", \"Hemlata\"]\n",
    "\n",
    "@loop\n",
    "@mode('get', 4)\n",
    "def aditya(word):\n",
    "    return word  \n",
    "\n",
    "print(aditya(random.choice(friends)))\n"
   ]
  },
  {
   "cell_type": "code",
   "execution_count": null,
   "id": "6d812d30",
   "metadata": {},
   "outputs": [
    {
     "name": "stdout",
     "output_type": "stream",
     "text": [
      "Process Executed 50%\n",
      "You've Completed Half of the Process\n",
      "Process Executed 50%\n",
      "Yay!! You've Completed the entire process of the program.\n",
      "Process Executed 100%\n",
      "Process Executed 100%\n"
     ]
    }
   ],
   "source": [
    "\n",
    "def progress_decorator(fun):\n",
    "    def dec_wrapper():\n",
    "        print(\"Process Executed 50%\")\n",
    "        fun()\n",
    "        print(\"Process Executed 100%\")\n",
    "    return dec_wrapper\n",
    "\n",
    "@progress_decorator\n",
    "def greet():\n",
    "    print(\"You've Completed Half of the Process\")\n",
    "    def completed():\n",
    "        print(\"Yay!! You've Completed the entire process of the program.\")\n",
    "    completed() \n",
    "\n",
    "greet()"
   ]
  },
  {
   "cell_type": "code",
   "execution_count": null,
   "id": "0b1a1bc1",
   "metadata": {},
   "outputs": [
    {
     "name": "stdout",
     "output_type": "stream",
     "text": [
      "Hello, Sahil!\n",
      "Hello, Sahil!\n",
      "Hello, Sahil!\n",
      "Greeted Sahil\n"
     ]
    }
   ],
   "source": [
    "    "
   ]
  },
  {
   "cell_type": "code",
   "execution_count": 2,
   "id": "2821c66a",
   "metadata": {},
   "outputs": [
    {
     "name": "stdout",
     "output_type": "stream",
     "text": [
      "Lets Start\n",
      "Hello Harman\n",
      "Hello Harman\n",
      "Hello Harman\n",
      "Thankyou for comming\n",
      "How are u all \n"
     ]
    }
   ],
   "source": [
    "import random\n",
    "\n",
    "def repeat(n):\n",
    "    def decorator(func):\n",
    "        def wrapper(name):\n",
    "            print(\"Lets Start\")\n",
    "            result = None\n",
    "            for _ in range(n):\n",
    "                result = func(name)\n",
    "            print(\"Thankyou for comming\")\n",
    "            return result\n",
    "        return wrapper\n",
    "    return decorator\n",
    "        \n",
    "friends = [\"Ajay\", \"Vikram\", \"Harman\"]\n",
    "@repeat(len(friends))\n",
    "def greet(name):\n",
    "    print(f\"Hello {name}\")\n",
    "    return \"How are u all \"\n",
    "\n",
    "print(greet(random.choice(friends)))    "
   ]
  },
  {
   "cell_type": "code",
   "execution_count": null,
   "id": "f780a869",
   "metadata": {},
   "outputs": [
    {
     "name": "stdout",
     "output_type": "stream",
     "text": [
      "args=(1, 2, 3), kwargs={'name': 'Ayushi', 'n2': 'Garima'}\n"
     ]
    }
   ],
   "source": []
  },
  {
   "cell_type": "code",
   "execution_count": null,
   "id": "dc340439",
   "metadata": {},
   "outputs": [
    {
     "name": "stdout",
     "output_type": "stream",
     "text": [
      "a=1, b=(2, 3, 4), c=10, d=5, e={'f': 6, 'g': 7}\n"
     ]
    }
   ],
   "source": []
  }
 ],
 "metadata": {
  "kernelspec": {
   "display_name": "3.13.7",
   "language": "python",
   "name": "python3"
  },
  "language_info": {
   "codemirror_mode": {
    "name": "ipython",
    "version": 3
   },
   "file_extension": ".py",
   "mimetype": "text/x-python",
   "name": "python",
   "nbconvert_exporter": "python",
   "pygments_lexer": "ipython3",
   "version": "3.13.7"
  }
 },
 "nbformat": 4,
 "nbformat_minor": 5
}
