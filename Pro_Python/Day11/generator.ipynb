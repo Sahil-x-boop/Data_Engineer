{
 "cells": [
  {
   "cell_type": "markdown",
   "id": "9a31890c",
   "metadata": {},
   "source": [
    "### Generators and Memory Savings\n",
    "\n",
    "Generators achieve memory savings by employing \"lazy evaluation.\" Unlike traditional functions that might compute and store an entire sequence or dataset in memory before returning it, generators produce values one at a time, only when requested. This means that: \n",
    "\n",
    "**On-demand generation:** A generator function pauses its execution and \"yields\" a single value, then resumes from where it left off when the next value is explicitly requested. This avoids the need to store all values simultaneously."
   ]
  },
  {
   "cell_type": "code",
   "execution_count": 5,
   "id": "343163b9",
   "metadata": {},
   "outputs": [
    {
     "name": "stdout",
     "output_type": "stream",
     "text": [
      "[0, 1, 4, 9, 16]\n",
      "<generator object <genexpr> at 0x7cf9583bd700>\n",
      "0\n",
      "1\n",
      "4\n",
      "9\n",
      "16\n"
     ]
    }
   ],
   "source": [
    "squares_list = [x*x for x in range(5)]  \n",
    "\n",
    "squares_gen = (x*x for x in range(5))\n",
    "\n",
    "print(squares_list)         \n",
    "print(squares_gen)    \n",
    "\n",
    "for val in squares_gen:\n",
    "    print(val)  \n"
   ]
  },
  {
   "cell_type": "code",
   "execution_count": 64,
   "id": "31553379",
   "metadata": {},
   "outputs": [
    {
     "name": "stdout",
     "output_type": "stream",
     "text": [
      "0\n",
      "17\n",
      "40\n"
     ]
    }
   ],
   "source": [
    "def accumulator():\n",
    "    total = 0\n",
    "    \n",
    "    while True:\n",
    "        term = yield total\n",
    "        \n",
    "        if term is None:\n",
    "            continue\n",
    "        \n",
    "        total += term\n",
    "\n",
    "\n",
    "g = accumulator()\n",
    "print(next(g)) \n",
    "print(g.send(17))\n",
    "print(g.send(23))\n",
    "g.close()"
   ]
  },
  {
   "cell_type": "code",
   "execution_count": null,
   "id": "4cb7ef67",
   "metadata": {},
   "outputs": [
    {
     "name": "stdout",
     "output_type": "stream",
     "text": [
      "Start generator\n",
      "1\n"
     ]
    }
   ],
   "source": [
    "\n",
    "def simple_gen():\n",
    "    print(\"Start generator\")\n",
    "    yield 1\n",
    "    print(\"After first yield\")\n",
    "    yield 2\n",
    "    print(\"After second yield\")\n",
    "    yield 3\n",
    "    print(\"Generator ends\")\n",
    "\n",
    "gen = simple_gen()\n",
    "print(next(gen))\n",
    "print(next(gen))\n",
    "print(next(gen))\n"
   ]
  },
  {
   "cell_type": "code",
   "execution_count": 42,
   "id": "c70768dc",
   "metadata": {},
   "outputs": [
    {
     "name": "stdout",
     "output_type": "stream",
     "text": [
      "1\n",
      "1\n",
      "2\n"
     ]
    }
   ],
   "source": [
    "def normal_func():\n",
    "    return 1\n",
    "    return 2   \n",
    "\n",
    "def gen_func():\n",
    "    yield 1\n",
    "    yield 2\n",
    "\n",
    "print(normal_func())\n",
    "gen = gen_func()\n",
    "print(next(gen))\n",
    "print(next(gen))\n"
   ]
  },
  {
   "cell_type": "code",
   "execution_count": null,
   "id": "adbe5e75",
   "metadata": {},
   "outputs": [
    {
     "name": "stdout",
     "output_type": "stream",
     "text": [
      "0\n",
      "1\n",
      "[4, 9, 16]\n",
      "285\n"
     ]
    }
   ],
   "source": [
    "gen = (x * x for x in range(5))\n",
    "print(next(gen))  \n",
    "print(next(gen))  \n",
    "print(list(gen))  \n",
    "\n",
    "print(sum(x*x for x in range(10)))  \n"
   ]
  },
  {
   "cell_type": "code",
   "execution_count": 62,
   "id": "77ef08d3",
   "metadata": {},
   "outputs": [
    {
     "name": "stdout",
     "output_type": "stream",
     "text": [
      "1\n",
      "Return value: done\n"
     ]
    }
   ],
   "source": [
    "def g():\n",
    "    yield 1\n",
    "    return \"done\"\n",
    "\n",
    "gen = g()\n",
    "print(next(gen))      # 1\n",
    "try:\n",
    "    next(gen)\n",
    "except StopIteration as e:\n",
    "    print(\"Return value:\", e.value)  # \"done\"\n"
   ]
  },
  {
   "cell_type": "code",
   "execution_count": 73,
   "id": "ffc2ccd3",
   "metadata": {},
   "outputs": [
    {
     "name": "stdout",
     "output_type": "stream",
     "text": [
      "Creating generator...\n",
      "Getting first value...\n",
      "Outer start\n",
      "Inner start\n",
      "1\n",
      "Getting second value...\n",
      "Inner middle\n",
      "2\n",
      "Inner end\n",
      "Outer end\n"
     ]
    }
   ],
   "source": [
    "\n",
    "def outer():\n",
    "    print(\"Outer start\")\n",
    "    yield from inner()\n",
    "    print(\"Outer end\")\n",
    "\n",
    "def inner():\n",
    "    print(\"Inner start\")\n",
    "    yield 1\n",
    "    print(\"Inner middle\")\n",
    "    yield 2\n",
    "    print(\"Inner end\")\n",
    "\n",
    "print(\"Creating generator...\")\n",
    "g4 = outer()\n",
    "print(\"Getting first value...\")\n",
    "try:\n",
    "    print(next(g4))\n",
    "    print(\"Getting second value...\")\n",
    "    print(next(g4))\n",
    "    print(next(g4))\n",
    "except Exception:\n",
    "    pass\n"
   ]
  },
  {
   "cell_type": "code",
   "execution_count": null,
   "id": "e7e9bac3",
   "metadata": {},
   "outputs": [],
   "source": []
  }
 ],
 "metadata": {
  "kernelspec": {
   "display_name": "venv",
   "language": "python",
   "name": "python3"
  },
  "language_info": {
   "codemirror_mode": {
    "name": "ipython",
    "version": 3
   },
   "file_extension": ".py",
   "mimetype": "text/x-python",
   "name": "python",
   "nbconvert_exporter": "python",
   "pygments_lexer": "ipython3",
   "version": "3.13.7"
  }
 },
 "nbformat": 4,
 "nbformat_minor": 5
}
