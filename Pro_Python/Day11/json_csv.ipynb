{
 "cells": [
  {
   "cell_type": "code",
   "execution_count": 1,
   "id": "5c14a4ab",
   "metadata": {},
   "outputs": [],
   "source": [
    "import json"
   ]
  },
  {
   "cell_type": "code",
   "execution_count": 3,
   "id": "e6ccc818",
   "metadata": {},
   "outputs": [],
   "source": [
    "data = {\n",
    "  \"name\": \"Shubham\",\n",
    "  \"age\": 24,\n",
    "  \"skills\": [\"Linux\", \"PySpark\", \"MySQL\"],\n",
    "  \"company\": \"Bestpeers\"\n",
    "}\n",
    "\n",
    "with open(\"user.json\", \"w\") as file:\n",
    "    json.dump(data, file, indent=4)"
   ]
  },
  {
   "cell_type": "code",
   "execution_count": null,
   "id": "d04e6650",
   "metadata": {},
   "outputs": [
    {
     "name": "stdout",
     "output_type": "stream",
     "text": [
      "{'name': 'Shubham', 'age': 24, 'skills': ['Linux', 'PySpark', 'MySQL'], 'company': 'Bestpeers'}\n",
      "['Linux', 'PySpark', 'MySQL']\n"
     ]
    }
   ],
   "source": [
    "with open(\"user.json\", \"r\") as file:\n",
    "    data = json.load(file)\n",
    "\n",
    "print(data)\n",
    "print(data[\"skills\"])"
   ]
  },
  {
   "cell_type": "code",
   "execution_count": null,
   "id": "83ab0cbe",
   "metadata": {},
   "outputs": [],
   "source": []
  },
  {
   "cell_type": "code",
   "execution_count": 24,
   "id": "d97a0db9",
   "metadata": {},
   "outputs": [
    {
     "name": "stdout",
     "output_type": "stream",
     "text": [
      "Alice has 1500 followers\n"
     ]
    }
   ],
   "source": [
    "\n",
    "api_response = '{\"user\":\"Alice\",\"location\":\"Indore\",\"followers\":1500}'\n",
    "user = json.loads(api_response)\n",
    "\n",
    "print(f\"{user['user']} has {user['followers']} followers\")\n"
   ]
  },
  {
   "cell_type": "code",
   "execution_count": null,
   "id": "1000b452",
   "metadata": {},
   "outputs": [],
   "source": [
    "import csv"
   ]
  },
  {
   "cell_type": "code",
   "execution_count": 55,
   "id": "379ea5dc",
   "metadata": {},
   "outputs": [],
   "source": [
    "data = [\n",
    "    [\"id\", \"name\", \"age\"],\n",
    "    [1, \"Anshika\", 43],\n",
    "    [2, \"Manu\", 23],\n",
    "    [3, \"Harish\", 28],\n",
    "    [4, \"Surish\", 31]\n",
    "    \n",
    "]                                     \n",
    "\n",
    "with open(\"user.csv\", \"w\", newline=\"\") as file:\n",
    "    writer = csv.writer(file)\n",
    "    writer.writerows(data)"
   ]
  },
  {
   "cell_type": "code",
   "execution_count": 29,
   "id": "aeb0e397",
   "metadata": {},
   "outputs": [
    {
     "name": "stdout",
     "output_type": "stream",
     "text": [
      "['id', 'name', 'age']\n",
      "['1', 'Anshika', '43']\n",
      "['2', 'Manu', '23']\n",
      "['3', 'Harish', '28']\n"
     ]
    }
   ],
   "source": [
    "with open(\"user.csv\", \"r\") as file:\n",
    "    reader = csv.reader(file)\n",
    "    for row in reader:\n",
    "        print(row)"
   ]
  },
  {
   "cell_type": "code",
   "execution_count": 44,
   "id": "c8567ec1",
   "metadata": {},
   "outputs": [],
   "source": [
    "data = [\n",
    "    {\"id\": 1, \"name\": \"Alisha\", \"salary\": 80000},\n",
    "    {\"id\": 2, \"name\": \"Raghu\", \"salary\": 64000}\n",
    "]\n",
    "\n",
    "with open(\"emp.csv\", \"w\", newline=\"\") as file:\n",
    "    fieldnames = [\"id\", \"name\", \"salary\"]\n",
    "    writer = csv.DictWriter(file, fieldnames=fieldnames)\n",
    "    writer.writeheader()\n",
    "    writer.writerows(data)"
   ]
  },
  {
   "cell_type": "code",
   "execution_count": 127,
   "id": "b91161a0",
   "metadata": {},
   "outputs": [
    {
     "name": "stdout",
     "output_type": "stream",
     "text": [
      "Anshika 43\n",
      "Surish 31\n",
      "<csv.DictReader object at 0x78126548e750>\n"
     ]
    }
   ],
   "source": [
    "import csv\n",
    "\n",
    "with open(\"user.csv\", \"r\") as file:\n",
    "    reader = csv.DictReader(file)\n",
    "    for row in reader :\n",
    "        if int(row[\"age\"]) > 28:\n",
    "            print(row[\"name\"], row[\"age\"])\n",
    "            \n",
    "print(csv.DictReader(reader))\n"
   ]
  },
  {
   "cell_type": "code",
   "execution_count": null,
   "id": "9ed61d42",
   "metadata": {},
   "outputs": [
    {
     "name": "stdout",
     "output_type": "stream",
     "text": [
      "\"\\\"id\\\":\\\"0a18b567-0b58-46a1-8930-41c391217636\\\",\\\"therapeutic_area\\\":\\\"pulmonology\\\",\\\"created_at\\\":\\\"2023-01-20 08:42:49\\\",site:{'site_name': 'Lyon Medical Center', 'site_category': 'community'}\"\n"
     ]
    }
   ],
   "source": [
    "import json\n",
    "import re \n",
    "\n",
    "data = \"id=0a18b567-0b58-46a1-8930-41c391217636|therapeutic_area=pulmonology|created_at=2023-01-20 08:42:49|site={'site_name': 'Lyon Medical Center', 'site_category': 'community'}\"\n",
    "\n",
    "\n",
    "cleaned_data = data.replace('|', ',').replace('=', ':')\n",
    "\n",
    "corrected_data = re.sub(r'(\\w+)\\s*:\\s*([^,{}]+)', r'\"\\1\":\"\\2\"', cleaned_data)\n",
    "\n",
    "corrected_data = corrected_data.replace('{ \"site_name\" : \"', '{ \"site_name\":\"').replace('\", \"site_category\" : \"', '\",\"site_category\":\"')\n",
    "\n",
    "corrected_data = corrected_data.replace('}\"', '\"}')\n",
    "result = json.dumps(corrected_data, indent=4)\n",
    "print(result)"
   ]
  }
 ],
 "metadata": {
  "kernelspec": {
   "display_name": "3.13.7",
   "language": "python",
   "name": "python3"
  },
  "language_info": {
   "codemirror_mode": {
    "name": "ipython",
    "version": 3
   },
   "file_extension": ".py",
   "mimetype": "text/x-python",
   "name": "python",
   "nbconvert_exporter": "python",
   "pygments_lexer": "ipython3",
   "version": "3.13.7"
  }
 },
 "nbformat": 4,
 "nbformat_minor": 5
}
