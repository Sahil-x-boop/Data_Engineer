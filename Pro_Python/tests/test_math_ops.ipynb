{
 "cells": [
  {
   "cell_type": "code",
   "execution_count": null,
   "id": "9a7bd931",
   "metadata": {
    "title": "md"
   },
   "outputs": [],
   "source": [
    "# pylint: disable=all\n",
    "# flake8: noqa\n",
    "# This is a Markdown Heading\n",
    "\n",
    "# This is some regular text in markdown.\n",
    "# - Item 1\n",
    "# - Item 2\n",
    "\n",
    "# Here's some **bold** text and *italic* text."
   ]
  },
  {
   "cell_type": "code",
   "execution_count": null,
   "id": "11076db2",
   "metadata": {},
   "outputs": [],
   "source": [
    "# This is a code cell\n",
    "print(\"Hello from the code cell!\")\n",
    "\n",
    "def my_function():\n",
    "    return \"Function output\"\n",
    "\n",
    "print(my_function())"
   ]
  }
 ],
 "metadata": {
  "jupytext": {
   "cell_metadata_filter": "title,-all",
   "formats": "ipynb,py",
   "main_language": "python"
  },
  "kernelspec": {
   "display_name": "venv",
   "language": "python",
   "name": "python3"
  },
  "language_info": {
   "codemirror_mode": {
    "name": "ipython",
    "version": 3
   },
   "file_extension": ".py",
   "mimetype": "text/x-python",
   "name": "python",
   "nbconvert_exporter": "python",
   "pygments_lexer": "ipython3",
   "version": "3.13.7"
  }
 },
 "nbformat": 4,
 "nbformat_minor": 5
}
