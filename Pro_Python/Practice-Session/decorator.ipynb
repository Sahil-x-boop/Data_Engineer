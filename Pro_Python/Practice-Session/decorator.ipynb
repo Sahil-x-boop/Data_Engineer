{
 "cells": [
  {
   "cell_type": "markdown",
   "id": "da079ad3",
   "metadata": {},
   "source": [
    "##### A __decorator__ in Python is a function that modifies the behavior of another function or class without changing its actual code.\n"
   ]
  },
  {
   "cell_type": "code",
   "execution_count": 18,
   "id": "e21b8a11",
   "metadata": {},
   "outputs": [
    {
     "name": "stdout",
     "output_type": "stream",
     "text": [
      "you called greet_patient\n",
      "Welcome to Medicare hospital\n",
      "Hello Amit, you have a treatement in OPD!\n",
      "Thankyou for coming Amit, Please Visit Again\n",
      "\n",
      "you called meet_doctor\n",
      "Welcome to Medicare hospital\n",
      "Subash doctor will take care of you\n",
      "Thankyou for coming Subash, Please Visit Again\n",
      "\n"
     ]
    }
   ],
   "source": [
    "def decorator(input_function): \n",
    "    def new_function(name):\n",
    "        print(f\"you called {input_function.__name__}\")\n",
    "        print(\"Welcome to Medicare hospital\")\n",
    "        input_function(name)\n",
    "        print(f\"Thankyou for coming {name}, Please Visit Again\\n\")\n",
    "    return new_function\n",
    "\n",
    "@decorator\n",
    "def greet_patient(name):\n",
    "    print(f\"Hello {name}, you have a treatement in OPD!\")\n",
    "    \n",
    "@decorator\n",
    "def meet_doctor(name):\n",
    "    print(f\"{name} doctor will take care of you\")\n",
    "\n",
    "\n",
    "greet_patient(\"Amit\")\n",
    "meet_doctor(\"Subash\")"
   ]
  },
  {
   "cell_type": "code",
   "execution_count": null,
   "id": "f336bd56",
   "metadata": {},
   "outputs": [],
   "source": []
  },
  {
   "cell_type": "markdown",
   "id": "a3201a02",
   "metadata": {},
   "source": []
  },
  {
   "cell_type": "markdown",
   "id": "6f17b60d",
   "metadata": {},
   "source": []
  },
  {
   "cell_type": "markdown",
   "id": "1c14e0b6",
   "metadata": {},
   "source": []
  },
  {
   "cell_type": "markdown",
   "id": "8d564a83",
   "metadata": {},
   "source": []
  },
  {
   "cell_type": "markdown",
   "id": "9eac2ca1",
   "metadata": {},
   "source": []
  },
  {
   "cell_type": "markdown",
   "id": "2a47be6b",
   "metadata": {},
   "source": []
  }
 ],
 "metadata": {
  "kernelspec": {
   "display_name": ".venv",
   "language": "python",
   "name": "python3"
  },
  "language_info": {
   "codemirror_mode": {
    "name": "ipython",
    "version": 3
   },
   "file_extension": ".py",
   "mimetype": "text/x-python",
   "name": "python",
   "nbconvert_exporter": "python",
   "pygments_lexer": "ipython3",
   "version": "3.13.7"
  }
 },
 "nbformat": 4,
 "nbformat_minor": 5
}
