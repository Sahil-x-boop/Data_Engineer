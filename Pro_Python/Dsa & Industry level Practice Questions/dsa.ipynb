{
 "cells": [
  {
   "cell_type": "markdown",
   "id": "6c7d4675",
   "metadata": {},
   "source": [
    "##### Censored string and a string of the censored vowels, return the original uncensored string."
   ]
  },
  {
   "cell_type": "code",
   "execution_count": 4,
   "id": "5fa10e4d",
   "metadata": {},
   "outputs": [
    {
     "name": "stdout",
     "output_type": "stream",
     "text": [
      "Where did my vowels go?\n",
      "abcd\n",
      "UPPERCASE\n"
     ]
    }
   ],
   "source": [
    "\n",
    "def uncensor(text: str, use: str):\n",
    "    result = []\n",
    "    index = 0\n",
    "    for ch in text:\n",
    "        if ch != \"*\":\n",
    "            result.append(ch)\n",
    "        else:\n",
    "            result.append(use[index])\n",
    "            index += 1\n",
    "    return \"\".join(result)\n",
    "\n",
    "print(uncensor(\"Wh*r* d*d my v*w*ls g*?\", \"eeioeo\")) \n",
    "print(uncensor(\"abcd\", \"\"))\n",
    "print(uncensor(\"*PP*RC*S*\", \"UEAE\"))"
   ]
  },
  {
   "cell_type": "markdown",
   "id": "737b0a23",
   "metadata": {},
   "source": [
    "- Input: intervals = [[1,3],[2,6],[8,10],[15,18]]\n",
    "- Output: [[1,6],[8,10],[15,18]]\n",
    "- Explanation: Since intervals [1,3] and [2,6] overlap, merge them into [1,6].\n"
   ]
  },
  {
   "cell_type": "code",
   "execution_count": null,
   "id": "dc32f596",
   "metadata": {},
   "outputs": [],
   "source": [
    "# def merge(intervals: List[List[int]]) -> List[List[int]]:\n",
    "        "
   ]
  },
  {
   "cell_type": "code",
   "execution_count": 1,
   "id": "5559682d",
   "metadata": {},
   "outputs": [
    {
     "name": "stdout",
     "output_type": "stream",
     "text": [
      "[[1, 9], [10, 18], [19, 26]]\n"
     ]
    }
   ],
   "source": [
    "lists = [[2,6], [2, 5], [1, 8], [4, 9], [10, 18], [19, 21], [21, 26]]\n",
    "\n",
    "lists.sort(key= lambda x: x[0])\n",
    "\n",
    "result = []\n",
    "\n",
    "for interval in lists:\n",
    "    if not result or result[-1][1] < interval[0]:\n",
    "        result.append(interval)\n",
    "    else:\n",
    "        result[-1][1] = max(result[-1][1], interval[1])\n",
    "    \n",
    "print(result)"
   ]
  },
  {
   "cell_type": "markdown",
   "id": "e53f315a",
   "metadata": {},
   "source": [
    "#### Up the Hill, Down the Hill\n",
    "\n",
    "If a person traveled up a hill for 18mins at 20mph and then traveled back down the same path at 60mph then their average speed traveled was 30mph.\n",
    "\n",
    "Write a function that returns the average speed traveled given an uphill time, uphill rate and a downhill rate. Uphill time is given in minutes. Return the rate as an integer (mph). No rounding is necessary.\n",
    "\n",
    "Examples\n",
    "ave_spd(18, 20, 60) ➞ 30\n",
    "\n",
    "ave_spd(30, 10, 30) ➞ 15\n",
    "\n",
    "ave_spd(30, 8, 24) ➞ 12"
   ]
  },
  {
   "cell_type": "code",
   "execution_count": 2,
   "id": "be449e34",
   "metadata": {},
   "outputs": [
    {
     "name": "stdout",
     "output_type": "stream",
     "text": [
      "15.0\n",
      "12.0\n",
      "30.0\n"
     ]
    }
   ],
   "source": [
    "def average_speed(duration: int, speed1, speed2):\n",
    "    return (2 *(speed1 * speed2))/(speed1 + speed2)\n",
    "\n",
    "print(average_speed(30, 10, 30))\n",
    "print(average_speed(30, 8, 24))\n",
    "print(average_speed(18, 20, 60))"
   ]
  },
  {
   "cell_type": "code",
   "execution_count": null,
   "id": "d56fbc08",
   "metadata": {},
   "outputs": [],
   "source": []
  },
  {
   "cell_type": "markdown",
   "id": "8e528cba",
   "metadata": {},
   "source": [
    "#### First_before_second\n",
    "first_before_second(\"a rabbit jumps joyfully\", \"a\", \"j\") ➞ True\n",
    "Every instance of \"a\" occurs before every instance of \"j\".\n",
    "\n",
    "first_before_second(\"knaves knew about waterfalls\", \"k\", \"w\") ➞  True\n",
    "\n",
    "first_before_second(\"happy birthday\", \"a\", \"y\") ➞ False\n",
    "The \"a\" in \"birthday\" occurs after the \"y\" in \"happy\".\n",
    "\n",
    "first_before_second(\"precarious kangaroos\", \"k\", \"a\") ➞ False\n",
    "Notes\n",
    "All strings will be in lower case.\n",
    "All strings will contain the first and second letters at least once.\n",
    "\n",
    "Test.assert_equals(first_before_second(\"a rabbit jumps joyfully\", \"a\", \"j\"), True)\n",
    "\n",
    "Test.assert_equals(first_before_second(\"knaves knew about waterfalls\", \"k\", \"w\"),  True)\n",
    "\n",
    "Test.assert_equals(first_before_second(\"maria makes money\", \"m\", \"o\"), True)\n",
    "\n",
    "Test.assert_equals(first_before_second(\"the hostess made pecan pie\", \"h\", \"p\"), True)\n",
    "\n",
    "Test.assert_equals(first_before_second(\"barry the butterfly flew away\", \"b\", \"f\"), True)\n",
    "\n",
    "Test.assert_equals(first_before_second(\"moody muggles\", \"m\", \"g\"), True)\n",
    "\n",
    "Test.assert_equals(first_before_second(\"happy birthday\", \"a\", \"y\"), False)\n",
    "\n",
    "Test.assert_equals(first_before_second(\"precarious kangaroos\", \"k\", \"a\"), False)\n",
    "\n",
    "Test.assert_equals(first_before_second(\"maria makes money\", \"m\", \"i\"), False)\n",
    "\n",
    "Test.assert_equals(first_before_second(\"taken by the beautiful sunrise\", \"u\", \"s\"), False)\n",
    "\n",
    "Test.assert_equals(first_before_second(\"sharp cheddar biscuit\", \"t\", \"s\"), False)\n",
    "\n",
    "Test.assert_equals(first_before_second(\"moody muggles\", \"m\", \"o\"), False)"
   ]
  },
  {
   "cell_type": "code",
   "execution_count": 61,
   "id": "5e3d6839",
   "metadata": {},
   "outputs": [
    {
     "name": "stdout",
     "output_type": "stream",
     "text": [
      "False\n",
      "False\n",
      "True\n"
     ]
    }
   ],
   "source": [
    "def first_before_second(text: str,first: str, second: str) -> bool:\n",
    "    second_appearance = text.find(second)\n",
    "    if text[second_appearance:].find(first) > -1:\n",
    "        return False\n",
    "    else:\n",
    "        return True\n",
    "\n",
    "print(first_before_second(\"sharp cheddar biscuit\", \"t\", \"s\"))\n",
    "print(first_before_second(\"happy birthday\", \"a\", \"y\"))\n",
    "print(first_before_second(\"a rabbit jumps joyfully\", \"a\", \"j\"))"
   ]
  },
  {
   "cell_type": "code",
   "execution_count": 77,
   "id": "3e7108d1",
   "metadata": {},
   "outputs": [
    {
     "data": {
      "text/plain": [
       "'I love coding in Python'"
      ]
     },
     "execution_count": 77,
     "metadata": {},
     "output_type": "execute_result"
    }
   ],
   "source": [
    "sentence = \"I love love coding in Python love Python\"\n",
    "\n",
    "def remove_duplicates(sentence):\n",
    "    splited_sentence = sentence.split()\n",
    "    result = []\n",
    "    [result.append(word) for word in splited_sentence if word not in result]\n",
    "    return \" \".join(result)\n",
    "\n",
    "remove_duplicates(\"I love love coding in Python Python\")\n",
    "    "
   ]
  },
  {
   "cell_type": "code",
   "execution_count": null,
   "id": "f2b0c88f",
   "metadata": {},
   "outputs": [],
   "source": []
  }
 ],
 "metadata": {
  "kernelspec": {
   "display_name": "3.13.7",
   "language": "python",
   "name": "python3"
  },
  "language_info": {
   "codemirror_mode": {
    "name": "ipython",
    "version": 3
   },
   "file_extension": ".py",
   "mimetype": "text/x-python",
   "name": "python",
   "nbconvert_exporter": "python",
   "pygments_lexer": "ipython3",
   "version": "3.13.7"
  }
 },
 "nbformat": 4,
 "nbformat_minor": 5
}
