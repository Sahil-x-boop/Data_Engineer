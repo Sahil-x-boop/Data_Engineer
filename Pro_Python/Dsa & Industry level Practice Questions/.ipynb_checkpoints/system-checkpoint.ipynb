{
 "cells": [
  {
   "cell_type": "markdown",
   "id": "7309cc37",
   "metadata": {},
   "source": [
    "### Problem 1: Netflix Recommendation Engine - Memory Efficient Processing\n",
    "\n",
    "Problem: Find users who watched at least 5 Sci-Fi shows with avg watch time > 45 minutes in last 30 days\n"
   ]
  },
  {
   "cell_type": "code",
   "execution_count": null,
   "id": "662e4748",
   "metadata": {},
   "outputs": [],
   "source": []
  },
  {
   "cell_type": "code",
   "execution_count": 7,
   "id": "eb587769",
   "metadata": {},
   "outputs": [
    {
     "data": {
      "text/plain": [
       "'[[{\"user_id\": \"U001\", \"show\": \"Stranger Things\", \"genre\": \"Sci-Fi\", \"watch_time\": 52, \"date\": \"2025-09-15\"}, {\"user_id\": \"U001\", \"show\": \"Black Mirror\", \"genre\": \"Sci-Fi\", \"watch_time\": 48, \"date\": \"2025-09-20\"}, {\"user_id\": \"U001\", \"show\": \"The Crown\", \"genre\": \"Drama\", \"watch_time\": 35, \"date\": \"2025-09-10\"}, {\"user_id\": \"U001\", \"show\": \"Dark\", \"genre\": \"Sci-Fi\", \"watch_time\": 55, \"date\": \"2025-09-25\"}, {\"user_id\": \"U001\", \"show\": \"Altered Carbon\", \"genre\": \"Sci-Fi\", \"watch_time\": 50, \"date\": \"2025-09-28\"}, {\"user_id\": \"U001\", \"show\": \"Love Death Robots\", \"genre\": \"Sci-Fi\", \"watch_time\": 18, \"date\": \"2025-09-22\"}, {\"user_id\": \"U001\", \"show\": \"Foundation\", \"genre\": \"Sci-Fi\", \"watch_time\": 60, \"date\": \"2025-09-29\"}], [{\"user_id\": \"U003\", \"show\": \"Stranger Things\", \"genre\": \"Sci-Fi\", \"watch_time\": 55, \"date\": \"2025-09-18\"}, {\"user_id\": \"U003\", \"show\": \"Westworld\", \"genre\": \"Sci-Fi\", \"watch_time\": 52, \"date\": \"2025-09-21\"}, {\"user_id\": \"U003\", \"show\": \"Black Mirror\", \"genre\": \"Sci-Fi\", \"watch_time\": 47, \"date\": \"2025-09-24\"}, {\"user_id\": \"U003\", \"show\": \"The Expanse\", \"genre\": \"Sci-Fi\", \"watch_time\": 58, \"date\": \"2025-09-26\"}, {\"user_id\": \"U003\", \"show\": \"Dark\", \"genre\": \"Sci-Fi\", \"watch_time\": 54, \"date\": \"2025-09-28\"}, {\"user_id\": \"U003\", \"show\": \"Altered Carbon\", \"genre\": \"Sci-Fi\", \"watch_time\": 49, \"date\": \"2025-09-29\"}, {\"user_id\": \"U003\", \"show\": \"Foundation\", \"genre\": \"Sci-Fi\", \"watch_time\": 61, \"date\": \"2025-09-30\"}], [{\"user_id\": \"U005\", \"show\": \"Stranger Things\", \"genre\": \"Sci-Fi\", \"watch_time\": 50, \"date\": \"2025-09-10\"}, {\"user_id\": \"U005\", \"show\": \"Black Mirror\", \"genre\": \"Sci-Fi\", \"watch_time\": 45, \"date\": \"2025-09-12\"}, {\"user_id\": \"U005\", \"show\": \"Westworld\", \"genre\": \"Sci-Fi\", \"watch_time\": 53, \"date\": \"2025-09-15\"}, {\"user_id\": \"U005\", \"show\": \"The Expanse\", \"genre\": \"Sci-Fi\", \"watch_time\": 57, \"date\": \"2025-09-18\"}, {\"user_id\": \"U005\", \"show\": \"Dark\", \"genre\": \"Sci-Fi\", \"watch_time\": 52, \"date\": \"2025-09-22\"}, {\"user_id\": \"U005\", \"show\": \"Altered Carbon\", \"genre\": \"Sci-Fi\", \"watch_time\": 48, \"date\": \"2025-09-25\"}, {\"user_id\": \"U005\", \"show\": \"Foundation\", \"genre\": \"Sci-Fi\", \"watch_time\": 59, \"date\": \"2025-09-27\"}, {\"user_id\": \"U005\", \"show\": \"Love Death Robots\", \"genre\": \"Sci-Fi\", \"watch_time\": 20, \"date\": \"2025-09-28\"}]]'"
      ]
     },
     "execution_count": 7,
     "metadata": {},
     "output_type": "execute_result"
    }
   ],
   "source": [
    "import json\n",
    "from collections import defaultdict\n",
    "from datetime import datetime, timedelta\n",
    "\n",
    "\n",
    "viewing_data = [\n",
    "    {\"user_id\": \"U001\", \"show\": \"Stranger Things\", \"genre\": \"Sci-Fi\", \"watch_time\": 52, \"date\": \"2025-09-15\"},\n",
    "    {\"user_id\": \"U001\", \"show\": \"Black Mirror\", \"genre\": \"Sci-Fi\", \"watch_time\": 48, \"date\": \"2025-09-20\"},\n",
    "    {\"user_id\": \"U001\", \"show\": \"The Crown\", \"genre\": \"Drama\", \"watch_time\": 35, \"date\": \"2025-09-10\"},\n",
    "    {\"user_id\": \"U001\", \"show\": \"Dark\", \"genre\": \"Sci-Fi\", \"watch_time\": 55, \"date\": \"2025-09-25\"},\n",
    "    {\"user_id\": \"U001\", \"show\": \"Altered Carbon\", \"genre\": \"Sci-Fi\", \"watch_time\": 50, \"date\": \"2025-09-28\"},\n",
    "    {\"user_id\": \"U001\", \"show\": \"The Witcher\", \"genre\": \"Fantasy\", \"watch_time\": 40, \"date\": \"2025-08-15\"},\n",
    "    {\"user_id\": \"U001\", \"show\": \"Love Death Robots\", \"genre\": \"Sci-Fi\", \"watch_time\": 18, \"date\": \"2025-09-22\"},\n",
    "    {\"user_id\": \"U001\", \"show\": \"Foundation\", \"genre\": \"Sci-Fi\", \"watch_time\": 60, \"date\": \"2025-09-29\"},\n",
    "    \n",
    "    {\"user_id\": \"U002\", \"show\": \"Breaking Bad\", \"genre\": \"Crime\", \"watch_time\": 45, \"date\": \"2025-09-01\"},\n",
    "    {\"user_id\": \"U002\", \"show\": \"Narcos\", \"genre\": \"Crime\", \"watch_time\": 50, \"date\": \"2025-09-05\"},\n",
    "    {\"user_id\": \"U002\", \"show\": \"Ozark\", \"genre\": \"Crime\", \"watch_time\": 55, \"date\": \"2025-08-20\"},\n",
    "    \n",
    "    {\"user_id\": \"U003\", \"show\": \"Stranger Things\", \"genre\": \"Sci-Fi\", \"watch_time\": 55, \"date\": \"2025-09-18\"},\n",
    "    {\"user_id\": \"U003\", \"show\": \"Westworld\", \"genre\": \"Sci-Fi\", \"watch_time\": 52, \"date\": \"2025-09-21\"},\n",
    "    {\"user_id\": \"U003\", \"show\": \"Black Mirror\", \"genre\": \"Sci-Fi\", \"watch_time\": 47, \"date\": \"2025-09-24\"},\n",
    "    {\"user_id\": \"U003\", \"show\": \"The Expanse\", \"genre\": \"Sci-Fi\", \"watch_time\": 58, \"date\": \"2025-09-26\"},\n",
    "    {\"user_id\": \"U003\", \"show\": \"Dark\", \"genre\": \"Sci-Fi\", \"watch_time\": 54, \"date\": \"2025-09-28\"},\n",
    "    {\"user_id\": \"U003\", \"show\": \"Altered Carbon\", \"genre\": \"Sci-Fi\", \"watch_time\": 49, \"date\": \"2025-09-29\"},\n",
    "    {\"user_id\": \"U003\", \"show\": \"Foundation\", \"genre\": \"Sci-Fi\", \"watch_time\": 61, \"date\": \"2025-09-30\"},\n",
    "    \n",
    "    {\"user_id\": \"U004\", \"show\": \"Friends\", \"genre\": \"Comedy\", \"watch_time\": 22, \"date\": \"2025-09-15\"},\n",
    "    {\"user_id\": \"U004\", \"show\": \"The Office\", \"genre\": \"Comedy\", \"watch_time\": 25, \"date\": \"2025-09-18\"},\n",
    "    {\"user_id\": \"U004\", \"show\": \"Parks and Rec\", \"genre\": \"Comedy\", \"watch_time\": 23, \"date\": \"2025-09-20\"},\n",
    "    \n",
    "    {\"user_id\": \"U005\", \"show\": \"Stranger Things\", \"genre\": \"Sci-Fi\", \"watch_time\": 50, \"date\": \"2025-09-10\"},\n",
    "    {\"user_id\": \"U005\", \"show\": \"Black Mirror\", \"genre\": \"Sci-Fi\", \"watch_time\": 45, \"date\": \"2025-09-12\"},\n",
    "    {\"user_id\": \"U005\", \"show\": \"Westworld\", \"genre\": \"Sci-Fi\", \"watch_time\": 53, \"date\": \"2025-09-15\"},\n",
    "    {\"user_id\": \"U005\", \"show\": \"The Expanse\", \"genre\": \"Sci-Fi\", \"watch_time\": 57, \"date\": \"2025-09-18\"},\n",
    "    {\"user_id\": \"U005\", \"show\": \"Dark\", \"genre\": \"Sci-Fi\", \"watch_time\": 52, \"date\": \"2025-09-22\"},\n",
    "    {\"user_id\": \"U005\", \"show\": \"Altered Carbon\", \"genre\": \"Sci-Fi\", \"watch_time\": 48, \"date\": \"2025-09-25\"},\n",
    "    {\"user_id\": \"U005\", \"show\": \"Foundation\", \"genre\": \"Sci-Fi\", \"watch_time\": 59, \"date\": \"2025-09-27\"},\n",
    "    {\"user_id\": \"U005\", \"show\": \"Love Death Robots\", \"genre\": \"Sci-Fi\", \"watch_time\": 20, \"date\": \"2025-09-28\"},\n",
    "    \n",
    "    {\"user_id\": \"U006\", \"show\": \"The Crown\", \"genre\": \"Drama\", \"watch_time\": 38, \"date\": \"2025-08-10\"},\n",
    "    {\"user_id\": \"U006\", \"show\": \"House of Cards\", \"genre\": \"Drama\", \"watch_time\": 42, \"date\": \"2025-08-15\"},\n",
    "]\n",
    "\n",
    "cutoff_date = datetime.now() - timedelta(days=30)\n",
    "\n",
    "user_shows = defaultdict(list)\n",
    "\n",
    "for record in viewing_data:\n",
    "    record_date = datetime.strptime(record['date'], \"%Y-%m-%d\")\n",
    "    if record_date >= cutoff_date:\n",
    "        user_shows[record[\"user_id\"]].append(record)\n",
    "\n",
    "target_users = [\n",
    "    user_id and show\n",
    "    for user_id, show in user_shows.items()\n",
    "    if len([s for s in show if s['genre'] == 'Sci-Fi']) >= 5\n",
    "    and sum(s['watch_time'] for s in show if s['genre'] == 'Sci-Fi') / len([s for s in show if s['genre'] == 'Sci-Fi'])\n",
    "        \n",
    "]    \n",
    "\n",
    "json.dumps(target_users)"
   ]
  }
 ],
 "metadata": {
  "kernelspec": {
   "display_name": "venv",
   "language": "python",
   "name": "python3"
  },
  "language_info": {
   "codemirror_mode": {
    "name": "ipython",
    "version": 3
   },
   "file_extension": ".py",
   "mimetype": "text/x-python",
   "name": "python",
   "nbconvert_exporter": "python",
   "pygments_lexer": "ipython3",
   "version": "3.13.7"
  }
 },
 "nbformat": 4,
 "nbformat_minor": 5
}
