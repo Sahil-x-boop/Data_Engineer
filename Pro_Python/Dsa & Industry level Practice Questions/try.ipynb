{
 "cells": [
  {
   "cell_type": "code",
   "execution_count": null,
   "id": "8492854c",
   "metadata": {},
   "outputs": [],
   "source": [
    "def add_item(item, lst=[]):\n",
    "    lst.append(item)\n",
    "    return lst\n",
    "\n",
    "print(add_item(1))\n",
    "print(add_item(2))\n",
    "print(add_item(None))\n"
   ]
  },
  {
   "cell_type": "code",
   "execution_count": null,
   "id": "d68c68bb",
   "metadata": {},
   "outputs": [],
   "source": [
    "funcs = []\n",
    "for i in range(3):\n",
    "    def func(i=i):\n",
    "        # print(i)\n",
    "        return i\n",
    "    funcs.append(func)\n",
    "\n",
    "\n",
    "print(funcs[0]())\n",
    "print(funcs[1]())\n",
    "print(funcs[2]())"
   ]
  },
  {
   "cell_type": "code",
   "execution_count": null,
   "id": "e9484005",
   "metadata": {},
   "outputs": [],
   "source": [
    "funcs[0]()\n",
    "funcs[1]()\n",
    "funcs[2]()"
   ]
  },
  {
   "cell_type": "code",
   "execution_count": null,
   "id": "16532610",
   "metadata": {},
   "outputs": [],
   "source": [
    "x = 10\n",
    "\n",
    "def printnum():\n",
    "    x = 20\n",
    "    print(x)\n",
    "    \n",
    "printnum()\n",
    "print(x)"
   ]
  },
  {
   "cell_type": "code",
   "execution_count": null,
   "id": "5891ebb8",
   "metadata": {},
   "outputs": [],
   "source": [
    "def make_funcs():\n",
    "    funcs = []\n",
    "    for i in range(4):\n",
    "        def func(x=i):\n",
    "            return x * i\n",
    "        funcs.append(func)\n",
    "    return funcs\n",
    "\n",
    "f1, f2, f3, f4 = make_funcs()\n",
    "print(f1(2), f2(2), f3(2), f4(2))"
   ]
  },
  {
   "cell_type": "code",
   "execution_count": null,
   "id": "60e927a0",
   "metadata": {},
   "outputs": [],
   "source": [
    "class Weird:\n",
    "    lst = []\n",
    "    def __init__(self, x):\n",
    "        self.lst.append(x)\n",
    "\n",
    "obj1 = Weird(1)\n",
    "obj2 = Weird(2)\n",
    "print(obj1.lst, obj2.lst)"
   ]
  },
  {
   "cell_type": "code",
   "execution_count": null,
   "id": "eaf61abf",
   "metadata": {},
   "outputs": [],
   "source": [
    "x = 10\n",
    "lst = [x for x in range(3)]\n",
    "x = 20\n",
    "print(lst, x)"
   ]
  },
  {
   "cell_type": "code",
   "execution_count": null,
   "id": "803dd78a",
   "metadata": {},
   "outputs": [],
   "source": [
    "import random\n",
    "from turtle import * \n",
    "from colorsys import *\n",
    "setposition(50, -50)\n",
    "speed(0)\n",
    "bgcolor('black')\n",
    "pensize(2)\n",
    "n = 100\n",
    "h = 0\n",
    "# value = [2, 10, 3, 20]\n",
    "for i in range(100):\n",
    "    for i in range(4):\n",
    "        color(hsv_to_rgb(h, 1, 1))\n",
    "        h += 0.003\n",
    "        circle(40+i*5, 90)\n",
    "        forward(150)\n",
    "        left(90)\n",
    "    rt(10)\n",
    "    hideturtle()\n",
    "    for i in range(4):\n",
    "        color(hsv_to_rgb(h, 1, 1))\n",
    "        h += 0.003\n",
    "        circle(40+i*5, 90)\n",
    "        forward(150)\n",
    "        left(90)\n",
    "    rt(35)\n",
    "    hideturtle()\n",
    "done()\n",
    "                                                                          "
   ]
  },
  {
   "cell_type": "code",
   "execution_count": null,
   "id": "7c030803",
   "metadata": {},
   "outputs": [],
   "source": [
    "words = [\"You\", \"are\", \"a\", \"real\", \"Sunshine\", \"you\", \"don't\", \"know\"]\n",
    "\n",
    "length_of_words = map(len, words)\n",
    "\n",
    "print(list(length_of_words))\n",
    "\n"
   ]
  },
  {
   "cell_type": "code",
   "execution_count": null,
   "id": "57cfbc33",
   "metadata": {},
   "outputs": [],
   "source": [
    "from collections import defaultdict\n",
    "words = [\"apple\", \"ant\", \"ball\", \"bat\", \"car\"]\n",
    "\n",
    "grouped_words = defaultdict(list)\n",
    "\n",
    "for word in words:\n",
    "    first_letter = word[0]\n",
    "    grouped_words[first_letter].append(word)\n",
    "    \n",
    "print(dict(grouped_words))"
   ]
  },
  {
   "cell_type": "code",
   "execution_count": null,
   "id": "7faf88e6",
   "metadata": {},
   "outputs": [],
   "source": [
    "word = \"success\"\n",
    "\n",
    "count_char = defaultdict(int)\n",
    "\n",
    "for ch in word:\n",
    "    count_char[ch] += 1\n",
    "    \n",
    "print(dict(count_char))"
   ]
  },
  {
   "cell_type": "code",
   "execution_count": null,
   "id": "e170f8bd",
   "metadata": {},
   "outputs": [],
   "source": [
    "from collections import Counter\n",
    "text = \"apple banana apple orange banana apple\"\n",
    "words = text.split()\n",
    "word_freq = Counter(words)\n",
    "print(list(word_freq.elements()))\n",
    "print(word_freq.most_common(3))\n"
   ]
  },
  {
   "cell_type": "code",
   "execution_count": null,
   "id": "e56e9e2c",
   "metadata": {},
   "outputs": [],
   "source": [
    "A = {1, 2, 3, 3, 2}\n",
    "print(A) \n"
   ]
  },
  {
   "cell_type": "code",
   "execution_count": null,
   "id": "54df586b",
   "metadata": {},
   "outputs": [],
   "source": [
    "stock = {\"pen\", \"book\", \"pencil\", \"eraser\"}\n",
    "sold = {\"pen\", \"pencil\"}\n",
    "\n",
    "print(stock - sold)  "
   ]
  },
  {
   "cell_type": "code",
   "execution_count": null,
   "id": "26143f28",
   "metadata": {},
   "outputs": [],
   "source": [
    "python = {\"Sahil\", \"Harman\", \"Ankit\", \"Neha\"}\n",
    "java   = {\"Ankit\", \"Neha\", \"Sahil\"}\n",
    "sql    = {\"Harman\", \"Neha\"} \n",
    "\n",
    "print(python | java | sql)\n",
    "print(python - java)\n"
   ]
  },
  {
   "cell_type": "code",
   "execution_count": null,
   "id": "ce576e53",
   "metadata": {},
   "outputs": [],
   "source": [
    "from collections import namedtuple\n",
    "students = [\n",
    "    (\"Sahil\", 85, \"Math\"),\n",
    "    (\"Harman\", 90, \"CS\"),\n",
    "    (\"Neha\", 88, \"English\")\n",
    "]\n",
    "\n",
    "Students = namedtuple(\"student\", [\"name\", \"age\", \"subject\"])\n",
    "\n",
    "student = Students(\"Sahil\", 85, \"Math\")\n",
    "\n",
    "\n",
    "for row in students:\n",
    "    student = Students(*row)\n",
    "    print(student.name)"
   ]
  },
  {
   "cell_type": "code",
   "execution_count": null,
   "id": "9be68c39",
   "metadata": {},
   "outputs": [],
   "source": [
    "from collections import namedtuple\n",
    "\n",
    "Student = namedtuple(\"Student\", [\"name\", \"marks\", \"subject\"])\n",
    "\n",
    "student_objects = [Student(*s) for s in students]\n",
    "\n",
    "for s in student_objects:\n",
    "    print(f\"{s.name} scored {s.marks} in {s.subject}\")\n"
   ]
  },
  {
   "cell_type": "code",
   "execution_count": null,
   "id": "0048d9fb",
   "metadata": {},
   "outputs": [],
   "source": [
    "from dataclasses import dataclass\n",
    "\n",
    "@dataclass\n",
    "class Person:\n",
    "    name: str\n",
    "    age: int\n",
    "    city: str\n",
    "    \n",
    "guy1 = Person(\"Amit\", 34, \"Banglore\")\n",
    "print(guy1.name, guy1.city)\n",
    "guy1.city = \"Pune\"\n",
    "print(guy1.name, guy1.city)\n",
    "\n",
    "    "
   ]
  },
  {
   "cell_type": "code",
   "execution_count": null,
   "id": "2aea5b88",
   "metadata": {},
   "outputs": [],
   "source": [
    "from dataclasses import dataclass, field\n",
    "\n",
    "@dataclass\n",
    "class Classroom:\n",
    "    students: list = field(default_factory=list)\n",
    "    \n",
    "b01 = Classroom()\n",
    "b01.students.append(\"Harman\")\n",
    "b01.students.append(\"Naman\")\n",
    "\n",
    "print(b01)"
   ]
  },
  {
   "cell_type": "markdown",
   "id": "5a4bc3eb",
   "metadata": {},
   "source": [
    "Censor Words from List\n",
    "Create a function that takes a string txt and censors any word from a given list lst. The text removed must be replaced by the given character char.\n",
    "\n",
    "Examples\n",
    "censor_string(\"Today is a Wednesday!\", [\"Today\", \"a\"], \"-\") ➞ \"----- is - Wednesday!\"\n",
    "\n",
    "censor_string(\"The cow jumped over the moon.\", [\"cow\", \"over\"], \"*\"), \"The *** jumped **** the moon.\")\n",
    "\n",
    "censor_string(\"Why did the chicken cross the road?\", [\"Did\", \"chicken\", \"road\"], \"*\") ➞ \"Why *** the ******* cross the ****?\"\n",
    "\n",
    "censor_string(\"The cow jumped over the moon.\", [\"cow\", \"over\"], \"*\"), \"The *** jumped **** the moon.\")\n",
    "\n",
    "censor_string(\"Why do my cats keep eating grass?\", [\"Why\", \"keep\", \"eating\"], \"!\"), \"!!! do my cats !!!! !!!!!! grass?\")\n",
    "\n",
    "censor_string(\"How do I stop myself from using python!?\", [\"do\", \"stop\", \"using\"], \"-\"), \"How -- I ---- myself from ----- python!?\")\n",
    "\n",
    "censor_string(\"If statements are pretty fun to use.\", [\"statements\", \"pretty\", \"to\"], \"~~\"), \"If ~~~~~~~~~~~~~~~~~~~~ are ~~~~~~~~~~~~ fun ~~~~ use.\")\n",
    "\n",
    "censor_string(\"I'm dyslexic, but that deos'tn matter!\", [\"that\", \"matter!\"], \"?\"), \"I'm dyslexic, but ???? deos'tn ???????\")\n",
    "\n",
    "censor_string(\"I should be doing work but I am doing this instead.\", [\"should\", \"but\", \"this\"], \"*\"), \"I ****** be doing work *** I am doing **** instead.\")"
   ]
  },
  {
   "cell_type": "code",
   "execution_count": null,
   "id": "f8da3282",
   "metadata": {},
   "outputs": [],
   "source": [
    "def censor_string(text: str, words: list, ch: str):\n",
    "    for word in words:\n",
    "        text = text.replace(word.lower(), len(word) * ch)\n",
    "    return text\n",
    "\n",
    "\n",
    "\n",
    "print(censor_string(\"The cow jumped over the moon.\", [\"cow\", \"over\"], \"*\"))\n",
    "print(censor_string(\"Why did the chicken cross the road?\", [\"Did\", \"chicken\", \"road\"], \"*\") )\n",
    "print(censor_string(\"The cow jumped over the moon.\", [\"cow\", \"over\"], \"*\"))\n",
    "print(censor_string(\"Why do my cats keep eating grass?\", [\"Why\", \"keep\", \"eating\"], \"!\"))\n",
    "print(censor_string(\"How do I stop myself from using python!?\", [\"do\", \"stop\", \"using\"], \"-\"))\n",
    "print(censor_string(\"If statements are pretty fun to use.\", [\"statements\", \"pretty\", \"to\"], \"~~\"))\n",
    "print(censor_string(\"I'm dyslexic, but that deos'tn matter!\", [\"that\", \"matter!\"], \"?\"))\n",
    "print(censor_string(\"I should be doing work but I am doing this instead.\", [\"should\", \"but\", \"this\"], \"*\"))"
   ]
  },
  {
   "cell_type": "code",
   "execution_count": null,
   "id": "a3797c26",
   "metadata": {},
   "outputs": [],
   "source": [
    "import re\n",
    "sentence = \"Why did the chicken cross the road?\"\n",
    "words = [\"did\", \"chicken\", \"cross\"]\n",
    "for word in words:\n",
    "    sentence = sentence.replace(word, len(word) * \"*\")\n",
    "# sentence = sentence.replace(\"did\", len(\"did\") * \"*\")\n",
    "# sentence = sentence.replace(\"chicken\", len(\"chicken\") * \"*\")\n",
    "# sentence = sentence.replace(\"road\", len(\"road\") * \"*\")\n",
    "\n",
    "print(sentence)"
   ]
  },
  {
   "cell_type": "code",
   "execution_count": 42,
   "id": "5c4f89ef",
   "metadata": {},
   "outputs": [
    {
     "data": {
      "text/plain": [
       "'.--..-..-.-.-----..-...-...-..'"
      ]
     },
     "execution_count": 42,
     "metadata": {},
     "output_type": "execute_result"
    }
   ],
   "source": [
    "char_to_dots = {\n",
    "  'A': '.-', 'B': '-...', 'C': '-.-.', 'D': '-..', 'E': '.', 'F': '..-.',\n",
    "  'G': '--.', 'H': '....', 'I': '..', 'J': '.---', 'K': '-.-', 'L': '.-..',\n",
    "  'M': '--', 'N': '-.', 'O': '---', 'P': '.--.', 'Q': '--.-', 'R': '.-.',\n",
    "  'S': '...', 'T': '-', 'U': '..-', 'V': '...-', 'W': '.--', 'X': '-..-',\n",
    "  'Y': '-.--', 'Z': '--..', ' ': ' ', '0': '-----',\n",
    "  '1': '.----', '2': '..---', '3': '...--', '4': '....-', '5': '.....',\n",
    "  '6': '-....', '7': '--...', '8': '---..', '9': '----.',\n",
    "  '&': '.-...', \"'\": '.----.', '@': '.--.-.', ')': '-.--.-', '(': '-.--.',\n",
    "  ':': '---...', ',': '--..--', '=': '-...-', '!': '-.-.--', '.': '.-.-.-',\n",
    "  '-': '-....-', '+': '.-.-.', '\"': '.-..-.', '?': '..--..', '/': '-..-.'\n",
    "}\n",
    "\n",
    "def encode_morse(text):\n",
    "    result = [char_to_dots[ch] for ch in text.upper() if ch in char_to_dots]\n",
    "    return \"\".join(result)\n",
    "\n",
    "\n",
    "\n",
    "encode_morse(\"Welcome\")"
   ]
  },
  {
   "cell_type": "markdown",
   "id": "dfbd4b70",
   "metadata": {},
   "source": [
    "uncensor(\"Wh*r* d*d my v*w*ls g*?\", \"eeioeo\") ➞ \"Where did my vowels go?\"\n",
    "\n",
    "uncensor(\"abcd\", \"\") ➞ \"abcd\"\n",
    "\n",
    "uncensor(\"*PP*RC*S*\", \"UEAE\") ➞ \"UPPERCASE\""
   ]
  },
  {
   "cell_type": "code",
   "execution_count": 76,
   "id": "e8ef37c7",
   "metadata": {},
   "outputs": [
    {
     "name": "stdout",
     "output_type": "stream",
     "text": [
      "*\n",
      "*\n",
      "*\n",
      "*\n",
      "*\n",
      "*\n",
      "Where did my vowels go?\n"
     ]
    }
   ],
   "source": [
    "import re \n",
    "def uncensor(text: str, letters: str):\n",
    "    j = 0\n",
    "    for i, ch in enumerate(text):\n",
    "        if ch == \"*\":\n",
    "            text = text[:i] + letters[j] + text[i+1:]\n",
    "            j += 1 \n",
    "            \n",
    "    return text\n",
    "\n",
    "print(uncensor(\"Wh*r* d*d my v*w*ls g*?\", \"eeioeo\"))\n"
   ]
  },
  {
   "cell_type": "code",
   "execution_count": 132,
   "id": "b9e41e22",
   "metadata": {},
   "outputs": [
    {
     "name": "stdout",
     "output_type": "stream",
     "text": [
      "[['A'], ['B'], ['K']]\n"
     ]
    }
   ],
   "source": [
    "char_to_dots = {\n",
    "  'A': '.-', 'B': '-...', 'C': '-.-.', 'D': '-..', 'E': '.', 'F': '..-.',\n",
    "  'G': '--.', 'H': '....', 'I': '..', 'J': '.---', 'K': '-.-', 'L': '.-..',\n",
    "  'M': '--', 'N': '-.', 'O': '---', 'P': '.--.', 'Q': '--.-', 'R': '.-.',\n",
    "  'S': '...', 'T': '-', 'U': '..-', 'V': '...-', 'W': '.--', 'X': '-..-',\n",
    "  'Y': '-.--', 'Z': '--..', ' ': ' ', '0': '-----',\n",
    "  '1': '.----', '2': '..---', '3': '...--', '4': '....-', '5': '.....',\n",
    "  '6': '-....', '7': '--...', '8': '---..', '9': '----.',\n",
    "  '&': '.-...', \"'\": '.----.', '@': '.--.-.', ')': '-.--.-', '(': '-.--.',\n",
    "  ':': '---...', ',': '--..--', '=': '-...-', '!': '-.-.--', '.': '.-.-.-',\n",
    "  '-': '-....-', '+': '.-.-.', '\"': '.-..-.', '?': '..--..', '/': '-..-.'\n",
    "}\n",
    "\n",
    "char_to_dots = {v: k for k, v in char_to_dots.items()}\n",
    "lists = []\n",
    "def encode_it(word):\n",
    "      lists = []\n",
    "      if word in char_to_dots:\n",
    "          lists.append(char_to_dots[word])\n",
    "      return lists\n",
    "\n",
    "    \n",
    "input_word = \".- -... -.-\"\n",
    "input_word = input_word.split()\n",
    "result = map(encode_it, input_word)\n",
    "print(list(result))\n",
    "# print(encode_it((\".- -... -.-\".split)))\n"
   ]
  }
 ],
 "metadata": {
  "kernelspec": {
   "display_name": "venv",
   "language": "python",
   "name": "python3"
  },
  "language_info": {
   "codemirror_mode": {
    "name": "ipython",
    "version": 3
   },
   "file_extension": ".py",
   "mimetype": "text/x-python",
   "name": "python",
   "nbconvert_exporter": "python",
   "pygments_lexer": "ipython3",
   "version": "3.13.7"
  }
 },
 "nbformat": 4,
 "nbformat_minor": 5
}
