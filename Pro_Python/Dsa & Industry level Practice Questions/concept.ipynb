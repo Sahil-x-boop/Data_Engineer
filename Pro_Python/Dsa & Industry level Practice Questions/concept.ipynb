{
 "cells": [
  {
   "cell_type": "markdown",
   "id": "1cc6ea3c",
   "metadata": {},
   "source": [
    "## Thread Pool Executor\n",
    "\n",
    "#### 1. max_workers\n",
    "\n",
    "- The number of threads in your pool\n",
    "- More workers = more tasks running simultaneously\n",
    "- Too many workers can slow things down (overhead)\n",
    "- Good rule: `max_workers = 5 to 10` for I/O tasks\n",
    "\n",
    "#### 2. submit() vs map()\n",
    "\n",
    "**Use `submit()` when:**\n",
    "- Tasks are different\n",
    "- You need fine control\n",
    "- Tasks have different arguments\n",
    "```python\n",
    "executor.submit(download, \"url1\")\n",
    "executor.submit(process, data1, data2)\n",
    "executor.submit(calculate, 100)\n",
    "\n",
    "Use `map()` when:\n",
    "\n",
    "Same function, different data\n",
    "Processing a list/collection\n",
    "Want results in order\n",
    "\n",
    "pythonexecutor.map(download, url_list)\n",
    "3. Future Objects\n",
    "When you call submit(), you get a Future:\n",
    "pythonfuture = executor.submit(some_function)\n",
    "result = future.result()  # Blocks until done\n",
    "Think of a Future as a \"promise\" - it promises to give you a result later.\n",
    "4. When to Use ThreadPoolExecutor?\n",
    "✅ GOOD FOR (I/O-bound tasks):\n",
    "\n",
    "Downloading files/web pages\n",
    "Reading/writing files\n",
    "Database queries\n",
    "API calls\n",
    "Network operations"
   ]
  },
  {
   "cell_type": "code",
   "execution_count": null,
   "id": "c25c3214",
   "metadata": {},
   "outputs": [
    {
     "name": "stdout",
     "output_type": "stream",
     "text": [
      "Starting task A\n",
      "Finished task A\n",
      "Starting task B\n",
      "A got: sushi swap\n",
      "Finished task B\n",
      "Starting task C\n",
      "B got: dogecoin\n",
      "Finished task C\n",
      "Starting task d\n",
      "C got: bitcoin\n",
      "Finished task d\n",
      "Starting task e\n",
      "d got: dogecoin\n",
      "Finished task e\n",
      "Starting task f\n",
      "e got: sushi swap\n",
      "Finished task f\n",
      "f got: bitcoin\n"
     ]
    }
   ],
   "source": [
    "from concurrent.futures import ThreadPoolExecutor                         \n",
    "import time \n",
    "import random\n",
    "\n",
    "coins = [\"bitcoin\", \"dogecoin\", \"sushi swap\"]\n",
    "\n",
    "def task(name):\n",
    "    print(f\"Starting task {name}\")\n",
    "    time.sleep(2)\n",
    "    print(f\"Finished task {name}\")\n",
    "    return f\"{name} got: {random.choice(coins)}\"\n",
    "\n",
    "with ThreadPoolExecutor(max_workers=3) as executor:\n",
    "    future1 = executor.submit(task, \"A\")\n",
    "    future2 = executor.submit(task, \"B\")\n",
    "    future3 = executor.submit(task, \"C\")\n",
    "    future4 = executor.submit(task, \"d\")\n",
    "    future5 = executor.submit(task, \"e\")\n",
    "    future6 = executor.submit(task, \"f\")\n",
    "    print(future1.result())\n",
    "    print(future2.result())\n",
    "    print(future3.result())\n",
    "    print(future4.result())\n",
    "    print(future5.result())\n",
    "    print(future6.result())                                              \n",
    "    \n",
    "    "
   ]
  },
  {
   "cell_type": "code",
   "execution_count": 23,
   "id": "a5c2a0dc",
   "metadata": {},
   "outputs": [
    {
     "name": "stdout",
     "output_type": "stream",
     "text": [
      "Computing Square of 2\n",
      "Computing Square of 4\n",
      "Computing Square of 8\n",
      "Square of 2 is: 4\n",
      "\n",
      "Computing Square of 5\n",
      "\n",
      "Square of 4 is: 16\n",
      "Computing Square of 24\n",
      "Square of 8 is: 64\n",
      "\n",
      "Computing Square of 97\n",
      "\n",
      "Square of 5 is: 25\n",
      "Computing Square of 3\n",
      "\n",
      "Square of 24 is: 576\n",
      "\n",
      "Square of 97 is: 9409\n",
      "\n",
      "Square of 3 is: 9\n"
     ]
    }
   ],
   "source": [
    "from concurrent.futures import ThreadPoolExecutor\n",
    "import time\n",
    "\n",
    "def square_of(n):\n",
    "    print(f\"Computing Square of {n}\")\n",
    "    time.sleep(1)\n",
    "    return n * n\n",
    "    \n",
    "numbers = [2, 4, 8, 5, 24, 97, 3]\n",
    "\n",
    "with ThreadPoolExecutor(max_workers=2) as executor:\n",
    "    result = executor.map(square_of, numbers)\n",
    "    for res in result:\n",
    "        print(f\"\\nSquare of {int(res ** 0.5)} is: {res}\")\n",
    "        "
   ]
  },
  {
   "cell_type": "code",
   "execution_count": null,
   "id": "5b992f5a",
   "metadata": {},
   "outputs": [
    {
     "name": "stdout",
     "output_type": "stream",
     "text": [
      "Task Submitted: Checking Status\n",
      "\n",
      "Is done: False\n",
      "Is done: True\n",
      "Result: 25\n"
     ]
    }
   ],
   "source": [
    "from concurrent.futures import ThreadPoolExecutor\n",
    "import time\n",
    "\n",
    "def slow_add(x, y):\n",
    "    time.sleep(3)\n",
    "    return x + y\n",
    "\n",
    "with ThreadPoolExecutor(max_workers=1) as executor:\n",
    "    future = executor.submit(slow_add, 5, 20)\n",
    "    print(\"Task Submitted: Checking Status\\n\")\n",
    "    \n",
    "    print(f\"Is done: {future.done()}\")\n",
    "    \n",
    "    result = future.result()\n",
    "    \n",
    "    print(f\"Is done: {future.done()}\")\n",
    "    print(f\"Result: {result}\")"
   ]
  },
  {
   "cell_type": "code",
   "execution_count": 27,
   "id": "b88da618",
   "metadata": {},
   "outputs": [
    {
     "name": "stdout",
     "output_type": "stream",
     "text": [
      "F1 result: 2.0\n",
      "F2 exception caught: division by zero\n",
      "F2 exception: division by zero\n"
     ]
    }
   ],
   "source": [
    "from concurrent.futures import ThreadPoolExecutor\n",
    "import time\n",
    "\n",
    "def divide(x, y):\n",
    "    time.sleep(2)\n",
    "    return x / y\n",
    "\n",
    "with ThreadPoolExecutor(max_workers=1) as executor:\n",
    "    f1 = executor.submit(divide, 10, 5)\n",
    "    f2 = executor.submit(divide, 10, 0)\n",
    "    \n",
    "    print(f\"F1 result: {f1.result()}\")\n",
    "    try:\n",
    "        print(f\"F2 result: {f2.result()}\")\n",
    "    except Exception as e:\n",
    "        print(f\"F2 exception caught: {e}\")\n",
    "        \n",
    "    print(f\"F2 exception: {f2.exception()}\")"
   ]
  },
  {
   "cell_type": "code",
   "execution_count": 29,
   "id": "ad57281e",
   "metadata": {},
   "outputs": [
    {
     "name": "stdout",
     "output_type": "stream",
     "text": [
      "Cancelled future2? True\n",
      "future1 result: Slept 5 seconds\n",
      "future2 cancelled? True\n"
     ]
    }
   ],
   "source": [
    "from concurrent.futures import ThreadPoolExecutor\n",
    "import time\n",
    "\n",
    "def sleepy_task(n):\n",
    "    time.sleep(n)\n",
    "    return f\"Slept {n} seconds\"\n",
    "\n",
    "with ThreadPoolExecutor(max_workers=1) as executor:\n",
    "    future1 = executor.submit(sleepy_task, 5) \n",
    "    future2 = executor.submit(sleepy_task, 3)  \n",
    "\n",
    "    cancelled = future2.cancel()\n",
    "    print(\"Cancelled future2?\", cancelled)\n",
    "\n",
    "    print(\"future1 result:\", future1.result())  \n",
    "    print(\"future2 cancelled?\", future2.cancelled())\n"
   ]
  },
  {
   "cell_type": "code",
   "execution_count": 31,
   "id": "3e45cbcd",
   "metadata": {},
   "outputs": [
    {
     "name": "stdout",
     "output_type": "stream",
     "text": [
      "Task submitted... waiting for result\n",
      "Callback: task finished with result: 10\n",
      "Final result: 10\n"
     ]
    }
   ],
   "source": [
    "from concurrent.futures import ThreadPoolExecutor\n",
    "import time\n",
    "\n",
    "def work(x):\n",
    "    time.sleep(2)\n",
    "    return x * 2\n",
    "\n",
    "def notify_done(fut):\n",
    "    print(\"Callback: task finished with result:\", fut.result())\n",
    "\n",
    "with ThreadPoolExecutor(max_workers=2) as executor:\n",
    "    future = executor.submit(work, 5)\n",
    "    future.add_done_callback(notify_done)\n",
    "\n",
    "    print(\"Task submitted... waiting for result\")\n",
    "    result = future.result()\n",
    "    print(\"Final result:\", result)\n",
    "\n"
   ]
  },
  {
   "cell_type": "code",
   "execution_count": null,
   "id": "ae451eff",
   "metadata": {},
   "outputs": [
    {
     "name": "stdout",
     "output_type": "stream",
     "text": [
      "[First Finished]: ['Task 3 done']\n",
      "All finished: ['Task 5 done', 'Task 3.01 done']\n"
     ]
    }
   ],
   "source": [
    "from concurrent.futures import ThreadPoolExecutor, wait, FIRST_COMPLETED\n",
    "import time\n",
    "\n",
    "def task(n):\n",
    "    time.sleep(n)\n",
    "    return f\"Task {n} done\"\n",
    "\n",
    "with ThreadPoolExecutor(max_workers=3) as executor:\n",
    "    futures = [executor.submit(task, i) for i in [5, 3, 1]]\n",
    "    \n",
    "    done, not_done = wait(futures, return_when=FIRST_COMPLETED)\n",
    "    print(f\"[First Finished]: {[f.result() for f in done]}\")\n",
    "    \n",
    "    done2, not_done2 = wait(not_done)\n",
    "    print(f\"All finished: {[f.result() for f in done2]}\")\n",
    "    "
   ]
  },
  {
   "cell_type": "code",
   "execution_count": null,
   "id": "0ac9263e",
   "metadata": {},
   "outputs": [
    {
     "name": "stdout",
     "output_type": "stream",
     "text": [
      "Task 1 sleeping 4s\n",
      "Task 2 sleeping 2s\n",
      "Task 3 sleeping 1s\n",
      "Tasks submitted...\n",
      "Task 4 sleeping 4s\n",
      "-> Task 3 finished in 1s\n",
      "Task 5 sleeping 4s\n",
      "-> Task 2 finished in 2s\n",
      "-> Task 1 finished in 4s\n",
      "-> Task 4 finished in 4s\n",
      "-> Task 5 finished in 4s\n"
     ]
    }
   ],
   "source": [
    "from concurrent.futures import ThreadPoolExecutor, as_completed\n",
    "import time, random\n",
    "\n",
    "def work(n):\n",
    "    delay = random.randint(1, 4) \n",
    "    print(f\"Task {n} sleeping {delay}s\")\n",
    "    time.sleep(delay)\n",
    "    return f\"Task {n} finished in {delay}s\"\n",
    "\n",
    "with ThreadPoolExecutor(max_workers=3) as executor:\n",
    "    futures = [executor.submit(work, i) for i in range(1, 6)]\n",
    "    print(\"Tasks submitted...\")\n",
    "    \n",
    "    # Get results as they complete\n",
    "    for fut in as_completed(futures):\n",
    "        print(\"->\", fut.result())"
   ]
  }
 ],
 "metadata": {
  "kernelspec": {
   "display_name": "venv",
   "language": "python",
   "name": "python3"
  },
  "language_info": {
   "codemirror_mode": {
    "name": "ipython",
    "version": 3
   },
   "file_extension": ".py",
   "mimetype": "text/x-python",
   "name": "python",
   "nbconvert_exporter": "python",
   "pygments_lexer": "ipython3",
   "version": "3.13.7"
  }
 },
 "nbformat": 4,
 "nbformat_minor": 5
}
