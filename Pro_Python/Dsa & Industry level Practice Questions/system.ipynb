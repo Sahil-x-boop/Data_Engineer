{
 "cells": [
  {
   "cell_type": "markdown",
   "id": "7309cc37",
   "metadata": {},
   "source": [
    "### Problem 1: Netflix Recommendation Engine - Memory Efficient Processing\n",
    "\n",
    "Problem: Find users who watched at least 5 Sci-Fi shows with avg watch time > 45 minutes in last 30 days\n"
   ]
  },
  {
   "cell_type": "code",
   "execution_count": null,
   "id": "662e4748",
   "metadata": {},
   "outputs": [],
   "source": []
  },
  {
   "cell_type": "code",
   "execution_count": 20,
   "id": "eb587769",
   "metadata": {},
   "outputs": [
    {
     "name": "stdout",
     "output_type": "stream",
     "text": [
      "{'U001': [{'user_id': 'U001', 'show': 'Stranger Things', 'genre': 'Sci-Fi', 'watch_time': 52, 'date': '2025-09-15'}, {'user_id': 'U001', 'show': 'Black Mirror', 'genre': 'Sci-Fi', 'watch_time': 48, 'date': '2025-09-20'}, {'user_id': 'U001', 'show': 'The Crown', 'genre': 'Drama', 'watch_time': 35, 'date': '2025-09-10'}, {'user_id': 'U001', 'show': 'Dark', 'genre': 'Sci-Fi', 'watch_time': 55, 'date': '2025-09-25'}, {'user_id': 'U001', 'show': 'Altered Carbon', 'genre': 'Sci-Fi', 'watch_time': 50, 'date': '2025-09-28'}, {'user_id': 'U001', 'show': 'Love Death Robots', 'genre': 'Sci-Fi', 'watch_time': 18, 'date': '2025-09-22'}, {'user_id': 'U001', 'show': 'Foundation', 'genre': 'Sci-Fi', 'watch_time': 60, 'date': '2025-09-29'}], 'U002': [{'user_id': 'U002', 'show': 'Narcos', 'genre': 'Crime', 'watch_time': 50, 'date': '2025-09-05'}], 'U003': [{'user_id': 'U003', 'show': 'Stranger Things', 'genre': 'Sci-Fi', 'watch_time': 55, 'date': '2025-09-18'}, {'user_id': 'U003', 'show': 'Westworld', 'genre': 'Sci-Fi', 'watch_time': 52, 'date': '2025-09-21'}, {'user_id': 'U003', 'show': 'Black Mirror', 'genre': 'Sci-Fi', 'watch_time': 47, 'date': '2025-09-24'}, {'user_id': 'U003', 'show': 'The Expanse', 'genre': 'Sci-Fi', 'watch_time': 58, 'date': '2025-09-26'}, {'user_id': 'U003', 'show': 'Dark', 'genre': 'Sci-Fi', 'watch_time': 54, 'date': '2025-09-28'}, {'user_id': 'U003', 'show': 'Altered Carbon', 'genre': 'Sci-Fi', 'watch_time': 49, 'date': '2025-09-29'}, {'user_id': 'U003', 'show': 'Foundation', 'genre': 'Sci-Fi', 'watch_time': 61, 'date': '2025-09-30'}], 'U004': [{'user_id': 'U004', 'show': 'Friends', 'genre': 'Comedy', 'watch_time': 22, 'date': '2025-09-15'}, {'user_id': 'U004', 'show': 'The Office', 'genre': 'Comedy', 'watch_time': 25, 'date': '2025-09-18'}, {'user_id': 'U004', 'show': 'Parks and Rec', 'genre': 'Comedy', 'watch_time': 23, 'date': '2025-09-20'}], 'U005': [{'user_id': 'U005', 'show': 'Stranger Things', 'genre': 'Sci-Fi', 'watch_time': 50, 'date': '2025-09-10'}, {'user_id': 'U005', 'show': 'Black Mirror', 'genre': 'Sci-Fi', 'watch_time': 45, 'date': '2025-09-12'}, {'user_id': 'U005', 'show': 'Westworld', 'genre': 'Sci-Fi', 'watch_time': 53, 'date': '2025-09-15'}, {'user_id': 'U005', 'show': 'The Expanse', 'genre': 'Sci-Fi', 'watch_time': 57, 'date': '2025-09-18'}, {'user_id': 'U005', 'show': 'Dark', 'genre': 'Sci-Fi', 'watch_time': 52, 'date': '2025-09-22'}, {'user_id': 'U005', 'show': 'Altered Carbon', 'genre': 'Sci-Fi', 'watch_time': 48, 'date': '2025-09-25'}, {'user_id': 'U005', 'show': 'Foundation', 'genre': 'Sci-Fi', 'watch_time': 59, 'date': '2025-09-27'}, {'user_id': 'U005', 'show': 'Love Death Robots', 'genre': 'Sci-Fi', 'watch_time': 20, 'date': '2025-09-28'}]}\n",
      "\n"
     ]
    },
    {
     "data": {
      "text/plain": [
       "'[\"U001\", \"U003\", \"U005\"]'"
      ]
     },
     "execution_count": 20,
     "metadata": {},
     "output_type": "execute_result"
    }
   ],
   "source": [
    "import json\n",
    "from collections import defaultdict\n",
    "from datetime import datetime, timedelta\n",
    "\n",
    "\n",
    "viewing_data = [\n",
    "    {\"user_id\": \"U001\", \"show\": \"Stranger Things\", \"genre\": \"Sci-Fi\", \"watch_time\": 52, \"date\": \"2025-09-15\"},\n",
    "    {\"user_id\": \"U001\", \"show\": \"Black Mirror\", \"genre\": \"Sci-Fi\", \"watch_time\": 48, \"date\": \"2025-09-20\"},\n",
    "    {\"user_id\": \"U001\", \"show\": \"The Crown\", \"genre\": \"Drama\", \"watch_time\": 35, \"date\": \"2025-09-10\"},\n",
    "    {\"user_id\": \"U001\", \"show\": \"Dark\", \"genre\": \"Sci-Fi\", \"watch_time\": 55, \"date\": \"2025-09-25\"},\n",
    "    {\"user_id\": \"U001\", \"show\": \"Altered Carbon\", \"genre\": \"Sci-Fi\", \"watch_time\": 50, \"date\": \"2025-09-28\"},\n",
    "    {\"user_id\": \"U001\", \"show\": \"The Witcher\", \"genre\": \"Fantasy\", \"watch_time\": 40, \"date\": \"2025-08-15\"},\n",
    "    {\"user_id\": \"U001\", \"show\": \"Love Death Robots\", \"genre\": \"Sci-Fi\", \"watch_time\": 18, \"date\": \"2025-09-22\"},\n",
    "    {\"user_id\": \"U001\", \"show\": \"Foundation\", \"genre\": \"Sci-Fi\", \"watch_time\": 60, \"date\": \"2025-09-29\"},\n",
    "    \n",
    "    {\"user_id\": \"U002\", \"show\": \"Breaking Bad\", \"genre\": \"Crime\", \"watch_time\": 45, \"date\": \"2025-09-01\"},\n",
    "    {\"user_id\": \"U002\", \"show\": \"Narcos\", \"genre\": \"Crime\", \"watch_time\": 50, \"date\": \"2025-09-05\"},\n",
    "    {\"user_id\": \"U002\", \"show\": \"Ozark\", \"genre\": \"Crime\", \"watch_time\": 55, \"date\": \"2025-08-20\"},\n",
    "    \n",
    "    {\"user_id\": \"U003\", \"show\": \"Stranger Things\", \"genre\": \"Sci-Fi\", \"watch_time\": 55, \"date\": \"2025-09-18\"},\n",
    "    {\"user_id\": \"U003\", \"show\": \"Westworld\", \"genre\": \"Sci-Fi\", \"watch_time\": 52, \"date\": \"2025-09-21\"},\n",
    "    {\"user_id\": \"U003\", \"show\": \"Black Mirror\", \"genre\": \"Sci-Fi\", \"watch_time\": 47, \"date\": \"2025-09-24\"},\n",
    "    {\"user_id\": \"U003\", \"show\": \"The Expanse\", \"genre\": \"Sci-Fi\", \"watch_time\": 58, \"date\": \"2025-09-26\"},\n",
    "    {\"user_id\": \"U003\", \"show\": \"Dark\", \"genre\": \"Sci-Fi\", \"watch_time\": 54, \"date\": \"2025-09-28\"},\n",
    "    {\"user_id\": \"U003\", \"show\": \"Altered Carbon\", \"genre\": \"Sci-Fi\", \"watch_time\": 49, \"date\": \"2025-09-29\"},\n",
    "    {\"user_id\": \"U003\", \"show\": \"Foundation\", \"genre\": \"Sci-Fi\", \"watch_time\": 61, \"date\": \"2025-09-30\"},\n",
    "    \n",
    "    {\"user_id\": \"U004\", \"show\": \"Friends\", \"genre\": \"Comedy\", \"watch_time\": 22, \"date\": \"2025-09-15\"},\n",
    "    {\"user_id\": \"U004\", \"show\": \"The Office\", \"genre\": \"Comedy\", \"watch_time\": 25, \"date\": \"2025-09-18\"},\n",
    "    {\"user_id\": \"U004\", \"show\": \"Parks and Rec\", \"genre\": \"Comedy\", \"watch_time\": 23, \"date\": \"2025-09-20\"},\n",
    "    \n",
    "    {\"user_id\": \"U005\", \"show\": \"Stranger Things\", \"genre\": \"Sci-Fi\", \"watch_time\": 50, \"date\": \"2025-09-10\"},\n",
    "    {\"user_id\": \"U005\", \"show\": \"Black Mirror\", \"genre\": \"Sci-Fi\", \"watch_time\": 45, \"date\": \"2025-09-12\"},\n",
    "    {\"user_id\": \"U005\", \"show\": \"Westworld\", \"genre\": \"Sci-Fi\", \"watch_time\": 53, \"date\": \"2025-09-15\"},\n",
    "    {\"user_id\": \"U005\", \"show\": \"The Expanse\", \"genre\": \"Sci-Fi\", \"watch_time\": 57, \"date\": \"2025-09-18\"},\n",
    "    {\"user_id\": \"U005\", \"show\": \"Dark\", \"genre\": \"Sci-Fi\", \"watch_time\": 52, \"date\": \"2025-09-22\"},\n",
    "    {\"user_id\": \"U005\", \"show\": \"Altered Carbon\", \"genre\": \"Sci-Fi\", \"watch_time\": 48, \"date\": \"2025-09-25\"},\n",
    "    {\"user_id\": \"U005\", \"show\": \"Foundation\", \"genre\": \"Sci-Fi\", \"watch_time\": 59, \"date\": \"2025-09-27\"},\n",
    "    {\"user_id\": \"U005\", \"show\": \"Love Death Robots\", \"genre\": \"Sci-Fi\", \"watch_time\": 20, \"date\": \"2025-09-28\"},\n",
    "    \n",
    "    {\"user_id\": \"U006\", \"show\": \"The Crown\", \"genre\": \"Drama\", \"watch_time\": 38, \"date\": \"2025-08-10\"},\n",
    "    {\"user_id\": \"U006\", \"show\": \"House of Cards\", \"genre\": \"Drama\", \"watch_time\": 42, \"date\": \"2025-08-15\"},\n",
    "]\n",
    "\n",
    "cutoff_date = datetime.now() - timedelta(days=30)\n",
    "\n",
    "user_shows = defaultdict(list)\n",
    "\n",
    "for record in viewing_data:\n",
    "    record_date = datetime.strptime(record['date'], \"%Y-%m-%d\")\n",
    "    if record_date >= cutoff_date:\n",
    "        user_shows[record[\"user_id\"]].append(record)\n",
    "\n",
    "target_users = [\n",
    "    user_id\n",
    "    for user_id, show in user_shows.items()\n",
    "    if len([s for s in show if s['genre'] == 'Sci-Fi']) >= 5\n",
    "    and sum(s['watch_time'] for s in show if s['genre'] == 'Sci-Fi') / len([s for s in show if s['genre'] == 'Sci-Fi'])\n",
    "        \n",
    "]    \n",
    "print(f\"{dict(user_shows.items())}\\n\")\n",
    "\n",
    "json.dumps(target_users)"
   ]
  },
  {
   "cell_type": "code",
   "execution_count": 99,
   "id": "dff4d10a",
   "metadata": {},
   "outputs": [
    {
     "name": "stdout",
     "output_type": "stream",
     "text": [
      "['U000037', 'U000022', 'U000017', 'U000008', 'U000034']\n"
     ]
    }
   ],
   "source": [
    "from itertools import islice\n",
    "def generate_large_dataset(size=1000000):\n",
    "    \"\"\"Generator that yields viewing records\"\"\"\n",
    "    import random\n",
    "    upto = max(1, size // 10)  \n",
    "    users = [f\"U{str(i).zfill(6)}\" for i in range(1, upto + 2)]\n",
    "    shows = [\"Stranger Things\", \"Black Mirror\", \"Dark\", \"Westworld\", \"The Expanse\"]\n",
    "    genres = [\"Sci-Fi\", \"Drama\", \"Comedy\", \"Crime\"]\n",
    "    \n",
    "    for i in range(size):\n",
    "        yield {\n",
    "            \"user_id\": random.choice(users),\n",
    "            \"show\": random.choice(shows),\n",
    "            \"genre\": random.choice(genres),\n",
    "            \"watch_time\": random.randint(15, 65),\n",
    "            \"date\": f\"2025-09-{random.randint(1, 30):02d}\"\n",
    "        }\n",
    "\n",
    "cutoff_date = datetime.now() - timedelta(days=30)\n",
    "\n",
    "def find_users_streaming(data_generator, cutoff_date):\n",
    "    counts = defaultdict(int)\n",
    "    sums = defaultdict(int)\n",
    "    \n",
    "    for record in data_generator:\n",
    "        record_date = datetime.strptime(record['date'], \"%Y-%m-%d\")\n",
    "        if record_date < cutoff_date:\n",
    "            continue\n",
    "        if record['genre'] == 'Sci-Fi':\n",
    "            continue\n",
    "        uid = record['user_id']\n",
    "        counts[uid] += 1\n",
    "        sums[uid] += record['watch_time']\n",
    "        \n",
    "    for uid, count in counts.items():\n",
    "        total = sums[uid]\n",
    "        if count >= 5 and (total / count) > 45:\n",
    "            yield uid\n",
    "        \n",
    "data_gen = generate_large_dataset(500) \n",
    "\n",
    "result = list(find_users_streaming(data_gen, cutoff_date))\n",
    "print(result)\n",
    "\n",
    "# for uid in islice(find_users_streaming(data_gen, cutoff_date), 10):\n",
    "#     print(uid)"
   ]
  },
  {
   "cell_type": "markdown",
   "id": "92e84a3b",
   "metadata": {},
   "source": [
    "### Problem 2: E-Commerce Price Monitoring - Real-Time Alert System\n",
    "\n",
    "####  Test Case 1: Find Products with >20% Discount\n",
    "\n",
    "####  Test Case 2: Match User Alerts with Price Drops\n",
    "\n",
    "####  Test Case 3: Category-wise Best Deals\n"
   ]
  },
  {
   "cell_type": "code",
   "execution_count": 116,
   "id": "43cbcf3a",
   "metadata": {},
   "outputs": [
    {
     "name": "stdout",
     "output_type": "stream",
     "text": [
      "  iPhone 15 Pro: ₹79900 → ₹59900 (25.03% off)\n",
      "  PS5 Console: ₹54990 → ₹43990 (20.0% off)\n",
      "  Samsung S24 Ultra: ₹124999 → ₹94999 (24.0% off)\n",
      "  Adidas Ultraboost: ₹12999 → ₹9999 (23.08% off)\n",
      "  Sony WH-1000XM5: ₹29990 → ₹19990 (33.34% off)\n",
      "  iPad Air: ₹59900 → ₹44900 (25.04% off)\n",
      "  AirPods Pro: ₹24900 → ₹17900 (28.11% off)\n",
      "  Fitbit Charge 6: ₹14999 → ₹11999 (20.0% off)\n"
     ]
    }
   ],
   "source": [
    "# COMPLETE PRODUCT DATA\n",
    "products = [\n",
    "    {\"id\": \"P001\", \"name\": \"iPhone 15 Pro\", \"old_price\": 79900, \"new_price\": 59900, \"category\": \"Electronics\", \"brand\": \"Apple\"},\n",
    "    {\"id\": \"P002\", \"name\": \"Nike Air Max\", \"old_price\": 8999, \"new_price\": 8500, \"category\": \"Fashion\", \"brand\": \"Nike\"},\n",
    "    {\"id\": \"P003\", \"name\": \"PS5 Console\", \"old_price\": 54990, \"new_price\": 43990, \"category\": \"Gaming\", \"brand\": \"Sony\"},\n",
    "    {\"id\": \"P004\", \"name\": \"Samsung S24 Ultra\", \"old_price\": 124999, \"new_price\": 94999, \"category\": \"Electronics\", \"brand\": \"Samsung\"},\n",
    "    {\"id\": \"P005\", \"name\": \"MacBook Pro M3\", \"old_price\": 199900, \"new_price\": 189900, \"category\": \"Electronics\", \"brand\": \"Apple\"},\n",
    "    {\"id\": \"P006\", \"name\": \"Adidas Ultraboost\", \"old_price\": 12999, \"new_price\": 9999, \"category\": \"Fashion\", \"brand\": \"Adidas\"},\n",
    "    {\"id\": \"P007\", \"name\": \"Xbox Series X\", \"old_price\": 52990, \"new_price\": 49990, \"category\": \"Gaming\", \"brand\": \"Microsoft\"},\n",
    "    {\"id\": \"P008\", \"name\": \"Sony WH-1000XM5\", \"old_price\": 29990, \"new_price\": 19990, \"category\": \"Electronics\", \"brand\": \"Sony\"},\n",
    "    {\"id\": \"P009\", \"name\": \"Levi's Jeans\", \"old_price\": 3999, \"new_price\": 3799, \"category\": \"Fashion\", \"brand\": \"Levis\"},\n",
    "    {\"id\": \"P010\", \"name\": \"iPad Air\", \"old_price\": 59900, \"new_price\": 44900, \"category\": \"Electronics\", \"brand\": \"Apple\"},\n",
    "    {\"id\": \"P011\", \"name\": \"Nintendo Switch\", \"old_price\": 29990, \"new_price\": 28990, \"category\": \"Gaming\", \"brand\": \"Nintendo\"},\n",
    "    {\"id\": \"P012\", \"name\": \"AirPods Pro\", \"old_price\": 24900, \"new_price\": 17900, \"category\": \"Electronics\", \"brand\": \"Apple\"},\n",
    "    {\"id\": \"P013\", \"name\": \"Puma Sneakers\", \"old_price\": 5999, \"new_price\": 5699, \"category\": \"Fashion\", \"brand\": \"Puma\"},\n",
    "    {\"id\": \"P014\", \"name\": \"Dell XPS 15\", \"old_price\": 149900, \"new_price\": 129900, \"category\": \"Electronics\", \"brand\": \"Dell\"},\n",
    "    {\"id\": \"P015\", \"name\": \"Fitbit Charge 6\", \"old_price\": 14999, \"new_price\": 11999, \"category\": \"Electronics\", \"brand\": \"Fitbit\"},\n",
    "]\n",
    "\n",
    "# USER ALERTS DATA\n",
    "user_alerts = [\n",
    "    {\"user\": \"U001\", \"product_id\": \"P001\", \"target_price\": 65000, \"min_discount\": 15, \"email\": \"user1@email.com\"},\n",
    "    {\"user\": \"U002\", \"product_id\": \"P001\", \"target_price\": 60000, \"min_discount\": 20, \"email\": \"user2@email.com\"},\n",
    "    {\"user\": \"U003\", \"product_id\": \"P003\", \"target_price\": 50000, \"min_discount\": 10, \"email\": \"user3@email.com\"},\n",
    "    {\"user\": \"U004\", \"product_id\": \"P004\", \"target_price\": 100000, \"min_discount\": 20, \"email\": \"user4@email.com\"},\n",
    "    {\"user\": \"U005\", \"product_id\": \"P008\", \"target_price\": 22000, \"min_discount\": 25, \"email\": \"user5@email.com\"},\n",
    "    {\"user\": \"U006\", \"product_id\": \"P010\", \"target_price\": 48000, \"min_discount\": 15, \"email\": \"user6@email.com\"},\n",
    "    {\"user\": \"U007\", \"product_id\": \"P012\", \"target_price\": 20000, \"min_discount\": 20, \"email\": \"user7@email.com\"},\n",
    "    {\"user\": \"U008\", \"product_id\": \"P003\", \"target_price\": 45000, \"min_discount\": 18, \"email\": \"user8@email.com\"},\n",
    "    {\"user\": \"U009\", \"product_id\": \"P001\", \"target_price\": 70000, \"min_discount\": 10, \"email\": \"user9@email.com\"},\n",
    "    {\"user\": \"U010\", \"product_id\": \"P014\", \"target_price\": 135000, \"min_discount\": 12, \"email\": \"user10@email.com\"},\n",
    "]\n",
    "\n",
    "price_drops = [\n",
    "    {   \"name\": p[\"name\"],\n",
    "        \"old_price\": p[\"old_price\"],\n",
    "        \"new_price\": p[\"new_price\"],\n",
    "        \"discount_perc\": round(((p['old_price'] - p['new_price'])/p['old_price']) * 100, 2),\n",
    "        \"savings\": p[\"old_price\"] - p[\"new_price\"]\n",
    "    }\n",
    "    for p in products\n",
    "    if ((p['old_price'] - p['new_price'])/ p['old_price']) * 100 > 20\n",
    "    ]\n",
    "\n",
    "for item in price_drops:\n",
    "    print(f\"  {item['name']}: ₹{item['old_price']} → ₹{item['new_price']} ({item['discount_perc']}% off)\")\n",
    "\n",
    "# print(price_drops)\n"
   ]
  },
  {
   "cell_type": "markdown",
   "id": "07fe8a46",
   "metadata": {},
   "source": [
    "#### Problem 1: Find all delivered orders in Mumbai with total > 50"
   ]
  },
  {
   "cell_type": "code",
   "execution_count": 1,
   "id": "8bf3c848",
   "metadata": {},
   "outputs": [],
   "source": [
    "orders = [\n",
    "    {\"order_id\": \"ORD001\", \"customer\": \"Alice\", \"total\": 45.50, \"status\": \"delivered\", \"city\": \"Mumbai\"},\n",
    "    {\"order_id\": \"ORD002\", \"customer\": \"Bob\", \"total\": 23.00, \"status\": \"pending\", \"city\": \"Delhi\"},\n",
    "    {\"order_id\": \"ORD003\", \"customer\": \"Charlie\", \"total\": 67.80, \"status\": \"delivered\", \"city\": \"Mumbai\"},\n",
    "    {\"order_id\": \"ORD004\", \"customer\": \"Diana\", \"total\": 12.50, \"status\": \"cancelled\", \"city\": \"Bangalore\"},\n",
    "    {\"order_id\": \"ORD005\", \"customer\": \"Eve\", \"total\": 89.00, \"status\": \"delivered\", \"city\": \"Mumbai\"},\n",
    "    {\"order_id\": \"ORD006\", \"customer\": \"Frank\", \"total\": 34.20, \"status\": \"delivered\", \"city\": \"Delhi\"},\n",
    "    {\"order_id\": \"ORD007\", \"customer\": \"Grace\", \"total\": 56.70, \"status\": \"pending\", \"city\": \"Mumbai\"},\n",
    "    {\"order_id\": \"ORD008\", \"customer\": \"Henry\", \"total\": 78.90, \"status\": \"delivered\", \"city\": \"Bangalore\"},\n",
    "    {\"order_id\": \"ORD009\", \"customer\": \"Ivy\", \"total\": 22.30, \"status\": \"delivered\", \"city\": \"Delhi\"},\n",
    "    {\"order_id\": \"ORD010\", \"customer\": \"Jack\", \"total\": 91.50, \"status\": \"delivered\", \"city\": \"Mumbai\"},\n",
    "    {\"order_id\": \"ORD011\", \"customer\": \"Kate\", \"total\": 43.60, \"status\": \"cancelled\", \"city\": \"Delhi\"},\n",
    "    {\"order_id\": \"ORD012\", \"customer\": \"Liam\", \"total\": 65.40, \"status\": \"delivered\", \"city\": \"Mumbai\"},\n",
    "    {\"order_id\": \"ORD013\", \"customer\": \"Mia\", \"total\": 28.80, \"status\": \"pending\", \"city\": \"Bangalore\"},\n",
    "    {\"order_id\": \"ORD014\", \"customer\": \"Noah\", \"total\": 53.20, \"status\": \"delivered\", \"city\": \"Delhi\"},\n",
    "    {\"order_id\": \"ORD015\", \"customer\": \"Olivia\", \"total\": 71.10, \"status\": \"delivered\", \"city\": \"Mumbai\"},\n",
    "    {\"order_id\": \"ORD016\", \"customer\": \"Peter\", \"total\": 19.90, \"status\": \"cancelled\", \"city\": \"Mumbai\"},\n",
    "    {\"order_id\": \"ORD017\", \"customer\": \"Quinn\", \"total\": 85.30, \"status\": \"delivered\", \"city\": \"Bangalore\"},\n",
    "    {\"order_id\": \"ORD018\", \"customer\": \"Rachel\", \"total\": 37.50, \"status\": \"pending\", \"city\": \"Delhi\"},\n",
    "    {\"order_id\": \"ORD019\", \"customer\": \"Sam\", \"total\": 62.70, \"status\": \"delivered\", \"city\": \"Mumbai\"},\n",
    "    {\"order_id\": \"ORD020\", \"customer\": \"Tina\", \"total\": 48.40, \"status\": \"delivered\", \"city\": \"Delhi\"},\n",
    "    {\"order_id\": \"ORD021\", \"customer\": \"Uma\", \"total\": 76.80, \"status\": \"delivered\", \"city\": \"Bangalore\"},\n",
    "    {\"order_id\": \"ORD022\", \"customer\": \"Victor\", \"total\": 31.20, \"status\": \"cancelled\", \"city\": \"Mumbai\"},\n",
    "    {\"order_id\": \"ORD023\", \"customer\": \"Wendy\", \"total\": 54.60, \"status\": \"delivered\", \"city\": \"Delhi\"},\n",
    "    {\"order_id\": \"ORD024\", \"customer\": \"Xander\", \"total\": 69.90, \"status\": \"pending\", \"city\": \"Mumbai\"},\n",
    "    {\"order_id\": \"ORD025\", \"customer\": \"Yara\", \"total\": 41.30, \"status\": \"delivered\", \"city\": \"Bangalore\"},\n",
    "    {\"order_id\": \"ORD026\", \"customer\": \"Zack\", \"total\": 58.70, \"status\": \"delivered\", \"city\": \"Mumbai\"},\n",
    "    {\"order_id\": \"ORD027\", \"customer\": \"Amy\", \"total\": 25.50, \"status\": \"cancelled\", \"city\": \"Delhi\"},\n",
    "    {\"order_id\": \"ORD028\", \"customer\": \"Ben\", \"total\": 73.20, \"status\": \"delivered\", \"city\": \"Mumbai\"},\n",
    "    {\"order_id\": \"ORD029\", \"customer\": \"Cara\", \"total\": 36.80, \"status\": \"pending\", \"city\": \"Bangalore\"},\n",
    "    {\"order_id\": \"ORD030\", \"customer\": \"Dan\", \"total\": 82.40, \"status\": \"delivered\", \"city\": \"Delhi\"},\n",
    "    {\"order_id\": \"ORD031\", \"customer\": \"Ella\", \"total\": 47.90, \"status\": \"delivered\", \"city\": \"Mumbai\"},\n",
    "    {\"order_id\": \"ORD032\", \"customer\": \"Finn\", \"total\": 61.50, \"status\": \"delivered\", \"city\": \"Bangalore\"},\n",
    "    {\"order_id\": \"ORD033\", \"customer\": \"Gina\", \"total\": 29.70, \"status\": \"cancelled\", \"city\": \"Mumbai\"},\n",
    "    {\"order_id\": \"ORD034\", \"customer\": \"Hugo\", \"total\": 55.80, \"status\": \"delivered\", \"city\": \"Delhi\"},\n",
    "    {\"order_id\": \"ORD035\", \"customer\": \"Iris\", \"total\": 74.60, \"status\": \"delivered\", \"city\": \"Mumbai\"},\n",
    "]\n",
    "\n"
   ]
  },
  {
   "cell_type": "code",
   "execution_count": 6,
   "id": "43370b71",
   "metadata": {},
   "outputs": [
    {
     "name": "stdout",
     "output_type": "stream",
     "text": [
      "Number of orders delivered in Mumbai with total > 50 is: 9\n",
      "['ORD003', 'ORD005', 'ORD010', 'ORD012', 'ORD015', 'ORD019', 'ORD026', 'ORD028', 'ORD035']\n"
     ]
    }
   ],
   "source": [
    "result = [order[\"order_id\"] for order in orders if (order[\"total\"] > 50 and order[\"status\"] == \"delivered\") and order[\"city\"] == \"Mumbai\"]\n",
    "print(\"Number of orders delivered in Mumbai with total > 50 is:\",len(result))\n",
    "print(result)"
   ]
  },
  {
   "cell_type": "markdown",
   "id": "e9334783",
   "metadata": {},
   "source": [
    "#### Problem 2:  Apply 15% discount to electronics, create price lookup"
   ]
  },
  {
   "cell_type": "code",
   "execution_count": 2,
   "id": "571e5513",
   "metadata": {},
   "outputs": [],
   "source": [
    "products = [\n",
    "    {\"sku\": \"ELEC001\", \"name\": \"Laptop\", \"category\": \"electronics\", \"price\": 45000},\n",
    "    {\"sku\": \"FASH001\", \"name\": \"T-Shirt\", \"category\": \"fashion\", \"price\": 599},\n",
    "    {\"sku\": \"ELEC002\", \"name\": \"Mouse\", \"category\": \"electronics\", \"price\": 450},\n",
    "    {\"sku\": \"HOME001\", \"name\": \"Bedsheet\", \"category\": \"home\", \"price\": 1200},\n",
    "    {\"sku\": \"ELEC003\", \"name\": \"Keyboard\", \"category\": \"electronics\", \"price\": 1500},\n",
    "    {\"sku\": \"FASH002\", \"name\": \"Jeans\", \"category\": \"fashion\", \"price\": 1999},\n",
    "    {\"sku\": \"ELEC004\", \"name\": \"Monitor\", \"category\": \"electronics\", \"price\": 12000},\n",
    "    {\"sku\": \"HOME002\", \"name\": \"Pillow\", \"category\": \"home\", \"price\": 450},\n",
    "    {\"sku\": \"ELEC005\", \"name\": \"Webcam\", \"category\": \"electronics\", \"price\": 2500},\n",
    "    {\"sku\": \"FASH003\", \"name\": \"Dress\", \"category\": \"fashion\", \"price\": 2499},\n",
    "    {\"sku\": \"ELEC006\", \"name\": \"Headphones\", \"category\": \"electronics\", \"price\": 3500},\n",
    "    {\"sku\": \"HOME003\", \"name\": \"Curtain\", \"category\": \"home\", \"price\": 899},\n",
    "    {\"sku\": \"ELEC007\", \"name\": \"SSD 1TB\", \"category\": \"electronics\", \"price\": 8000},\n",
    "    {\"sku\": \"FASH004\", \"name\": \"Jacket\", \"category\": \"fashion\", \"price\": 3999},\n",
    "    {\"sku\": \"ELEC008\", \"name\": \"RAM 16GB\", \"category\": \"electronics\", \"price\": 5500},\n",
    "    {\"sku\": \"HOME004\", \"name\": \"Table Lamp\", \"category\": \"home\", \"price\": 750},\n",
    "    {\"sku\": \"ELEC009\", \"name\": \"Router\", \"category\": \"electronics\", \"price\": 2200},\n",
    "    {\"sku\": \"FASH005\", \"name\": \"Sneakers\", \"category\": \"fashion\", \"price\": 4999},\n",
    "    {\"sku\": \"ELEC010\", \"name\": \"Tablet\", \"category\": \"electronics\", \"price\": 25000},\n",
    "    {\"sku\": \"HOME005\", \"name\": \"Vase\", \"category\": \"home\", \"price\": 650},\n",
    "    {\"sku\": \"ELEC011\", \"name\": \"Charger\", \"category\": \"electronics\", \"price\": 799},\n",
    "    {\"sku\": \"FASH006\", \"name\": \"Shirt\", \"category\": \"fashion\", \"price\": 1299},\n",
    "    {\"sku\": \"ELEC012\", \"name\": \"Power Bank\", \"category\": \"electronics\", \"price\": 1899},\n",
    "    {\"sku\": \"HOME006\", \"name\": \"Clock\", \"category\": \"home\", \"price\": 899},\n",
    "    {\"sku\": \"ELEC013\", \"name\": \"USB Cable\", \"category\": \"electronics\", \"price\": 299},\n",
    "    {\"sku\": \"FASH007\", \"name\": \"Scarf\", \"category\": \"fashion\", \"price\": 799},\n",
    "    {\"sku\": \"ELEC014\", \"name\": \"Smartwatch\", \"category\": \"electronics\", \"price\": 15000},\n",
    "    {\"sku\": \"HOME007\", \"name\": \"Towel Set\", \"category\": \"home\", \"price\": 1100},\n",
    "    {\"sku\": \"ELEC015\", \"name\": \"Speaker\", \"category\": \"electronics\", \"price\": 4500},\n",
    "    {\"sku\": \"FASH008\", \"name\": \"Belt\", \"category\": \"fashion\", \"price\": 599},\n",
    "    {\"sku\": \"ELEC016\", \"name\": \"Microphone\", \"category\": \"electronics\", \"price\": 3200},\n",
    "    {\"sku\": \"HOME008\", \"name\": \"Rug\", \"category\": \"home\", \"price\": 2500},\n",
    "    {\"sku\": \"ELEC017\", \"name\": \"Graphics Card\", \"category\": \"electronics\", \"price\": 35000},\n",
    "    {\"sku\": \"FASH009\", \"name\": \"Handbag\", \"category\": \"fashion\", \"price\": 2999},\n",
    "    {\"sku\": \"ELEC018\", \"name\": \"External HDD\", \"category\": \"electronics\", \"price\": 4200},\n",
    "    {\"sku\": \"HOME009\", \"name\": \"Photo Frame\", \"category\": \"home\", \"price\": 399},\n",
    "    {\"sku\": \"ELEC019\", \"name\": \"Printer\", \"category\": \"electronics\", \"price\": 8500},\n",
    "    {\"sku\": \"FASH010\", \"name\": \"Sunglasses\", \"category\": \"fashion\", \"price\": 1499},\n",
    "    {\"sku\": \"ELEC020\", \"name\": \"Phone Case\", \"category\": \"electronics\", \"price\": 399},\n",
    "    {\"sku\": \"HOME010\", \"name\": \"Cushion\", \"category\": \"home\", \"price\": 549},\n",
    "]"
   ]
  },
  {
   "cell_type": "code",
   "execution_count": null,
   "id": "088d8fbe",
   "metadata": {},
   "outputs": [
    {
     "name": "stdout",
     "output_type": "stream",
     "text": [
      "{'ELEC001': 38250.0, 'FASH001': 599, 'ELEC002': 382.5, 'HOME001': 1200, 'ELEC003': 1275.0, 'FASH002': 1999, 'ELEC004': 10200.0, 'HOME002': 450, 'ELEC005': 2125.0, 'FASH003': 2499, 'ELEC006': 2975.0, 'HOME003': 899, 'ELEC007': 6800.0, 'FASH004': 3999, 'ELEC008': 4675.0, 'HOME004': 750, 'ELEC009': 1870.0, 'FASH005': 4999, 'ELEC010': 21250.0, 'HOME005': 650, 'ELEC011': 679.15, 'FASH006': 1299, 'ELEC012': 1614.1499999999999, 'HOME006': 899, 'ELEC013': 254.15, 'FASH007': 799, 'ELEC014': 12750.0, 'HOME007': 1100, 'ELEC015': 3825.0, 'FASH008': 599, 'ELEC016': 2720.0, 'HOME008': 2500, 'ELEC017': 29750.0, 'FASH009': 2999, 'ELEC018': 3570.0, 'HOME009': 399, 'ELEC019': 7225.0, 'FASH010': 1499, 'ELEC020': 339.15, 'HOME010': 549}\n"
     ]
    },
    {
     "data": {
      "text/plain": [
       "6800.0"
      ]
     },
     "execution_count": 4,
     "metadata": {},
     "output_type": "execute_result"
    }
   ],
   "source": [
    "price_lookup = {product[\"sku\"]: product[\"price\"] * 0.85 if product[\"category\"] == \"electronics\" else product[\"price\"] for product in products}\n",
    "\n",
    "print(price_lookup)\n",
    "price_lookup[\"ELEC007\"]"
   ]
  },
  {
   "cell_type": "markdown",
   "id": "512d1c04",
   "metadata": {},
   "source": [
    "#### Process large transaction stream without loading all in memory"
   ]
  },
  {
   "cell_type": "code",
   "execution_count": null,
   "id": "096774e8",
   "metadata": {},
   "outputs": [],
   "source": [
    "transactions = [\n",
    "    {\"txn_id\": \"TXN001\", \"customer_id\": \"C001\", \"amount\": 1200, \"type\": \"purchase\"},\n",
    "    {\"txn_id\": \"TXN002\", \"customer_id\": \"C002\", \"amount\": 500, \"type\": \"purchase\"},\n",
    "    {\"txn_id\": \"TXN003\", \"customer_id\": \"C001\", \"amount\": 300, \"type\": \"refund\"},\n",
    "    {\"txn_id\": \"TXN004\", \"customer_id\": \"C003\", \"amount\": 2500, \"type\": \"purchase\"},\n",
    "    {\"txn_id\": \"TXN005\", \"customer_id\": \"C002\", \"amount\": 800, \"type\": \"purchase\"},\n",
    "    {\"txn_id\": \"TXN006\", \"customer_id\": \"C004\", \"amount\": 150, \"type\": \"refund\"},\n",
    "    {\"txn_id\": \"TXN007\", \"customer_id\": \"C001\", \"amount\": 3000, \"type\": \"purchase\"},\n",
    "    {\"txn_id\": \"TXN008\", \"customer_id\": \"C005\", \"amount\": 1800, \"type\": \"purchase\"},\n",
    "    {\"txn_id\": \"TXN009\", \"customer_id\": \"C003\", \"amount\": 600, \"type\": \"refund\"},\n",
    "    {\"txn_id\": \"TXN010\", \"customer_id\": \"C002\", \"amount\": 2200, \"type\": \"purchase\"},\n",
    "    {\"txn_id\": \"TXN011\", \"customer_id\": \"C006\", \"amount\": 950, \"type\": \"purchase\"},\n",
    "    {\"txn_id\": \"TXN012\", \"customer_id\": \"C004\", \"amount\": 1100, \"type\": \"purchase\"},\n",
    "    {\"txn_id\": \"TXN013\", \"customer_id\": \"C001\", \"amount\": 400, \"type\": \"refund\"},\n",
    "    {\"txn_id\": \"TXN014\", \"customer_id\": \"C007\", \"amount\": 3500, \"type\": \"purchase\"},\n",
    "    {\"txn_id\": \"TXN015\", \"customer_id\": \"C005\", \"amount\": 1600, \"type\": \"purchase\"},\n",
    "    {\"txn_id\": \"TXN016\", \"customer_id\": \"C003\", \"amount\": 2800, \"type\": \"purchase\"},\n",
    "    {\"txn_id\": \"TXN017\", \"customer_id\": \"C008\", \"amount\": 720, \"type\": \"purchase\"},\n",
    "    {\"txn_id\": \"TXN018\", \"customer_id\": \"C002\", \"amount\": 250, \"type\": \"refund\"},\n",
    "    {\"txn_id\": \"TXN019\", \"customer_id\": \"C006\", \"amount\": 1900, \"type\": \"purchase\"},\n",
    "    {\"txn_id\": \"TXN020\", \"customer_id\": \"C009\", \"amount\": 4200, \"type\": \"purchase\"},\n",
    "    {\"txn_id\": \"TXN021\", \"customer_id\": \"C004\", \"amount\": 1350, \"type\": \"purchase\"},\n",
    "    {\"txn_id\": \"TXN022\", \"customer_id\": \"C001\", \"amount\": 2700, \"type\": \"purchase\"},\n",
    "    {\"txn_id\": \"TXN023\", \"customer_id\": \"C010\", \"amount\": 890, \"type\": \"purchase\"},\n",
    "    {\"txn_id\": \"TXN024\", \"customer_id\": \"C007\", \"amount\": 1050, \"type\": \"purchase\"},\n",
    "    {\"txn_id\": \"TXN025\", \"customer_id\": \"C005\", \"amount\": 620, \"type\": \"refund\"},\n",
    "    {\"txn_id\": \"TXN026\", \"customer_id\": \"C008\", \"amount\": 3100, \"type\": \"purchase\"},\n",
    "    {\"txn_id\": \"TXN027\", \"customer_id\": \"C003\", \"amount\": 1750, \"type\": \"purchase\"},\n",
    "    {\"txn_id\": \"TXN028\", \"customer_id\": \"C002\", \"amount\": 2900, \"type\": \"purchase\"},\n",
    "    {\"txn_id\": \"TXN029\", \"customer_id\": \"C011\", \"amount\": 540, \"type\": \"purchase\"},\n",
    "    {\"txn_id\": \"TXN030\", \"customer_id\": \"C006\", \"amount\": 1420, \"type\": \"purchase\"},\n",
    "    {\"txn_id\": \"TXN031\", \"customer_id\": \"C009\", \"amount\": 780, \"type\": \"refund\"},\n",
    "    {\"txn_id\": \"TXN032\", \"customer_id\": \"C004\", \"amount\": 2100, \"type\": \"purchase\"},\n",
    "    {\"txn_id\": \"TXN033\", \"customer_id\": \"C012\", \"amount\": 1580, \"type\": \"purchase\"},\n",
    "    {\"txn_id\": \"TXN034\", \"customer_id\": \"C001\", \"amount\": 920, \"type\": \"purchase\"},\n",
    "    {\"txn_id\": \"TXN035\", \"customer_id\": \"C010\", \"amount\": 1200, \"type\": \"purchase\"},\n",
    "    {\"txn_id\": \"TXN036\", \"customer_id\": \"C007\", \"amount\": 3300, \"type\": \"purchase\"},\n",
    "    {\"txn_id\": \"TXN037\", \"customer_id\": \"C005\", \"amount\": 1680, \"type\": \"purchase\"},\n",
    "    {\"txn_id\": \"TXN038\", \"customer_id\": \"C013\", \"amount\": 450, \"type\": \"refund\"},\n",
    "    {\"txn_id\": \"TXN039\", \"customer_id\": \"C008\", \"amount\": 2450, \"type\": \"purchase\"},\n",
    "    {\"txn_id\": \"TXN040\", \"customer_id\": \"C003\", \"amount\": 1920, \"type\": \"purchase\"},\n",
    "    {\"txn_id\": \"TXN041\", \"customer_id\": \"C011\", \"amount\": 1070, \"type\": \"purchase\"},\n",
    "    {\"txn_id\": \"TXN042\", \"customer_id\": \"C002\", \"amount\": 3800, \"type\": \"purchase\"},\n",
    "    {\"txn_id\": \"TXN043\", \"customer_id\": \"C006\", \"amount\": 690, \"type\": \"refund\"},\n",
    "    {\"txn_id\": \"TXN044\", \"customer_id\": \"C014\", \"amount\": 2150, \"type\": \"purchase\"},\n",
    "    {\"txn_id\": \"TXN045\", \"customer_id\": \"C009\", \"amount\": 1330, \"type\": \"purchase\"},\n",
    "    {\"txn_id\": \"TXN046\", \"customer_id\": \"C004\", \"amount\": 2600, \"type\": \"purchase\"},\n",
    "    {\"txn_id\": \"TXN047\", \"customer_id\": \"C012\", \"amount\": 840, \"type\": \"purchase\"},\n",
    "    {\"txn_id\": \"TXN048\", \"customer_id\": \"C001\", \"amount\": 1950, \"type\": \"purchase\"},\n",
    "    {\"txn_id\": \"TXN049\", \"customer_id\": \"C015\", \"amount\": 4100, \"type\": \"purchase\"},\n",
    "    {\"txn_id\": \"TXN050\", \"customer_id\": \"C010\", \"amount\": 1240, \"type\": \"purchase\"},\n",
    "]\n",
    "\n"
   ]
  },
  {
   "cell_type": "code",
   "execution_count": null,
   "id": "3eeb00a0",
   "metadata": {},
   "outputs": [],
   "source": [
    "def high_value_purchase(transactions):\n",
    "    for txn in transactions:\n",
    "        if txn['type'] == 'purchase' and txn['amount'] > 2000:\n",
    "            yield txn\n",
    "\n",
    "gen = high_value_purchase(transactions)\n",
    "print(next(gen)['amount'])\n",
    "print(next(gen)['amount'])\n",
    "print(next(gen)['amount'])\n",
    "print(next(gen)['amount'])\n",
    "print(next(gen)['amount'])\n",
    "print(next(gen))\n",
    "print(next(gen))\n",
    "print(next(gen))\n",
    "print(next(gen))\n",
    "\n"
   ]
  }
 ],
 "metadata": {
  "kernelspec": {
   "display_name": "venv",
   "language": "python",
   "name": "python3"
  },
  "language_info": {
   "codemirror_mode": {
    "name": "ipython",
    "version": 3
   },
   "file_extension": ".py",
   "mimetype": "text/x-python",
   "name": "python",
   "nbconvert_exporter": "python",
   "pygments_lexer": "ipython3",
   "version": "3.13.7"
  }
 },
 "nbformat": 4,
 "nbformat_minor": 5
}
