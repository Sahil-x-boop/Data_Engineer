{
 "cells": [
  {
   "cell_type": "code",
   "execution_count": 1,
   "id": "4ef6143b",
   "metadata": {},
   "outputs": [],
   "source": [
    "import os"
   ]
  },
  {
   "cell_type": "markdown",
   "id": "44bd6fb6",
   "metadata": {},
   "source": [
    "- Returns the current working directory (string).\n",
    "\n",
    "- Useful for debugging path issues, logging, and relative path resolution."
   ]
  },
  {
   "cell_type": "code",
   "execution_count": 9,
   "id": "cc4f2519",
   "metadata": {},
   "outputs": [
    {
     "name": "stdout",
     "output_type": "stream",
     "text": [
      "Current working dir: /mnt/n/Data_Engineer_/Data_Engineer/Pro_Python/operating_system\n"
     ]
    }
   ],
   "source": [
    "cwd = os.getcwd()\n",
    "print(\"Current working dir:\", cwd)"
   ]
  },
  {
   "cell_type": "code",
   "execution_count": 9,
   "id": "882e1466",
   "metadata": {},
   "outputs": [
    {
     "name": "stdout",
     "output_type": "stream",
     "text": [
      "['.gitignore~', '.python-version', 'Build-Something', 'Day1', 'Day10', 'Day11', 'Day12', 'Day13', 'Day14', 'Day15', 'Day16', 'Day17', 'Day2', 'Day3', 'Day4', 'Day5', 'Day6', 'Day7', 'Day8', 'Day9', 'Dsa & Industry level Practice Questions', 'fibonacci.py', 'Hard-coding', 'logs', 'log_utils', 'nul', 'operating_system', 'ourVirtualEnvironment', 'Practice-Session', 'requirements.txt', 'revision.py', 'Test', 'tests']\n"
     ]
    }
   ],
   "source": [
    "from contextlib import contextmanager\n",
    "\n",
    "@contextmanager\n",
    "def pushd(path):\n",
    "    old = os.getcwd()\n",
    "    try:\n",
    "        os.chdir(path)\n",
    "        yield\n",
    "    finally:\n",
    "        os.chdir(old)\n",
    "\n",
    "with pushd(\"/mnt/n/Data_Engineer_/Data_Engineer/Pro_Python\"):\n",
    "    print(os.listdir(\".\"))\n",
    "    \n"
   ]
  },
  {
   "cell_type": "code",
   "execution_count": 11,
   "id": "f232faed",
   "metadata": {},
   "outputs": [
    {
     "name": "stdout",
     "output_type": "stream",
     "text": [
      "['Beginning.ipynb', 'factorial.py', 'lib.py', 'prime.py', 'virtualenv.ipynb']\n"
     ]
    }
   ],
   "source": [
    "print(os.listdir(\"/mnt/n/Data_Engineer_/Data_Engineer/Pro_Python/Day1\"))"
   ]
  },
  {
   "cell_type": "code",
   "execution_count": 19,
   "id": "507c15a4",
   "metadata": {},
   "outputs": [
    {
     "name": "stdout",
     "output_type": "stream",
     "text": [
      "are_anagrams.py - is_dir? False - is_file? True\n",
      "first_non_repeat.py - is_dir? False - is_file? True\n",
      "first_occurance.py - is_dir? False - is_file? True\n",
      "palindrome.py - is_dir? False - is_file? True\n",
      "pangram.py - is_dir? False - is_file? True\n",
      "RealLifeProblems - is_dir? True - is_file? False\n",
      "remove_duplicates.py - is_dir? False - is_file? True\n",
      "reverse_string.py - is_dir? False - is_file? True\n",
      "string_practice.py - is_dir? False - is_file? True\n",
      "vowel_consonant.py - is_dir? False - is_file? True\n"
     ]
    }
   ],
   "source": [
    "with os.scandir(\"/mnt/n/Data_Engineer_/Data_Engineer/Pro_Python/Day7\") as it:\n",
    "    for entry in it:\n",
    "        print(entry.name,\"- is_dir?\",entry.is_dir(), \"- is_file?\",entry.is_file())"
   ]
  },
  {
   "cell_type": "code",
   "execution_count": 24,
   "id": "4f76fb2b",
   "metadata": {},
   "outputs": [
    {
     "name": "stdout",
     "output_type": "stream",
     "text": [
      "Directory: /mnt/n/Data_Engineer_/Data_Engineer/Pro_Python/Day8\n",
      "  - build_oops.ipynb\n",
      "  - oops_basics.py\n",
      "Directory: /mnt/n/Data_Engineer_/Data_Engineer/Pro_Python/Day8/.ipynb_checkpoints\n",
      "  - build_oops-checkpoint.ipynb\n",
      "Directory: /mnt/n/Data_Engineer_/Data_Engineer/Pro_Python/Day8/oops_target\n",
      "  - basic.py\n"
     ]
    }
   ],
   "source": [
    "for dirpath, dirnames, filenames in os.walk('/mnt/n/Data_Engineer_/Data_Engineer/Pro_Python/Day8'):\n",
    "    print(\"Directory:\", dirpath)\n",
    "    for f in filenames:\n",
    "        print(\"  -\", f)"
   ]
  },
  {
   "cell_type": "code",
   "execution_count": null,
   "id": "4ec41aaa",
   "metadata": {},
   "outputs": [],
   "source": []
  }
 ],
 "metadata": {
  "kernelspec": {
   "display_name": "3.13.7",
   "language": "python",
   "name": "python3"
  },
  "language_info": {
   "codemirror_mode": {
    "name": "ipython",
    "version": 3
   },
   "file_extension": ".py",
   "mimetype": "text/x-python",
   "name": "python",
   "nbconvert_exporter": "python",
   "pygments_lexer": "ipython3",
   "version": "3.13.7"
  }
 },
 "nbformat": 4,
 "nbformat_minor": 5
}
