{
 "cells": [
  {
   "cell_type": "code",
<<<<<<< HEAD
   "execution_count": 1,
=======
   "execution_count": 68,
>>>>>>> ed653ccf4521ac673d46fe13576182901452a16f
   "id": "4ef6143b",
   "metadata": {},
   "outputs": [],
   "source": [
    "import os\n",
    "from pathlib import Path\n",
    "\n",
    "script_dir = Path.cwd().parent.parent.parent"
   ]
  },
  {
   "cell_type": "markdown",
   "id": "44bd6fb6",
   "metadata": {},
   "source": [
    "- Returns the current working directory (string).\n",
    "\n",
    "- Useful for debugging path issues, logging, and relative path resolution."
   ]
  },
  {
   "cell_type": "code",
   "execution_count": 7,
   "id": "cc4f2519",
   "metadata": {},
   "outputs": [
    {
     "name": "stdout",
     "output_type": "stream",
     "text": [
      "Current working dir: /home/developer/Workspace_Projects/Data_Engineer/Pro_Python/operating_system\n"
     ]
    }
   ],
   "source": [
    "cwd = os.getcwd()\n",
    "print(\"Current working dir:\", cwd)"
   ]
  },
  {
   "cell_type": "code",
   "execution_count": 9,
   "id": "882e1466",
   "metadata": {},
   "outputs": [
    {
     "name": "stdout",
     "output_type": "stream",
     "text": [
      "['.gitignore~', '.python-version', 'Build-Something', 'Day1', 'Day10', 'Day11', 'Day12', 'Day13', 'Day14', 'Day15', 'Day16', 'Day17', 'Day2', 'Day3', 'Day4', 'Day5', 'Day6', 'Day7', 'Day8', 'Day9', 'Dsa & Industry level Practice Questions', 'fibonacci.py', 'Hard-coding', 'logs', 'log_utils', 'nul', 'operating_system', 'ourVirtualEnvironment', 'Practice-Session', 'requirements.txt', 'revision.py', 'Test', 'tests']\n"
     ]
    }
   ],
   "source": [
    "from contextlib import contextmanager\n",
    "\n",
    "@contextmanager\n",
    "def pushd(path):\n",
    "    old = os.getcwd()\n",
    "    try:\n",
    "        os.chdir(path)\n",
    "        yield\n",
    "    finally:\n",
    "        os.chdir(old)\n",
    "\n",
    "with pushd(\"/mnt/n/Data_Engineer_/Data_Engineer/Pro_Python\"):\n",
    "    print(os.listdir(\".\"))\n",
    "    \n"
   ]
  },
  {
   "cell_type": "code",
<<<<<<< HEAD
   "execution_count": 11,
   "id": "f232faed",
=======
   "execution_count": null,
   "id": "21a8850d",
   "metadata": {},
   "outputs": [],
   "source": []
  },
  {
   "cell_type": "code",
   "execution_count": 54,
   "id": "dcfc0a74",
>>>>>>> ed653ccf4521ac673d46fe13576182901452a16f
   "metadata": {},
   "outputs": [
    {
     "name": "stdout",
     "output_type": "stream",
     "text": [
<<<<<<< HEAD
      "['Beginning.ipynb', 'factorial.py', 'lib.py', 'prime.py', 'virtualenv.ipynb']\n"
=======
      "pangram.py /home/developer/Workspace_Projects/Data_Engineer/Pro_Python/Day7/pangram.py\n",
      "remove_duplicates.py /home/developer/Workspace_Projects/Data_Engineer/Pro_Python/Day7/remove_duplicates.py\n",
      "string_practice.py /home/developer/Workspace_Projects/Data_Engineer/Pro_Python/Day7/string_practice.py\n",
      "reverse_string.py /home/developer/Workspace_Projects/Data_Engineer/Pro_Python/Day7/reverse_string.py\n",
      "palindrome.py /home/developer/Workspace_Projects/Data_Engineer/Pro_Python/Day7/palindrome.py\n",
      "are_anagrams.py /home/developer/Workspace_Projects/Data_Engineer/Pro_Python/Day7/are_anagrams.py\n",
      "first_occurance.py /home/developer/Workspace_Projects/Data_Engineer/Pro_Python/Day7/first_occurance.py\n",
      "RealLifeProblems /home/developer/Workspace_Projects/Data_Engineer/Pro_Python/Day7/RealLifeProblems\n",
      "vowel_consonant.py /home/developer/Workspace_Projects/Data_Engineer/Pro_Python/Day7/vowel_consonant.py\n",
      "first_non_repeat.py /home/developer/Workspace_Projects/Data_Engineer/Pro_Python/Day7/first_non_repeat.py\n"
>>>>>>> ed653ccf4521ac673d46fe13576182901452a16f
     ]
    }
   ],
   "source": [
<<<<<<< HEAD
    "print(os.listdir(\"/mnt/n/Data_Engineer_/Data_Engineer/Pro_Python/Day1\"))"
=======
    "records = os.scandir(os.path.join(script_dir, \"Data_Engineer/Pro_Python/Day7\"))\n",
    "for item in records:\n",
    "    print(item.name, item.path)\n"
>>>>>>> ed653ccf4521ac673d46fe13576182901452a16f
   ]
  },
  {
   "cell_type": "code",
<<<<<<< HEAD
   "execution_count": 19,
   "id": "507c15a4",
=======
   "execution_count": 44,
   "id": "3fadc823",
>>>>>>> ed653ccf4521ac673d46fe13576182901452a16f
   "metadata": {},
   "outputs": [
    {
     "name": "stdout",
     "output_type": "stream",
     "text": [
<<<<<<< HEAD
      "are_anagrams.py - is_dir? False - is_file? True\n",
      "first_non_repeat.py - is_dir? False - is_file? True\n",
      "first_occurance.py - is_dir? False - is_file? True\n",
      "palindrome.py - is_dir? False - is_file? True\n",
      "pangram.py - is_dir? False - is_file? True\n",
      "RealLifeProblems - is_dir? True - is_file? False\n",
      "remove_duplicates.py - is_dir? False - is_file? True\n",
      "reverse_string.py - is_dir? False - is_file? True\n",
      "string_practice.py - is_dir? False - is_file? True\n",
      "vowel_consonant.py - is_dir? False - is_file? True\n"
=======
      "/home/developer/Workspace_Projects\n"
>>>>>>> ed653ccf4521ac673d46fe13576182901452a16f
     ]
    }
   ],
   "source": [
<<<<<<< HEAD
    "with os.scandir(\"/mnt/n/Data_Engineer_/Data_Engineer/Pro_Python/Day7\") as it:\n",
    "    for entry in it:\n",
    "        print(entry.name,\"- is_dir?\",entry.is_dir(), \"- is_file?\",entry.is_file())"
=======
    "\n",
    "print(script_dir)"
>>>>>>> ed653ccf4521ac673d46fe13576182901452a16f
   ]
  },
  {
   "cell_type": "code",
<<<<<<< HEAD
   "execution_count": 24,
   "id": "4f76fb2b",
=======
   "execution_count": 65,
   "id": "ef5d4379",
>>>>>>> ed653ccf4521ac673d46fe13576182901452a16f
   "metadata": {},
   "outputs": [
    {
     "name": "stdout",
     "output_type": "stream",
     "text": [
<<<<<<< HEAD
      "Directory: /mnt/n/Data_Engineer_/Data_Engineer/Pro_Python/Day8\n",
      "  - build_oops.ipynb\n",
      "  - oops_basics.py\n",
      "Directory: /mnt/n/Data_Engineer_/Data_Engineer/Pro_Python/Day8/.ipynb_checkpoints\n",
      "  - build_oops-checkpoint.ipynb\n",
      "Directory: /mnt/n/Data_Engineer_/Data_Engineer/Pro_Python/Day8/oops_target\n",
      "  - basic.py\n"
=======
      "/home/developer/Workspace_Projects/Data_Engineer/Pro_Python/operating_system/work.ipynb\n",
      "work.ipynb\n",
      "('Data_Engineer/Pro_Python/operating_system', '')\n"
>>>>>>> ed653ccf4521ac673d46fe13576182901452a16f
     ]
    }
   ],
   "source": [
<<<<<<< HEAD
    "for dirpath, dirnames, filenames in os.walk('/mnt/n/Data_Engineer_/Data_Engineer/Pro_Python/Day8'):\n",
    "    print(\"Directory:\", dirpath)\n",
    "    for f in filenames:\n",
    "        print(\"  -\", f)"
=======
    "base = script_dir\n",
    "sub = \"Data_Engineer/Pro_Python/operating_system\"\n",
    "filename = \"work.ipynb\"\n",
    "\n",
    "full = os.path.join(base, sub, filename)\n",
    "print(full)\n",
    "print(os.path.basename(full))\n",
    "print(os.path.splitext(\"Data_Engineer/Pro_Python/operating_system\"))\n"
   ]
  },
  {
   "cell_type": "code",
   "execution_count": 72,
   "id": "46b05dc5",
   "metadata": {},
   "outputs": [],
   "source": [
    "os.makedirs(\"hello/bron/dron\", exist_ok=True)"
   ]
  },
  {
   "cell_type": "code",
   "execution_count": 76,
   "id": "903eb05b",
   "metadata": {},
   "outputs": [],
   "source": [
    "# import shutil\n",
    "# shutil.rmtree(\"hello\")\n"
   ]
  },
  {
   "cell_type": "code",
   "execution_count": 84,
   "id": "19b38335",
   "metadata": {},
   "outputs": [
    {
     "name": "stdout",
     "output_type": "stream",
     "text": [
      "/home/developer\n"
     ]
    }
   ],
   "source": [
    "print(os.environ[\"HOME\"])   \n",
    "os.environ[\"MY_VAR\"] = \"Data_Engineer/Pro_Python\""
   ]
  },
  {
   "cell_type": "code",
   "execution_count": 86,
   "id": "3516df82",
   "metadata": {},
   "outputs": [
    {
     "name": "stdout",
     "output_type": "stream",
     "text": [
      "Data_Engineer/Pro_Python\n"
     ]
    }
   ],
   "source": [
    "print(os.environ[\"MY_VAR\"])"
>>>>>>> ed653ccf4521ac673d46fe13576182901452a16f
   ]
  },
  {
   "cell_type": "code",
   "execution_count": null,
<<<<<<< HEAD
   "id": "4ec41aaa",
=======
   "id": "14334e51",
>>>>>>> ed653ccf4521ac673d46fe13576182901452a16f
   "metadata": {},
   "outputs": [],
   "source": []
  }
 ],
 "metadata": {
  "kernelspec": {
   "display_name": "3.13.7",
   "language": "python",
   "name": "python3"
  },
  "language_info": {
   "codemirror_mode": {
    "name": "ipython",
    "version": 3
   },
   "file_extension": ".py",
   "mimetype": "text/x-python",
   "name": "python",
   "nbconvert_exporter": "python",
   "pygments_lexer": "ipython3",
   "version": "3.13.7"
  }
 },
 "nbformat": 4,
 "nbformat_minor": 5
}
