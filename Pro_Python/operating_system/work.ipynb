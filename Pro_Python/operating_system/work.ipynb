{
 "cells": [
  {
   "cell_type": "code",
   "execution_count": 4,
   "id": "4ef6143b",
   "metadata": {},
   "outputs": [],
   "source": [
    "import os"
   ]
  },
  {
   "cell_type": "markdown",
   "id": "44bd6fb6",
   "metadata": {},
   "source": [
    "- Returns the current working directory (string).\n",
    "\n",
    "- Useful for debugging path issues, logging, and relative path resolution."
   ]
  },
  {
   "cell_type": "code",
   "execution_count": 9,
   "id": "cc4f2519",
   "metadata": {},
   "outputs": [
    {
     "name": "stdout",
     "output_type": "stream",
     "text": [
      "Current working dir: /mnt/n/Data_Engineer_/Data_Engineer/Pro_Python/operating_system\n"
     ]
    }
   ],
   "source": [
    "cwd = os.getcwd()\n",
    "print(\"Current working dir:\", cwd)"
   ]
  },
  {
   "cell_type": "code",
   "execution_count": 10,
   "id": "882e1466",
   "metadata": {},
   "outputs": [
    {
     "name": "stdout",
     "output_type": "stream",
     "text": [
      "['.gitignore~', '.python-version', 'Build-Something', 'Day1', 'Day10', 'Day11', 'Day12', 'Day13', 'Day14', 'Day15', 'Day16', 'Day17', 'Day2', 'Day3', 'Day4', 'Day5', 'Day6', 'Day7', 'Day8', 'Day9', 'Dsa & Industry level Practice Questions', 'fibonacci.py', 'Hard-coding', 'logs', 'log_utils', 'nul', 'operating_system', 'ourVirtualEnvironment', 'Practice-Session', 'requirements.txt', 'revision.py', 'Test', 'tests']\n"
     ]
    }
   ],
   "source": [
    "from contextlib import contextmanager\n",
    "\n",
    "@contextmanager\n",
    "def pushd(path):\n",
    "    old = os.getcwd()\n",
    "    try:\n",
    "        os.chdir(path)\n",
    "        yield\n",
    "    finally:\n",
    "        os.chdir(old)\n",
    "\n",
    "with pushd(\"/mnt/n/Data_Engineer_/Data_Engineer/Pro_Python\"):\n",
    "    print(os.listdir(\".\"))\n",
    "    \n"
   ]
  }
 ],
 "metadata": {
  "kernelspec": {
   "display_name": "3.13.7",
   "language": "python",
   "name": "python3"
  },
  "language_info": {
   "codemirror_mode": {
    "name": "ipython",
    "version": 3
   },
   "file_extension": ".py",
   "mimetype": "text/x-python",
   "name": "python",
   "nbconvert_exporter": "python",
   "pygments_lexer": "ipython3",
   "version": "3.13.7"
  }
 },
 "nbformat": 4,
 "nbformat_minor": 5
}
