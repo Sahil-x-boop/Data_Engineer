{
 "cells": [
  {
   "cell_type": "code",
   "execution_count": 1,
   "id": "812076db",
   "metadata": {},
   "outputs": [],
   "source": [
    "import re"
   ]
  },
  {
   "cell_type": "markdown",
   "id": "e5e7de69",
   "metadata": {},
   "source": [
    "- Extracting all email addresses: Find and print a list of every email address in the sentence.\n",
    "- Validating a specific email format: Search for and print only the email addresses that use the domain @corporate-enterprise.com.\n",
    "- Replacing email domains: Replace the domain @corporate-enterprise.com with @new-enterprise.com in the entire sentence.\n",
    "- Finding specific words with lookbehind: Find and print the names of the individuals whose email addresses are listed, but without including the word \"at\".\n",
    "- Splitting the sentence by email addresses: Split the sentence into a list of strings, using the email addresses as delimiters.\n",
    "- Extracting usernames and domains using named groups: Create a list of tuples, where each tuple contains the username and the domain for every email address found. Use named capture groups.\n",
    "- Finding date information: Search for and print any date mentioned in the sentence, formatted as Month Day, Year.\n",
    "- Extracting phone numbers: Search for and print the phone number, including the parentheses"
   ]
  },
  {
   "cell_type": "code",
   "execution_count": 37,
   "id": "7e78adf4",
   "metadata": {},
   "outputs": [],
   "source": [
    "sentence = \"Greetings! This document details our company's contacts for 2025. You can reach the CEO, Jane Doe, at jane.doe@corporate-enterprise.com, and our Technical Support team at support@corporate-enterprise.com. For urgent inquiries, contact the emergency line (800) 555-1234 or email the project manager, john_smith@corp-enterprise.net. Other important emails include accounts+billing@enterprise.co.uk and info@old.corporate-enterprise.org. Remember to contact us before December 31, 2025, for any changes.\"\n"
   ]
  },
  {
   "cell_type": "code",
   "execution_count": null,
   "id": "2c3e89f2",
   "metadata": {},
   "outputs": [],
   "source": [
    "def is_it_valid(email):\n",
    "    pattern = r\"\""
   ]
  },
  {
   "cell_type": "code",
   "execution_count": 66,
   "id": "65e4ca99",
   "metadata": {},
   "outputs": [
    {
     "name": "stdout",
     "output_type": "stream",
     "text": [
      "[[\"Greetings! This document details our company's contacts for 2025. You can reach the CEO, Jane Doe, at jane.\", 'doe', 'corporate-e', 'nterprise', None, ', and our Technical Support team at ', 'support', 'corporate-e', 'nterprise', None, '. For urgent inquiries, contact the emergency line (800) 555-1234 or email the project manager, ', 'john_smith', 'corp-e', 'nterprise', None, '. Other important emails include accounts+', 'billing', 'enterprise.', 'co', None, ' and ', 'info', 'old.', 'corporate', 'enterprise', '. Remember to contact us before December 31, 2025, for any changes.']]\n"
     ]
    }
   ],
   "source": [
    "pattern = r\"(\\w+)\\@(\\w+-?.?)(\\w+)?-?(\\w+)?\\.\\w{1,3}\"\n",
    "\n",
    "result = [re.split(pattern, sentence)]\n",
    "print(result)"
   ]
  },
  {
   "cell_type": "code",
   "execution_count": 38,
   "id": "8cc38329",
   "metadata": {},
   "outputs": [
    {
     "name": "stdout",
     "output_type": "stream",
     "text": [
      "Matched: ['(800) 555-1234']\n"
     ]
    }
   ],
   "source": [
    "\n",
    "pattern = r\"\\(\\d{3}\\) \\d{3}-\\d{4}\"\n",
    "\n",
    "result = re.findall(pattern, sentence)\n",
    "if result:\n",
    "    print(f\"Matched: {result}\")\n"
   ]
  },
  {
   "cell_type": "code",
   "execution_count": 53,
   "id": "3c8f4733",
   "metadata": {},
   "outputs": [
    {
     "name": "stdout",
     "output_type": "stream",
     "text": [
      "Matched: ['jane.doe@corporate-enterprise.com', 'support@corporate-enterprise.com']\n"
     ]
    }
   ],
   "source": [
    "pattern = r\"(\\w+)\\.(\\w+)\\-\\w+\\.\\w{3}\"\n",
    "\n",
    "result = re.findall(r\"\\b[\\w\\.\\+\\-]+@corporate-enterprise\\.com\\b\", sentence)\n",
    "if result:\n",
    "    print(f\"Matched: {result}\")"
   ]
  },
  {
   "cell_type": "code",
   "execution_count": 60,
   "id": "14c41217",
   "metadata": {},
   "outputs": [
    {
     "name": "stdout",
     "output_type": "stream",
     "text": [
      "(107, 135)\n",
      "(171, 203)\n",
      "(299, 329)\n",
      "(371, 395)\n",
      "(400, 433)\n"
     ]
    }
   ],
   "source": [
    "# test@example.com (Standard format)\n",
    "# firstname.lastname@example.com (Period in username)\n",
    "# email@subdomain.example.com (With a subdomain)\n",
    "# firstname+lastname@example.com (Plus sign in username)\n",
    "# \"quoted.email\"@example.com (Username in quotes)\n",
    "# 12345@example.com (Numeric username)\n",
    "# _______@example.com (Underscore in username) \n",
    "# 4 invalid test cases\n",
    "# plainaddress (Missing \"@\" symbol)\n",
    "# user@domain..com (Consecutive periods in the domain)\n",
    "# user name@example.com (Space in username)\n",
    "# @example.com (Missing username)\n",
    "\n",
    "pattern = r\"(\\w+)\\@(\\w+-?.?)(\\w+)?-?(\\w+)?\\.\\w{1,3}\"\n",
    "\n",
    "result = re.finditer(pattern, sentence)\n",
    "for word in result:\n",
    "    print(word.span())\n"
   ]
  }
 ],
 "metadata": {
  "kernelspec": {
   "display_name": "venv",
   "language": "python",
   "name": "python3"
  },
  "language_info": {
   "codemirror_mode": {
    "name": "ipython",
    "version": 3
   },
   "file_extension": ".py",
   "mimetype": "text/x-python",
   "name": "python",
   "nbconvert_exporter": "python",
   "pygments_lexer": "ipython3",
   "version": "3.13.7"
  }
 },
 "nbformat": 4,
 "nbformat_minor": 5
}
