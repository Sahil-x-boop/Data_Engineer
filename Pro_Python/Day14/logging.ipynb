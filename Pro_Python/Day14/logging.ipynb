{
 "cells": [
  {
   "cell_type": "markdown",
   "id": "e5b85f2c",
   "metadata": {},
   "source": [
    "#### why logging instead of print():\n",
    "\n",
    "print() is fine for quick debugging, but logging gives:\n",
    "\n",
    "- log levels (DEBUG→CRITICAL) so you can filter verbosity,\n",
    "\n",
    "- timestamps, module/line info,\n",
    "\n",
    "- multiple destinations (console, files, remote),\n",
    "\n",
    "- rotation and archival,\n",
    "\n",
    "- structured messages & exception tracebacks,\n",
    "\n",
    "- safe toggling in production without changing code flow.\n",
    "\n",
    "Use logging for production-grade diagnostics."
   ]
  },
  {
   "cell_type": "markdown",
   "id": "c8d97672",
   "metadata": {},
   "source": [
    "- %(asctime)s — timestamp\n",
    "- %(levelname)s — level name (DEBUG/INFO)\n",
    "- %(name)s — logger name\n",
    "- %(message)s — the message\n",
    "- %(module)s — module name\n",
    "- %(lineno)d — source line number\n",
    "- %(threadName)s — thread name\n",
    "- %(process)d — process id"
   ]
  },
  {
   "cell_type": "code",
   "execution_count": 6,
   "id": "29739c87",
   "metadata": {},
   "outputs": [],
   "source": [
    "import logging"
   ]
  },
  {
   "cell_type": "code",
   "execution_count": 8,
   "id": "3ce96d7c",
   "metadata": {},
   "outputs": [
    {
     "name": "stderr",
     "output_type": "stream",
     "text": [
      "2025-09-22 17:44:03 INFO root Start Processing\n",
      "2025-09-22 17:44:03 WARNING root Disk space is low\n"
     ]
    }
   ],
   "source": [
    "logging.basicConfig(\n",
    "    level=logging.INFO,\n",
    "    format=\"%(asctime)s %(levelname)s %(name)s %(message)s\", \n",
    "    datefmt=\"%Y-%m-%d %H:%M:%S\"\n",
    ")\n",
    "\n",
    "logging.debug(\"This is debug\")\n",
    "logging.info(\"Start Processing\")\n",
    "logging.warning(\"Disk space is low\")"
   ]
  },
  {
   "cell_type": "code",
   "execution_count": 12,
   "id": "0cb07e98",
   "metadata": {},
   "outputs": [
    {
     "name": "stderr",
     "output_type": "stream",
     "text": [
      "2025-09-22 17:46:37 INFO root This goes into app.log\n",
      "2025-09-22 17:46:37 ERROR root An error occurred\n"
     ]
    }
   ],
   "source": [
    "\n",
    "logging.basicConfig(\n",
    "    level=logging.DEBUG,\n",
    "    filename=\"app.log\",   \n",
    "    filemode=\"a\",       \n",
    "    format=\"%(asctime)s %(levelname)s %(name)s:%(lineno)d - %(message)s\"\n",
    ")\n",
    "\n",
    "logging.info(\"This goes into app.log\")\n",
    "logging.error(\"An error occurred\")\n"
   ]
  },
  {
   "cell_type": "markdown",
   "id": "2fbeb29d",
   "metadata": {},
   "source": [
    "For production, prefer explicit handlers instead of basicConfig for more control."
   ]
  },
  {
   "cell_type": "markdown",
   "id": "46098591",
   "metadata": {},
   "source": [
    "Whenever you start writing a program, think of logging like a CCTV camera inside your code:\n",
    "\n",
    "- Startup Logs → When the program/class/function begins.\n",
    "- Input Logs → What values/parameters were received.\n",
    "- Processing Logs → Important steps while doing calculations or loops.\n",
    "- Output Logs → The results produced.\n",
    "- Error Logs → Wrong input, exceptions, failed tasks.\n",
    "- End Logs → Program ended, or task finished.\n",
    "\n",
    "So the rule is:- log inputs → log key steps → log outputs → log errors"
   ]
  },
  {
   "cell_type": "code",
   "execution_count": 10,
   "id": "f9ea253d",
   "metadata": {},
   "outputs": [
    {
     "name": "stdout",
     "output_type": "stream",
     "text": [
      "Enter Positive Number\n"
     ]
    }
   ],
   "source": [
    "def fibonacci_upto(num):\n",
    "    if num < 0:\n",
    "        print(\"Enter Positive Number\")\n",
    "        return \n",
    "    a, b = 0, 1\n",
    "    \n",
    "    for i in range(num+1):\n",
    "        print(a, end=\" \")\n",
    "        a, b = b, a + b\n",
    "\n",
    "fibonacci_upto(-3)"
   ]
  }
 ],
 "metadata": {
  "kernelspec": {
   "display_name": "venv",
   "language": "python",
   "name": "python3"
  },
  "language_info": {
   "codemirror_mode": {
    "name": "ipython",
    "version": 3
   },
   "file_extension": ".py",
   "mimetype": "text/x-python",
   "name": "python",
   "nbconvert_exporter": "python",
   "pygments_lexer": "ipython3",
   "version": "3.13.7"
  }
 },
 "nbformat": 4,
 "nbformat_minor": 5
}
