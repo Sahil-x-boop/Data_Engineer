{
 "cells": [
  {
   "cell_type": "code",
   "execution_count": null,
   "id": "aa525697",
   "metadata": {},
   "outputs": [],
   "source": [
    "\n",
    "import pandas as pd\n",
    "import numpy as np\n",
    "from random import random"
   ]
  },
  {
   "cell_type": "markdown",
   "id": "3613a324",
   "metadata": {},
   "source": [
    "#### Introduction to Pandas\n",
    "Pandas is a Python library used for data manipulation and analysis. It provides two key data structures:\n",
    "\n",
    "- **Series**: A one-dimensional labeled array, similar to a column in a spreadsheet or database.\n",
    "\n",
    "- **DataFrame**: A two-dimensional labeled data structure, like a table or spreadsheet with rows and columns.\n",
    "\n",
    "Pandas makes handling structured data very easy and efficient.\n",
    "\n",
    "*In other words:*\n",
    "\n",
    "##### Pandas has three core structures:\n",
    "\n",
    "- Series → 1-D labeled array (like a column in Excel).\n",
    "\n",
    "- DataFrame → 2-D table (collection of Series).\n",
    "\n",
    "- Index → label system for rows/columns (acts like a set with alignment logic).\n",
    "\n",
    "All three are built on top of NumPy arrays, but they add labels, alignment, heterogeneous dtypes, and rich methods."
   ]
  },
  {
   "cell_type": "code",
   "execution_count": 5,
   "id": "f5b6eee2",
   "metadata": {},
   "outputs": [
    {
     "name": "stdout",
     "output_type": "stream",
     "text": [
      "0    10\n",
      "1    20\n",
      "2    30\n",
      "3    40\n",
      "dtype: int64\n",
      "A    10\n",
      "B    20\n",
      "C    30\n",
      "D    40\n",
      "dtype: int64\n"
     ]
    }
   ],
   "source": [
    "# from a Python list\n",
    "s1 = pd.Series([10, 20, 30, 40])\n",
    "print(s1)\n",
    "\n",
    "# custom index\n",
    "s1 = pd.Series([10, 20, 30, 40], index=['A', 'B', 'C', 'D'])\n",
    "print(s1)\n"
   ]
  },
  {
   "cell_type": "code",
   "execution_count": 7,
   "id": "301b1468",
   "metadata": {},
   "outputs": [
    {
     "data": {
      "text/plain": [
       "Alice      85\n",
       "Bob        90\n",
       "Charlie    78\n",
       "dtype: int64"
      ]
     },
     "execution_count": 7,
     "metadata": {},
     "output_type": "execute_result"
    }
   ],
   "source": [
    "# from a dict\n",
    "\n",
    "data = {'Alice': 85, 'Bob': 90, 'Charlie': 78}\n",
    "result = pd.Series(data)\n",
    "result\n",
    "\n",
    "# Keys become index labels, values become data."
   ]
  },
  {
   "cell_type": "code",
   "execution_count": 9,
   "id": "460c9fc4",
   "metadata": {},
   "outputs": [
    {
     "data": {
      "text/plain": [
       "x    5\n",
       "y    5\n",
       "z    5\n",
       "dtype: int64"
      ]
     },
     "execution_count": 9,
     "metadata": {},
     "output_type": "execute_result"
    }
   ],
   "source": [
    "# scaler + index\n",
    "s = pd.Series(5, index=['x','y','z'])\n",
    "s"
   ]
  },
  {
   "cell_type": "code",
   "execution_count": 15,
   "id": "632f99b0",
   "metadata": {},
   "outputs": [
    {
     "data": {
      "text/plain": [
       "W    0.653478\n",
       "X    0.362264\n",
       "Y    0.011001\n",
       "Z    0.974031\n",
       "dtype: float64"
      ]
     },
     "execution_count": 15,
     "metadata": {},
     "output_type": "execute_result"
    }
   ],
   "source": [
    "# from NumPy array\n",
    "arr = np.random.rand(4)\n",
    "s = pd.Series(arr, index=list('WXYZ'))\n",
    "s"
   ]
  },
  {
   "cell_type": "code",
   "execution_count": 18,
   "id": "6d036636",
   "metadata": {},
   "outputs": [
    {
     "name": "stdout",
     "output_type": "stream",
     "text": [
      "A     NaN\n",
      "B    12.0\n",
      "C    23.0\n",
      "D     NaN\n",
      "dtype: float64\n"
     ]
    },
    {
     "data": {
      "text/plain": [
       "<bound method NDFrame.describe of A    1\n",
       "B    2\n",
       "C    3\n",
       "dtype: int64>"
      ]
     },
     "execution_count": 18,
     "metadata": {},
     "output_type": "execute_result"
    }
   ],
   "source": [
    "# Pandas aligns labels. Missing labels → NaN.\n",
    "\n",
    "sA = pd.Series({'A': 1, 'B': 2, 'C': 3})\n",
    "sB = pd.Series({'B': 10, 'C': 20, 'D': 30})\n",
    "print(sA + sB)\n"
   ]
  },
  {
   "cell_type": "markdown",
   "id": "2f6ef0b6",
   "metadata": {},
   "source": [
    "Internal working:\n",
    "\n",
    "- Series stores data in a NumPy array (BlockManager internally).\n",
    "- The index is a separate Index object.\n",
    "- Operations use vectorized NumPy ops where possible (C-speed).\n",
    "- Alignment uses the index mapping — very powerful for joining or adding differently-shaped data."
   ]
  },
  {
   "cell_type": "code",
   "execution_count": 50,
   "id": "02af86f6",
   "metadata": {},
   "outputs": [
    {
     "name": "stdout",
     "output_type": "stream",
     "text": [
      "  Product  Price  Stock\n",
      "0  Laptop   1200     15\n",
      "1   Phone    800     30\n",
      "2  Tablet    500     25\n"
     ]
    }
   ],
   "source": [
    "# Method 1: Dictionary of lists\n",
    "record = {\n",
    "    'Product': ['Laptop', 'Phone', 'Tablet'],\n",
    "    'Price': [1200, 800, 500],\n",
    "    'Stock': [15, 30, 25]\n",
    "}\n",
    "data = pd.DataFrame(record)\n",
    "print(data)\n",
    "\n"
   ]
  },
  {
   "cell_type": "code",
   "execution_count": 26,
   "id": "856d1dfd",
   "metadata": {},
   "outputs": [
    {
     "name": "stdout",
     "output_type": "stream",
     "text": [
      "  Product  Price  Stock\n",
      "0  Laptop   1200     15\n",
      "1   Phone    800     30\n",
      "2  Tablet    500     25\n"
     ]
    }
   ],
   "source": [
    "# Method 2: List of dictionaries\n",
    "data2 = [\n",
    "    {'Product': 'Laptop', 'Price': 1200, 'Stock': 15},\n",
    "    {'Product': 'Phone', 'Price': 800, 'Stock': 30},\n",
    "    {'Product': 'Tablet', 'Price': 500, 'Stock': 25}\n",
    "]\n",
    "df2 = pd.DataFrame(data2)\n",
    "print(df2)\n"
   ]
  },
  {
   "cell_type": "code",
   "execution_count": 117,
   "id": "95f0cd74",
   "metadata": {},
   "outputs": [
    {
     "name": "stdout",
     "output_type": "stream",
     "text": [
      "          Maths  Science  English\n",
      "Student1     98       59       16\n",
      "Student2      3       68        0\n",
      "Student3     47       27       64\n",
      "Student4     18       11        6\n",
      "Student5      6       33       28\n"
     ]
    }
   ],
   "source": [
    "\n",
    "# Method 3: NumPy array with column names\n",
    "arr = np.random.randint(0, 100, size=(5, 3))\n",
    "data = pd.DataFrame(arr, columns=['Maths', 'Science', 'English'], index=['Student1', 'Student2', 'Student3', 'Student4', 'Student5'])\n",
    "\n",
    "print(data)\n"
   ]
  },
  {
   "cell_type": "code",
   "execution_count": 132,
   "id": "9dd3f345",
   "metadata": {},
   "outputs": [
    {
     "name": "stdout",
     "output_type": "stream",
     "text": [
      "   Revenue  Cost\n",
      "0      100    80\n",
      "1      200   150\n",
      "2      300   250\n"
     ]
    }
   ],
   "source": [
    "\n",
    "# Method 4: From Series\n",
    "s1 = pd.Series([100, 200, 300], name=\"Revenue\")\n",
    "s2 = pd.Series([80, 150, 250], name=\"Cost\")\n",
    "data = pd.DataFrame({\"Revenue\": s1, \"Cost\": s2})\n",
    "print(data)"
   ]
  },
  {
   "cell_type": "markdown",
   "id": "e228d38c",
   "metadata": {},
   "source": [
    "DataFrame uses a BlockManager internally to store each column block by dtype.\n",
    "\n",
    "When you perform arithmetic, pandas aligns indices first, then uses NumPy vectorized ops on the underlying arrays.\n",
    "\n",
    "Index objects are immutable to ensure predictable alignment semantics."
   ]
  },
  {
   "cell_type": "code",
   "execution_count": 133,
   "id": "31615cbf",
   "metadata": {},
   "outputs": [
    {
     "name": "stdout",
     "output_type": "stream",
     "text": [
      "<class 'pandas.core.frame.DataFrame'>\n",
      "RangeIndex: 60 entries, 0 to 59\n",
      "Data columns (total 9 columns):\n",
      " #   Column      Non-Null Count  Dtype \n",
      "---  ------      --------------  ----- \n",
      " 0   order_id    60 non-null     int64 \n",
      " 1   date        60 non-null     object\n",
      " 2   customer    60 non-null     object\n",
      " 3   region      60 non-null     object\n",
      " 4   product     60 non-null     object\n",
      " 5   units       60 non-null     int64 \n",
      " 6   unit_price  60 non-null     object\n",
      " 7   returned    57 non-null     object\n",
      " 8   notes       23 non-null     object\n",
      "dtypes: int64(2), object(7)\n",
      "memory usage: 4.3+ KB\n"
     ]
    }
   ],
   "source": [
    "df = pd.read_csv(\"electronic_sales.csv\", parse_dates=[\"date\"])\n",
    "\n",
    "df.info()"
   ]
  },
  {
   "cell_type": "code",
   "execution_count": null,
   "id": "e5b3fad2",
   "metadata": {},
   "outputs": [
    {
     "data": {
      "text/html": [
       "<div>\n",
       "<style scoped>\n",
       "    .dataframe tbody tr th:only-of-type {\n",
       "        vertical-align: middle;\n",
       "    }\n",
       "\n",
       "    .dataframe tbody tr th {\n",
       "        vertical-align: top;\n",
       "    }\n",
       "\n",
       "    .dataframe thead th {\n",
       "        text-align: right;\n",
       "    }\n",
       "</style>\n",
       "<table border=\"1\" class=\"dataframe\">\n",
       "  <thead>\n",
       "    <tr style=\"text-align: right;\">\n",
       "      <th></th>\n",
       "      <th>order_id</th>\n",
       "      <th>product</th>\n",
       "      <th>units</th>\n",
       "      <th>unit_price</th>\n",
       "      <th>revenue</th>\n",
       "    </tr>\n",
       "  </thead>\n",
       "  <tbody>\n",
       "    <tr>\n",
       "      <th>0</th>\n",
       "      <td>1001</td>\n",
       "      <td>Laptop</td>\n",
       "      <td>2</td>\n",
       "      <td>800</td>\n",
       "      <td>800800</td>\n",
       "    </tr>\n",
       "    <tr>\n",
       "      <th>1</th>\n",
       "      <td>1002</td>\n",
       "      <td>Smartphone</td>\n",
       "      <td>1</td>\n",
       "      <td>500</td>\n",
       "      <td>500</td>\n",
       "    </tr>\n",
       "    <tr>\n",
       "      <th>2</th>\n",
       "      <td>1003</td>\n",
       "      <td>Laptop</td>\n",
       "      <td>1</td>\n",
       "      <td>800</td>\n",
       "      <td>800</td>\n",
       "    </tr>\n",
       "    <tr>\n",
       "      <th>3</th>\n",
       "      <td>1004</td>\n",
       "      <td>Headphones</td>\n",
       "      <td>5</td>\n",
       "      <td>50</td>\n",
       "      <td>5050505050</td>\n",
       "    </tr>\n",
       "    <tr>\n",
       "      <th>4</th>\n",
       "      <td>1005</td>\n",
       "      <td>Smartphone</td>\n",
       "      <td>2</td>\n",
       "      <td>500</td>\n",
       "      <td>500500</td>\n",
       "    </tr>\n",
       "  </tbody>\n",
       "</table>\n",
       "</div>"
      ],
      "text/plain": [
       "   order_id     product  units unit_price     revenue\n",
       "0      1001      Laptop      2        800      800800\n",
       "1      1002  Smartphone      1        500         500\n",
       "2      1003      Laptop      1        800         800\n",
       "3      1004  Headphones      5         50  5050505050\n",
       "4      1005  Smartphone      2        500      500500"
      ]
     },
     "execution_count": 89,
     "metadata": {},
     "output_type": "execute_result"
    }
   ],
   "source": [
    "\n",
    "# print(df.describe(include='all'))\n",
    "# print(df.info)\n",
    "df['revenue'] = df['units'] * df['unit_price']\n",
    "df['units']\n",
    "df[['order_id','product','units','unit_price','revenue']].head(5)"
   ]
  }
 ],
 "metadata": {
  "kernelspec": {
   "display_name": "3.13.7",
   "language": "python",
   "name": "python3"
  },
  "language_info": {
   "codemirror_mode": {
    "name": "ipython",
    "version": 3
   },
   "file_extension": ".py",
   "mimetype": "text/x-python",
   "name": "python",
   "nbconvert_exporter": "python",
   "pygments_lexer": "ipython3",
   "version": "3.13.7"
  }
 },
 "nbformat": 4,
 "nbformat_minor": 5
}
