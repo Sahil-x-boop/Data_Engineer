{
 "cells": [
  {
   "cell_type": "code",
   "execution_count": 3,
   "id": "aa525697",
   "metadata": {},
   "outputs": [],
   "source": [
    "\n",
    "import pandas as pd\n",
    "import numpy as np\n",
    "from random import random"
   ]
  },
  {
   "cell_type": "markdown",
   "id": "3613a324",
   "metadata": {},
   "source": [
    "#### Introduction to Pandas\n",
    "Pandas is a Python library used to simplify and streamline the entire process of **data analysis** and **manipulation** by providing powerful tools for **data cleaning**, **transforming**, and exploring structured data like spreadsheets or SQL tables. It provides two key data structures:\n",
    "\n",
    "- **Series**: A one-dimensional labeled array, similar to a column in a spreadsheet or database.\n",
    "\n",
    "- **DataFrame**: A two-dimensional labeled data structure, like a table or spreadsheet with rows and columns.\n",
    "\n",
    "Pandas makes handling structured data very easy and efficient.\n",
    "\n",
    "*In other words:*\n",
    "\n",
    "##### Pandas has three core structures:\n",
    "\n",
    "- Series → 1-D labeled array (like a column in Excel).\n",
    "\n",
    "- DataFrame → 2-D table (collection of Series).\n",
    "\n",
    "- Index → label system for rows/columns (acts like a set with alignment logic).\n",
    "\n",
    "All three are built on top of NumPy arrays, but they add labels, alignment, heterogeneous dtypes, and rich methods."
   ]
  },
  {
   "cell_type": "code",
   "execution_count": 5,
   "id": "f5b6eee2",
   "metadata": {},
   "outputs": [
    {
     "name": "stdout",
     "output_type": "stream",
     "text": [
      "0    10\n",
      "1    20\n",
      "2    30\n",
      "3    40\n",
      "dtype: int64\n",
      "A    10\n",
      "B    20\n",
      "C    30\n",
      "D    40\n",
      "dtype: int64\n"
     ]
    }
   ],
   "source": [
    "# from a Python list\n",
    "s1 = pd.Series([10, 20, 30, 40])\n",
    "print(s1)\n",
    "\n",
    "# custom index\n",
    "s1 = pd.Series([10, 20, 30, 40], index=['A', 'B', 'C', 'D'])\n",
    "print(s1)\n"
   ]
  },
  {
   "cell_type": "code",
   "execution_count": 7,
   "id": "301b1468",
   "metadata": {},
   "outputs": [
    {
     "data": {
      "text/plain": [
       "Alice      85\n",
       "Bob        90\n",
       "Charlie    78\n",
       "dtype: int64"
      ]
     },
     "execution_count": 7,
     "metadata": {},
     "output_type": "execute_result"
    }
   ],
   "source": [
    "# from a dict\n",
    "\n",
    "data = {'Alice': 85, 'Bob': 90, 'Charlie': 78}\n",
    "result = pd.Series(data)\n",
    "result\n",
    "\n",
    "# Keys become index labels, values become data."
   ]
  },
  {
   "cell_type": "code",
   "execution_count": 9,
   "id": "460c9fc4",
   "metadata": {},
   "outputs": [
    {
     "data": {
      "text/plain": [
       "x    5\n",
       "y    5\n",
       "z    5\n",
       "dtype: int64"
      ]
     },
     "execution_count": 9,
     "metadata": {},
     "output_type": "execute_result"
    }
   ],
   "source": [
    "# scaler + index\n",
    "s = pd.Series(5, index=['x','y','z'])\n",
    "s"
   ]
  },
  {
   "cell_type": "code",
   "execution_count": 15,
   "id": "632f99b0",
   "metadata": {},
   "outputs": [
    {
     "data": {
      "text/plain": [
       "W    0.653478\n",
       "X    0.362264\n",
       "Y    0.011001\n",
       "Z    0.974031\n",
       "dtype: float64"
      ]
     },
     "execution_count": 15,
     "metadata": {},
     "output_type": "execute_result"
    }
   ],
   "source": [
    "# from NumPy array\n",
    "arr = np.random.rand(4)\n",
    "s = pd.Series(arr, index=list('WXYZ'))\n",
    "s"
   ]
  },
  {
   "cell_type": "code",
   "execution_count": 18,
   "id": "6d036636",
   "metadata": {},
   "outputs": [
    {
     "name": "stdout",
     "output_type": "stream",
     "text": [
      "A     NaN\n",
      "B    12.0\n",
      "C    23.0\n",
      "D     NaN\n",
      "dtype: float64\n"
     ]
    },
    {
     "data": {
      "text/plain": [
       "<bound method NDFrame.describe of A    1\n",
       "B    2\n",
       "C    3\n",
       "dtype: int64>"
      ]
     },
     "execution_count": 18,
     "metadata": {},
     "output_type": "execute_result"
    }
   ],
   "source": [
    "# Pandas aligns labels. Missing labels → NaN.\n",
    "\n",
    "sA = pd.Series({'A': 1, 'B': 2, 'C': 3})\n",
    "sB = pd.Series({'B': 10, 'C': 20, 'D': 30})\n",
    "print(sA + sB)\n"
   ]
  },
  {
   "cell_type": "markdown",
   "id": "2f6ef0b6",
   "metadata": {},
   "source": [
    "Internal working:\n",
    "\n",
    "- Series stores data in a NumPy array (BlockManager internally).\n",
    "- The index is a separate Index object.\n",
    "- Operations use vectorized NumPy ops where possible (C-speed).\n",
    "- Alignment uses the index mapping — very powerful for joining or adding differently-shaped data."
   ]
  },
  {
   "cell_type": "code",
   "execution_count": 50,
   "id": "02af86f6",
   "metadata": {},
   "outputs": [
    {
     "name": "stdout",
     "output_type": "stream",
     "text": [
      "  Product  Price  Stock\n",
      "0  Laptop   1200     15\n",
      "1   Phone    800     30\n",
      "2  Tablet    500     25\n"
     ]
    }
   ],
   "source": [
    "# Method 1: Dictionary of lists\n",
    "record = {\n",
    "    'Product': ['Laptop', 'Phone', 'Tablet'],\n",
    "    'Price': [1200, 800, 500],\n",
    "    'Stock': [15, 30, 25]\n",
    "}\n",
    "data = pd.DataFrame(record)\n",
    "print(data)\n",
    "\n"
   ]
  },
  {
   "cell_type": "code",
   "execution_count": 26,
   "id": "856d1dfd",
   "metadata": {},
   "outputs": [
    {
     "name": "stdout",
     "output_type": "stream",
     "text": [
      "  Product  Price  Stock\n",
      "0  Laptop   1200     15\n",
      "1   Phone    800     30\n",
      "2  Tablet    500     25\n"
     ]
    }
   ],
   "source": [
    "# Method 2: List of dictionaries\n",
    "data2 = [\n",
    "    {'Product': 'Laptop', 'Price': 1200, 'Stock': 15},\n",
    "    {'Product': 'Phone', 'Price': 800, 'Stock': 30},\n",
    "    {'Product': 'Tablet', 'Price': 500, 'Stock': 25}\n",
    "]\n",
    "df2 = pd.DataFrame(data2)\n",
    "print(df2)\n"
   ]
  },
  {
   "cell_type": "code",
   "execution_count": 117,
   "id": "95f0cd74",
   "metadata": {},
   "outputs": [
    {
     "name": "stdout",
     "output_type": "stream",
     "text": [
      "          Maths  Science  English\n",
      "Student1     98       59       16\n",
      "Student2      3       68        0\n",
      "Student3     47       27       64\n",
      "Student4     18       11        6\n",
      "Student5      6       33       28\n"
     ]
    }
   ],
   "source": [
    "\n",
    "# Method 3: NumPy array with column names\n",
    "arr = np.random.randint(0, 100, size=(5, 3))\n",
    "data = pd.DataFrame(arr, columns=['Maths', 'Science', 'English'], index=['Student1', 'Student2', 'Student3', 'Student4', 'Student5'])\n",
    "\n",
    "print(data)\n"
   ]
  },
  {
   "cell_type": "code",
   "execution_count": 132,
   "id": "9dd3f345",
   "metadata": {},
   "outputs": [
    {
     "name": "stdout",
     "output_type": "stream",
     "text": [
      "   Revenue  Cost\n",
      "0      100    80\n",
      "1      200   150\n",
      "2      300   250\n"
     ]
    }
   ],
   "source": [
    "\n",
    "# Method 4: From Series\n",
    "s1 = pd.Series([100, 200, 300], name=\"Revenue\")\n",
    "s2 = pd.Series([80, 150, 250], name=\"Cost\")\n",
    "data = pd.DataFrame({\"Revenue\": s1, \"Cost\": s2})\n",
    "print(data)"
   ]
  },
  {
   "cell_type": "markdown",
   "id": "e228d38c",
   "metadata": {},
   "source": [
    "DataFrame uses a BlockManager internally to store each column block by dtype.\n",
    "\n",
    "When you perform arithmetic, pandas aligns indices first, then uses NumPy vectorized ops on the underlying arrays.\n",
    "\n",
    "Index objects are immutable to ensure predictable alignment semantics."
   ]
  },
  {
   "cell_type": "code",
   "execution_count": null,
   "id": "31615cbf",
   "metadata": {},
   "outputs": [
    {
     "name": "stdout",
     "output_type": "stream",
     "text": [
      "<class 'pandas.core.frame.DataFrame'>\n",
      "RangeIndex: 60 entries, 0 to 59\n",
      "Data columns (total 10 columns):\n",
      " #   Column      Non-Null Count  Dtype         \n",
      "---  ------      --------------  -----         \n",
      " 0   order_id    60 non-null     int64         \n",
      " 1   date        60 non-null     datetime64[ns]\n",
      " 2   customer    60 non-null     object        \n",
      " 3   region      60 non-null     object        \n",
      " 4   product     60 non-null     object        \n",
      " 5   units       60 non-null     int64         \n",
      " 6   unit_price  60 non-null     float64       \n",
      " 7   returned    60 non-null     bool          \n",
      " 8   notes       50 non-null     object        \n",
      " 9   revenue     60 non-null     float64       \n",
      "dtypes: bool(1), datetime64[ns](1), float64(2), int64(2), object(4)\n",
      "memory usage: 4.4+ KB\n"
     ]
    }
   ],
   "source": []
  },
  {
   "cell_type": "code",
   "execution_count": null,
   "id": "e5b3fad2",
   "metadata": {},
   "outputs": [],
   "source": [
    "\n"
   ]
  },
  {
   "cell_type": "markdown",
   "id": "82a33429",
   "metadata": {},
   "source": [
    "#### Panel: 3-dimensional data structure (items × major_axis × minor_axis)\n",
    "\n",
    "- items → like the \"sheets\" in 3D data\n",
    "\n",
    "- major_axis → rows\n",
    "\n",
    "- minor_axis → columns\n",
    "\n",
    "Think of it like a DataFrame for multiple tables stacked along a 3rd axis.\n",
    "\n",
    "`Panel (items) → DataFrame → Series`"
   ]
  },
  {
   "cell_type": "code",
   "execution_count": 14,
   "id": "008147c4",
   "metadata": {},
   "outputs": [
    {
     "data": {
      "text/html": [
       "<div>\n",
       "<style scoped>\n",
       "    .dataframe tbody tr th:only-of-type {\n",
       "        vertical-align: middle;\n",
       "    }\n",
       "\n",
       "    .dataframe tbody tr th {\n",
       "        vertical-align: top;\n",
       "    }\n",
       "\n",
       "    .dataframe thead th {\n",
       "        text-align: right;\n",
       "    }\n",
       "</style>\n",
       "<table border=\"1\" class=\"dataframe\">\n",
       "  <thead>\n",
       "    <tr style=\"text-align: right;\">\n",
       "      <th></th>\n",
       "      <th>order_id</th>\n",
       "      <th>date</th>\n",
       "      <th>customer</th>\n",
       "      <th>region</th>\n",
       "      <th>product</th>\n",
       "      <th>units</th>\n",
       "      <th>unit_price</th>\n",
       "      <th>returned</th>\n",
       "      <th>notes</th>\n",
       "      <th>revenue</th>\n",
       "    </tr>\n",
       "  </thead>\n",
       "  <tbody>\n",
       "    <tr>\n",
       "      <th>0</th>\n",
       "      <td>2001</td>\n",
       "      <td>2025-01-01</td>\n",
       "      <td>Diya</td>\n",
       "      <td>East</td>\n",
       "      <td>Headphones</td>\n",
       "      <td>5</td>\n",
       "      <td>38319.36</td>\n",
       "      <td>False</td>\n",
       "      <td>NaN</td>\n",
       "      <td>191596.80</td>\n",
       "    </tr>\n",
       "    <tr>\n",
       "      <th>1</th>\n",
       "      <td>2002</td>\n",
       "      <td>2025-01-02</td>\n",
       "      <td>Reyansh</td>\n",
       "      <td>East</td>\n",
       "      <td>Smartphone</td>\n",
       "      <td>7</td>\n",
       "      <td>12644.24</td>\n",
       "      <td>False</td>\n",
       "      <td>Promo Applied</td>\n",
       "      <td>88509.68</td>\n",
       "    </tr>\n",
       "    <tr>\n",
       "      <th>2</th>\n",
       "      <td>2003</td>\n",
       "      <td>2025-01-03</td>\n",
       "      <td>Sai</td>\n",
       "      <td>North</td>\n",
       "      <td>Headphones</td>\n",
       "      <td>7</td>\n",
       "      <td>36682.60</td>\n",
       "      <td>False</td>\n",
       "      <td>Gift</td>\n",
       "      <td>256778.20</td>\n",
       "    </tr>\n",
       "    <tr>\n",
       "      <th>3</th>\n",
       "      <td>2004</td>\n",
       "      <td>2025-01-04</td>\n",
       "      <td>Sara</td>\n",
       "      <td>North</td>\n",
       "      <td>Smartphone</td>\n",
       "      <td>4</td>\n",
       "      <td>19021.37</td>\n",
       "      <td>False</td>\n",
       "      <td>Promo Applied</td>\n",
       "      <td>76085.48</td>\n",
       "    </tr>\n",
       "    <tr>\n",
       "      <th>4</th>\n",
       "      <td>2005</td>\n",
       "      <td>2025-01-05</td>\n",
       "      <td>Aditi</td>\n",
       "      <td>East</td>\n",
       "      <td>Laptop</td>\n",
       "      <td>7</td>\n",
       "      <td>31982.99</td>\n",
       "      <td>False</td>\n",
       "      <td>Urgent</td>\n",
       "      <td>223880.93</td>\n",
       "    </tr>\n",
       "  </tbody>\n",
       "</table>\n",
       "</div>"
      ],
      "text/plain": [
       "   order_id       date customer region     product  units  unit_price  \\\n",
       "0      2001 2025-01-01     Diya   East  Headphones      5    38319.36   \n",
       "1      2002 2025-01-02  Reyansh   East  Smartphone      7    12644.24   \n",
       "2      2003 2025-01-03      Sai  North  Headphones      7    36682.60   \n",
       "3      2004 2025-01-04     Sara  North  Smartphone      4    19021.37   \n",
       "4      2005 2025-01-05    Aditi   East      Laptop      7    31982.99   \n",
       "\n",
       "   returned          notes    revenue  \n",
       "0     False            NaN  191596.80  \n",
       "1     False  Promo Applied   88509.68  \n",
       "2     False           Gift  256778.20  \n",
       "3     False  Promo Applied   76085.48  \n",
       "4     False         Urgent  223880.93  "
      ]
     },
     "execution_count": 14,
     "metadata": {},
     "output_type": "execute_result"
    }
   ],
   "source": [
    "df.head()"
   ]
  },
  {
   "cell_type": "markdown",
   "id": "b5bf7a85",
   "metadata": {},
   "source": [
    "#### MultiIndex DataFrame for 3D data"
   ]
  },
  {
   "cell_type": "code",
   "execution_count": 11,
   "id": "c95e9e93",
   "metadata": {},
   "outputs": [
    {
     "data": {
      "text/html": [
       "<div>\n",
       "<style scoped>\n",
       "    .dataframe tbody tr th:only-of-type {\n",
       "        vertical-align: middle;\n",
       "    }\n",
       "\n",
       "    .dataframe tbody tr th {\n",
       "        vertical-align: top;\n",
       "    }\n",
       "\n",
       "    .dataframe thead th {\n",
       "        text-align: right;\n",
       "    }\n",
       "</style>\n",
       "<table border=\"1\" class=\"dataframe\">\n",
       "  <thead>\n",
       "    <tr style=\"text-align: right;\">\n",
       "      <th></th>\n",
       "      <th></th>\n",
       "      <th>Population</th>\n",
       "      <th>GDP</th>\n",
       "    </tr>\n",
       "    <tr>\n",
       "      <th>Country</th>\n",
       "      <th>State</th>\n",
       "      <th></th>\n",
       "      <th></th>\n",
       "    </tr>\n",
       "  </thead>\n",
       "  <tbody>\n",
       "    <tr>\n",
       "      <th rowspan=\"3\" valign=\"top\">USA</th>\n",
       "      <th>New York</th>\n",
       "      <td>8.3</td>\n",
       "      <td>1900</td>\n",
       "    </tr>\n",
       "    <tr>\n",
       "      <th>California</th>\n",
       "      <td>39.5</td>\n",
       "      <td>3600</td>\n",
       "    </tr>\n",
       "    <tr>\n",
       "      <th>Texas</th>\n",
       "      <td>29.1</td>\n",
       "      <td>2100</td>\n",
       "    </tr>\n",
       "    <tr>\n",
       "      <th rowspan=\"2\" valign=\"top\">Canada</th>\n",
       "      <th>Ontario</th>\n",
       "      <td>14.7</td>\n",
       "      <td>900</td>\n",
       "    </tr>\n",
       "    <tr>\n",
       "      <th>Quebec</th>\n",
       "      <td>8.5</td>\n",
       "      <td>450</td>\n",
       "    </tr>\n",
       "  </tbody>\n",
       "</table>\n",
       "</div>"
      ],
      "text/plain": [
       "                    Population   GDP\n",
       "Country State                       \n",
       "USA     New York           8.3  1900\n",
       "        California        39.5  3600\n",
       "        Texas             29.1  2100\n",
       "Canada  Ontario           14.7   900\n",
       "        Quebec             8.5   450"
      ]
     },
     "execution_count": 11,
     "metadata": {},
     "output_type": "execute_result"
    }
   ],
   "source": [
    "tuples = [\n",
    "    ('USA', 'New York'),\n",
    "    ('USA', 'California'),\n",
    "    ('USA', 'Texas'),\n",
    "    ('Canada', 'Ontario'),\n",
    "    ('Canada', 'Quebec')\n",
    "]\n",
    "\n",
    "index = pd.MultiIndex.from_tuples(\n",
    "    tuples, \n",
    "    names=['Country', 'State']\n",
    ")\n",
    "\n",
    "df_data = pd.DataFrame({\n",
    "    'Population': [8.3, 39.5, 29.1, 14.7, 8.5],\n",
    "    'GDP': [1900, 3600, 2100, 900, 450]\n",
    "}, index=index)\n",
    "df_data\n"
   ]
  },
  {
   "cell_type": "code",
   "execution_count": 16,
   "id": "401eb330",
   "metadata": {},
   "outputs": [
    {
     "name": "stdout",
     "output_type": "stream",
     "text": [
      "DatetimeIndex(['2025-01-01', '2025-01-02', '2025-01-03', '2025-01-04',\n",
      "               '2025-01-05'],\n",
      "              dtype='datetime64[ns]', freq='D')\n"
     ]
    },
    {
     "data": {
      "text/html": [
       "<div>\n",
       "<style scoped>\n",
       "    .dataframe tbody tr th:only-of-type {\n",
       "        vertical-align: middle;\n",
       "    }\n",
       "\n",
       "    .dataframe tbody tr th {\n",
       "        vertical-align: top;\n",
       "    }\n",
       "\n",
       "    .dataframe thead th {\n",
       "        text-align: right;\n",
       "    }\n",
       "</style>\n",
       "<table border=\"1\" class=\"dataframe\">\n",
       "  <thead>\n",
       "    <tr style=\"text-align: right;\">\n",
       "      <th></th>\n",
       "      <th></th>\n",
       "      <th>Laptop</th>\n",
       "      <th>Smartphone</th>\n",
       "      <th>Tablet</th>\n",
       "    </tr>\n",
       "    <tr>\n",
       "      <th>Item</th>\n",
       "      <th>Date</th>\n",
       "      <th></th>\n",
       "      <th></th>\n",
       "      <th></th>\n",
       "    </tr>\n",
       "  </thead>\n",
       "  <tbody>\n",
       "    <tr>\n",
       "      <th rowspan=\"5\" valign=\"top\">Electronics</th>\n",
       "      <th>2025-01-01</th>\n",
       "      <td>14</td>\n",
       "      <td>8</td>\n",
       "      <td>2</td>\n",
       "    </tr>\n",
       "    <tr>\n",
       "      <th>2025-01-02</th>\n",
       "      <td>16</td>\n",
       "      <td>3</td>\n",
       "      <td>8</td>\n",
       "    </tr>\n",
       "    <tr>\n",
       "      <th>2025-01-03</th>\n",
       "      <td>10</td>\n",
       "      <td>4</td>\n",
       "      <td>3</td>\n",
       "    </tr>\n",
       "    <tr>\n",
       "      <th>2025-01-04</th>\n",
       "      <td>7</td>\n",
       "      <td>13</td>\n",
       "      <td>16</td>\n",
       "    </tr>\n",
       "    <tr>\n",
       "      <th>2025-01-05</th>\n",
       "      <td>2</td>\n",
       "      <td>17</td>\n",
       "      <td>18</td>\n",
       "    </tr>\n",
       "    <tr>\n",
       "      <th rowspan=\"5\" valign=\"top\">Furniture</th>\n",
       "      <th>2025-01-01</th>\n",
       "      <td>8</td>\n",
       "      <td>18</td>\n",
       "      <td>13</td>\n",
       "    </tr>\n",
       "    <tr>\n",
       "      <th>2025-01-02</th>\n",
       "      <td>11</td>\n",
       "      <td>5</td>\n",
       "      <td>12</td>\n",
       "    </tr>\n",
       "    <tr>\n",
       "      <th>2025-01-03</th>\n",
       "      <td>3</td>\n",
       "      <td>12</td>\n",
       "      <td>6</td>\n",
       "    </tr>\n",
       "    <tr>\n",
       "      <th>2025-01-04</th>\n",
       "      <td>1</td>\n",
       "      <td>14</td>\n",
       "      <td>17</td>\n",
       "    </tr>\n",
       "    <tr>\n",
       "      <th>2025-01-05</th>\n",
       "      <td>4</td>\n",
       "      <td>8</td>\n",
       "      <td>5</td>\n",
       "    </tr>\n",
       "  </tbody>\n",
       "</table>\n",
       "</div>"
      ],
      "text/plain": [
       "                        Laptop  Smartphone  Tablet\n",
       "Item        Date                                  \n",
       "Electronics 2025-01-01      14           8       2\n",
       "            2025-01-02      16           3       8\n",
       "            2025-01-03      10           4       3\n",
       "            2025-01-04       7          13      16\n",
       "            2025-01-05       2          17      18\n",
       "Furniture   2025-01-01       8          18      13\n",
       "            2025-01-02      11           5      12\n",
       "            2025-01-03       3          12       6\n",
       "            2025-01-04       1          14      17\n",
       "            2025-01-05       4           8       5"
      ]
     },
     "execution_count": 16,
     "metadata": {},
     "output_type": "execute_result"
    }
   ],
   "source": [
    "dates = pd.date_range(\"2025-01-01\", periods=5)\n",
    "products = [\"Laptop\", \"Smartphone\", \"Tablet\"]\n",
    "items = [\"Electronics\", \"Furniture\"]\n",
    "print(dates)\n",
    "\n",
    "data = np.random.randint(1, 20, size=(2, 5, 3))\n",
    "\n",
    "# Running pd.Panel() in pandas ≥1.0 will throw an error.\n",
    "\n",
    "\n",
    "index = pd.MultiIndex.from_product([items, dates], names=[\"Item\", \"Date\"])\n",
    "df_panel = pd.DataFrame(data.reshape(-1, 3), index=index, columns=products)\n",
    "df_panel\n"
   ]
  },
  {
   "cell_type": "code",
   "execution_count": null,
   "id": "654290f6",
   "metadata": {},
   "outputs": [
    {
     "data": {
      "text/plain": [
       "Date\n",
       "2025-01-01     8\n",
       "2025-01-02     3\n",
       "2025-01-03     4\n",
       "2025-01-04    13\n",
       "2025-01-05    17\n",
       "Freq: D, Name: Smartphone, dtype: int64"
      ]
     },
     "execution_count": 23,
     "metadata": {},
     "output_type": "execute_result"
    }
   ],
   "source": [
    "# Select by item:\n",
    "df_panel.loc['Electronics']"
   ]
  },
  {
   "cell_type": "code",
   "execution_count": null,
   "id": "3a4e96b6",
   "metadata": {},
   "outputs": [],
   "source": [
    "df_panel.xs"
   ]
  }
 ],
 "metadata": {
  "kernelspec": {
   "display_name": "3.13.7",
   "language": "python",
   "name": "python3"
  },
  "language_info": {
   "codemirror_mode": {
    "name": "ipython",
    "version": 3
   },
   "file_extension": ".py",
   "mimetype": "text/x-python",
   "name": "python",
   "nbconvert_exporter": "python",
   "pygments_lexer": "ipython3",
   "version": "3.13.7"
  }
 },
 "nbformat": 4,
 "nbformat_minor": 5
}
