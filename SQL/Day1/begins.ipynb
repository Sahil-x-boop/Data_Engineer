{
 "cells": [
  {
   "cell_type": "markdown",
   "id": "28b46754",
   "metadata": {},
   "source": [
    "Lets Begin\n"
   ]
  },
  {
   "cell_type": "code",
   "execution_count": null,
   "id": "76fd5e2b",
   "metadata": {},
   "outputs": [],
   "source": []
  },
  {
   "cell_type": "code",
   "execution_count": null,
   "id": "78ab5d71",
   "metadata": {},
   "outputs": [],
   "source": []
  }
 ],
 "metadata": {
  "kernelspec": {
   "display_name": "3.13.7",
   "language": "python",
   "name": "python3"
  },
  "language_info": {
   "name": "python",
   "version": "3.13.7"
  }
 },
 "nbformat": 4,
 "nbformat_minor": 5
}
